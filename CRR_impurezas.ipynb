{
  "nbformat": 4,
  "nbformat_minor": 0,
  "metadata": {
    "colab": {
      "name": "CRR-impurezas.ipynb",
      "provenance": [],
      "collapsed_sections": [],
      "toc_visible": true,
      "authorship_tag": "ABX9TyMEtfb3a9bEeRrGbY3qQNd/",
      "include_colab_link": true
    },
    "kernelspec": {
      "name": "python3",
      "display_name": "Python 3"
    },
    "language_info": {
      "name": "python"
    }
  },
  "cells": [
    {
      "cell_type": "markdown",
      "metadata": {
        "id": "view-in-github",
        "colab_type": "text"
      },
      "source": [
        "<a href=\"https://colab.research.google.com/github/carbaluar/Presentaci-n/blob/main/CRR_impurezas.ipynb\" target=\"_parent\"><img src=\"https://colab.research.google.com/assets/colab-badge.svg\" alt=\"Open In Colab\"/></a>"
      ]
    },
    {
      "cell_type": "markdown",
      "metadata": {
        "id": "00OnzeKRl68W"
      },
      "source": [
        "**Se evalúa el efecto catalizador de impurezas (Na,Ca,S) en la carboxirreactividad**"
      ]
    },
    {
      "cell_type": "markdown",
      "metadata": {
        "id": "CO3Lsq4dQcYp"
      },
      "source": [
        "### Carga de datos"
      ]
    },
    {
      "cell_type": "code",
      "metadata": {
        "id": "g-x--9O2o65e"
      },
      "source": [
        "import pandas as pd\n",
        "from matplotlib import pyplot as plt\n",
        "import sqlite3\n",
        "import datetime"
      ],
      "execution_count": 1,
      "outputs": []
    },
    {
      "cell_type": "code",
      "metadata": {
        "colab": {
          "base_uri": "https://localhost:8080/",
          "height": 197
        },
        "id": "8sofFZGTpccU",
        "outputId": "f689dcd3-227b-48de-f7f4-b204ef1442b4"
      },
      "source": [
        "df = pd.read_excel('/content/DBImpurezas.xlsx')\n",
        "df.head()"
      ],
      "execution_count": 2,
      "outputs": [
        {
          "output_type": "execute_result",
          "data": {
            "text/html": [
              "<div>\n",
              "<style scoped>\n",
              "    .dataframe tbody tr th:only-of-type {\n",
              "        vertical-align: middle;\n",
              "    }\n",
              "\n",
              "    .dataframe tbody tr th {\n",
              "        vertical-align: top;\n",
              "    }\n",
              "\n",
              "    .dataframe thead th {\n",
              "        text-align: right;\n",
              "    }\n",
              "</style>\n",
              "<table border=\"1\" class=\"dataframe\">\n",
              "  <thead>\n",
              "    <tr style=\"text-align: right;\">\n",
              "      <th></th>\n",
              "      <th>SODIO</th>\n",
              "      <th>CALCIO</th>\n",
              "      <th>VANADIO</th>\n",
              "      <th>HIERRO</th>\n",
              "      <th>AZUFRE</th>\n",
              "      <th>CRR</th>\n",
              "      <th>CRD</th>\n",
              "      <th>CRRbin</th>\n",
              "    </tr>\n",
              "  </thead>\n",
              "  <tbody>\n",
              "    <tr>\n",
              "      <th>0</th>\n",
              "      <td>600</td>\n",
              "      <td>260</td>\n",
              "      <td>82</td>\n",
              "      <td>480</td>\n",
              "      <td>0.72</td>\n",
              "      <td>85.6581</td>\n",
              "      <td>3.5554</td>\n",
              "      <td>1</td>\n",
              "    </tr>\n",
              "    <tr>\n",
              "      <th>1</th>\n",
              "      <td>380</td>\n",
              "      <td>250</td>\n",
              "      <td>82</td>\n",
              "      <td>390</td>\n",
              "      <td>0.73</td>\n",
              "      <td>85.6581</td>\n",
              "      <td>3.5554</td>\n",
              "      <td>1</td>\n",
              "    </tr>\n",
              "    <tr>\n",
              "      <th>2</th>\n",
              "      <td>350</td>\n",
              "      <td>240</td>\n",
              "      <td>96</td>\n",
              "      <td>380</td>\n",
              "      <td>0.74</td>\n",
              "      <td>85.6581</td>\n",
              "      <td>3.5554</td>\n",
              "      <td>1</td>\n",
              "    </tr>\n",
              "    <tr>\n",
              "      <th>3</th>\n",
              "      <td>410</td>\n",
              "      <td>270</td>\n",
              "      <td>86</td>\n",
              "      <td>380</td>\n",
              "      <td>0.73</td>\n",
              "      <td>85.6581</td>\n",
              "      <td>3.5554</td>\n",
              "      <td>1</td>\n",
              "    </tr>\n",
              "    <tr>\n",
              "      <th>4</th>\n",
              "      <td>460</td>\n",
              "      <td>280</td>\n",
              "      <td>77</td>\n",
              "      <td>340</td>\n",
              "      <td>0.69</td>\n",
              "      <td>85.6581</td>\n",
              "      <td>3.5554</td>\n",
              "      <td>1</td>\n",
              "    </tr>\n",
              "  </tbody>\n",
              "</table>\n",
              "</div>"
            ],
            "text/plain": [
              "   SODIO  CALCIO  VANADIO  HIERRO  AZUFRE      CRR     CRD  CRRbin\n",
              "0    600     260       82     480    0.72  85.6581  3.5554       1\n",
              "1    380     250       82     390    0.73  85.6581  3.5554       1\n",
              "2    350     240       96     380    0.74  85.6581  3.5554       1\n",
              "3    410     270       86     380    0.73  85.6581  3.5554       1\n",
              "4    460     280       77     340    0.69  85.6581  3.5554       1"
            ]
          },
          "metadata": {
            "tags": []
          },
          "execution_count": 2
        }
      ]
    },
    {
      "cell_type": "code",
      "metadata": {
        "colab": {
          "base_uri": "https://localhost:8080/"
        },
        "id": "G57_nqd7psVt",
        "outputId": "910b2ad1-e320-428e-de69-4a74e4f18c36"
      },
      "source": [
        "df.info()"
      ],
      "execution_count": 3,
      "outputs": [
        {
          "output_type": "stream",
          "text": [
            "<class 'pandas.core.frame.DataFrame'>\n",
            "RangeIndex: 2990 entries, 0 to 2989\n",
            "Data columns (total 8 columns):\n",
            " #   Column   Non-Null Count  Dtype  \n",
            "---  ------   --------------  -----  \n",
            " 0   SODIO    2990 non-null   int64  \n",
            " 1   CALCIO   2990 non-null   int64  \n",
            " 2   VANADIO  2990 non-null   int64  \n",
            " 3   HIERRO   2990 non-null   int64  \n",
            " 4   AZUFRE   2990 non-null   float64\n",
            " 5   CRR      2990 non-null   float64\n",
            " 6   CRD      2990 non-null   float64\n",
            " 7   CRRbin   2990 non-null   int64  \n",
            "dtypes: float64(3), int64(5)\n",
            "memory usage: 187.0 KB\n"
          ],
          "name": "stdout"
        }
      ]
    },
    {
      "cell_type": "code",
      "metadata": {
        "id": "aCXH9AwXmkIn"
      },
      "source": [
        "from sklearn.model_selection import train_test_split"
      ],
      "execution_count": 4,
      "outputs": []
    },
    {
      "cell_type": "code",
      "metadata": {
        "id": "1hmkmQCTp47Z"
      },
      "source": [
        "# divido entre train y test/validación en 70%/30%\n",
        "df_train, df_test_validation = train_test_split(df, train_size=0.7, stratify = df[\"CRRbin\"])"
      ],
      "execution_count": 5,
      "outputs": []
    },
    {
      "cell_type": "code",
      "metadata": {
        "id": "bP4KTUXSq7F7"
      },
      "source": [
        "\n",
        "# divido entre train y test/validación en 15% y 15%\n",
        "df_test, df_validation = train_test_split(df_test_validation, train_size=0.5, stratify = df_test_validation[\"CRRbin\"])"
      ],
      "execution_count": 6,
      "outputs": []
    },
    {
      "cell_type": "code",
      "metadata": {
        "colab": {
          "base_uri": "https://localhost:8080/"
        },
        "id": "UUdZsA3ZtHZh",
        "outputId": "b06fd2d2-1d61-4c03-8beb-52c776a1ee5a"
      },
      "source": [
        "df_train.shape"
      ],
      "execution_count": 7,
      "outputs": [
        {
          "output_type": "execute_result",
          "data": {
            "text/plain": [
              "(2093, 8)"
            ]
          },
          "metadata": {
            "tags": []
          },
          "execution_count": 7
        }
      ]
    },
    {
      "cell_type": "code",
      "metadata": {
        "colab": {
          "base_uri": "https://localhost:8080/"
        },
        "id": "S756st1stL4g",
        "outputId": "a9a1e36a-a1de-497a-fd3d-1141cbdf2373"
      },
      "source": [
        "df_test.shape"
      ],
      "execution_count": 8,
      "outputs": [
        {
          "output_type": "execute_result",
          "data": {
            "text/plain": [
              "(448, 8)"
            ]
          },
          "metadata": {
            "tags": []
          },
          "execution_count": 8
        }
      ]
    },
    {
      "cell_type": "code",
      "metadata": {
        "colab": {
          "base_uri": "https://localhost:8080/"
        },
        "id": "E7_CuF_6tTaN",
        "outputId": "deb32ba7-3e62-41b2-ba0a-7622e95f29e0"
      },
      "source": [
        "df_validation.shape"
      ],
      "execution_count": 9,
      "outputs": [
        {
          "output_type": "execute_result",
          "data": {
            "text/plain": [
              "(449, 8)"
            ]
          },
          "metadata": {
            "tags": []
          },
          "execution_count": 9
        }
      ]
    },
    {
      "cell_type": "markdown",
      "metadata": {
        "id": "ycFpnHvC-u4L"
      },
      "source": [
        "### Modelo Gaussiano"
      ]
    },
    {
      "cell_type": "code",
      "metadata": {
        "id": "upJiH-MItXVo"
      },
      "source": [
        "from sklearn.naive_bayes import GaussianNB"
      ],
      "execution_count": 10,
      "outputs": []
    },
    {
      "cell_type": "code",
      "metadata": {
        "id": "5wYXULIItkga"
      },
      "source": [
        "clf = GaussianNB(priors=None, var_smoothing= 0.1)"
      ],
      "execution_count": 11,
      "outputs": []
    },
    {
      "cell_type": "code",
      "metadata": {
        "id": "d_F1k8rCt4X_"
      },
      "source": [
        "df_train2 = df_train[[\"SODIO\",\"CALCIO\",\"AZUFRE\",\"CRRbin\"]].copy()"
      ],
      "execution_count": 12,
      "outputs": []
    },
    {
      "cell_type": "code",
      "metadata": {
        "colab": {
          "base_uri": "https://localhost:8080/"
        },
        "id": "MOd820hbu3gh",
        "outputId": "c3fbd36c-532c-4265-cd71-0b2a9e27dadd"
      },
      "source": [
        "clf.fit(df_train2.drop(\"CRRbin\",axis=1), df_train2[\"CRRbin\"])"
      ],
      "execution_count": 13,
      "outputs": [
        {
          "output_type": "execute_result",
          "data": {
            "text/plain": [
              "GaussianNB(priors=None, var_smoothing=0.1)"
            ]
          },
          "metadata": {
            "tags": []
          },
          "execution_count": 13
        }
      ]
    },
    {
      "cell_type": "code",
      "metadata": {
        "colab": {
          "base_uri": "https://localhost:8080/"
        },
        "id": "Rbutu0yCvF_l",
        "outputId": "645d8d85-9135-433f-a36c-d6bfa16b2439"
      },
      "source": [
        "clf.score(df_train2.drop(\"CRRbin\",axis=1), df_train2[\"CRRbin\"])"
      ],
      "execution_count": 14,
      "outputs": [
        {
          "output_type": "execute_result",
          "data": {
            "text/plain": [
              "0.5652173913043478"
            ]
          },
          "metadata": {
            "tags": []
          },
          "execution_count": 14
        }
      ]
    },
    {
      "cell_type": "code",
      "metadata": {
        "id": "DbrC7RgZv9GW"
      },
      "source": [
        "df_validation2 = df_validation[[\"SODIO\",\"CALCIO\",\"AZUFRE\",\"CRRbin\"]].copy()\n",
        "df_test_validation2 = df_test_validation[[\"SODIO\",\"CALCIO\",\"AZUFRE\",\"CRRbin\"]].copy()"
      ],
      "execution_count": 15,
      "outputs": []
    },
    {
      "cell_type": "code",
      "metadata": {
        "colab": {
          "base_uri": "https://localhost:8080/"
        },
        "id": "7EEvVjOHwDLZ",
        "outputId": "80064c42-c5b7-430e-96b0-ca83ebf3a4e6"
      },
      "source": [
        "clf.score(df_validation2.drop(\"CRRbin\",axis=1), df_validation2[\"CRRbin\"])\n"
      ],
      "execution_count": 16,
      "outputs": [
        {
          "output_type": "execute_result",
          "data": {
            "text/plain": [
              "0.5657015590200446"
            ]
          },
          "metadata": {
            "tags": []
          },
          "execution_count": 16
        }
      ]
    },
    {
      "cell_type": "code",
      "metadata": {
        "id": "gHJiQhyiwNFd"
      },
      "source": [
        "BuscaSmoot = [0.1, 0.001, 0.0001, 0.00001, 0.000001, 0.000000000001]"
      ],
      "execution_count": 17,
      "outputs": []
    },
    {
      "cell_type": "code",
      "metadata": {
        "colab": {
          "base_uri": "https://localhost:8080/"
        },
        "id": "J3MYNSY8yn3z",
        "outputId": "f91f97d3-9928-4e1a-c6ce-bfc1c0a86c3d"
      },
      "source": [
        "scores = list()\n",
        "for busca in BuscaSmoot:\n",
        "    clf = GaussianNB(var_smoothing = busca)\n",
        "    clf.fit(df_train2.drop(\"CRRbin\",axis=1), df_train2[\"CRRbin\"])\n",
        "    scores.append(clf.score(df_validation2.drop(\"CRRbin\",axis=1), df_validation2[\"CRRbin\"]))\n",
        "\n",
        "print(\"Máximo score con un smoothing de: \", BuscaSmoot[scores.index(max(scores))], \"--> valor de Score: \", max(scores))"
      ],
      "execution_count": 18,
      "outputs": [
        {
          "output_type": "stream",
          "text": [
            "Máximo score con un smoothing de:  1e-12 --> valor de Score:  0.6146993318485523\n"
          ],
          "name": "stdout"
        }
      ]
    },
    {
      "cell_type": "markdown",
      "metadata": {
        "id": "0ertKUX--zoj"
      },
      "source": [
        "####Dato Obtenido"
      ]
    },
    {
      "cell_type": "code",
      "metadata": {
        "colab": {
          "base_uri": "https://localhost:8080/",
          "height": 197
        },
        "id": "IE5lH6kb-_PX",
        "outputId": "744eeb1a-2fa7-4943-d7df-3aabdf509de9"
      },
      "source": [
        "from sklearn.metrics import confusion_matrix, roc_auc_score\n",
        "import numpy as np\n",
        "df_train2.head()"
      ],
      "execution_count": 19,
      "outputs": [
        {
          "output_type": "execute_result",
          "data": {
            "text/html": [
              "<div>\n",
              "<style scoped>\n",
              "    .dataframe tbody tr th:only-of-type {\n",
              "        vertical-align: middle;\n",
              "    }\n",
              "\n",
              "    .dataframe tbody tr th {\n",
              "        vertical-align: top;\n",
              "    }\n",
              "\n",
              "    .dataframe thead th {\n",
              "        text-align: right;\n",
              "    }\n",
              "</style>\n",
              "<table border=\"1\" class=\"dataframe\">\n",
              "  <thead>\n",
              "    <tr style=\"text-align: right;\">\n",
              "      <th></th>\n",
              "      <th>SODIO</th>\n",
              "      <th>CALCIO</th>\n",
              "      <th>AZUFRE</th>\n",
              "      <th>CRRbin</th>\n",
              "    </tr>\n",
              "  </thead>\n",
              "  <tbody>\n",
              "    <tr>\n",
              "      <th>1133</th>\n",
              "      <td>336</td>\n",
              "      <td>192</td>\n",
              "      <td>0.92</td>\n",
              "      <td>1</td>\n",
              "    </tr>\n",
              "    <tr>\n",
              "      <th>1088</th>\n",
              "      <td>469</td>\n",
              "      <td>182</td>\n",
              "      <td>0.83</td>\n",
              "      <td>0</td>\n",
              "    </tr>\n",
              "    <tr>\n",
              "      <th>1884</th>\n",
              "      <td>390</td>\n",
              "      <td>180</td>\n",
              "      <td>0.57</td>\n",
              "      <td>0</td>\n",
              "    </tr>\n",
              "    <tr>\n",
              "      <th>2492</th>\n",
              "      <td>352</td>\n",
              "      <td>180</td>\n",
              "      <td>0.94</td>\n",
              "      <td>0</td>\n",
              "    </tr>\n",
              "    <tr>\n",
              "      <th>508</th>\n",
              "      <td>318</td>\n",
              "      <td>214</td>\n",
              "      <td>0.78</td>\n",
              "      <td>0</td>\n",
              "    </tr>\n",
              "  </tbody>\n",
              "</table>\n",
              "</div>"
            ],
            "text/plain": [
              "      SODIO  CALCIO  AZUFRE  CRRbin\n",
              "1133    336     192    0.92       1\n",
              "1088    469     182    0.83       0\n",
              "1884    390     180    0.57       0\n",
              "2492    352     180    0.94       0\n",
              "508     318     214    0.78       0"
            ]
          },
          "metadata": {
            "tags": []
          },
          "execution_count": 19
        }
      ]
    },
    {
      "cell_type": "code",
      "metadata": {
        "colab": {
          "base_uri": "https://localhost:8080/"
        },
        "id": "juIxOtWr_Rnp",
        "outputId": "dfa6376c-7c5a-4a04-9e5b-2131145f72c6"
      },
      "source": [
        "clf.predict(np.array([[400,300,0.7]]))"
      ],
      "execution_count": 20,
      "outputs": [
        {
          "output_type": "execute_result",
          "data": {
            "text/plain": [
              "array([0])"
            ]
          },
          "metadata": {
            "tags": []
          },
          "execution_count": 20
        }
      ]
    },
    {
      "cell_type": "markdown",
      "metadata": {
        "id": "OrcyJwKEC38-"
      },
      "source": [
        "#### Matriz"
      ]
    },
    {
      "cell_type": "code",
      "metadata": {
        "id": "J8iyTRBIC5xk"
      },
      "source": [
        "y_true = 1*np.array(df_validation2[\"CRRbin\"])"
      ],
      "execution_count": 21,
      "outputs": []
    },
    {
      "cell_type": "code",
      "metadata": {
        "id": "TkE3o2HsDgpi"
      },
      "source": [
        "y_pred = clf.predict_proba(df_validation2.drop(\"CRRbin\",axis=1))"
      ],
      "execution_count": 22,
      "outputs": []
    },
    {
      "cell_type": "code",
      "metadata": {
        "colab": {
          "base_uri": "https://localhost:8080/"
        },
        "id": "Akt8DwPEDr4-",
        "outputId": "376b29c8-3d88-4270-8c8d-5dee85fde30d"
      },
      "source": [
        "print(\"Matriz de Confusión Alfa 0.25\")\n",
        "print(confusion_matrix(y_true,y_pred[:,1]>0.25))"
      ],
      "execution_count": 23,
      "outputs": [
        {
          "output_type": "stream",
          "text": [
            "Matriz de Confusión Alfa 0.25\n",
            "[[ 17 237]\n",
            " [  5 190]]\n"
          ],
          "name": "stdout"
        }
      ]
    },
    {
      "cell_type": "code",
      "metadata": {
        "id": "kIc_W0Da9O_K"
      },
      "source": [
        "from sklearn.metrics import fbeta_score"
      ],
      "execution_count": 24,
      "outputs": []
    },
    {
      "cell_type": "code",
      "metadata": {
        "colab": {
          "base_uri": "https://localhost:8080/"
        },
        "id": "WeSuNZlv9aO9",
        "outputId": "5503a850-9b8a-417d-fa5a-1413f3de6d0c"
      },
      "source": [
        "print(\"Valor de F1 para un alfa= 0.25 -->\", fbeta_score(y_true, y_pred[:,1]>0.25, beta=1))"
      ],
      "execution_count": 25,
      "outputs": [
        {
          "output_type": "stream",
          "text": [
            "Valor de F1 para un alfa= 0.25 --> 0.6109324758842444\n"
          ],
          "name": "stdout"
        }
      ]
    },
    {
      "cell_type": "code",
      "metadata": {
        "colab": {
          "base_uri": "https://localhost:8080/"
        },
        "id": "kgJj6Znf9noj",
        "outputId": "edddac1c-a412-4fff-bfb1-6658e6dea67c"
      },
      "source": [
        "print(\"Valor de Fbetascore para un alfa= 0.25 -->\", fbeta_score(y_true, y_pred[:,1]>0.25, beta=2))"
      ],
      "execution_count": 26,
      "outputs": [
        {
          "output_type": "stream",
          "text": [
            "Valor de Fbetascore para un alfa= 0.25 --> 0.7870753935376966\n"
          ],
          "name": "stdout"
        }
      ]
    },
    {
      "cell_type": "code",
      "metadata": {
        "colab": {
          "base_uri": "https://localhost:8080/"
        },
        "id": "NAihpKoIEF7d",
        "outputId": "8f8f7d8d-611a-4c23-9f56-92043caab7cf"
      },
      "source": [
        "alfa = 0.02\n",
        "recalls = np.zeros(100)\n",
        "precisions= np.zeros(100)\n",
        "FPR = np.zeros(100)\n",
        "alfas = np.linspace(0,1,100)\n",
        "for idx,alfa in enumerate(alfas):\n",
        "    tn, fp, fn, tp = confusion_matrix(y_true,y_pred[:,1]>alfa).ravel()\n",
        "    recalls[idx] = (tp/(tp+fn))\n",
        "    precisions[idx] = (tp/(tp+fp))\n",
        "    FPR[idx]= (fp/(fp+tn))"
      ],
      "execution_count": 27,
      "outputs": [
        {
          "output_type": "stream",
          "text": [
            "/usr/local/lib/python3.7/dist-packages/ipykernel_launcher.py:9: RuntimeWarning: invalid value encountered in long_scalars\n",
            "  if __name__ == '__main__':\n"
          ],
          "name": "stderr"
        }
      ]
    },
    {
      "cell_type": "code",
      "metadata": {
        "colab": {
          "base_uri": "https://localhost:8080/"
        },
        "id": "kP_jb-1aETr7",
        "outputId": "c0e8c76d-f359-46ac-c47f-711ae36fcf50"
      },
      "source": [
        "print(\"Para un alfa 0.25 --> Valor de recall\", recalls[25], \"Valor de Precisions\", precisions[25], \"Valor de FPR\", FPR[25])\n",
        "print(\"Para un alfa 0.5 --> Valor de recall\", recalls[50], \"Valor de Precisions\", precisions[50], \"Valor de FPR\", FPR[50])\n",
        "print(\"Para un alfa 0.75 --> Valor de recall\", recalls[75], \"Valor de Precisions\", precisions[75], \"Valor de FPR\", FPR[75])"
      ],
      "execution_count": 28,
      "outputs": [
        {
          "output_type": "stream",
          "text": [
            "Para un alfa 0.25 --> Valor de recall 0.9743589743589743 Valor de Precisions 0.4449648711943794 Valor de FPR 0.9330708661417323\n",
            "Para un alfa 0.5 --> Valor de recall 0.29743589743589743 Valor de Precisions 0.6444444444444445 Valor de FPR 0.12598425196850394\n",
            "Para un alfa 0.75 --> Valor de recall 0.0 Valor de Precisions nan Valor de FPR 0.0\n"
          ],
          "name": "stdout"
        }
      ]
    },
    {
      "cell_type": "code",
      "metadata": {
        "colab": {
          "base_uri": "https://localhost:8080/",
          "height": 350
        },
        "id": "5b6st8OmEk0y",
        "outputId": "aba8b2db-8326-4f35-82f4-a57ff26adf3e"
      },
      "source": [
        "plt.figure(figsize=[5,5])\n",
        "plt.plot(FPR,recalls)\n",
        "plt.title(\"Curva ROC CRR vs. impurezas\")\n",
        "plt.xlabel(\"FPR\")\n",
        "plt.ylabel(\"TPR\")\n",
        "plt.show()"
      ],
      "execution_count": 29,
      "outputs": [
        {
          "output_type": "display_data",
          "data": {
            "image/png": "[encoded data removed]",
            "text/plain": [
              "<Figure size 360x360 with 1 Axes>"
            ]
          },
          "metadata": {
            "tags": [],
            "needs_background": "light"
          }
        }
      ]
    },
    {
      "cell_type": "markdown",
      "metadata": {
        "id": "pNTA1dsfiEpr"
      },
      "source": [
        "### Modelo LDA"
      ]
    },
    {
      "cell_type": "code",
      "metadata": {
        "id": "JfnIGwO1zPa6"
      },
      "source": [
        "from sklearn.discriminant_analysis import LinearDiscriminantAnalysis"
      ],
      "execution_count": 30,
      "outputs": []
    },
    {
      "cell_type": "code",
      "metadata": {
        "id": "5bNbY4E_zSfE"
      },
      "source": [
        "LDA_clf = LinearDiscriminantAnalysis()"
      ],
      "execution_count": 31,
      "outputs": []
    },
    {
      "cell_type": "code",
      "metadata": {
        "colab": {
          "base_uri": "https://localhost:8080/"
        },
        "id": "3e11vd0fzVJy",
        "outputId": "98912c02-aeea-4ab6-c340-0fb507218eb5"
      },
      "source": [
        "LDA_clf.fit(df_train2.drop(\"CRRbin\",axis=1), df_train2[\"CRRbin\"])"
      ],
      "execution_count": 32,
      "outputs": [
        {
          "output_type": "execute_result",
          "data": {
            "text/plain": [
              "LinearDiscriminantAnalysis(n_components=None, priors=None, shrinkage=None,\n",
              "                           solver='svd', store_covariance=False, tol=0.0001)"
            ]
          },
          "metadata": {
            "tags": []
          },
          "execution_count": 32
        }
      ]
    },
    {
      "cell_type": "code",
      "metadata": {
        "colab": {
          "base_uri": "https://localhost:8080/"
        },
        "id": "uHpahvdWzht5",
        "outputId": "cb947df0-c984-4550-905d-6a1d88e04a3a"
      },
      "source": [
        "LDA_clf.score(df_train2.drop(\"CRRbin\",axis=1), df_train2[\"CRRbin\"])"
      ],
      "execution_count": 33,
      "outputs": [
        {
          "output_type": "execute_result",
          "data": {
            "text/plain": [
              "0.5647396082178691"
            ]
          },
          "metadata": {
            "tags": []
          },
          "execution_count": 33
        }
      ]
    },
    {
      "cell_type": "code",
      "metadata": {
        "colab": {
          "base_uri": "https://localhost:8080/"
        },
        "id": "IcQV1Wj-zypM",
        "outputId": "d63665e1-a31d-4e7e-cf3b-bff2a7438ae3"
      },
      "source": [
        "LDA_clf.score(df_validation2.drop(\"CRRbin\",axis=1), df_validation2[\"CRRbin\"])"
      ],
      "execution_count": 34,
      "outputs": [
        {
          "output_type": "execute_result",
          "data": {
            "text/plain": [
              "0.5991091314031181"
            ]
          },
          "metadata": {
            "tags": []
          },
          "execution_count": 34
        }
      ]
    },
    {
      "cell_type": "code",
      "metadata": {
        "colab": {
          "base_uri": "https://localhost:8080/"
        },
        "id": "DTic4LU6Q-GB",
        "outputId": "60ad466d-815b-40a6-dbbc-54d290135eea"
      },
      "source": [
        "LDA_clf.predict(np.array([[300,500,0.8]]))"
      ],
      "execution_count": 35,
      "outputs": [
        {
          "output_type": "execute_result",
          "data": {
            "text/plain": [
              "array([0])"
            ]
          },
          "metadata": {
            "tags": []
          },
          "execution_count": 35
        }
      ]
    },
    {
      "cell_type": "code",
      "metadata": {
        "id": "7taMRq66HEA-"
      },
      "source": [
        "y_true2 = 1*np.array(df_test_validation2[\"CRRbin\"])"
      ],
      "execution_count": 36,
      "outputs": []
    },
    {
      "cell_type": "code",
      "metadata": {
        "id": "xICYjYXvHIKq"
      },
      "source": [
        "y_pred_LDA = LDA_clf.predict_proba(df_test_validation2.drop(\"CRRbin\",axis=1))"
      ],
      "execution_count": 37,
      "outputs": []
    },
    {
      "cell_type": "code",
      "metadata": {
        "colab": {
          "base_uri": "https://localhost:8080/"
        },
        "id": "KJWYG2d6G921",
        "outputId": "104c2bb9-2313-4740-ef33-de43cbb6e989"
      },
      "source": [
        "print(\"Matriz de Confusión Alfa 0.25\")\n",
        "print(confusion_matrix(y_true2,y_pred_LDA[:,1]>0.25))"
      ],
      "execution_count": 38,
      "outputs": [
        {
          "output_type": "stream",
          "text": [
            "Matriz de Confusión Alfa 0.25\n",
            "[[  3 504]\n",
            " [  2 388]]\n"
          ],
          "name": "stdout"
        }
      ]
    },
    {
      "cell_type": "code",
      "metadata": {
        "colab": {
          "base_uri": "https://localhost:8080/"
        },
        "id": "uTMVhMU9R_18",
        "outputId": "aa743dd0-4d82-46cd-d352-e333a7e40485"
      },
      "source": [
        "alfa = 0.02\n",
        "recalls = np.zeros(100)\n",
        "precisions= np.zeros(100)\n",
        "FPR = np.zeros(100)\n",
        "alfas = np.linspace(0,1,100)\n",
        "for idx,alfa in enumerate(alfas):\n",
        "    tn, fp, fn, tp = confusion_matrix(y_true2,y_pred_LDA[:,1]>alfa).ravel()\n",
        "    recalls[idx] = (tp/(tp+fn))\n",
        "    precisions[idx] = (tp/(tp+fp))\n",
        "    FPR[idx]= (fp/(fp+tn))"
      ],
      "execution_count": 39,
      "outputs": [
        {
          "output_type": "stream",
          "text": [
            "/usr/local/lib/python3.7/dist-packages/ipykernel_launcher.py:9: RuntimeWarning: invalid value encountered in long_scalars\n",
            "  if __name__ == '__main__':\n"
          ],
          "name": "stderr"
        }
      ]
    },
    {
      "cell_type": "code",
      "metadata": {
        "colab": {
          "base_uri": "https://localhost:8080/"
        },
        "id": "sm8plTlHSIuA",
        "outputId": "7a70ad3a-117b-4a35-e8df-0f66f71b7d78"
      },
      "source": [
        "print(\"Para un alfa 0.25 --> Valor de recall\", recalls[25], \"Valor de Precisions\", precisions[25], \"Valor de FPR\", FPR[25])\n",
        "print(\"Para un alfa 0.5 --> Valor de recall\", recalls[50], \"Valor de Precisions\", precisions[50], \"Valor de FPR\", FPR[50])\n",
        "print(\"Para un alfa 0.75 --> Valor de recall\", recalls[75], \"Valor de Precisions\", precisions[75], \"Valor de FPR\", FPR[75])"
      ],
      "execution_count": 40,
      "outputs": [
        {
          "output_type": "stream",
          "text": [
            "Para un alfa 0.25 --> Valor de recall 0.9948717948717949 Valor de Precisions 0.43546576879910215 Valor de FPR 0.9921104536489151\n",
            "Para un alfa 0.5 --> Valor de recall 0.18461538461538463 Valor de Precisions 0.576 Valor de FPR 0.10453648915187377\n",
            "Para un alfa 0.75 --> Valor de recall 0.0 Valor de Precisions nan Valor de FPR 0.0\n"
          ],
          "name": "stdout"
        }
      ]
    },
    {
      "cell_type": "code",
      "metadata": {
        "colab": {
          "base_uri": "https://localhost:8080/",
          "height": 350
        },
        "id": "ZY67VyB-SM22",
        "outputId": "a0caaa11-e1bf-4d5f-fb2e-85ffa2ecf308"
      },
      "source": [
        "plt.figure(figsize=[5,5])\n",
        "plt.plot(FPR,recalls)\n",
        "plt.title(\"Curva ROC LDA CRR\")\n",
        "plt.xlabel(\"FPR\")\n",
        "plt.ylabel(\"TPR\")\n",
        "plt.show()"
      ],
      "execution_count": 41,
      "outputs": [
        {
          "output_type": "display_data",
          "data": {
            "image/png": "[encoded data removed]",
            "text/plain": [
              "<Figure size 360x360 with 1 Axes>"
            ]
          },
          "metadata": {
            "tags": [],
            "needs_background": "light"
          }
        }
      ]
    },
    {
      "cell_type": "markdown",
      "metadata": {
        "id": "JcDfRI4tj1mL"
      },
      "source": [
        "### Modelo QDA"
      ]
    },
    {
      "cell_type": "code",
      "metadata": {
        "id": "aMZLddVIj2KA"
      },
      "source": [
        "from sklearn.discriminant_analysis import QuadraticDiscriminantAnalysis\n",
        "QDA_clf = QuadraticDiscriminantAnalysis()"
      ],
      "execution_count": 42,
      "outputs": []
    },
    {
      "cell_type": "code",
      "metadata": {
        "colab": {
          "base_uri": "https://localhost:8080/"
        },
        "id": "6VssQdjckpvP",
        "outputId": "ddc009f1-2fe2-4a21-a295-fe8beca1a3d4"
      },
      "source": [
        "QDA_clf.fit(df_train2.drop(\"CRRbin\",axis=1), df_train2[\"CRRbin\"])"
      ],
      "execution_count": 43,
      "outputs": [
        {
          "output_type": "execute_result",
          "data": {
            "text/plain": [
              "QuadraticDiscriminantAnalysis(priors=None, reg_param=0.0,\n",
              "                              store_covariance=False, tol=0.0001)"
            ]
          },
          "metadata": {
            "tags": []
          },
          "execution_count": 43
        }
      ]
    },
    {
      "cell_type": "code",
      "metadata": {
        "colab": {
          "base_uri": "https://localhost:8080/"
        },
        "id": "8MM1o3zhkW4t",
        "outputId": "6dc35c42-b5c8-40ba-ce43-6f61b49cc158"
      },
      "source": [
        "QDA_clf.score(df_train2.drop(\"CRRbin\",axis=1), df_train2[\"CRRbin\"])"
      ],
      "execution_count": 44,
      "outputs": [
        {
          "output_type": "execute_result",
          "data": {
            "text/plain": [
              "0.5618729096989966"
            ]
          },
          "metadata": {
            "tags": []
          },
          "execution_count": 44
        }
      ]
    },
    {
      "cell_type": "code",
      "metadata": {
        "colab": {
          "base_uri": "https://localhost:8080/"
        },
        "id": "Ar4sJvo6kW4v",
        "outputId": "7d7100c9-8ad3-4a5f-a712-e517f9aed9c6"
      },
      "source": [
        "QDA_clf.score(df_validation2.drop(\"CRRbin\",axis=1), df_validation2[\"CRRbin\"])"
      ],
      "execution_count": 45,
      "outputs": [
        {
          "output_type": "execute_result",
          "data": {
            "text/plain": [
              "0.5946547884187082"
            ]
          },
          "metadata": {
            "tags": []
          },
          "execution_count": 45
        }
      ]
    },
    {
      "cell_type": "code",
      "metadata": {
        "colab": {
          "base_uri": "https://localhost:8080/"
        },
        "id": "VOP0jFAckW4w",
        "outputId": "36fe5b26-615a-4406-9eef-c92015db86c4"
      },
      "source": [
        "QDA_clf.predict(np.array([[300,500,0.8]]))"
      ],
      "execution_count": 46,
      "outputs": [
        {
          "output_type": "execute_result",
          "data": {
            "text/plain": [
              "array([0])"
            ]
          },
          "metadata": {
            "tags": []
          },
          "execution_count": 46
        }
      ]
    },
    {
      "cell_type": "code",
      "metadata": {
        "id": "05tt9WNzkW4x"
      },
      "source": [
        "y_true2 = 1*np.array(df_test_validation2[\"CRRbin\"])"
      ],
      "execution_count": 47,
      "outputs": []
    },
    {
      "cell_type": "code",
      "metadata": {
        "id": "Mrx1timTkW4y"
      },
      "source": [
        "y_pred_QDA = QDA_clf.predict_proba(df_test_validation2.drop(\"CRRbin\",axis=1))"
      ],
      "execution_count": 48,
      "outputs": []
    },
    {
      "cell_type": "code",
      "metadata": {
        "colab": {
          "base_uri": "https://localhost:8080/"
        },
        "id": "kuc-4-AokW4z",
        "outputId": "5022e583-06e1-4c9e-f525-524626801900"
      },
      "source": [
        "print(\"Matriz de Confusión Alfa 0.25\")\n",
        "print(confusion_matrix(y_true2,y_pred_QDA[:,1]>0.25))"
      ],
      "execution_count": 49,
      "outputs": [
        {
          "output_type": "stream",
          "text": [
            "Matriz de Confusión Alfa 0.25\n",
            "[[ 12 495]\n",
            " [  6 384]]\n"
          ],
          "name": "stdout"
        }
      ]
    },
    {
      "cell_type": "code",
      "metadata": {
        "colab": {
          "base_uri": "https://localhost:8080/"
        },
        "id": "rNBAGDOikW40",
        "outputId": "74e4be2b-4ccb-4396-bc15-eba1d90774ea"
      },
      "source": [
        "alfa = 0.02\n",
        "recalls = np.zeros(100)\n",
        "precisions= np.zeros(100)\n",
        "FPR = np.zeros(100)\n",
        "alfas = np.linspace(0,1,100)\n",
        "for idx,alfa in enumerate(alfas):\n",
        "    tn, fp, fn, tp = confusion_matrix(y_true2,y_pred_QDA[:,1]>alfa).ravel()\n",
        "    recalls[idx] = (tp/(tp+fn))\n",
        "    precisions[idx] = (tp/(tp+fp))\n",
        "    FPR[idx]= (fp/(fp+tn))"
      ],
      "execution_count": 50,
      "outputs": [
        {
          "output_type": "stream",
          "text": [
            "/usr/local/lib/python3.7/dist-packages/ipykernel_launcher.py:9: RuntimeWarning: invalid value encountered in long_scalars\n",
            "  if __name__ == '__main__':\n"
          ],
          "name": "stderr"
        }
      ]
    },
    {
      "cell_type": "code",
      "metadata": {
        "colab": {
          "base_uri": "https://localhost:8080/"
        },
        "id": "QeB-GKn0kW41",
        "outputId": "a084cc61-6948-47eb-fd45-f63fce2363c1"
      },
      "source": [
        "print(\"Para un alfa 0.25 --> Valor de recall\", recalls[25], \"Valor de Precisions\", precisions[25], \"Valor de FPR\", FPR[25])\n",
        "print(\"Para un alfa 0.5 --> Valor de recall\", recalls[50], \"Valor de Precisions\", precisions[50], \"Valor de FPR\", FPR[50])\n",
        "print(\"Para un alfa 0.75 --> Valor de recall\", recalls[75], \"Valor de Precisions\", precisions[75], \"Valor de FPR\", FPR[75])"
      ],
      "execution_count": 51,
      "outputs": [
        {
          "output_type": "stream",
          "text": [
            "Para un alfa 0.25 --> Valor de recall 0.9846153846153847 Valor de Precisions 0.43735763097949887 Valor de FPR 0.9743589743589743\n",
            "Para un alfa 0.5 --> Valor de recall 0.20256410256410257 Valor de Precisions 0.5939849624060151 Valor de FPR 0.10650887573964497\n",
            "Para un alfa 0.75 --> Valor de recall 0.0 Valor de Precisions nan Valor de FPR 0.0\n"
          ],
          "name": "stdout"
        }
      ]
    },
    {
      "cell_type": "code",
      "metadata": {
        "colab": {
          "base_uri": "https://localhost:8080/",
          "height": 350
        },
        "id": "6JD4hHRmkW42",
        "outputId": "21d199f0-cbab-47a0-a835-429d51e1e78a"
      },
      "source": [
        "plt.figure(figsize=[5,5])\n",
        "plt.plot(FPR,recalls)\n",
        "plt.title(\"Curva ROC QDA CRR\")\n",
        "plt.xlabel(\"FPR\")\n",
        "plt.ylabel(\"TPR\")\n",
        "plt.show()"
      ],
      "execution_count": 52,
      "outputs": [
        {
          "output_type": "display_data",
          "data": {
            "image/png": "[encoded data removed]",
            "text/plain": [
              "<Figure size 360x360 with 1 Axes>"
            ]
          },
          "metadata": {
            "tags": [],
            "needs_background": "light"
          }
        }
      ]
    },
    {
      "cell_type": "markdown",
      "metadata": {
        "id": "G-OJR9h9k7Qn"
      },
      "source": [
        "### Modelo de Regresión Logística"
      ]
    },
    {
      "cell_type": "code",
      "metadata": {
        "id": "QmfG_vOT0owp"
      },
      "source": [
        "from sklearn.linear_model import LogisticRegression\n",
        "LR_clf=LogisticRegression(C=1e9, verbose=1)"
      ],
      "execution_count": 53,
      "outputs": []
    },
    {
      "cell_type": "code",
      "metadata": {
        "colab": {
          "base_uri": "https://localhost:8080/"
        },
        "id": "0mRIh_-blFrB",
        "outputId": "c4f80aad-f4da-4b98-cf56-2f71eaee0c3c"
      },
      "source": [
        "LR_clf.fit(df_train2.drop(\"CRRbin\",axis=1), df_train2[\"CRRbin\"])"
      ],
      "execution_count": 54,
      "outputs": [
        {
          "output_type": "stream",
          "text": [
            "[Parallel(n_jobs=1)]: Using backend SequentialBackend with 1 concurrent workers.\n",
            "[Parallel(n_jobs=1)]: Done   1 out of   1 | elapsed:    0.0s finished\n"
          ],
          "name": "stderr"
        },
        {
          "output_type": "execute_result",
          "data": {
            "text/plain": [
              "LogisticRegression(C=1000000000.0, class_weight=None, dual=False,\n",
              "                   fit_intercept=True, intercept_scaling=1, l1_ratio=None,\n",
              "                   max_iter=100, multi_class='auto', n_jobs=None, penalty='l2',\n",
              "                   random_state=None, solver='lbfgs', tol=0.0001, verbose=1,\n",
              "                   warm_start=False)"
            ]
          },
          "metadata": {
            "tags": []
          },
          "execution_count": 54
        }
      ]
    },
    {
      "cell_type": "code",
      "metadata": {
        "colab": {
          "base_uri": "https://localhost:8080/"
        },
        "id": "SsFs5s-ElFrG",
        "outputId": "3a456d15-c1f2-4dc3-f8c7-7127da5e209b"
      },
      "source": [
        "LR_clf.score(df_train2.drop(\"CRRbin\",axis=1), df_train2[\"CRRbin\"])"
      ],
      "execution_count": 55,
      "outputs": [
        {
          "output_type": "execute_result",
          "data": {
            "text/plain": [
              "0.5719063545150501"
            ]
          },
          "metadata": {
            "tags": []
          },
          "execution_count": 55
        }
      ]
    },
    {
      "cell_type": "code",
      "metadata": {
        "colab": {
          "base_uri": "https://localhost:8080/"
        },
        "id": "NBbE3PaBlFrH",
        "outputId": "02ae18d2-3830-414f-a667-2e96ec4edd3c"
      },
      "source": [
        "LR_clf.score(df_validation2.drop(\"CRRbin\",axis=1), df_validation2[\"CRRbin\"])"
      ],
      "execution_count": 56,
      "outputs": [
        {
          "output_type": "execute_result",
          "data": {
            "text/plain": [
              "0.5991091314031181"
            ]
          },
          "metadata": {
            "tags": []
          },
          "execution_count": 56
        }
      ]
    },
    {
      "cell_type": "code",
      "metadata": {
        "colab": {
          "base_uri": "https://localhost:8080/"
        },
        "id": "cgW3ygXolFrI",
        "outputId": "2202ac38-a146-465f-8cfd-891fd14cbf0f"
      },
      "source": [
        "LR_clf.predict(np.array([[300,500,0.8]]))"
      ],
      "execution_count": 57,
      "outputs": [
        {
          "output_type": "execute_result",
          "data": {
            "text/plain": [
              "array([0])"
            ]
          },
          "metadata": {
            "tags": []
          },
          "execution_count": 57
        }
      ]
    },
    {
      "cell_type": "code",
      "metadata": {
        "id": "rmrDRpVglFrJ"
      },
      "source": [
        "y_true2 = 1*np.array(df_test_validation2[\"CRRbin\"])"
      ],
      "execution_count": 58,
      "outputs": []
    },
    {
      "cell_type": "code",
      "metadata": {
        "id": "SDpLD7VIlFrJ"
      },
      "source": [
        "y_pred_LR = LR_clf.predict_proba(df_test_validation2.drop(\"CRRbin\",axis=1))"
      ],
      "execution_count": 59,
      "outputs": []
    },
    {
      "cell_type": "code",
      "metadata": {
        "colab": {
          "base_uri": "https://localhost:8080/"
        },
        "id": "TlDdgidDlFrK",
        "outputId": "b160566c-03eb-4854-c1dd-653054c71d06"
      },
      "source": [
        "print(\"Matriz de Confusión Alfa 0.25\")\n",
        "print(confusion_matrix(y_true2,y_pred_LR[:,1]>0.25))"
      ],
      "execution_count": 60,
      "outputs": [
        {
          "output_type": "stream",
          "text": [
            "Matriz de Confusión Alfa 0.25\n",
            "[[  5 502]\n",
            " [  2 388]]\n"
          ],
          "name": "stdout"
        }
      ]
    },
    {
      "cell_type": "code",
      "metadata": {
        "colab": {
          "base_uri": "https://localhost:8080/"
        },
        "id": "tZYPIGi5lFrL",
        "outputId": "7a073854-7f4e-49b7-8ec4-3f5208c7c450"
      },
      "source": [
        "alfa = 0.02\n",
        "recalls = np.zeros(100)\n",
        "precisions= np.zeros(100)\n",
        "FPR = np.zeros(100)\n",
        "alfas = np.linspace(0,1,100)\n",
        "for idx,alfa in enumerate(alfas):\n",
        "    tn, fp, fn, tp = confusion_matrix(y_true2,y_pred_LR[:,1]>alfa).ravel()\n",
        "    recalls[idx] = (tp/(tp+fn))\n",
        "    precisions[idx] = (tp/(tp+fp))\n",
        "    FPR[idx]= (fp/(fp+tn))"
      ],
      "execution_count": 61,
      "outputs": [
        {
          "output_type": "stream",
          "text": [
            "/usr/local/lib/python3.7/dist-packages/ipykernel_launcher.py:9: RuntimeWarning: invalid value encountered in long_scalars\n",
            "  if __name__ == '__main__':\n"
          ],
          "name": "stderr"
        }
      ]
    },
    {
      "cell_type": "code",
      "metadata": {
        "colab": {
          "base_uri": "https://localhost:8080/"
        },
        "id": "zPIZ4fkqlFrM",
        "outputId": "a9c76918-3606-4cd4-aec8-b2642d946c63"
      },
      "source": [
        "print(\"Para un alfa 0.25 --> Valor de recall\", recalls[25], \"Valor de Precisions\", precisions[25], \"Valor de FPR\", FPR[25])\n",
        "print(\"Para un alfa 0.5 --> Valor de recall\", recalls[50], \"Valor de Precisions\", precisions[50], \"Valor de FPR\", FPR[50])\n",
        "print(\"Para un alfa 0.75 --> Valor de recall\", recalls[75], \"Valor de Precisions\", precisions[75], \"Valor de FPR\", FPR[75])"
      ],
      "execution_count": 62,
      "outputs": [
        {
          "output_type": "stream",
          "text": [
            "Para un alfa 0.25 --> Valor de recall 0.9948717948717949 Valor de Precisions 0.4364454443194601 Valor de FPR 0.9881656804733728\n",
            "Para un alfa 0.5 --> Valor de recall 0.18717948717948718 Valor de Precisions 0.5703125 Valor de FPR 0.10848126232741617\n",
            "Para un alfa 0.75 --> Valor de recall 0.0 Valor de Precisions nan Valor de FPR 0.0\n"
          ],
          "name": "stdout"
        }
      ]
    },
    {
      "cell_type": "code",
      "metadata": {
        "colab": {
          "base_uri": "https://localhost:8080/",
          "height": 350
        },
        "id": "s8stork-lFrN",
        "outputId": "6ff046b5-bec9-4930-85a4-0948d3637469"
      },
      "source": [
        "plt.figure(figsize=[5,5])\n",
        "plt.plot(FPR,recalls)\n",
        "plt.title(\"Curva ROC LR CRR\")\n",
        "plt.xlabel(\"FPR\")\n",
        "plt.ylabel(\"TPR\")\n",
        "plt.show()"
      ],
      "execution_count": 63,
      "outputs": [
        {
          "output_type": "display_data",
          "data": {
            "image/png": "[encoded data removed]",
            "text/plain": [
              "<Figure size 360x360 with 1 Axes>"
            ]
          },
          "metadata": {
            "tags": [],
            "needs_background": "light"
          }
        }
      ]
    },
    {
      "cell_type": "markdown",
      "metadata": {
        "id": "JXZH6DdomN5P"
      },
      "source": [
        "###Redes neuronales"
      ]
    },
    {
      "cell_type": "code",
      "metadata": {
        "id": "8TrblZDslX0G"
      },
      "source": [
        "from tensorflow.keras.models import Sequential\n",
        "from tensorflow.keras.layers import Dense, BatchNormalization\n",
        "from tensorflow.keras.optimizers import Adam, SGD"
      ],
      "execution_count": 64,
      "outputs": []
    },
    {
      "cell_type": "code",
      "metadata": {
        "id": "gL0nOyaGmcU4"
      },
      "source": [
        "RN_clf= Sequential()\n",
        "RN_clf.add(BatchNormalization(input_shape=(3,)))\n",
        "RN_clf.add(Dense(16, input_dim=5, activation='relu'))\n",
        "RN_clf.add(Dense(1, activation='sigmoid'))"
      ],
      "execution_count": 65,
      "outputs": []
    },
    {
      "cell_type": "code",
      "metadata": {
        "id": "J0qGwAbGmfa2"
      },
      "source": [
        "RN_clf.compile(loss='mean_squared_error',\n",
        "              optimizer='SGD',\n",
        "              metrics=['binary_accuracy'])"
      ],
      "execution_count": 66,
      "outputs": []
    },
    {
      "cell_type": "code",
      "metadata": {
        "id": "W6g_t3EMmjMs",
        "outputId": "6b0923f8-a231-47c1-fed1-81844b6823f8",
        "colab": {
          "base_uri": "https://localhost:8080/"
        }
      },
      "source": [
        "RN_clf.fit(df_train2.drop(\"CRRbin\",axis=1), df_train2[\"CRRbin\"], epochs=300)"
      ],
      "execution_count": 68,
      "outputs": [
        {
          "output_type": "stream",
          "text": [
            "Epoch 1/300\n",
            "66/66 [==============================] - 1s 1ms/step - loss: 0.2686 - binary_accuracy: 0.4749\n",
            "Epoch 2/300\n",
            "66/66 [==============================] - 0s 2ms/step - loss: 0.2625 - binary_accuracy: 0.4831\n",
            "Epoch 3/300\n",
            "66/66 [==============================] - 0s 1ms/step - loss: 0.2577 - binary_accuracy: 0.4936\n",
            "Epoch 4/300\n",
            "66/66 [==============================] - 0s 1ms/step - loss: 0.2558 - binary_accuracy: 0.5133\n",
            "Epoch 5/300\n",
            "66/66 [==============================] - 0s 1ms/step - loss: 0.2525 - binary_accuracy: 0.5153\n",
            "Epoch 6/300\n",
            "66/66 [==============================] - 0s 1ms/step - loss: 0.2489 - binary_accuracy: 0.5451\n",
            "Epoch 7/300\n",
            "66/66 [==============================] - 0s 1ms/step - loss: 0.2478 - binary_accuracy: 0.5546\n",
            "Epoch 8/300\n",
            "66/66 [==============================] - 0s 1ms/step - loss: 0.2474 - binary_accuracy: 0.5379\n",
            "Epoch 9/300\n",
            "66/66 [==============================] - 0s 1ms/step - loss: 0.2475 - binary_accuracy: 0.5537\n",
            "Epoch 10/300\n",
            "66/66 [==============================] - 0s 1ms/step - loss: 0.2456 - binary_accuracy: 0.5715\n",
            "Epoch 11/300\n",
            "66/66 [==============================] - 0s 1ms/step - loss: 0.2490 - binary_accuracy: 0.5399\n",
            "Epoch 12/300\n",
            "66/66 [==============================] - 0s 1ms/step - loss: 0.2457 - binary_accuracy: 0.5585\n",
            "Epoch 13/300\n",
            "66/66 [==============================] - 0s 1ms/step - loss: 0.2436 - binary_accuracy: 0.5597\n",
            "Epoch 14/300\n",
            "66/66 [==============================] - 0s 1ms/step - loss: 0.2430 - binary_accuracy: 0.5763\n",
            "Epoch 15/300\n",
            "66/66 [==============================] - 0s 1ms/step - loss: 0.2462 - binary_accuracy: 0.5423\n",
            "Epoch 16/300\n",
            "66/66 [==============================] - 0s 1ms/step - loss: 0.2438 - binary_accuracy: 0.5634\n",
            "Epoch 17/300\n",
            "66/66 [==============================] - 0s 1ms/step - loss: 0.2445 - binary_accuracy: 0.5558\n",
            "Epoch 18/300\n",
            "66/66 [==============================] - 0s 1ms/step - loss: 0.2442 - binary_accuracy: 0.5595\n",
            "Epoch 19/300\n",
            "66/66 [==============================] - 0s 1ms/step - loss: 0.2445 - binary_accuracy: 0.5700\n",
            "Epoch 20/300\n",
            "66/66 [==============================] - 0s 1ms/step - loss: 0.2414 - binary_accuracy: 0.5791\n",
            "Epoch 21/300\n",
            "66/66 [==============================] - 0s 1ms/step - loss: 0.2441 - binary_accuracy: 0.5557\n",
            "Epoch 22/300\n",
            "66/66 [==============================] - 0s 1ms/step - loss: 0.2423 - binary_accuracy: 0.5718\n",
            "Epoch 23/300\n",
            "66/66 [==============================] - 0s 1ms/step - loss: 0.2419 - binary_accuracy: 0.5697\n",
            "Epoch 24/300\n",
            "66/66 [==============================] - 0s 1ms/step - loss: 0.2421 - binary_accuracy: 0.5735\n",
            "Epoch 25/300\n",
            "66/66 [==============================] - 0s 1ms/step - loss: 0.2440 - binary_accuracy: 0.5657\n",
            "Epoch 26/300\n",
            "66/66 [==============================] - 0s 1ms/step - loss: 0.2392 - binary_accuracy: 0.5847\n",
            "Epoch 27/300\n",
            "66/66 [==============================] - 0s 1ms/step - loss: 0.2430 - binary_accuracy: 0.5610\n",
            "Epoch 28/300\n",
            "66/66 [==============================] - 0s 1ms/step - loss: 0.2472 - binary_accuracy: 0.5491\n",
            "Epoch 29/300\n",
            "66/66 [==============================] - 0s 1ms/step - loss: 0.2401 - binary_accuracy: 0.5783\n",
            "Epoch 30/300\n",
            "66/66 [==============================] - 0s 1ms/step - loss: 0.2418 - binary_accuracy: 0.5608\n",
            "Epoch 31/300\n",
            "66/66 [==============================] - 0s 1ms/step - loss: 0.2413 - binary_accuracy: 0.5641\n",
            "Epoch 32/300\n",
            "66/66 [==============================] - 0s 1ms/step - loss: 0.2434 - binary_accuracy: 0.5750\n",
            "Epoch 33/300\n",
            "66/66 [==============================] - 0s 1ms/step - loss: 0.2418 - binary_accuracy: 0.5684\n",
            "Epoch 34/300\n",
            "66/66 [==============================] - 0s 1ms/step - loss: 0.2411 - binary_accuracy: 0.5782\n",
            "Epoch 35/300\n",
            "66/66 [==============================] - 0s 1ms/step - loss: 0.2434 - binary_accuracy: 0.5646\n",
            "Epoch 36/300\n",
            "66/66 [==============================] - 0s 1ms/step - loss: 0.2398 - binary_accuracy: 0.5663\n",
            "Epoch 37/300\n",
            "66/66 [==============================] - 0s 1ms/step - loss: 0.2435 - binary_accuracy: 0.5663\n",
            "Epoch 38/300\n",
            "66/66 [==============================] - 0s 1ms/step - loss: 0.2399 - binary_accuracy: 0.5825\n",
            "Epoch 39/300\n",
            "66/66 [==============================] - 0s 1ms/step - loss: 0.2443 - binary_accuracy: 0.5555\n",
            "Epoch 40/300\n",
            "66/66 [==============================] - 0s 1ms/step - loss: 0.2422 - binary_accuracy: 0.5624\n",
            "Epoch 41/300\n",
            "66/66 [==============================] - 0s 1ms/step - loss: 0.2444 - binary_accuracy: 0.5722\n",
            "Epoch 42/300\n",
            "66/66 [==============================] - 0s 1ms/step - loss: 0.2415 - binary_accuracy: 0.5641\n",
            "Epoch 43/300\n",
            "66/66 [==============================] - 0s 1ms/step - loss: 0.2415 - binary_accuracy: 0.5623\n",
            "Epoch 44/300\n",
            "66/66 [==============================] - 0s 1ms/step - loss: 0.2444 - binary_accuracy: 0.5516\n",
            "Epoch 45/300\n",
            "66/66 [==============================] - 0s 1ms/step - loss: 0.2438 - binary_accuracy: 0.5600\n",
            "Epoch 46/300\n",
            "66/66 [==============================] - 0s 1ms/step - loss: 0.2438 - binary_accuracy: 0.5694\n",
            "Epoch 47/300\n",
            "66/66 [==============================] - 0s 1ms/step - loss: 0.2403 - binary_accuracy: 0.5807\n",
            "Epoch 48/300\n",
            "66/66 [==============================] - 0s 1ms/step - loss: 0.2415 - binary_accuracy: 0.5882\n",
            "Epoch 49/300\n",
            "66/66 [==============================] - 0s 1ms/step - loss: 0.2456 - binary_accuracy: 0.5611\n",
            "Epoch 50/300\n",
            "66/66 [==============================] - 0s 1ms/step - loss: 0.2397 - binary_accuracy: 0.5784\n",
            "Epoch 51/300\n",
            "66/66 [==============================] - 0s 1ms/step - loss: 0.2430 - binary_accuracy: 0.5672\n",
            "Epoch 52/300\n",
            "66/66 [==============================] - 0s 1ms/step - loss: 0.2392 - binary_accuracy: 0.5973\n",
            "Epoch 53/300\n",
            "66/66 [==============================] - 0s 1ms/step - loss: 0.2419 - binary_accuracy: 0.5603\n",
            "Epoch 54/300\n",
            "66/66 [==============================] - 0s 1ms/step - loss: 0.2397 - binary_accuracy: 0.5834\n",
            "Epoch 55/300\n",
            "66/66 [==============================] - 0s 1ms/step - loss: 0.2419 - binary_accuracy: 0.5626\n",
            "Epoch 56/300\n",
            "66/66 [==============================] - 0s 1ms/step - loss: 0.2396 - binary_accuracy: 0.5816\n",
            "Epoch 57/300\n",
            "66/66 [==============================] - 0s 1ms/step - loss: 0.2461 - binary_accuracy: 0.5597\n",
            "Epoch 58/300\n",
            "66/66 [==============================] - 0s 1ms/step - loss: 0.2423 - binary_accuracy: 0.5666\n",
            "Epoch 59/300\n",
            "66/66 [==============================] - 0s 1ms/step - loss: 0.2440 - binary_accuracy: 0.5617\n",
            "Epoch 60/300\n",
            "66/66 [==============================] - 0s 1ms/step - loss: 0.2399 - binary_accuracy: 0.5841\n",
            "Epoch 61/300\n",
            "66/66 [==============================] - 0s 1ms/step - loss: 0.2417 - binary_accuracy: 0.5734\n",
            "Epoch 62/300\n",
            "66/66 [==============================] - 0s 1ms/step - loss: 0.2437 - binary_accuracy: 0.5786\n",
            "Epoch 63/300\n",
            "66/66 [==============================] - 0s 1ms/step - loss: 0.2419 - binary_accuracy: 0.5749\n",
            "Epoch 64/300\n",
            "66/66 [==============================] - 0s 1ms/step - loss: 0.2394 - binary_accuracy: 0.5712\n",
            "Epoch 65/300\n",
            "66/66 [==============================] - 0s 1ms/step - loss: 0.2397 - binary_accuracy: 0.5862\n",
            "Epoch 66/300\n",
            "66/66 [==============================] - 0s 1ms/step - loss: 0.2395 - binary_accuracy: 0.5777\n",
            "Epoch 67/300\n",
            "66/66 [==============================] - 0s 1ms/step - loss: 0.2397 - binary_accuracy: 0.5879\n",
            "Epoch 68/300\n",
            "66/66 [==============================] - 0s 1ms/step - loss: 0.2406 - binary_accuracy: 0.5681\n",
            "Epoch 69/300\n",
            "66/66 [==============================] - 0s 1ms/step - loss: 0.2382 - binary_accuracy: 0.5820\n",
            "Epoch 70/300\n",
            "66/66 [==============================] - 0s 1ms/step - loss: 0.2385 - binary_accuracy: 0.5913\n",
            "Epoch 71/300\n",
            "66/66 [==============================] - 0s 1ms/step - loss: 0.2397 - binary_accuracy: 0.5633\n",
            "Epoch 72/300\n",
            "66/66 [==============================] - 0s 1ms/step - loss: 0.2402 - binary_accuracy: 0.5730\n",
            "Epoch 73/300\n",
            "66/66 [==============================] - 0s 1ms/step - loss: 0.2428 - binary_accuracy: 0.5643\n",
            "Epoch 74/300\n",
            "66/66 [==============================] - 0s 1ms/step - loss: 0.2390 - binary_accuracy: 0.5748\n",
            "Epoch 75/300\n",
            "66/66 [==============================] - 0s 1ms/step - loss: 0.2397 - binary_accuracy: 0.5768\n",
            "Epoch 76/300\n",
            "66/66 [==============================] - 0s 1ms/step - loss: 0.2378 - binary_accuracy: 0.5878\n",
            "Epoch 77/300\n",
            "66/66 [==============================] - 0s 1ms/step - loss: 0.2399 - binary_accuracy: 0.5880\n",
            "Epoch 78/300\n",
            "66/66 [==============================] - 0s 1ms/step - loss: 0.2409 - binary_accuracy: 0.5732\n",
            "Epoch 79/300\n",
            "66/66 [==============================] - 0s 1ms/step - loss: 0.2414 - binary_accuracy: 0.5841\n",
            "Epoch 80/300\n",
            "66/66 [==============================] - 0s 1ms/step - loss: 0.2383 - binary_accuracy: 0.5925\n",
            "Epoch 81/300\n",
            "66/66 [==============================] - 0s 1ms/step - loss: 0.2418 - binary_accuracy: 0.5715\n",
            "Epoch 82/300\n",
            "66/66 [==============================] - 0s 1ms/step - loss: 0.2404 - binary_accuracy: 0.5668\n",
            "Epoch 83/300\n",
            "66/66 [==============================] - 0s 1ms/step - loss: 0.2425 - binary_accuracy: 0.5852\n",
            "Epoch 84/300\n",
            "66/66 [==============================] - 0s 1ms/step - loss: 0.2410 - binary_accuracy: 0.5799\n",
            "Epoch 85/300\n",
            "66/66 [==============================] - 0s 1ms/step - loss: 0.2407 - binary_accuracy: 0.5543\n",
            "Epoch 86/300\n",
            "66/66 [==============================] - 0s 1ms/step - loss: 0.2384 - binary_accuracy: 0.5904\n",
            "Epoch 87/300\n",
            "66/66 [==============================] - 0s 1ms/step - loss: 0.2397 - binary_accuracy: 0.5734\n",
            "Epoch 88/300\n",
            "66/66 [==============================] - 0s 1ms/step - loss: 0.2393 - binary_accuracy: 0.5801\n",
            "Epoch 89/300\n",
            "66/66 [==============================] - 0s 1ms/step - loss: 0.2426 - binary_accuracy: 0.5755\n",
            "Epoch 90/300\n",
            "66/66 [==============================] - 0s 1ms/step - loss: 0.2414 - binary_accuracy: 0.5754\n",
            "Epoch 91/300\n",
            "66/66 [==============================] - 0s 1ms/step - loss: 0.2365 - binary_accuracy: 0.5935\n",
            "Epoch 92/300\n",
            "66/66 [==============================] - 0s 1ms/step - loss: 0.2438 - binary_accuracy: 0.5635\n",
            "Epoch 93/300\n",
            "66/66 [==============================] - 0s 1ms/step - loss: 0.2431 - binary_accuracy: 0.5618\n",
            "Epoch 94/300\n",
            "66/66 [==============================] - 0s 1ms/step - loss: 0.2416 - binary_accuracy: 0.5736\n",
            "Epoch 95/300\n",
            "66/66 [==============================] - 0s 1ms/step - loss: 0.2398 - binary_accuracy: 0.5815\n",
            "Epoch 96/300\n",
            "66/66 [==============================] - 0s 1ms/step - loss: 0.2410 - binary_accuracy: 0.5641\n",
            "Epoch 97/300\n",
            "66/66 [==============================] - 0s 1ms/step - loss: 0.2410 - binary_accuracy: 0.5818\n",
            "Epoch 98/300\n",
            "66/66 [==============================] - 0s 1ms/step - loss: 0.2408 - binary_accuracy: 0.5748\n",
            "Epoch 99/300\n",
            "66/66 [==============================] - 0s 1ms/step - loss: 0.2436 - binary_accuracy: 0.5666\n",
            "Epoch 100/300\n",
            "66/66 [==============================] - 0s 1ms/step - loss: 0.2418 - binary_accuracy: 0.5522\n",
            "Epoch 101/300\n",
            "66/66 [==============================] - 0s 1ms/step - loss: 0.2387 - binary_accuracy: 0.5871\n",
            "Epoch 102/300\n",
            "66/66 [==============================] - 0s 1ms/step - loss: 0.2413 - binary_accuracy: 0.5753\n",
            "Epoch 103/300\n",
            "66/66 [==============================] - 0s 1ms/step - loss: 0.2409 - binary_accuracy: 0.5802\n",
            "Epoch 104/300\n",
            "66/66 [==============================] - 0s 1ms/step - loss: 0.2425 - binary_accuracy: 0.5706\n",
            "Epoch 105/300\n",
            "66/66 [==============================] - 0s 1ms/step - loss: 0.2417 - binary_accuracy: 0.5745\n",
            "Epoch 106/300\n",
            "66/66 [==============================] - 0s 1ms/step - loss: 0.2425 - binary_accuracy: 0.5711\n",
            "Epoch 107/300\n",
            "66/66 [==============================] - 0s 1ms/step - loss: 0.2395 - binary_accuracy: 0.5766\n",
            "Epoch 108/300\n",
            "66/66 [==============================] - 0s 1ms/step - loss: 0.2400 - binary_accuracy: 0.5722\n",
            "Epoch 109/300\n",
            "66/66 [==============================] - 0s 1ms/step - loss: 0.2405 - binary_accuracy: 0.5834\n",
            "Epoch 110/300\n",
            "66/66 [==============================] - 0s 1ms/step - loss: 0.2395 - binary_accuracy: 0.5774\n",
            "Epoch 111/300\n",
            "66/66 [==============================] - 0s 1ms/step - loss: 0.2448 - binary_accuracy: 0.5586\n",
            "Epoch 112/300\n",
            "66/66 [==============================] - 0s 1ms/step - loss: 0.2359 - binary_accuracy: 0.5964\n",
            "Epoch 113/300\n",
            "66/66 [==============================] - 0s 1ms/step - loss: 0.2415 - binary_accuracy: 0.5773\n",
            "Epoch 114/300\n",
            "66/66 [==============================] - 0s 1ms/step - loss: 0.2419 - binary_accuracy: 0.5571\n",
            "Epoch 115/300\n",
            "66/66 [==============================] - 0s 1ms/step - loss: 0.2420 - binary_accuracy: 0.5638\n",
            "Epoch 116/300\n",
            "66/66 [==============================] - 0s 1ms/step - loss: 0.2387 - binary_accuracy: 0.5731\n",
            "Epoch 117/300\n",
            "66/66 [==============================] - 0s 1ms/step - loss: 0.2420 - binary_accuracy: 0.5613\n",
            "Epoch 118/300\n",
            "66/66 [==============================] - 0s 1ms/step - loss: 0.2418 - binary_accuracy: 0.5622\n",
            "Epoch 119/300\n",
            "66/66 [==============================] - 0s 1ms/step - loss: 0.2392 - binary_accuracy: 0.5756\n",
            "Epoch 120/300\n",
            "66/66 [==============================] - 0s 1ms/step - loss: 0.2386 - binary_accuracy: 0.5795\n",
            "Epoch 121/300\n",
            "66/66 [==============================] - 0s 1ms/step - loss: 0.2422 - binary_accuracy: 0.5773\n",
            "Epoch 122/300\n",
            "66/66 [==============================] - 0s 1ms/step - loss: 0.2412 - binary_accuracy: 0.5765\n",
            "Epoch 123/300\n",
            "66/66 [==============================] - 0s 1ms/step - loss: 0.2411 - binary_accuracy: 0.5788\n",
            "Epoch 124/300\n",
            "66/66 [==============================] - 0s 1ms/step - loss: 0.2393 - binary_accuracy: 0.5709\n",
            "Epoch 125/300\n",
            "66/66 [==============================] - 0s 1ms/step - loss: 0.2391 - binary_accuracy: 0.5833\n",
            "Epoch 126/300\n",
            "66/66 [==============================] - 0s 1ms/step - loss: 0.2374 - binary_accuracy: 0.5910\n",
            "Epoch 127/300\n",
            "66/66 [==============================] - 0s 1ms/step - loss: 0.2439 - binary_accuracy: 0.5572\n",
            "Epoch 128/300\n",
            "66/66 [==============================] - 0s 1ms/step - loss: 0.2442 - binary_accuracy: 0.5550\n",
            "Epoch 129/300\n",
            "66/66 [==============================] - 0s 1ms/step - loss: 0.2396 - binary_accuracy: 0.5735\n",
            "Epoch 130/300\n",
            "66/66 [==============================] - 0s 1ms/step - loss: 0.2397 - binary_accuracy: 0.5820\n",
            "Epoch 131/300\n",
            "66/66 [==============================] - 0s 1ms/step - loss: 0.2373 - binary_accuracy: 0.5997\n",
            "Epoch 132/300\n",
            "66/66 [==============================] - 0s 1ms/step - loss: 0.2421 - binary_accuracy: 0.5570\n",
            "Epoch 133/300\n",
            "66/66 [==============================] - 0s 1ms/step - loss: 0.2402 - binary_accuracy: 0.5789\n",
            "Epoch 134/300\n",
            "66/66 [==============================] - 0s 1ms/step - loss: 0.2404 - binary_accuracy: 0.5652\n",
            "Epoch 135/300\n",
            "66/66 [==============================] - 0s 1ms/step - loss: 0.2404 - binary_accuracy: 0.5691\n",
            "Epoch 136/300\n",
            "66/66 [==============================] - 0s 1ms/step - loss: 0.2405 - binary_accuracy: 0.5800\n",
            "Epoch 137/300\n",
            "66/66 [==============================] - 0s 1ms/step - loss: 0.2387 - binary_accuracy: 0.5795\n",
            "Epoch 138/300\n",
            "66/66 [==============================] - 0s 1ms/step - loss: 0.2428 - binary_accuracy: 0.5673\n",
            "Epoch 139/300\n",
            "66/66 [==============================] - 0s 1ms/step - loss: 0.2384 - binary_accuracy: 0.5910\n",
            "Epoch 140/300\n",
            "66/66 [==============================] - 0s 1ms/step - loss: 0.2404 - binary_accuracy: 0.5698\n",
            "Epoch 141/300\n",
            "66/66 [==============================] - 0s 1ms/step - loss: 0.2414 - binary_accuracy: 0.5694\n",
            "Epoch 142/300\n",
            "66/66 [==============================] - 0s 1ms/step - loss: 0.2403 - binary_accuracy: 0.5748\n",
            "Epoch 143/300\n",
            "66/66 [==============================] - 0s 1ms/step - loss: 0.2411 - binary_accuracy: 0.5620\n",
            "Epoch 144/300\n",
            "66/66 [==============================] - 0s 1ms/step - loss: 0.2415 - binary_accuracy: 0.5731\n",
            "Epoch 145/300\n",
            "66/66 [==============================] - 0s 1ms/step - loss: 0.2404 - binary_accuracy: 0.5748\n",
            "Epoch 146/300\n",
            "66/66 [==============================] - 0s 1ms/step - loss: 0.2379 - binary_accuracy: 0.5817\n",
            "Epoch 147/300\n",
            "66/66 [==============================] - 0s 1ms/step - loss: 0.2399 - binary_accuracy: 0.5829\n",
            "Epoch 148/300\n",
            "66/66 [==============================] - 0s 1ms/step - loss: 0.2389 - binary_accuracy: 0.5716\n",
            "Epoch 149/300\n",
            "66/66 [==============================] - 0s 1ms/step - loss: 0.2375 - binary_accuracy: 0.5868\n",
            "Epoch 150/300\n",
            "66/66 [==============================] - 0s 1ms/step - loss: 0.2395 - binary_accuracy: 0.5790\n",
            "Epoch 151/300\n",
            "66/66 [==============================] - 0s 1ms/step - loss: 0.2368 - binary_accuracy: 0.5953\n",
            "Epoch 152/300\n",
            "66/66 [==============================] - 0s 1ms/step - loss: 0.2442 - binary_accuracy: 0.5422\n",
            "Epoch 153/300\n",
            "66/66 [==============================] - 0s 1ms/step - loss: 0.2432 - binary_accuracy: 0.5628\n",
            "Epoch 154/300\n",
            "66/66 [==============================] - 0s 1ms/step - loss: 0.2386 - binary_accuracy: 0.5825\n",
            "Epoch 155/300\n",
            "66/66 [==============================] - 0s 1ms/step - loss: 0.2416 - binary_accuracy: 0.5785\n",
            "Epoch 156/300\n",
            "66/66 [==============================] - 0s 1ms/step - loss: 0.2386 - binary_accuracy: 0.5787\n",
            "Epoch 157/300\n",
            "66/66 [==============================] - 0s 1ms/step - loss: 0.2398 - binary_accuracy: 0.5715\n",
            "Epoch 158/300\n",
            "66/66 [==============================] - 0s 1ms/step - loss: 0.2370 - binary_accuracy: 0.5845\n",
            "Epoch 159/300\n",
            "66/66 [==============================] - 0s 1ms/step - loss: 0.2443 - binary_accuracy: 0.5517\n",
            "Epoch 160/300\n",
            "66/66 [==============================] - 0s 1ms/step - loss: 0.2379 - binary_accuracy: 0.5833\n",
            "Epoch 161/300\n",
            "66/66 [==============================] - 0s 1ms/step - loss: 0.2413 - binary_accuracy: 0.5638\n",
            "Epoch 162/300\n",
            "66/66 [==============================] - 0s 1ms/step - loss: 0.2409 - binary_accuracy: 0.5683\n",
            "Epoch 163/300\n",
            "66/66 [==============================] - 0s 1ms/step - loss: 0.2379 - binary_accuracy: 0.5719\n",
            "Epoch 164/300\n",
            "66/66 [==============================] - 0s 1ms/step - loss: 0.2363 - binary_accuracy: 0.5813\n",
            "Epoch 165/300\n",
            "66/66 [==============================] - 0s 1ms/step - loss: 0.2405 - binary_accuracy: 0.5709\n",
            "Epoch 166/300\n",
            "66/66 [==============================] - 0s 1ms/step - loss: 0.2396 - binary_accuracy: 0.5669\n",
            "Epoch 167/300\n",
            "66/66 [==============================] - 0s 1ms/step - loss: 0.2413 - binary_accuracy: 0.5698\n",
            "Epoch 168/300\n",
            "66/66 [==============================] - 0s 1ms/step - loss: 0.2416 - binary_accuracy: 0.5780\n",
            "Epoch 169/300\n",
            "66/66 [==============================] - 0s 1ms/step - loss: 0.2387 - binary_accuracy: 0.5790\n",
            "Epoch 170/300\n",
            "66/66 [==============================] - 0s 1ms/step - loss: 0.2392 - binary_accuracy: 0.5794\n",
            "Epoch 171/300\n",
            "66/66 [==============================] - 0s 1ms/step - loss: 0.2402 - binary_accuracy: 0.5656\n",
            "Epoch 172/300\n",
            "66/66 [==============================] - 0s 1ms/step - loss: 0.2433 - binary_accuracy: 0.5633\n",
            "Epoch 173/300\n",
            "66/66 [==============================] - 0s 1ms/step - loss: 0.2395 - binary_accuracy: 0.5519\n",
            "Epoch 174/300\n",
            "66/66 [==============================] - 0s 1ms/step - loss: 0.2386 - binary_accuracy: 0.5863\n",
            "Epoch 175/300\n",
            "66/66 [==============================] - 0s 1ms/step - loss: 0.2421 - binary_accuracy: 0.5612\n",
            "Epoch 176/300\n",
            "66/66 [==============================] - 0s 1ms/step - loss: 0.2352 - binary_accuracy: 0.5778\n",
            "Epoch 177/300\n",
            "66/66 [==============================] - 0s 1ms/step - loss: 0.2371 - binary_accuracy: 0.5822\n",
            "Epoch 178/300\n",
            "66/66 [==============================] - 0s 1ms/step - loss: 0.2393 - binary_accuracy: 0.5770\n",
            "Epoch 179/300\n",
            "66/66 [==============================] - 0s 1ms/step - loss: 0.2365 - binary_accuracy: 0.5986\n",
            "Epoch 180/300\n",
            "66/66 [==============================] - 0s 1ms/step - loss: 0.2384 - binary_accuracy: 0.5709\n",
            "Epoch 181/300\n",
            "66/66 [==============================] - 0s 1ms/step - loss: 0.2397 - binary_accuracy: 0.5880\n",
            "Epoch 182/300\n",
            "66/66 [==============================] - 0s 1ms/step - loss: 0.2437 - binary_accuracy: 0.5593\n",
            "Epoch 183/300\n",
            "66/66 [==============================] - 0s 1ms/step - loss: 0.2378 - binary_accuracy: 0.5955\n",
            "Epoch 184/300\n",
            "66/66 [==============================] - 0s 1ms/step - loss: 0.2384 - binary_accuracy: 0.5778\n",
            "Epoch 185/300\n",
            "66/66 [==============================] - 0s 1ms/step - loss: 0.2389 - binary_accuracy: 0.5782\n",
            "Epoch 186/300\n",
            "66/66 [==============================] - 0s 1ms/step - loss: 0.2385 - binary_accuracy: 0.5792\n",
            "Epoch 187/300\n",
            "66/66 [==============================] - 0s 1ms/step - loss: 0.2404 - binary_accuracy: 0.5569\n",
            "Epoch 188/300\n",
            "66/66 [==============================] - 0s 1ms/step - loss: 0.2393 - binary_accuracy: 0.5870\n",
            "Epoch 189/300\n",
            "66/66 [==============================] - 0s 1ms/step - loss: 0.2370 - binary_accuracy: 0.5872\n",
            "Epoch 190/300\n",
            "66/66 [==============================] - 0s 1ms/step - loss: 0.2387 - binary_accuracy: 0.5790\n",
            "Epoch 191/300\n",
            "66/66 [==============================] - 0s 1ms/step - loss: 0.2399 - binary_accuracy: 0.5639\n",
            "Epoch 192/300\n",
            "66/66 [==============================] - 0s 1ms/step - loss: 0.2389 - binary_accuracy: 0.5726\n",
            "Epoch 193/300\n",
            "66/66 [==============================] - 0s 1ms/step - loss: 0.2439 - binary_accuracy: 0.5581\n",
            "Epoch 194/300\n",
            "66/66 [==============================] - 0s 1ms/step - loss: 0.2410 - binary_accuracy: 0.5729\n",
            "Epoch 195/300\n",
            "66/66 [==============================] - 0s 1ms/step - loss: 0.2402 - binary_accuracy: 0.5731\n",
            "Epoch 196/300\n",
            "66/66 [==============================] - 0s 1ms/step - loss: 0.2386 - binary_accuracy: 0.5773\n",
            "Epoch 197/300\n",
            "66/66 [==============================] - 0s 1ms/step - loss: 0.2394 - binary_accuracy: 0.5799\n",
            "Epoch 198/300\n",
            "66/66 [==============================] - 0s 1ms/step - loss: 0.2403 - binary_accuracy: 0.5711\n",
            "Epoch 199/300\n",
            "66/66 [==============================] - 0s 1ms/step - loss: 0.2398 - binary_accuracy: 0.5740\n",
            "Epoch 200/300\n",
            "66/66 [==============================] - 0s 1ms/step - loss: 0.2397 - binary_accuracy: 0.5792\n",
            "Epoch 201/300\n",
            "66/66 [==============================] - 0s 1ms/step - loss: 0.2384 - binary_accuracy: 0.5838\n",
            "Epoch 202/300\n",
            "66/66 [==============================] - 0s 1ms/step - loss: 0.2378 - binary_accuracy: 0.5811\n",
            "Epoch 203/300\n",
            "66/66 [==============================] - 0s 1ms/step - loss: 0.2420 - binary_accuracy: 0.5564\n",
            "Epoch 204/300\n",
            "66/66 [==============================] - 0s 1ms/step - loss: 0.2407 - binary_accuracy: 0.5672\n",
            "Epoch 205/300\n",
            "66/66 [==============================] - 0s 1ms/step - loss: 0.2413 - binary_accuracy: 0.5681\n",
            "Epoch 206/300\n",
            "66/66 [==============================] - 0s 1ms/step - loss: 0.2387 - binary_accuracy: 0.5760\n",
            "Epoch 207/300\n",
            "66/66 [==============================] - 0s 1ms/step - loss: 0.2404 - binary_accuracy: 0.5729\n",
            "Epoch 208/300\n",
            "66/66 [==============================] - 0s 1ms/step - loss: 0.2418 - binary_accuracy: 0.5597\n",
            "Epoch 209/300\n",
            "66/66 [==============================] - 0s 1ms/step - loss: 0.2404 - binary_accuracy: 0.5639\n",
            "Epoch 210/300\n",
            "66/66 [==============================] - 0s 1ms/step - loss: 0.2419 - binary_accuracy: 0.5572\n",
            "Epoch 211/300\n",
            "66/66 [==============================] - 0s 1ms/step - loss: 0.2429 - binary_accuracy: 0.5621\n",
            "Epoch 212/300\n",
            "66/66 [==============================] - 0s 1ms/step - loss: 0.2408 - binary_accuracy: 0.5650\n",
            "Epoch 213/300\n",
            "66/66 [==============================] - 0s 1ms/step - loss: 0.2417 - binary_accuracy: 0.5766\n",
            "Epoch 214/300\n",
            "66/66 [==============================] - 0s 1ms/step - loss: 0.2399 - binary_accuracy: 0.5651\n",
            "Epoch 215/300\n",
            "66/66 [==============================] - 0s 1ms/step - loss: 0.2409 - binary_accuracy: 0.5530\n",
            "Epoch 216/300\n",
            "66/66 [==============================] - 0s 1ms/step - loss: 0.2376 - binary_accuracy: 0.5859\n",
            "Epoch 217/300\n",
            "66/66 [==============================] - 0s 1ms/step - loss: 0.2405 - binary_accuracy: 0.5791\n",
            "Epoch 218/300\n",
            "66/66 [==============================] - 0s 2ms/step - loss: 0.2391 - binary_accuracy: 0.5786\n",
            "Epoch 219/300\n",
            "66/66 [==============================] - 0s 1ms/step - loss: 0.2377 - binary_accuracy: 0.5768\n",
            "Epoch 220/300\n",
            "66/66 [==============================] - 0s 1ms/step - loss: 0.2393 - binary_accuracy: 0.5816\n",
            "Epoch 221/300\n",
            "66/66 [==============================] - 0s 1ms/step - loss: 0.2383 - binary_accuracy: 0.5882\n",
            "Epoch 222/300\n",
            "66/66 [==============================] - 0s 1ms/step - loss: 0.2419 - binary_accuracy: 0.5567\n",
            "Epoch 223/300\n",
            "66/66 [==============================] - 0s 1ms/step - loss: 0.2409 - binary_accuracy: 0.5648\n",
            "Epoch 224/300\n",
            "66/66 [==============================] - 0s 1ms/step - loss: 0.2397 - binary_accuracy: 0.5624\n",
            "Epoch 225/300\n",
            "66/66 [==============================] - 0s 1ms/step - loss: 0.2389 - binary_accuracy: 0.5810\n",
            "Epoch 226/300\n",
            "66/66 [==============================] - 0s 1ms/step - loss: 0.2412 - binary_accuracy: 0.5509\n",
            "Epoch 227/300\n",
            "66/66 [==============================] - 0s 1ms/step - loss: 0.2378 - binary_accuracy: 0.5799\n",
            "Epoch 228/300\n",
            "66/66 [==============================] - 0s 1ms/step - loss: 0.2412 - binary_accuracy: 0.5632\n",
            "Epoch 229/300\n",
            "66/66 [==============================] - 0s 1ms/step - loss: 0.2385 - binary_accuracy: 0.5864\n",
            "Epoch 230/300\n",
            "66/66 [==============================] - 0s 1ms/step - loss: 0.2383 - binary_accuracy: 0.5728\n",
            "Epoch 231/300\n",
            "66/66 [==============================] - 0s 1ms/step - loss: 0.2359 - binary_accuracy: 0.5812\n",
            "Epoch 232/300\n",
            "66/66 [==============================] - 0s 1ms/step - loss: 0.2370 - binary_accuracy: 0.5866\n",
            "Epoch 233/300\n",
            "66/66 [==============================] - 0s 1ms/step - loss: 0.2405 - binary_accuracy: 0.5682\n",
            "Epoch 234/300\n",
            "66/66 [==============================] - 0s 1ms/step - loss: 0.2404 - binary_accuracy: 0.5786\n",
            "Epoch 235/300\n",
            "66/66 [==============================] - 0s 1ms/step - loss: 0.2399 - binary_accuracy: 0.5676\n",
            "Epoch 236/300\n",
            "66/66 [==============================] - 0s 1ms/step - loss: 0.2385 - binary_accuracy: 0.5769\n",
            "Epoch 237/300\n",
            "66/66 [==============================] - 0s 1ms/step - loss: 0.2395 - binary_accuracy: 0.5790\n",
            "Epoch 238/300\n",
            "66/66 [==============================] - 0s 1ms/step - loss: 0.2410 - binary_accuracy: 0.5774\n",
            "Epoch 239/300\n",
            "66/66 [==============================] - 0s 1ms/step - loss: 0.2390 - binary_accuracy: 0.5820\n",
            "Epoch 240/300\n",
            "66/66 [==============================] - 0s 1ms/step - loss: 0.2388 - binary_accuracy: 0.5781\n",
            "Epoch 241/300\n",
            "66/66 [==============================] - 0s 1ms/step - loss: 0.2385 - binary_accuracy: 0.5903\n",
            "Epoch 242/300\n",
            "66/66 [==============================] - 0s 1ms/step - loss: 0.2406 - binary_accuracy: 0.5581\n",
            "Epoch 243/300\n",
            "66/66 [==============================] - 0s 1ms/step - loss: 0.2411 - binary_accuracy: 0.5625\n",
            "Epoch 244/300\n",
            "66/66 [==============================] - 0s 1ms/step - loss: 0.2385 - binary_accuracy: 0.5786\n",
            "Epoch 245/300\n",
            "66/66 [==============================] - 0s 1ms/step - loss: 0.2395 - binary_accuracy: 0.5704\n",
            "Epoch 246/300\n",
            "66/66 [==============================] - 0s 1ms/step - loss: 0.2357 - binary_accuracy: 0.6063\n",
            "Epoch 247/300\n",
            "66/66 [==============================] - 0s 1ms/step - loss: 0.2384 - binary_accuracy: 0.5883\n",
            "Epoch 248/300\n",
            "66/66 [==============================] - 0s 1ms/step - loss: 0.2420 - binary_accuracy: 0.5566\n",
            "Epoch 249/300\n",
            "66/66 [==============================] - 0s 1ms/step - loss: 0.2390 - binary_accuracy: 0.5896\n",
            "Epoch 250/300\n",
            "66/66 [==============================] - 0s 1ms/step - loss: 0.2386 - binary_accuracy: 0.5673\n",
            "Epoch 251/300\n",
            "66/66 [==============================] - 0s 1ms/step - loss: 0.2396 - binary_accuracy: 0.5840\n",
            "Epoch 252/300\n",
            "66/66 [==============================] - 0s 1ms/step - loss: 0.2410 - binary_accuracy: 0.5572\n",
            "Epoch 253/300\n",
            "66/66 [==============================] - 0s 1ms/step - loss: 0.2391 - binary_accuracy: 0.5677\n",
            "Epoch 254/300\n",
            "66/66 [==============================] - 0s 1ms/step - loss: 0.2374 - binary_accuracy: 0.5841\n",
            "Epoch 255/300\n",
            "66/66 [==============================] - 0s 1ms/step - loss: 0.2381 - binary_accuracy: 0.5623\n",
            "Epoch 256/300\n",
            "66/66 [==============================] - 0s 1ms/step - loss: 0.2393 - binary_accuracy: 0.5681\n",
            "Epoch 257/300\n",
            "66/66 [==============================] - 0s 1ms/step - loss: 0.2405 - binary_accuracy: 0.5651\n",
            "Epoch 258/300\n",
            "66/66 [==============================] - 0s 1ms/step - loss: 0.2407 - binary_accuracy: 0.5764\n",
            "Epoch 259/300\n",
            "66/66 [==============================] - 0s 1ms/step - loss: 0.2416 - binary_accuracy: 0.5746\n",
            "Epoch 260/300\n",
            "66/66 [==============================] - 0s 1ms/step - loss: 0.2385 - binary_accuracy: 0.5785\n",
            "Epoch 261/300\n",
            "66/66 [==============================] - 0s 1ms/step - loss: 0.2407 - binary_accuracy: 0.5641\n",
            "Epoch 262/300\n",
            "66/66 [==============================] - 0s 1ms/step - loss: 0.2438 - binary_accuracy: 0.5611\n",
            "Epoch 263/300\n",
            "66/66 [==============================] - 0s 1ms/step - loss: 0.2419 - binary_accuracy: 0.5684\n",
            "Epoch 264/300\n",
            "66/66 [==============================] - 0s 1ms/step - loss: 0.2388 - binary_accuracy: 0.5784\n",
            "Epoch 265/300\n",
            "66/66 [==============================] - 0s 1ms/step - loss: 0.2365 - binary_accuracy: 0.5824\n",
            "Epoch 266/300\n",
            "66/66 [==============================] - 0s 1ms/step - loss: 0.2385 - binary_accuracy: 0.5839\n",
            "Epoch 267/300\n",
            "66/66 [==============================] - 0s 1ms/step - loss: 0.2389 - binary_accuracy: 0.5743\n",
            "Epoch 268/300\n",
            "66/66 [==============================] - 0s 1ms/step - loss: 0.2401 - binary_accuracy: 0.5732\n",
            "Epoch 269/300\n",
            "66/66 [==============================] - 0s 1ms/step - loss: 0.2364 - binary_accuracy: 0.5944\n",
            "Epoch 270/300\n",
            "66/66 [==============================] - 0s 1ms/step - loss: 0.2373 - binary_accuracy: 0.5905\n",
            "Epoch 271/300\n",
            "66/66 [==============================] - 0s 1ms/step - loss: 0.2379 - binary_accuracy: 0.5783\n",
            "Epoch 272/300\n",
            "66/66 [==============================] - 0s 1ms/step - loss: 0.2410 - binary_accuracy: 0.5556\n",
            "Epoch 273/300\n",
            "66/66 [==============================] - 0s 1ms/step - loss: 0.2401 - binary_accuracy: 0.5667\n",
            "Epoch 274/300\n",
            "66/66 [==============================] - 0s 1ms/step - loss: 0.2399 - binary_accuracy: 0.5690\n",
            "Epoch 275/300\n",
            "66/66 [==============================] - 0s 1ms/step - loss: 0.2409 - binary_accuracy: 0.5690\n",
            "Epoch 276/300\n",
            "66/66 [==============================] - 0s 1ms/step - loss: 0.2393 - binary_accuracy: 0.5696\n",
            "Epoch 277/300\n",
            "66/66 [==============================] - 0s 1ms/step - loss: 0.2435 - binary_accuracy: 0.5632\n",
            "Epoch 278/300\n",
            "66/66 [==============================] - 0s 1ms/step - loss: 0.2359 - binary_accuracy: 0.5898\n",
            "Epoch 279/300\n",
            "66/66 [==============================] - 0s 1ms/step - loss: 0.2412 - binary_accuracy: 0.5660\n",
            "Epoch 280/300\n",
            "66/66 [==============================] - 0s 1ms/step - loss: 0.2353 - binary_accuracy: 0.6024\n",
            "Epoch 281/300\n",
            "66/66 [==============================] - 0s 1ms/step - loss: 0.2365 - binary_accuracy: 0.5962\n",
            "Epoch 282/300\n",
            "66/66 [==============================] - 0s 1ms/step - loss: 0.2426 - binary_accuracy: 0.5681\n",
            "Epoch 283/300\n",
            "66/66 [==============================] - 0s 1ms/step - loss: 0.2359 - binary_accuracy: 0.5854\n",
            "Epoch 284/300\n",
            "66/66 [==============================] - 0s 1ms/step - loss: 0.2378 - binary_accuracy: 0.5917\n",
            "Epoch 285/300\n",
            "66/66 [==============================] - 0s 1ms/step - loss: 0.2370 - binary_accuracy: 0.5815\n",
            "Epoch 286/300\n",
            "66/66 [==============================] - 0s 1ms/step - loss: 0.2358 - binary_accuracy: 0.5837\n",
            "Epoch 287/300\n",
            "66/66 [==============================] - 0s 1ms/step - loss: 0.2400 - binary_accuracy: 0.5830\n",
            "Epoch 288/300\n",
            "66/66 [==============================] - 0s 1ms/step - loss: 0.2409 - binary_accuracy: 0.5676\n",
            "Epoch 289/300\n",
            "66/66 [==============================] - 0s 1ms/step - loss: 0.2429 - binary_accuracy: 0.5699\n",
            "Epoch 290/300\n",
            "66/66 [==============================] - 0s 1ms/step - loss: 0.2389 - binary_accuracy: 0.5754\n",
            "Epoch 291/300\n",
            "66/66 [==============================] - 0s 1ms/step - loss: 0.2356 - binary_accuracy: 0.5851\n",
            "Epoch 292/300\n",
            "66/66 [==============================] - 0s 1ms/step - loss: 0.2342 - binary_accuracy: 0.5970\n",
            "Epoch 293/300\n",
            "66/66 [==============================] - 0s 1ms/step - loss: 0.2406 - binary_accuracy: 0.5744\n",
            "Epoch 294/300\n",
            "66/66 [==============================] - 0s 1ms/step - loss: 0.2447 - binary_accuracy: 0.5349\n",
            "Epoch 295/300\n",
            "66/66 [==============================] - 0s 1ms/step - loss: 0.2396 - binary_accuracy: 0.5983\n",
            "Epoch 296/300\n",
            "66/66 [==============================] - 0s 1ms/step - loss: 0.2394 - binary_accuracy: 0.5781\n",
            "Epoch 297/300\n",
            "66/66 [==============================] - 0s 1ms/step - loss: 0.2399 - binary_accuracy: 0.5678\n",
            "Epoch 298/300\n",
            "66/66 [==============================] - 0s 1ms/step - loss: 0.2360 - binary_accuracy: 0.5942\n",
            "Epoch 299/300\n",
            "66/66 [==============================] - 0s 1ms/step - loss: 0.2405 - binary_accuracy: 0.5803\n",
            "Epoch 300/300\n",
            "66/66 [==============================] - 0s 1ms/step - loss: 0.2371 - binary_accuracy: 0.5681\n"
          ],
          "name": "stdout"
        },
        {
          "output_type": "execute_result",
          "data": {
            "text/plain": [
              "<tensorflow.python.keras.callbacks.History at 0x7fccd4bde2d0>"
            ]
          },
          "metadata": {
            "tags": []
          },
          "execution_count": 68
        }
      ]
    },
    {
      "cell_type": "code",
      "metadata": {
        "id": "ymp9aozr2Shq",
        "colab": {
          "base_uri": "https://localhost:8080/"
        },
        "outputId": "67d17048-802d-44b7-e7c8-09944cadadb7"
      },
      "source": [
        "y_pred_RN = RN_clf.predict_proba(df_test_validation2.drop(\"CRRbin\",axis=1))"
      ],
      "execution_count": 69,
      "outputs": [
        {
          "output_type": "stream",
          "text": [
            "/usr/local/lib/python3.7/dist-packages/tensorflow/python/keras/engine/sequential.py:425: UserWarning: `model.predict_proba()` is deprecated and will be removed after 2021-01-01. Please use `model.predict()` instead.\n",
            "  warnings.warn('`model.predict_proba()` is deprecated and '\n"
          ],
          "name": "stderr"
        }
      ]
    },
    {
      "cell_type": "code",
      "metadata": {
        "colab": {
          "base_uri": "https://localhost:8080/"
        },
        "id": "QngOCIYMUZmv",
        "outputId": "d1251cef-f364-43e0-d237-1962272cd7b0"
      },
      "source": [
        "print(\"Matriz de Confusión Alfa 0.25\")\n",
        "print(confusion_matrix(y_true2,y_pred_RN[:,0]>0.25))"
      ],
      "execution_count": 70,
      "outputs": [
        {
          "output_type": "stream",
          "text": [
            "Matriz de Confusión Alfa 0.25\n",
            "[[  1 506]\n",
            " [  2 388]]\n"
          ],
          "name": "stdout"
        }
      ]
    },
    {
      "cell_type": "code",
      "metadata": {
        "colab": {
          "base_uri": "https://localhost:8080/"
        },
        "id": "uqvIVJyYUeQm",
        "outputId": "b5132e53-5cf0-49b6-cd42-90f9d498566a"
      },
      "source": [
        "alfa = 0.02\n",
        "recalls = np.zeros(100)\n",
        "precisions= np.zeros(100)\n",
        "FPR = np.zeros(100)\n",
        "alfas = np.linspace(0,1,100)\n",
        "for idx,alfa in enumerate(alfas):\n",
        "    tn, fp, fn, tp = confusion_matrix(y_true2,y_pred_RN[:,0]>alfa).ravel()\n",
        "    recalls[idx] = (tp/(tp+fn))\n",
        "    precisions[idx] = (tp/(tp+fp))\n",
        "    FPR[idx]= (fp/(fp+tn))"
      ],
      "execution_count": 71,
      "outputs": [
        {
          "output_type": "stream",
          "text": [
            "/usr/local/lib/python3.7/dist-packages/ipykernel_launcher.py:9: RuntimeWarning: invalid value encountered in long_scalars\n",
            "  if __name__ == '__main__':\n"
          ],
          "name": "stderr"
        }
      ]
    },
    {
      "cell_type": "code",
      "metadata": {
        "colab": {
          "base_uri": "https://localhost:8080/"
        },
        "id": "bBgkGY4oUt3X",
        "outputId": "d8a283f1-3da5-4ecf-b543-e6b2d1777f4b"
      },
      "source": [
        "print(\"Para un alfa 0.25 --> Valor de recall\", recalls[25], \"Valor de Precisions\", precisions[25], \"Valor de FPR\", FPR[25])\n",
        "print(\"Para un alfa 0.5 --> Valor de recall\", recalls[50], \"Valor de Precisions\", precisions[50], \"Valor de FPR\", FPR[50])\n",
        "print(\"Para un alfa 0.75 --> Valor de recall\", recalls[75], \"Valor de Precisions\", precisions[75], \"Valor de FPR\", FPR[75])"
      ],
      "execution_count": 72,
      "outputs": [
        {
          "output_type": "stream",
          "text": [
            "Para un alfa 0.25 --> Valor de recall 0.9948717948717949 Valor de Precisions 0.43400447427293065 Valor de FPR 0.9980276134122288\n",
            "Para un alfa 0.5 --> Valor de recall 0.24871794871794872 Valor de Precisions 0.49743589743589745 Valor de FPR 0.1932938856015779\n",
            "Para un alfa 0.75 --> Valor de recall 0.0 Valor de Precisions nan Valor de FPR 0.0\n"
          ],
          "name": "stdout"
        }
      ]
    },
    {
      "cell_type": "code",
      "metadata": {
        "colab": {
          "base_uri": "https://localhost:8080/",
          "height": 350
        },
        "id": "x0uVYCoPUyX_",
        "outputId": "a862b2e1-df40-4564-dae1-427b623312e5"
      },
      "source": [
        "plt.figure(figsize=[5,5])\n",
        "plt.plot(FPR,recalls)\n",
        "plt.title(\"Curva ROC RN CRR\")\n",
        "plt.xlabel(\"FPR\")\n",
        "plt.ylabel(\"TPR\")\n",
        "plt.show()"
      ],
      "execution_count": 74,
      "outputs": [
        {
          "output_type": "display_data",
          "data": {
            "image/png": "[encoded data removed]",
            "text/plain": [
              "<Figure size 360x360 with 1 Axes>"
            ]
          },
          "metadata": {
            "tags": [],
            "needs_background": "light"
          }
        }
      ]
    },
    {
      "cell_type": "code",
      "metadata": {
        "id": "aWJtReSWm5-F"
      },
      "source": [
        ""
      ],
      "execution_count": null,
      "outputs": []
    }
  ]
}