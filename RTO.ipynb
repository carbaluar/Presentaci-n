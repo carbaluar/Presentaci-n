{
  "nbformat": 4,
  "nbformat_minor": 0,
  "metadata": {
    "colab": {
      "name": "RTO",
      "provenance": [],
      "collapsed_sections": [],
      "toc_visible": true,
      "mount_file_id": "197raptSaIHCh4CJCDM929P0in5fOSOQK",
      "authorship_tag": "ABX9TyMdZtDBX0ERtPwqcG8wXq7p",
      "include_colab_link": true
    },
    "kernelspec": {
      "display_name": "Python 3",
      "name": "python3"
    },
    "language_info": {
      "name": "python"
    }
  },
  "cells": [
    {
      "cell_type": "markdown",
      "metadata": {
        "id": "view-in-github",
        "colab_type": "text"
      },
      "source": [
        "<a href=\"https://colab.research.google.com/github/carbaluar/Presentaci-n/blob/main/RTO.ipynb\" target=\"_parent\"><img src=\"https://colab.research.google.com/assets/colab-badge.svg\" alt=\"Open In Colab\"/></a>"
      ]
    },
    {
      "cell_type": "markdown",
      "metadata": {
        "id": "Cemm7EHNji8f"
      },
      "source": [
        "### Generamos la base de Datos"
      ]
    },
    {
      "cell_type": "code",
      "metadata": {
        "id": "64ZeWuTWmaB4"
      },
      "source": [
        "import pandas as pd\n",
        "from matplotlib import pyplot as plt\n",
        "import sqlite3\n",
        "import datetime"
      ],
      "execution_count": 3,
      "outputs": []
    },
    {
      "cell_type": "code",
      "metadata": {
        "colab": {
          "base_uri": "https://localhost:8080/",
          "height": 198
        },
        "id": "Z7y-pSf8jnOI",
        "outputId": "466105e3-82b6-47a1-ee8c-87fdcaeb34ee"
      },
      "source": [
        "\n",
        "dfAL = pd.read_excel('/content/DBRTO.xlsx')\n",
        "dfAL.head()"
      ],
      "execution_count": 4,
      "outputs": [
        {
          "output_type": "execute_result",
          "data": {
            "text/html": [
              "<div>\n",
              "<style scoped>\n",
              "    .dataframe tbody tr th:only-of-type {\n",
              "        vertical-align: middle;\n",
              "    }\n",
              "\n",
              "    .dataframe tbody tr th {\n",
              "        vertical-align: top;\n",
              "    }\n",
              "\n",
              "    .dataframe thead th {\n",
              "        text-align: right;\n",
              "    }\n",
              "</style>\n",
              "<table border=\"1\" class=\"dataframe\">\n",
              "  <thead>\n",
              "    <tr style=\"text-align: right;\">\n",
              "      <th></th>\n",
              "      <th>Timestamp</th>\n",
              "      <th>in CADC</th>\n",
              "      <th>out CADC</th>\n",
              "      <th>T FUB</th>\n",
              "      <th>T406</th>\n",
              "      <th>Velocidad M140</th>\n",
              "      <th>HAG</th>\n",
              "      <th>R</th>\n",
              "    </tr>\n",
              "  </thead>\n",
              "  <tbody>\n",
              "    <tr>\n",
              "      <th>0</th>\n",
              "      <td>2020-11-03 09:00:00</td>\n",
              "      <td>206.673612</td>\n",
              "      <td>224.758101</td>\n",
              "      <td>195.818280</td>\n",
              "      <td>138.064697</td>\n",
              "      <td>8.898748</td>\n",
              "      <td>73.980766</td>\n",
              "      <td>0</td>\n",
              "    </tr>\n",
              "    <tr>\n",
              "      <th>1</th>\n",
              "      <td>2020-11-03 09:30:00</td>\n",
              "      <td>209.951967</td>\n",
              "      <td>225.060193</td>\n",
              "      <td>200.993333</td>\n",
              "      <td>144.010928</td>\n",
              "      <td>27.986787</td>\n",
              "      <td>156.013889</td>\n",
              "      <td>0</td>\n",
              "    </tr>\n",
              "    <tr>\n",
              "      <th>2</th>\n",
              "      <td>2020-11-03 10:00:00</td>\n",
              "      <td>212.247973</td>\n",
              "      <td>224.728009</td>\n",
              "      <td>207.600000</td>\n",
              "      <td>157.628570</td>\n",
              "      <td>28.104202</td>\n",
              "      <td>173.410031</td>\n",
              "      <td>1</td>\n",
              "    </tr>\n",
              "    <tr>\n",
              "      <th>3</th>\n",
              "      <td>2020-11-03 10:30:00</td>\n",
              "      <td>209.301215</td>\n",
              "      <td>224.422448</td>\n",
              "      <td>202.366667</td>\n",
              "      <td>162.052813</td>\n",
              "      <td>31.679949</td>\n",
              "      <td>187.017857</td>\n",
              "      <td>1</td>\n",
              "    </tr>\n",
              "    <tr>\n",
              "      <th>4</th>\n",
              "      <td>2020-11-03 11:00:00</td>\n",
              "      <td>207.480325</td>\n",
              "      <td>224.586800</td>\n",
              "      <td>197.988889</td>\n",
              "      <td>164.027985</td>\n",
              "      <td>32.133517</td>\n",
              "      <td>202.090097</td>\n",
              "      <td>1</td>\n",
              "    </tr>\n",
              "  </tbody>\n",
              "</table>\n",
              "</div>"
            ],
            "text/plain": [
              "            Timestamp     in CADC    out CADC  ...  Velocidad M140         HAG  R\n",
              "0 2020-11-03 09:00:00  206.673612  224.758101  ...        8.898748   73.980766  0\n",
              "1 2020-11-03 09:30:00  209.951967  225.060193  ...       27.986787  156.013889  0\n",
              "2 2020-11-03 10:00:00  212.247973  224.728009  ...       28.104202  173.410031  1\n",
              "3 2020-11-03 10:30:00  209.301215  224.422448  ...       31.679949  187.017857  1\n",
              "4 2020-11-03 11:00:00  207.480325  224.586800  ...       32.133517  202.090097  1\n",
              "\n",
              "[5 rows x 8 columns]"
            ]
          },
          "metadata": {
            "tags": []
          },
          "execution_count": 4
        }
      ]
    },
    {
      "cell_type": "code",
      "metadata": {
        "colab": {
          "base_uri": "https://localhost:8080/"
        },
        "id": "8-4S3bIuwrwN",
        "outputId": "b9ce3b2c-7f73-4f18-b2d8-803a72e663bb"
      },
      "source": [
        "dfAL.info()"
      ],
      "execution_count": 5,
      "outputs": [
        {
          "output_type": "stream",
          "text": [
            "<class 'pandas.core.frame.DataFrame'>\n",
            "RangeIndex: 3911 entries, 0 to 3910\n",
            "Data columns (total 8 columns):\n",
            " #   Column          Non-Null Count  Dtype         \n",
            "---  ------          --------------  -----         \n",
            " 0   Timestamp       3911 non-null   datetime64[ns]\n",
            " 1   in CADC         3911 non-null   float64       \n",
            " 2   out CADC        3911 non-null   float64       \n",
            " 3   T FUB           3911 non-null   float64       \n",
            " 4   T406            3911 non-null   float64       \n",
            " 5   Velocidad M140  3911 non-null   float64       \n",
            " 6   HAG             3911 non-null   float64       \n",
            " 7   R               3911 non-null   int64         \n",
            "dtypes: datetime64[ns](1), float64(6), int64(1)\n",
            "memory usage: 244.6 KB\n"
          ],
          "name": "stdout"
        }
      ]
    },
    {
      "cell_type": "markdown",
      "metadata": {
        "id": "FBR-96GT0Rky"
      },
      "source": [
        "### Discretizar Datos en Test/Train/Validation"
      ]
    },
    {
      "cell_type": "code",
      "metadata": {
        "id": "aCXH9AwXmkIn"
      },
      "source": [
        "from sklearn.model_selection import train_test_split"
      ],
      "execution_count": 6,
      "outputs": []
    },
    {
      "cell_type": "code",
      "metadata": {
        "id": "1hmkmQCTp47Z"
      },
      "source": [
        "# divido entre train y test/validación en 70%/30%\n",
        "dfAL_train, dfAL_test_validation = train_test_split(dfAL, train_size=0.7, stratify = dfAL[\"R\"])"
      ],
      "execution_count": 7,
      "outputs": []
    },
    {
      "cell_type": "code",
      "metadata": {
        "id": "bP4KTUXSq7F7"
      },
      "source": [
        "\n",
        "# divido entre train y test/validación en 15% y 15%\n",
        "dfAL_test, dfAL_validation = train_test_split(dfAL_test_validation, train_size=0.5, stratify = dfAL_test_validation[\"R\"])"
      ],
      "execution_count": 8,
      "outputs": []
    },
    {
      "cell_type": "code",
      "metadata": {
        "colab": {
          "base_uri": "https://localhost:8080/"
        },
        "id": "UUdZsA3ZtHZh",
        "outputId": "277f5db4-1a20-4f4e-e6ea-805a39d0cecb"
      },
      "source": [
        "dfAL_train.shape"
      ],
      "execution_count": 9,
      "outputs": [
        {
          "output_type": "execute_result",
          "data": {
            "text/plain": [
              "(2737, 8)"
            ]
          },
          "metadata": {
            "tags": []
          },
          "execution_count": 9
        }
      ]
    },
    {
      "cell_type": "code",
      "metadata": {
        "colab": {
          "base_uri": "https://localhost:8080/"
        },
        "id": "S756st1stL4g",
        "outputId": "d423b956-c2fc-4192-f278-e01563ff1d1c"
      },
      "source": [
        "dfAL_test.shape"
      ],
      "execution_count": 10,
      "outputs": [
        {
          "output_type": "execute_result",
          "data": {
            "text/plain": [
              "(587, 8)"
            ]
          },
          "metadata": {
            "tags": []
          },
          "execution_count": 10
        }
      ]
    },
    {
      "cell_type": "code",
      "metadata": {
        "colab": {
          "base_uri": "https://localhost:8080/"
        },
        "id": "E7_CuF_6tTaN",
        "outputId": "ada10b84-a788-45c6-8cfe-9291810aca68"
      },
      "source": [
        "dfAL_validation.shape"
      ],
      "execution_count": 11,
      "outputs": [
        {
          "output_type": "execute_result",
          "data": {
            "text/plain": [
              "(587, 8)"
            ]
          },
          "metadata": {
            "tags": []
          },
          "execution_count": 11
        }
      ]
    },
    {
      "cell_type": "markdown",
      "metadata": {
        "id": "Z0UqS2UP0h7W"
      },
      "source": [
        "### Definir Modelos"
      ]
    },
    {
      "cell_type": "markdown",
      "metadata": {
        "id": "ycFpnHvC-u4L"
      },
      "source": [
        "#### Modelo Gaussiano"
      ]
    },
    {
      "cell_type": "code",
      "metadata": {
        "id": "upJiH-MItXVo"
      },
      "source": [
        "from sklearn.naive_bayes import GaussianNB"
      ],
      "execution_count": 12,
      "outputs": []
    },
    {
      "cell_type": "code",
      "metadata": {
        "id": "5wYXULIItkga"
      },
      "source": [
        "clf = GaussianNB(priors=None, var_smoothing= 0.1)"
      ],
      "execution_count": 13,
      "outputs": []
    },
    {
      "cell_type": "code",
      "metadata": {
        "id": "d_F1k8rCt4X_"
      },
      "source": [
        "dfAL_train2 = dfAL_train[[\"out CADC\",\"T FUB\",\"HAG\",\"R\"]].copy()"
      ],
      "execution_count": 14,
      "outputs": []
    },
    {
      "cell_type": "code",
      "metadata": {
        "colab": {
          "base_uri": "https://localhost:8080/"
        },
        "id": "MOd820hbu3gh",
        "outputId": "609d0780-2d22-4d6e-e7c8-45f044ed7066"
      },
      "source": [
        "clf.fit(dfAL_train2.drop(\"R\",axis=1), dfAL_train2[\"R\"])"
      ],
      "execution_count": 15,
      "outputs": [
        {
          "output_type": "execute_result",
          "data": {
            "text/plain": [
              "GaussianNB(priors=None, var_smoothing=0.1)"
            ]
          },
          "metadata": {
            "tags": []
          },
          "execution_count": 15
        }
      ]
    },
    {
      "cell_type": "code",
      "metadata": {
        "colab": {
          "base_uri": "https://localhost:8080/"
        },
        "id": "Rbutu0yCvF_l",
        "outputId": "a89e9e07-0020-4c23-bf17-1d28b7e1e4a1"
      },
      "source": [
        "clf.score(dfAL_train2.drop(\"R\",axis=1), dfAL_train2[\"R\"])"
      ],
      "execution_count": 16,
      "outputs": [
        {
          "output_type": "execute_result",
          "data": {
            "text/plain": [
              "0.8220679576178297"
            ]
          },
          "metadata": {
            "tags": []
          },
          "execution_count": 16
        }
      ]
    },
    {
      "cell_type": "code",
      "metadata": {
        "id": "DbrC7RgZv9GW"
      },
      "source": [
        "dfAL_validation2 = dfAL_validation[[\"out CADC\",\"T FUB\",\"HAG\",\"R\"]].copy()\n",
        "dfAL_test_validation2 = dfAL_test_validation[[\"out CADC\",\"T FUB\",\"HAG\",\"R\"]].copy()"
      ],
      "execution_count": 17,
      "outputs": []
    },
    {
      "cell_type": "code",
      "metadata": {
        "colab": {
          "base_uri": "https://localhost:8080/"
        },
        "id": "7EEvVjOHwDLZ",
        "outputId": "38c95c6c-93f6-48ea-ed16-4b35198fc6d7"
      },
      "source": [
        "clf.score(dfAL_validation2.drop(\"R\",axis=1), dfAL_validation2[\"R\"])\n"
      ],
      "execution_count": 18,
      "outputs": [
        {
          "output_type": "execute_result",
          "data": {
            "text/plain": [
              "0.807495741056218"
            ]
          },
          "metadata": {
            "tags": []
          },
          "execution_count": 18
        }
      ]
    },
    {
      "cell_type": "code",
      "metadata": {
        "colab": {
          "base_uri": "https://localhost:8080/"
        },
        "id": "whumwuztFYCy",
        "outputId": "3734c343-cb01-4677-c9f5-e4b4cdefc584"
      },
      "source": [
        "clf.score(dfAL_test_validation2.drop(\"R\",axis=1), dfAL_test_validation2[\"R\"])"
      ],
      "execution_count": 19,
      "outputs": [
        {
          "output_type": "execute_result",
          "data": {
            "text/plain": [
              "0.817717206132879"
            ]
          },
          "metadata": {
            "tags": []
          },
          "execution_count": 19
        }
      ]
    },
    {
      "cell_type": "code",
      "metadata": {
        "id": "gHJiQhyiwNFd"
      },
      "source": [
        "BuscaSmoot = [0.1, 0.001, 0.0001, 0.00001, 0.000001, 0.000000000001]"
      ],
      "execution_count": 20,
      "outputs": []
    },
    {
      "cell_type": "code",
      "metadata": {
        "colab": {
          "base_uri": "https://localhost:8080/"
        },
        "id": "J3MYNSY8yn3z",
        "outputId": "69ac0b38-f457-400d-e635-c892c3b9584d"
      },
      "source": [
        "scores = list()\n",
        "for busca in BuscaSmoot:\n",
        "    clf = GaussianNB(var_smoothing = busca)\n",
        "    clf.fit(dfAL_train2.drop(\"R\",axis=1), dfAL_train2[\"R\"])\n",
        "    scores.append(clf.score(dfAL_validation2.drop(\"R\",axis=1), dfAL_validation2[\"R\"]))\n",
        "\n",
        "print(\"Máximo score con un smoothing de: \", BuscaSmoot[scores.index(max(scores))], \"--> valor de Score: \", max(scores))"
      ],
      "execution_count": 21,
      "outputs": [
        {
          "output_type": "stream",
          "text": [
            "Máximo score con un smoothing de:  0.1 --> valor de Score:  0.807495741056218\n"
          ],
          "name": "stdout"
        }
      ]
    },
    {
      "cell_type": "code",
      "metadata": {
        "colab": {
          "base_uri": "https://localhost:8080/",
          "height": 198
        },
        "id": "IE5lH6kb-_PX",
        "outputId": "b5f1fec7-3db6-4c22-8041-5ec1b7756d91"
      },
      "source": [
        "from sklearn.metrics import confusion_matrix, roc_auc_score\n",
        "import numpy as np\n",
        "dfAL_train2.head()"
      ],
      "execution_count": 22,
      "outputs": [
        {
          "output_type": "execute_result",
          "data": {
            "text/html": [
              "<div>\n",
              "<style scoped>\n",
              "    .dataframe tbody tr th:only-of-type {\n",
              "        vertical-align: middle;\n",
              "    }\n",
              "\n",
              "    .dataframe tbody tr th {\n",
              "        vertical-align: top;\n",
              "    }\n",
              "\n",
              "    .dataframe thead th {\n",
              "        text-align: right;\n",
              "    }\n",
              "</style>\n",
              "<table border=\"1\" class=\"dataframe\">\n",
              "  <thead>\n",
              "    <tr style=\"text-align: right;\">\n",
              "      <th></th>\n",
              "      <th>out CADC</th>\n",
              "      <th>T FUB</th>\n",
              "      <th>HAG</th>\n",
              "      <th>R</th>\n",
              "    </tr>\n",
              "  </thead>\n",
              "  <tbody>\n",
              "    <tr>\n",
              "      <th>3053</th>\n",
              "      <td>190.619213</td>\n",
              "      <td>188.000000</td>\n",
              "      <td>215.387032</td>\n",
              "      <td>0</td>\n",
              "    </tr>\n",
              "    <tr>\n",
              "      <th>2625</th>\n",
              "      <td>199.071180</td>\n",
              "      <td>189.844444</td>\n",
              "      <td>215.179454</td>\n",
              "      <td>0</td>\n",
              "    </tr>\n",
              "    <tr>\n",
              "      <th>867</th>\n",
              "      <td>195.437501</td>\n",
              "      <td>193.276577</td>\n",
              "      <td>214.409091</td>\n",
              "      <td>0</td>\n",
              "    </tr>\n",
              "    <tr>\n",
              "      <th>933</th>\n",
              "      <td>195.564816</td>\n",
              "      <td>193.000000</td>\n",
              "      <td>193.169444</td>\n",
              "      <td>0</td>\n",
              "    </tr>\n",
              "    <tr>\n",
              "      <th>994</th>\n",
              "      <td>225.724539</td>\n",
              "      <td>202.197980</td>\n",
              "      <td>200.567957</td>\n",
              "      <td>1</td>\n",
              "    </tr>\n",
              "  </tbody>\n",
              "</table>\n",
              "</div>"
            ],
            "text/plain": [
              "        out CADC       T FUB         HAG  R\n",
              "3053  190.619213  188.000000  215.387032  0\n",
              "2625  199.071180  189.844444  215.179454  0\n",
              "867   195.437501  193.276577  214.409091  0\n",
              "933   195.564816  193.000000  193.169444  0\n",
              "994   225.724539  202.197980  200.567957  1"
            ]
          },
          "metadata": {
            "tags": []
          },
          "execution_count": 22
        }
      ]
    },
    {
      "cell_type": "code",
      "metadata": {
        "colab": {
          "base_uri": "https://localhost:8080/"
        },
        "id": "juIxOtWr_Rnp",
        "outputId": "ba860e77-2234-4713-c52b-a486d458a3e8"
      },
      "source": [
        "clf.predict(np.array([[195,195,235]]))"
      ],
      "execution_count": 23,
      "outputs": [
        {
          "output_type": "execute_result",
          "data": {
            "text/plain": [
              "array([0])"
            ]
          },
          "metadata": {
            "tags": []
          },
          "execution_count": 23
        }
      ]
    },
    {
      "cell_type": "markdown",
      "metadata": {
        "id": "OrcyJwKEC38-"
      },
      "source": [
        "Matriz de Confusión "
      ]
    },
    {
      "cell_type": "code",
      "metadata": {
        "id": "J8iyTRBIC5xk"
      },
      "source": [
        "y_true = 1*np.array(dfAL_validation2[\"R\"])"
      ],
      "execution_count": 24,
      "outputs": []
    },
    {
      "cell_type": "code",
      "metadata": {
        "id": "wVwZW5lmFvfT"
      },
      "source": [
        "y_true2 = 1*np.array(dfAL_test_validation2[\"R\"])"
      ],
      "execution_count": 25,
      "outputs": []
    },
    {
      "cell_type": "code",
      "metadata": {
        "id": "TkE3o2HsDgpi"
      },
      "source": [
        "y_pred = clf.predict_proba(dfAL_validation2.drop(\"R\",axis=1))"
      ],
      "execution_count": 26,
      "outputs": []
    },
    {
      "cell_type": "code",
      "metadata": {
        "id": "wQkbaVazF1Qz"
      },
      "source": [
        "y_pred2 = clf.predict_proba(dfAL_test_validation2.drop(\"R\",axis=1))"
      ],
      "execution_count": 27,
      "outputs": []
    },
    {
      "cell_type": "code",
      "metadata": {
        "colab": {
          "base_uri": "https://localhost:8080/"
        },
        "id": "Akt8DwPEDr4-",
        "outputId": "43783312-22fe-4bef-cf07-4ee223350be0"
      },
      "source": [
        "print(\"Matriz de Confusión Alfa 0.25\")\n",
        "print(confusion_matrix(y_true,y_pred[:,1]>0.25))"
      ],
      "execution_count": 28,
      "outputs": [
        {
          "output_type": "stream",
          "text": [
            "Matriz de Confusión Alfa 0.25\n",
            "[[247  74]\n",
            " [ 41 225]]\n"
          ],
          "name": "stdout"
        }
      ]
    },
    {
      "cell_type": "code",
      "metadata": {
        "id": "kIc_W0Da9O_K"
      },
      "source": [
        "from sklearn.metrics import fbeta_score"
      ],
      "execution_count": 29,
      "outputs": []
    },
    {
      "cell_type": "code",
      "metadata": {
        "colab": {
          "base_uri": "https://localhost:8080/"
        },
        "id": "WeSuNZlv9aO9",
        "outputId": "bcfac45c-3b1e-4e0c-870c-f2860ce97b06"
      },
      "source": [
        "print(\"Valor de F1 para un alfa= 0.25 -->\", fbeta_score(y_true, y_pred[:,1]>0.25, beta=1))"
      ],
      "execution_count": 30,
      "outputs": [
        {
          "output_type": "stream",
          "text": [
            "Valor de F1 para un alfa= 0.25 --> 0.7964601769911505\n"
          ],
          "name": "stdout"
        }
      ]
    },
    {
      "cell_type": "code",
      "metadata": {
        "colab": {
          "base_uri": "https://localhost:8080/"
        },
        "id": "kgJj6Znf9noj",
        "outputId": "fd8c6908-40d2-4a03-c531-5f92a4ed5e46"
      },
      "source": [
        "print(\"Valor de Fbetascore para un alfa= 0.25 -->\", fbeta_score(y_true, y_pred[:,1]>0.25, beta=2))"
      ],
      "execution_count": 31,
      "outputs": [
        {
          "output_type": "stream",
          "text": [
            "Valor de Fbetascore para un alfa= 0.25 --> 0.8253851797505503\n"
          ],
          "name": "stdout"
        }
      ]
    },
    {
      "cell_type": "code",
      "metadata": {
        "colab": {
          "base_uri": "https://localhost:8080/"
        },
        "id": "AMxjmqMNF81X",
        "outputId": "7c214dc8-3146-403e-9ec8-ba52c4248e58"
      },
      "source": [
        "print(\"Matriz de Confusión Alfa 0.25\")\n",
        "print(confusion_matrix(y_true2,y_pred2[:,1]>0.25))"
      ],
      "execution_count": 32,
      "outputs": [
        {
          "output_type": "stream",
          "text": [
            "Matriz de Confusión Alfa 0.25\n",
            "[[503 140]\n",
            " [ 73 458]]\n"
          ],
          "name": "stdout"
        }
      ]
    },
    {
      "cell_type": "code",
      "metadata": {
        "colab": {
          "base_uri": "https://localhost:8080/"
        },
        "id": "NAihpKoIEF7d",
        "outputId": "cdc2b95a-c6cf-42cf-ac81-107b7b888939"
      },
      "source": [
        "alfa = 0.02\n",
        "recalls = np.zeros(100)\n",
        "precisions= np.zeros(100)\n",
        "FPR = np.zeros(100)\n",
        "alfas = np.linspace(0,1,100)\n",
        "for idx,alfa in enumerate(alfas):\n",
        "    tn, fp, fn, tp = confusion_matrix(y_true,y_pred[:,1]>alfa).ravel()\n",
        "    recalls[idx] = (tp/(tp+fn))\n",
        "    precisions[idx] = (tp/(tp+fp))\n",
        "    FPR[idx]= (fp/(fp+tn))"
      ],
      "execution_count": 33,
      "outputs": [
        {
          "output_type": "stream",
          "text": [
            "/usr/local/lib/python3.7/dist-packages/ipykernel_launcher.py:9: RuntimeWarning: invalid value encountered in long_scalars\n",
            "  if __name__ == '__main__':\n"
          ],
          "name": "stderr"
        }
      ]
    },
    {
      "cell_type": "code",
      "metadata": {
        "colab": {
          "base_uri": "https://localhost:8080/"
        },
        "id": "sY1WmUCcGQiI",
        "outputId": "fc61c015-5b27-403e-b2b2-2b3b84b2b0ba"
      },
      "source": [
        "alfa = 0.02\n",
        "recalls = np.zeros(100)\n",
        "precisions= np.zeros(100)\n",
        "FPR = np.zeros(100)\n",
        "alfas = np.linspace(0,1,100)\n",
        "for idx,alfa in enumerate(alfas):\n",
        "    tn, fp, fn, tp = confusion_matrix(y_true2,y_pred2[:,1]>alfa).ravel()\n",
        "    recalls[idx] = (tp/(tp+fn))\n",
        "    precisions[idx] = (tp/(tp+fp))\n",
        "    FPR[idx]= (fp/(fp+tn))"
      ],
      "execution_count": 34,
      "outputs": [
        {
          "output_type": "stream",
          "text": [
            "/usr/local/lib/python3.7/dist-packages/ipykernel_launcher.py:9: RuntimeWarning: invalid value encountered in long_scalars\n",
            "  if __name__ == '__main__':\n"
          ],
          "name": "stderr"
        }
      ]
    },
    {
      "cell_type": "markdown",
      "metadata": {
        "id": "z90oCT_h01wb"
      },
      "source": [
        "Recall/Precision"
      ]
    },
    {
      "cell_type": "code",
      "metadata": {
        "colab": {
          "base_uri": "https://localhost:8080/"
        },
        "id": "kP_jb-1aETr7",
        "outputId": "e6a6e6cf-b3c6-40fc-9849-615f8203596a"
      },
      "source": [
        "print(\"Para un alfa 0.25 --> Valor de recall\", recalls[25], \"Valor de Precisions\", precisions[25], \"Valor de FPR\", FPR[25])\n",
        "print(\"Para un alfa 0.5 --> Valor de recall\", recalls[50], \"Valor de Precisions\", precisions[50], \"Valor de FPR\", FPR[50])\n",
        "print(\"Para un alfa 0.75 --> Valor de recall\", recalls[75], \"Valor de Precisions\", precisions[75], \"Valor de FPR\", FPR[75])"
      ],
      "execution_count": 35,
      "outputs": [
        {
          "output_type": "stream",
          "text": [
            "Para un alfa 0.25 --> Valor de recall 0.8606403013182674 Valor de Precisions 0.7680672268907563 Valor de FPR 0.21461897356143078\n",
            "Para un alfa 0.5 --> Valor de recall 0.7777777777777778 Valor de Precisions 0.8113948919449901 Valor de FPR 0.14930015552099535\n",
            "Para un alfa 0.75 --> Valor de recall 0.7062146892655368 Valor de Precisions 0.8445945945945946 Valor de FPR 0.10730948678071539\n"
          ],
          "name": "stdout"
        }
      ]
    },
    {
      "cell_type": "code",
      "metadata": {
        "id": "nIHsn2pkGacm"
      },
      "source": [
        ""
      ],
      "execution_count": 35,
      "outputs": []
    },
    {
      "cell_type": "markdown",
      "metadata": {
        "id": "iO1tqDQo076h"
      },
      "source": [
        "Curva ROC"
      ]
    },
    {
      "cell_type": "code",
      "metadata": {
        "colab": {
          "base_uri": "https://localhost:8080/",
          "height": 350
        },
        "id": "5b6st8OmEk0y",
        "outputId": "fb1d5399-1113-4d0d-8f9c-7a68c312758e"
      },
      "source": [
        "plt.figure(figsize=[5,5])\n",
        "plt.plot(FPR,recalls)\n",
        "plt.title(\"Curva ROC RTO Gaussiana\")\n",
        "plt.xlabel(\"FPR\")\n",
        "plt.ylabel(\"TPR\")\n",
        "plt.show()"
      ],
      "execution_count": 76,
      "outputs": [
        {
          "output_type": "display_data",
          "data": {
            "image/png": "[encoded data removed]",
            "text/plain": [
              "<Figure size 360x360 with 1 Axes>"
            ]
          },
          "metadata": {
            "tags": [],
            "needs_background": "light"
          }
        }
      ]
    },
    {
      "cell_type": "markdown",
      "metadata": {
        "id": "h1JcaxfLzLrr"
      },
      "source": [
        "#### Modelo LDA"
      ]
    },
    {
      "cell_type": "code",
      "metadata": {
        "id": "JfnIGwO1zPa6"
      },
      "source": [
        "from sklearn.discriminant_analysis import LinearDiscriminantAnalysis"
      ],
      "execution_count": 37,
      "outputs": []
    },
    {
      "cell_type": "code",
      "metadata": {
        "id": "5bNbY4E_zSfE"
      },
      "source": [
        "LDA_clf = LinearDiscriminantAnalysis()"
      ],
      "execution_count": 38,
      "outputs": []
    },
    {
      "cell_type": "code",
      "metadata": {
        "colab": {
          "base_uri": "https://localhost:8080/"
        },
        "id": "3e11vd0fzVJy",
        "outputId": "e5bbf682-f20f-4850-8246-63f07fcd0e91"
      },
      "source": [
        "LDA_clf.fit(dfAL_train2.drop(\"R\",axis=1), dfAL_train2[\"R\"])"
      ],
      "execution_count": 39,
      "outputs": [
        {
          "output_type": "execute_result",
          "data": {
            "text/plain": [
              "LinearDiscriminantAnalysis(n_components=None, priors=None, shrinkage=None,\n",
              "                           solver='svd', store_covariance=False, tol=0.0001)"
            ]
          },
          "metadata": {
            "tags": []
          },
          "execution_count": 39
        }
      ]
    },
    {
      "cell_type": "code",
      "metadata": {
        "colab": {
          "base_uri": "https://localhost:8080/"
        },
        "id": "uHpahvdWzht5",
        "outputId": "54b06ff5-eace-4dfa-c336-c92de9d27789"
      },
      "source": [
        "LDA_clf.score(dfAL_train2.drop(\"R\",axis=1), dfAL_train2[\"R\"])"
      ],
      "execution_count": 40,
      "outputs": [
        {
          "output_type": "execute_result",
          "data": {
            "text/plain": [
              "0.8359517720131531"
            ]
          },
          "metadata": {
            "tags": []
          },
          "execution_count": 40
        }
      ]
    },
    {
      "cell_type": "code",
      "metadata": {
        "colab": {
          "base_uri": "https://localhost:8080/"
        },
        "id": "IcQV1Wj-zypM",
        "outputId": "58dd8884-94fe-4575-a33c-f37beb46595b"
      },
      "source": [
        "LDA_clf.score(dfAL_validation2.drop(\"R\",axis=1), dfAL_validation2[\"R\"])"
      ],
      "execution_count": 41,
      "outputs": [
        {
          "output_type": "execute_result",
          "data": {
            "text/plain": [
              "0.8091993185689949"
            ]
          },
          "metadata": {
            "tags": []
          },
          "execution_count": 41
        }
      ]
    },
    {
      "cell_type": "code",
      "metadata": {
        "colab": {
          "base_uri": "https://localhost:8080/"
        },
        "id": "DTic4LU6Q-GB",
        "outputId": "4b4a1d96-102f-413f-ca52-b9c44af317d5"
      },
      "source": [
        "LDA_clf.predict(np.array([[220,195,235]]))"
      ],
      "execution_count": 42,
      "outputs": [
        {
          "output_type": "execute_result",
          "data": {
            "text/plain": [
              "array([1])"
            ]
          },
          "metadata": {
            "tags": []
          },
          "execution_count": 42
        }
      ]
    },
    {
      "cell_type": "code",
      "metadata": {
        "id": "7taMRq66HEA-"
      },
      "source": [
        "y_true2 = 1*np.array(dfAL_test_validation2[\"R\"])"
      ],
      "execution_count": 43,
      "outputs": []
    },
    {
      "cell_type": "code",
      "metadata": {
        "id": "xICYjYXvHIKq"
      },
      "source": [
        "y_pred_LDA = LDA_clf.predict_proba(dfAL_test_validation2.drop(\"R\",axis=1))"
      ],
      "execution_count": 44,
      "outputs": []
    },
    {
      "cell_type": "code",
      "metadata": {
        "colab": {
          "base_uri": "https://localhost:8080/"
        },
        "id": "KJWYG2d6G921",
        "outputId": "fecd1592-b6e8-42e4-c96d-0acec4eabb83"
      },
      "source": [
        "print(\"Matriz de Confusión Alfa 0.25\")\n",
        "print(confusion_matrix(y_true2,y_pred_LDA[:,1]>0.25))"
      ],
      "execution_count": 45,
      "outputs": [
        {
          "output_type": "stream",
          "text": [
            "Matriz de Confusión Alfa 0.25\n",
            "[[488 155]\n",
            " [ 64 467]]\n"
          ],
          "name": "stdout"
        }
      ]
    },
    {
      "cell_type": "code",
      "metadata": {
        "colab": {
          "base_uri": "https://localhost:8080/"
        },
        "id": "uTMVhMU9R_18",
        "outputId": "41aafc17-968d-40c1-c225-9813c52f3116"
      },
      "source": [
        "alfa = 0.02\n",
        "recalls = np.zeros(100)\n",
        "precisions= np.zeros(100)\n",
        "FPR = np.zeros(100)\n",
        "alfas = np.linspace(0,1,100)\n",
        "for idx,alfa in enumerate(alfas):\n",
        "    tn, fp, fn, tp = confusion_matrix(y_true2,y_pred_LDA[:,1]>alfa).ravel()\n",
        "    recalls[idx] = (tp/(tp+fn))\n",
        "    precisions[idx] = (tp/(tp+fp))\n",
        "    FPR[idx]= (fp/(fp+tn))"
      ],
      "execution_count": 46,
      "outputs": [
        {
          "output_type": "stream",
          "text": [
            "/usr/local/lib/python3.7/dist-packages/ipykernel_launcher.py:9: RuntimeWarning: invalid value encountered in long_scalars\n",
            "  if __name__ == '__main__':\n"
          ],
          "name": "stderr"
        }
      ]
    },
    {
      "cell_type": "code",
      "metadata": {
        "colab": {
          "base_uri": "https://localhost:8080/"
        },
        "id": "sm8plTlHSIuA",
        "outputId": "3690943f-49ce-4449-f8c6-83c2ccc76934"
      },
      "source": [
        "print(\"Para un alfa 0.25 --> Valor de recall\", recalls[25], \"Valor de Precisions\", precisions[25], \"Valor de FPR\", FPR[25])\n",
        "print(\"Para un alfa 0.5 --> Valor de recall\", recalls[50], \"Valor de Precisions\", precisions[50], \"Valor de FPR\", FPR[50])\n",
        "print(\"Para un alfa 0.75 --> Valor de recall\", recalls[75], \"Valor de Precisions\", precisions[75], \"Valor de FPR\", FPR[75])"
      ],
      "execution_count": 47,
      "outputs": [
        {
          "output_type": "stream",
          "text": [
            "Para un alfa 0.25 --> Valor de recall 0.879472693032015 Valor de Precisions 0.7544426494345718 Valor de FPR 0.2363919129082426\n",
            "Para un alfa 0.5 --> Valor de recall 0.783427495291902 Valor de Precisions 0.8156862745098039 Valor de FPR 0.14618973561430793\n",
            "Para un alfa 0.75 --> Valor de recall 0.6836158192090396 Valor de Precisions 0.8501170960187353 Valor de FPR 0.09953343701399689\n"
          ],
          "name": "stdout"
        }
      ]
    },
    {
      "cell_type": "code",
      "metadata": {
        "colab": {
          "base_uri": "https://localhost:8080/",
          "height": 350
        },
        "id": "ZY67VyB-SM22",
        "outputId": "78dbcb79-ef3f-4232-f2e6-5b07f60ac21f"
      },
      "source": [
        "plt.figure(figsize=[5,5])\n",
        "plt.plot(FPR,recalls)\n",
        "plt.title(\"Curva ROC LDA RTO\")\n",
        "plt.xlabel(\"FPR\")\n",
        "plt.ylabel(\"TPR\")\n",
        "plt.show()"
      ],
      "execution_count": 48,
      "outputs": [
        {
          "output_type": "display_data",
          "data": {
            "image/png": "[encoded data removed]",
            "text/plain": [
              "<Figure size 360x360 with 1 Axes>"
            ]
          },
          "metadata": {
            "tags": [],
            "needs_background": "light"
          }
        }
      ]
    },
    {
      "cell_type": "markdown",
      "metadata": {
        "id": "eYC7sjTNz7bI"
      },
      "source": [
        "#### Modelo QDA"
      ]
    },
    {
      "cell_type": "code",
      "metadata": {
        "id": "XQQd8QZFz6ot"
      },
      "source": [
        "from sklearn.discriminant_analysis import QuadraticDiscriminantAnalysis\n",
        "QDA_clf = QuadraticDiscriminantAnalysis()"
      ],
      "execution_count": 49,
      "outputs": []
    },
    {
      "cell_type": "code",
      "metadata": {
        "id": "ot9T55nIR1Ij"
      },
      "source": [
        ""
      ],
      "execution_count": 49,
      "outputs": []
    },
    {
      "cell_type": "code",
      "metadata": {
        "colab": {
          "base_uri": "https://localhost:8080/"
        },
        "id": "x1DS6E7oz6r3",
        "outputId": "acbdb62f-d7b4-48aa-d78b-4f4037816a8a"
      },
      "source": [
        "QDA_clf.fit(dfAL_train2.drop(\"R\",axis=1), dfAL_train2[\"R\"])"
      ],
      "execution_count": 50,
      "outputs": [
        {
          "output_type": "execute_result",
          "data": {
            "text/plain": [
              "QuadraticDiscriminantAnalysis(priors=None, reg_param=0.0,\n",
              "                              store_covariance=False, tol=0.0001)"
            ]
          },
          "metadata": {
            "tags": []
          },
          "execution_count": 50
        }
      ]
    },
    {
      "cell_type": "code",
      "metadata": {
        "colab": {
          "base_uri": "https://localhost:8080/"
        },
        "id": "mEWszqu00Tac",
        "outputId": "7a7febfa-7e7b-494f-e79e-5923d7b25ea5"
      },
      "source": [
        "QDA_clf.score(dfAL_train2.drop(\"R\",axis=1), dfAL_train2[\"R\"])"
      ],
      "execution_count": 51,
      "outputs": [
        {
          "output_type": "execute_result",
          "data": {
            "text/plain": [
              "0.8421629521373767"
            ]
          },
          "metadata": {
            "tags": []
          },
          "execution_count": 51
        }
      ]
    },
    {
      "cell_type": "code",
      "metadata": {
        "colab": {
          "base_uri": "https://localhost:8080/"
        },
        "id": "JHfHK7Y40XLa",
        "outputId": "b0b96547-38bc-4914-fcee-f1ac1c736dbd"
      },
      "source": [
        "QDA_clf.score(dfAL_validation2.drop(\"R\",axis=1), dfAL_validation2[\"R\"])"
      ],
      "execution_count": 52,
      "outputs": [
        {
          "output_type": "execute_result",
          "data": {
            "text/plain": [
              "0.8160136286201022"
            ]
          },
          "metadata": {
            "tags": []
          },
          "execution_count": 52
        }
      ]
    },
    {
      "cell_type": "code",
      "metadata": {
        "colab": {
          "base_uri": "https://localhost:8080/"
        },
        "id": "3mYK-grKSJDF",
        "outputId": "1db986d4-6b1f-47a6-c402-731729592f94"
      },
      "source": [
        "QDA_clf.predict(np.array([[220,195,230]]))"
      ],
      "execution_count": 53,
      "outputs": [
        {
          "output_type": "execute_result",
          "data": {
            "text/plain": [
              "array([1])"
            ]
          },
          "metadata": {
            "tags": []
          },
          "execution_count": 53
        }
      ]
    },
    {
      "cell_type": "code",
      "metadata": {
        "id": "QVG79ypiS6v7"
      },
      "source": [
        "y_true2 = 1*np.array(dfAL_test_validation2[\"R\"])"
      ],
      "execution_count": 54,
      "outputs": []
    },
    {
      "cell_type": "code",
      "metadata": {
        "id": "s4ofEQrBS9VO"
      },
      "source": [
        "y_pred_QDA = QDA_clf.predict_proba(dfAL_test_validation2.drop(\"R\",axis=1))"
      ],
      "execution_count": 55,
      "outputs": []
    },
    {
      "cell_type": "code",
      "metadata": {
        "id": "ZTvlJLOfS9YB"
      },
      "source": [
        ""
      ],
      "execution_count": 55,
      "outputs": []
    },
    {
      "cell_type": "markdown",
      "metadata": {
        "id": "Roicehdx0joA"
      },
      "source": [
        " #### Modelo de Regresión Log."
      ]
    },
    {
      "cell_type": "code",
      "metadata": {
        "id": "QmfG_vOT0owp"
      },
      "source": [
        "from sklearn.linear_model import LogisticRegression\n",
        "LR_clf=LogisticRegression(C=1e9, verbose=1)"
      ],
      "execution_count": 56,
      "outputs": []
    },
    {
      "cell_type": "code",
      "metadata": {
        "colab": {
          "base_uri": "https://localhost:8080/"
        },
        "id": "kOmY92-e0p4Z",
        "outputId": "297e3337-a68d-4b05-a556-f527bbed89d2"
      },
      "source": [
        "LR_clf.fit(dfAL_train2.drop(\"R\",axis=1), dfAL_train2[\"R\"])"
      ],
      "execution_count": 57,
      "outputs": [
        {
          "output_type": "stream",
          "text": [
            "[Parallel(n_jobs=1)]: Using backend SequentialBackend with 1 concurrent workers.\n",
            "[Parallel(n_jobs=1)]: Done   1 out of   1 | elapsed:    0.0s finished\n"
          ],
          "name": "stderr"
        },
        {
          "output_type": "execute_result",
          "data": {
            "text/plain": [
              "LogisticRegression(C=1000000000.0, class_weight=None, dual=False,\n",
              "                   fit_intercept=True, intercept_scaling=1, l1_ratio=None,\n",
              "                   max_iter=100, multi_class='auto', n_jobs=None, penalty='l2',\n",
              "                   random_state=None, solver='lbfgs', tol=0.0001, verbose=1,\n",
              "                   warm_start=False)"
            ]
          },
          "metadata": {
            "tags": []
          },
          "execution_count": 57
        }
      ]
    },
    {
      "cell_type": "code",
      "metadata": {
        "colab": {
          "base_uri": "https://localhost:8080/"
        },
        "id": "wHCTrzUB0vtR",
        "outputId": "f8d5e741-6872-4f05-920a-f37b0fa7e44f"
      },
      "source": [
        "LR_clf.score(dfAL_train2.drop(\"R\",axis=1), dfAL_train2[\"R\"])"
      ],
      "execution_count": 58,
      "outputs": [
        {
          "output_type": "execute_result",
          "data": {
            "text/plain": [
              "0.8344903178662769"
            ]
          },
          "metadata": {
            "tags": []
          },
          "execution_count": 58
        }
      ]
    },
    {
      "cell_type": "code",
      "metadata": {
        "colab": {
          "base_uri": "https://localhost:8080/"
        },
        "id": "XAQHtj4t05dC",
        "outputId": "f50bc5f7-172c-44d4-8479-45681286c23b"
      },
      "source": [
        "LR_clf.score(dfAL_validation2.drop(\"R\",axis=1), dfAL_validation2[\"R\"])"
      ],
      "execution_count": 59,
      "outputs": [
        {
          "output_type": "execute_result",
          "data": {
            "text/plain": [
              "0.8109028960817717"
            ]
          },
          "metadata": {
            "tags": []
          },
          "execution_count": 59
        }
      ]
    },
    {
      "cell_type": "code",
      "metadata": {
        "id": "hNi7UzHVT8Lc"
      },
      "source": [
        "y_pred_LR = LR_clf.predict_proba(dfAL_test_validation2.drop(\"R\",axis=1))"
      ],
      "execution_count": 60,
      "outputs": []
    },
    {
      "cell_type": "code",
      "metadata": {
        "id": "34r156nLT8Vn"
      },
      "source": [
        ""
      ],
      "execution_count": 60,
      "outputs": []
    },
    {
      "cell_type": "code",
      "metadata": {
        "colab": {
          "base_uri": "https://localhost:8080/"
        },
        "id": "OakEttjFTNOQ",
        "outputId": "55a17002-b7a4-40ab-a5c5-02d16b28173d"
      },
      "source": [
        "print(\"Matriz de Confusión Alfa 0.25\")\n",
        "print(confusion_matrix(y_true2,y_pred_LR[:,1]>0.25))"
      ],
      "execution_count": 61,
      "outputs": [
        {
          "output_type": "stream",
          "text": [
            "Matriz de Confusión Alfa 0.25\n",
            "[[449 194]\n",
            " [ 49 482]]\n"
          ],
          "name": "stdout"
        }
      ]
    },
    {
      "cell_type": "code",
      "metadata": {
        "colab": {
          "base_uri": "https://localhost:8080/"
        },
        "id": "I0vXwkwjTNXJ",
        "outputId": "f7782795-f78b-433f-dba5-43acb85773ef"
      },
      "source": [
        "alfa = 0.02\n",
        "recalls = np.zeros(100)\n",
        "precisions= np.zeros(100)\n",
        "FPR = np.zeros(100)\n",
        "alfas = np.linspace(0,1,100)\n",
        "for idx,alfa in enumerate(alfas):\n",
        "    tn, fp, fn, tp = confusion_matrix(y_true2,y_pred_LR[:,1]>alfa).ravel()\n",
        "    recalls[idx] = (tp/(tp+fn))\n",
        "    precisions[idx] = (tp/(tp+fp))\n",
        "    FPR[idx]= (fp/(fp+tn))"
      ],
      "execution_count": 62,
      "outputs": [
        {
          "output_type": "stream",
          "text": [
            "/usr/local/lib/python3.7/dist-packages/ipykernel_launcher.py:9: RuntimeWarning: invalid value encountered in long_scalars\n",
            "  if __name__ == '__main__':\n"
          ],
          "name": "stderr"
        }
      ]
    },
    {
      "cell_type": "code",
      "metadata": {
        "colab": {
          "base_uri": "https://localhost:8080/"
        },
        "id": "g8MHAlFZTNgx",
        "outputId": "5b575065-2de5-4e49-cf91-86ed05bfae0e"
      },
      "source": [
        "print(\"Para un alfa 0.25 --> Valor de recall\", recalls[25], \"Valor de Precisions\", precisions[25], \"Valor de FPR\", FPR[25])\n",
        "print(\"Para un alfa 0.5 --> Valor de recall\", recalls[50], \"Valor de Precisions\", precisions[50], \"Valor de FPR\", FPR[50])\n",
        "print(\"Para un alfa 0.75 --> Valor de recall\", recalls[75], \"Valor de Precisions\", precisions[75], \"Valor de FPR\", FPR[75])"
      ],
      "execution_count": 63,
      "outputs": [
        {
          "output_type": "stream",
          "text": [
            "Para un alfa 0.25 --> Valor de recall 0.903954802259887 Valor de Precisions 0.712166172106825 Valor de FPR 0.30171073094867806\n",
            "Para un alfa 0.5 --> Valor de recall 0.7740112994350282 Valor de Precisions 0.8236472945891784 Valor de FPR 0.1368584758942457\n",
            "Para un alfa 0.75 --> Valor de recall 0.6421845574387948 Valor de Precisions 0.8676844783715013 Valor de FPR 0.08087091757387248\n"
          ],
          "name": "stdout"
        }
      ]
    },
    {
      "cell_type": "code",
      "metadata": {
        "colab": {
          "base_uri": "https://localhost:8080/",
          "height": 350
        },
        "id": "dKW5oExETWoL",
        "outputId": "1aada309-c0f1-4562-eb9b-57a3a9904157"
      },
      "source": [
        "plt.figure(figsize=[5,5])\n",
        "plt.plot(FPR,recalls)\n",
        "plt.title(\"Curva ROC LR RTO\")\n",
        "plt.xlabel(\"FPR\")\n",
        "plt.ylabel(\"TPR\")\n",
        "plt.show()"
      ],
      "execution_count": 64,
      "outputs": [
        {
          "output_type": "display_data",
          "data": {
            "image/png": "[encoded data removed]",
            "text/plain": [
              "<Figure size 360x360 with 1 Axes>"
            ]
          },
          "metadata": {
            "tags": [],
            "needs_background": "light"
          }
        }
      ]
    },
    {
      "cell_type": "markdown",
      "metadata": {
        "id": "s4JAGTnp1MqB"
      },
      "source": [
        "#### Modelo de Redes Neuronales"
      ]
    },
    {
      "cell_type": "code",
      "metadata": {
        "id": "8MZl7MMUTV1q"
      },
      "source": [
        ""
      ],
      "execution_count": 64,
      "outputs": []
    },
    {
      "cell_type": "code",
      "metadata": {
        "colab": {
          "base_uri": "https://localhost:8080/"
        },
        "id": "33Yfhf7_23jA",
        "outputId": "74351213-c0da-4441-ea1f-a62cb01a2e45"
      },
      "source": [
        "dfAL_train2.shape"
      ],
      "execution_count": 65,
      "outputs": [
        {
          "output_type": "execute_result",
          "data": {
            "text/plain": [
              "(2737, 4)"
            ]
          },
          "metadata": {
            "tags": []
          },
          "execution_count": 65
        }
      ]
    },
    {
      "cell_type": "code",
      "metadata": {
        "id": "KixGihCZ1QIR"
      },
      "source": [
        "from tensorflow.keras.models import Sequential\n",
        "from tensorflow.keras.layers import Dense, BatchNormalization\n",
        "from tensorflow.keras.optimizers import Adam, SGD"
      ],
      "execution_count": 66,
      "outputs": []
    },
    {
      "cell_type": "code",
      "metadata": {
        "id": "OGBuC5Wq1STp"
      },
      "source": [
        "RN_clf= Sequential()\n",
        "RN_clf.add(BatchNormalization(input_shape=(3,)))\n",
        "RN_clf.add(Dense(16, input_dim=5, activation='relu'))\n",
        "RN_clf.add(Dense(1, activation='sigmoid'))"
      ],
      "execution_count": 67,
      "outputs": []
    },
    {
      "cell_type": "code",
      "metadata": {
        "id": "4ljWc0dI17mx"
      },
      "source": [
        "RN_clf.compile(loss='mean_squared_error',\n",
        "              optimizer='SGD',\n",
        "              metrics=['binary_accuracy'])"
      ],
      "execution_count": 68,
      "outputs": []
    },
    {
      "cell_type": "code",
      "metadata": {
        "colab": {
          "base_uri": "https://localhost:8080/"
        },
        "id": "h5tLnAxG2E-Q",
        "outputId": "e456da4f-50a0-4a24-b508-5a2cf15f302c"
      },
      "source": [
        "RN_clf.fit(dfAL_train2.drop(\"R\",axis=1), dfAL_train2[\"R\"], epochs=300)"
      ],
      "execution_count": 69,
      "outputs": [
        {
          "output_type": "stream",
          "text": [
            "Epoch 1/300\n",
            "86/86 [==============================] - 1s 1ms/step - loss: 0.2520 - binary_accuracy: 0.5698\n",
            "Epoch 2/300\n",
            "86/86 [==============================] - 0s 1ms/step - loss: 0.2354 - binary_accuracy: 0.6483\n",
            "Epoch 3/300\n",
            "86/86 [==============================] - 0s 1ms/step - loss: 0.2176 - binary_accuracy: 0.7021\n",
            "Epoch 4/300\n",
            "86/86 [==============================] - 0s 1ms/step - loss: 0.2049 - binary_accuracy: 0.7373\n",
            "Epoch 5/300\n",
            "86/86 [==============================] - 0s 1ms/step - loss: 0.1950 - binary_accuracy: 0.7576\n",
            "Epoch 6/300\n",
            "86/86 [==============================] - 0s 1ms/step - loss: 0.1819 - binary_accuracy: 0.7703\n",
            "Epoch 7/300\n",
            "86/86 [==============================] - 0s 1ms/step - loss: 0.1750 - binary_accuracy: 0.7798\n",
            "Epoch 8/300\n",
            "86/86 [==============================] - 0s 1ms/step - loss: 0.1637 - binary_accuracy: 0.8059\n",
            "Epoch 9/300\n",
            "86/86 [==============================] - 0s 1ms/step - loss: 0.1573 - binary_accuracy: 0.8017\n",
            "Epoch 10/300\n",
            "86/86 [==============================] - 0s 1ms/step - loss: 0.1501 - binary_accuracy: 0.8169\n",
            "Epoch 11/300\n",
            "86/86 [==============================] - 0s 2ms/step - loss: 0.1484 - binary_accuracy: 0.8180\n",
            "Epoch 12/300\n",
            "86/86 [==============================] - 0s 1ms/step - loss: 0.1420 - binary_accuracy: 0.8246\n",
            "Epoch 13/300\n",
            "86/86 [==============================] - 0s 1ms/step - loss: 0.1362 - binary_accuracy: 0.8373\n",
            "Epoch 14/300\n",
            "86/86 [==============================] - 0s 1ms/step - loss: 0.1387 - binary_accuracy: 0.8230\n",
            "Epoch 15/300\n",
            "86/86 [==============================] - 0s 1ms/step - loss: 0.1394 - binary_accuracy: 0.8154\n",
            "Epoch 16/300\n",
            "86/86 [==============================] - 0s 1ms/step - loss: 0.1318 - binary_accuracy: 0.8232\n",
            "Epoch 17/300\n",
            "86/86 [==============================] - 0s 1ms/step - loss: 0.1318 - binary_accuracy: 0.8327\n",
            "Epoch 18/300\n",
            "86/86 [==============================] - 0s 1ms/step - loss: 0.1346 - binary_accuracy: 0.8269\n",
            "Epoch 19/300\n",
            "86/86 [==============================] - 0s 1ms/step - loss: 0.1404 - binary_accuracy: 0.8086\n",
            "Epoch 20/300\n",
            "86/86 [==============================] - 0s 1ms/step - loss: 0.1309 - binary_accuracy: 0.8330\n",
            "Epoch 21/300\n",
            "86/86 [==============================] - 0s 1ms/step - loss: 0.1310 - binary_accuracy: 0.8276\n",
            "Epoch 22/300\n",
            "86/86 [==============================] - 0s 1ms/step - loss: 0.1333 - binary_accuracy: 0.8153\n",
            "Epoch 23/300\n",
            "86/86 [==============================] - 0s 1ms/step - loss: 0.1246 - binary_accuracy: 0.8362\n",
            "Epoch 24/300\n",
            "86/86 [==============================] - 0s 1ms/step - loss: 0.1298 - binary_accuracy: 0.8243\n",
            "Epoch 25/300\n",
            "86/86 [==============================] - 0s 1ms/step - loss: 0.1239 - binary_accuracy: 0.8359\n",
            "Epoch 26/300\n",
            "86/86 [==============================] - 0s 1ms/step - loss: 0.1299 - binary_accuracy: 0.8313\n",
            "Epoch 27/300\n",
            "86/86 [==============================] - 0s 2ms/step - loss: 0.1277 - binary_accuracy: 0.8233\n",
            "Epoch 28/300\n",
            "86/86 [==============================] - 0s 1ms/step - loss: 0.1216 - binary_accuracy: 0.8388\n",
            "Epoch 29/300\n",
            "86/86 [==============================] - 0s 1ms/step - loss: 0.1280 - binary_accuracy: 0.8298\n",
            "Epoch 30/300\n",
            "86/86 [==============================] - 0s 1ms/step - loss: 0.1303 - binary_accuracy: 0.8248\n",
            "Epoch 31/300\n",
            "86/86 [==============================] - 0s 1ms/step - loss: 0.1254 - binary_accuracy: 0.8313\n",
            "Epoch 32/300\n",
            "86/86 [==============================] - 0s 1ms/step - loss: 0.1262 - binary_accuracy: 0.8308\n",
            "Epoch 33/300\n",
            "86/86 [==============================] - 0s 1ms/step - loss: 0.1219 - binary_accuracy: 0.8403\n",
            "Epoch 34/300\n",
            "86/86 [==============================] - 0s 1ms/step - loss: 0.1233 - binary_accuracy: 0.8426\n",
            "Epoch 35/300\n",
            "86/86 [==============================] - 0s 1ms/step - loss: 0.1238 - binary_accuracy: 0.8283\n",
            "Epoch 36/300\n",
            "86/86 [==============================] - 0s 1ms/step - loss: 0.1229 - binary_accuracy: 0.8368\n",
            "Epoch 37/300\n",
            "86/86 [==============================] - 0s 1ms/step - loss: 0.1292 - binary_accuracy: 0.8226\n",
            "Epoch 38/300\n",
            "86/86 [==============================] - 0s 1ms/step - loss: 0.1243 - binary_accuracy: 0.8315\n",
            "Epoch 39/300\n",
            "86/86 [==============================] - 0s 1ms/step - loss: 0.1244 - binary_accuracy: 0.8335\n",
            "Epoch 40/300\n",
            "86/86 [==============================] - 0s 1ms/step - loss: 0.1188 - binary_accuracy: 0.8421\n",
            "Epoch 41/300\n",
            "86/86 [==============================] - 0s 1ms/step - loss: 0.1194 - binary_accuracy: 0.8415\n",
            "Epoch 42/300\n",
            "86/86 [==============================] - 0s 1ms/step - loss: 0.1243 - binary_accuracy: 0.8321\n",
            "Epoch 43/300\n",
            "86/86 [==============================] - 0s 1ms/step - loss: 0.1204 - binary_accuracy: 0.8367\n",
            "Epoch 44/300\n",
            "86/86 [==============================] - 0s 1ms/step - loss: 0.1214 - binary_accuracy: 0.8367\n",
            "Epoch 45/300\n",
            "86/86 [==============================] - 0s 1ms/step - loss: 0.1281 - binary_accuracy: 0.8261\n",
            "Epoch 46/300\n",
            "86/86 [==============================] - 0s 1ms/step - loss: 0.1286 - binary_accuracy: 0.8271\n",
            "Epoch 47/300\n",
            "86/86 [==============================] - 0s 1ms/step - loss: 0.1246 - binary_accuracy: 0.8283\n",
            "Epoch 48/300\n",
            "86/86 [==============================] - 0s 1ms/step - loss: 0.1236 - binary_accuracy: 0.8381\n",
            "Epoch 49/300\n",
            "86/86 [==============================] - 0s 1ms/step - loss: 0.1298 - binary_accuracy: 0.8214\n",
            "Epoch 50/300\n",
            "86/86 [==============================] - 0s 1ms/step - loss: 0.1254 - binary_accuracy: 0.8226\n",
            "Epoch 51/300\n",
            "86/86 [==============================] - 0s 1ms/step - loss: 0.1252 - binary_accuracy: 0.8351\n",
            "Epoch 52/300\n",
            "86/86 [==============================] - 0s 1ms/step - loss: 0.1185 - binary_accuracy: 0.8404\n",
            "Epoch 53/300\n",
            "86/86 [==============================] - 0s 2ms/step - loss: 0.1227 - binary_accuracy: 0.8323\n",
            "Epoch 54/300\n",
            "86/86 [==============================] - 0s 1ms/step - loss: 0.1187 - binary_accuracy: 0.8343\n",
            "Epoch 55/300\n",
            "86/86 [==============================] - 0s 1ms/step - loss: 0.1271 - binary_accuracy: 0.8246\n",
            "Epoch 56/300\n",
            "86/86 [==============================] - 0s 1ms/step - loss: 0.1272 - binary_accuracy: 0.8282\n",
            "Epoch 57/300\n",
            "86/86 [==============================] - 0s 1ms/step - loss: 0.1254 - binary_accuracy: 0.8344\n",
            "Epoch 58/300\n",
            "86/86 [==============================] - 0s 1ms/step - loss: 0.1195 - binary_accuracy: 0.8359\n",
            "Epoch 59/300\n",
            "86/86 [==============================] - 0s 1ms/step - loss: 0.1145 - binary_accuracy: 0.8416\n",
            "Epoch 60/300\n",
            "86/86 [==============================] - 0s 1ms/step - loss: 0.1241 - binary_accuracy: 0.8303\n",
            "Epoch 61/300\n",
            "86/86 [==============================] - 0s 1ms/step - loss: 0.1203 - binary_accuracy: 0.8376\n",
            "Epoch 62/300\n",
            "86/86 [==============================] - 0s 1ms/step - loss: 0.1203 - binary_accuracy: 0.8384\n",
            "Epoch 63/300\n",
            "86/86 [==============================] - 0s 1ms/step - loss: 0.1180 - binary_accuracy: 0.8459\n",
            "Epoch 64/300\n",
            "86/86 [==============================] - 0s 2ms/step - loss: 0.1157 - binary_accuracy: 0.8458\n",
            "Epoch 65/300\n",
            "86/86 [==============================] - 0s 1ms/step - loss: 0.1243 - binary_accuracy: 0.8324\n",
            "Epoch 66/300\n",
            "86/86 [==============================] - 0s 1ms/step - loss: 0.1254 - binary_accuracy: 0.8278\n",
            "Epoch 67/300\n",
            "86/86 [==============================] - 0s 1ms/step - loss: 0.1255 - binary_accuracy: 0.8301\n",
            "Epoch 68/300\n",
            "86/86 [==============================] - 0s 1ms/step - loss: 0.1187 - binary_accuracy: 0.8371\n",
            "Epoch 69/300\n",
            "86/86 [==============================] - 0s 1ms/step - loss: 0.1270 - binary_accuracy: 0.8308\n",
            "Epoch 70/300\n",
            "86/86 [==============================] - 0s 1ms/step - loss: 0.1188 - binary_accuracy: 0.8382\n",
            "Epoch 71/300\n",
            "86/86 [==============================] - 0s 1ms/step - loss: 0.1247 - binary_accuracy: 0.8213\n",
            "Epoch 72/300\n",
            "86/86 [==============================] - 0s 1ms/step - loss: 0.1224 - binary_accuracy: 0.8398\n",
            "Epoch 73/300\n",
            "86/86 [==============================] - 0s 1ms/step - loss: 0.1184 - binary_accuracy: 0.8370\n",
            "Epoch 74/300\n",
            "86/86 [==============================] - 0s 1ms/step - loss: 0.1268 - binary_accuracy: 0.8227\n",
            "Epoch 75/300\n",
            "86/86 [==============================] - 0s 1ms/step - loss: 0.1249 - binary_accuracy: 0.8244\n",
            "Epoch 76/300\n",
            "86/86 [==============================] - 0s 1ms/step - loss: 0.1167 - binary_accuracy: 0.8438\n",
            "Epoch 77/300\n",
            "86/86 [==============================] - 0s 1ms/step - loss: 0.1211 - binary_accuracy: 0.8376\n",
            "Epoch 78/300\n",
            "86/86 [==============================] - 0s 1ms/step - loss: 0.1169 - binary_accuracy: 0.8443\n",
            "Epoch 79/300\n",
            "86/86 [==============================] - 0s 1ms/step - loss: 0.1253 - binary_accuracy: 0.8287\n",
            "Epoch 80/300\n",
            "86/86 [==============================] - 0s 2ms/step - loss: 0.1205 - binary_accuracy: 0.8381\n",
            "Epoch 81/300\n",
            "86/86 [==============================] - 0s 1ms/step - loss: 0.1236 - binary_accuracy: 0.8351\n",
            "Epoch 82/300\n",
            "86/86 [==============================] - 0s 2ms/step - loss: 0.1163 - binary_accuracy: 0.8460\n",
            "Epoch 83/300\n",
            "86/86 [==============================] - 0s 1ms/step - loss: 0.1225 - binary_accuracy: 0.8325\n",
            "Epoch 84/300\n",
            "86/86 [==============================] - 0s 1ms/step - loss: 0.1194 - binary_accuracy: 0.8381\n",
            "Epoch 85/300\n",
            "86/86 [==============================] - 0s 1ms/step - loss: 0.1233 - binary_accuracy: 0.8268\n",
            "Epoch 86/300\n",
            "86/86 [==============================] - 0s 1ms/step - loss: 0.1216 - binary_accuracy: 0.8334\n",
            "Epoch 87/300\n",
            "86/86 [==============================] - 0s 1ms/step - loss: 0.1223 - binary_accuracy: 0.8334\n",
            "Epoch 88/300\n",
            "86/86 [==============================] - 0s 1ms/step - loss: 0.1172 - binary_accuracy: 0.8374\n",
            "Epoch 89/300\n",
            "86/86 [==============================] - 0s 1ms/step - loss: 0.1228 - binary_accuracy: 0.8268\n",
            "Epoch 90/300\n",
            "86/86 [==============================] - 0s 1ms/step - loss: 0.1234 - binary_accuracy: 0.8378\n",
            "Epoch 91/300\n",
            "86/86 [==============================] - 0s 1ms/step - loss: 0.1238 - binary_accuracy: 0.8286\n",
            "Epoch 92/300\n",
            "86/86 [==============================] - 0s 1ms/step - loss: 0.1283 - binary_accuracy: 0.8201\n",
            "Epoch 93/300\n",
            "86/86 [==============================] - 0s 1ms/step - loss: 0.1201 - binary_accuracy: 0.8333\n",
            "Epoch 94/300\n",
            "86/86 [==============================] - 0s 1ms/step - loss: 0.1220 - binary_accuracy: 0.8423\n",
            "Epoch 95/300\n",
            "86/86 [==============================] - 0s 1ms/step - loss: 0.1249 - binary_accuracy: 0.8248\n",
            "Epoch 96/300\n",
            "86/86 [==============================] - 0s 1ms/step - loss: 0.1211 - binary_accuracy: 0.8379\n",
            "Epoch 97/300\n",
            "86/86 [==============================] - 0s 1ms/step - loss: 0.1179 - binary_accuracy: 0.8426\n",
            "Epoch 98/300\n",
            "86/86 [==============================] - 0s 1ms/step - loss: 0.1150 - binary_accuracy: 0.8491\n",
            "Epoch 99/300\n",
            "86/86 [==============================] - 0s 1ms/step - loss: 0.1222 - binary_accuracy: 0.8422\n",
            "Epoch 100/300\n",
            "86/86 [==============================] - 0s 1ms/step - loss: 0.1186 - binary_accuracy: 0.8403\n",
            "Epoch 101/300\n",
            "86/86 [==============================] - 0s 1ms/step - loss: 0.1202 - binary_accuracy: 0.8398\n",
            "Epoch 102/300\n",
            "86/86 [==============================] - 0s 1ms/step - loss: 0.1152 - binary_accuracy: 0.8517\n",
            "Epoch 103/300\n",
            "86/86 [==============================] - 0s 1ms/step - loss: 0.1179 - binary_accuracy: 0.8368\n",
            "Epoch 104/300\n",
            "86/86 [==============================] - 0s 2ms/step - loss: 0.1195 - binary_accuracy: 0.8373\n",
            "Epoch 105/300\n",
            "86/86 [==============================] - 0s 1ms/step - loss: 0.1196 - binary_accuracy: 0.8405\n",
            "Epoch 106/300\n",
            "86/86 [==============================] - 0s 1ms/step - loss: 0.1135 - binary_accuracy: 0.8486\n",
            "Epoch 107/300\n",
            "86/86 [==============================] - 0s 1ms/step - loss: 0.1187 - binary_accuracy: 0.8382\n",
            "Epoch 108/300\n",
            "86/86 [==============================] - 0s 1ms/step - loss: 0.1219 - binary_accuracy: 0.8367\n",
            "Epoch 109/300\n",
            "86/86 [==============================] - 0s 2ms/step - loss: 0.1252 - binary_accuracy: 0.8314\n",
            "Epoch 110/300\n",
            "86/86 [==============================] - 0s 1ms/step - loss: 0.1318 - binary_accuracy: 0.8215\n",
            "Epoch 111/300\n",
            "86/86 [==============================] - 0s 1ms/step - loss: 0.1192 - binary_accuracy: 0.8374\n",
            "Epoch 112/300\n",
            "86/86 [==============================] - 0s 1ms/step - loss: 0.1196 - binary_accuracy: 0.8319\n",
            "Epoch 113/300\n",
            "86/86 [==============================] - 0s 1ms/step - loss: 0.1180 - binary_accuracy: 0.8396\n",
            "Epoch 114/300\n",
            "86/86 [==============================] - 0s 1ms/step - loss: 0.1224 - binary_accuracy: 0.8308\n",
            "Epoch 115/300\n",
            "86/86 [==============================] - 0s 1ms/step - loss: 0.1240 - binary_accuracy: 0.8321\n",
            "Epoch 116/300\n",
            "86/86 [==============================] - 0s 1ms/step - loss: 0.1283 - binary_accuracy: 0.8235\n",
            "Epoch 117/300\n",
            "86/86 [==============================] - 0s 1ms/step - loss: 0.1199 - binary_accuracy: 0.8448\n",
            "Epoch 118/300\n",
            "86/86 [==============================] - 0s 1ms/step - loss: 0.1246 - binary_accuracy: 0.8309\n",
            "Epoch 119/300\n",
            "86/86 [==============================] - 0s 1ms/step - loss: 0.1255 - binary_accuracy: 0.8296\n",
            "Epoch 120/300\n",
            "86/86 [==============================] - 0s 1ms/step - loss: 0.1193 - binary_accuracy: 0.8380\n",
            "Epoch 121/300\n",
            "86/86 [==============================] - 0s 1ms/step - loss: 0.1235 - binary_accuracy: 0.8289\n",
            "Epoch 122/300\n",
            "86/86 [==============================] - 0s 1ms/step - loss: 0.1171 - binary_accuracy: 0.8414\n",
            "Epoch 123/300\n",
            "86/86 [==============================] - 0s 1ms/step - loss: 0.1183 - binary_accuracy: 0.8364\n",
            "Epoch 124/300\n",
            "86/86 [==============================] - 0s 1ms/step - loss: 0.1126 - binary_accuracy: 0.8461\n",
            "Epoch 125/300\n",
            "86/86 [==============================] - 0s 1ms/step - loss: 0.1166 - binary_accuracy: 0.8383\n",
            "Epoch 126/300\n",
            "86/86 [==============================] - 0s 1ms/step - loss: 0.1210 - binary_accuracy: 0.8338\n",
            "Epoch 127/300\n",
            "86/86 [==============================] - 0s 1ms/step - loss: 0.1191 - binary_accuracy: 0.8303\n",
            "Epoch 128/300\n",
            "86/86 [==============================] - 0s 1ms/step - loss: 0.1234 - binary_accuracy: 0.8331\n",
            "Epoch 129/300\n",
            "86/86 [==============================] - 0s 1ms/step - loss: 0.1149 - binary_accuracy: 0.8458\n",
            "Epoch 130/300\n",
            "86/86 [==============================] - 0s 2ms/step - loss: 0.1179 - binary_accuracy: 0.8337\n",
            "Epoch 131/300\n",
            "86/86 [==============================] - 0s 1ms/step - loss: 0.1205 - binary_accuracy: 0.8385\n",
            "Epoch 132/300\n",
            "86/86 [==============================] - 0s 1ms/step - loss: 0.1156 - binary_accuracy: 0.8356\n",
            "Epoch 133/300\n",
            "86/86 [==============================] - 0s 1ms/step - loss: 0.1263 - binary_accuracy: 0.8322\n",
            "Epoch 134/300\n",
            "86/86 [==============================] - 0s 1ms/step - loss: 0.1236 - binary_accuracy: 0.8316\n",
            "Epoch 135/300\n",
            "86/86 [==============================] - 0s 1ms/step - loss: 0.1175 - binary_accuracy: 0.8401\n",
            "Epoch 136/300\n",
            "86/86 [==============================] - 0s 1ms/step - loss: 0.1237 - binary_accuracy: 0.8309\n",
            "Epoch 137/300\n",
            "86/86 [==============================] - 0s 1ms/step - loss: 0.1212 - binary_accuracy: 0.8369\n",
            "Epoch 138/300\n",
            "86/86 [==============================] - 0s 1ms/step - loss: 0.1236 - binary_accuracy: 0.8244\n",
            "Epoch 139/300\n",
            "86/86 [==============================] - 0s 2ms/step - loss: 0.1189 - binary_accuracy: 0.8406\n",
            "Epoch 140/300\n",
            "86/86 [==============================] - 0s 1ms/step - loss: 0.1127 - binary_accuracy: 0.8482\n",
            "Epoch 141/300\n",
            "86/86 [==============================] - 0s 1ms/step - loss: 0.1170 - binary_accuracy: 0.8367\n",
            "Epoch 142/300\n",
            "86/86 [==============================] - 0s 1ms/step - loss: 0.1160 - binary_accuracy: 0.8393\n",
            "Epoch 143/300\n",
            "86/86 [==============================] - 0s 1ms/step - loss: 0.1182 - binary_accuracy: 0.8422\n",
            "Epoch 144/300\n",
            "86/86 [==============================] - 0s 1ms/step - loss: 0.1204 - binary_accuracy: 0.8326\n",
            "Epoch 145/300\n",
            "86/86 [==============================] - 0s 1ms/step - loss: 0.1172 - binary_accuracy: 0.8358\n",
            "Epoch 146/300\n",
            "86/86 [==============================] - 0s 2ms/step - loss: 0.1135 - binary_accuracy: 0.8446\n",
            "Epoch 147/300\n",
            "86/86 [==============================] - 0s 2ms/step - loss: 0.1197 - binary_accuracy: 0.8311\n",
            "Epoch 148/300\n",
            "86/86 [==============================] - 0s 1ms/step - loss: 0.1203 - binary_accuracy: 0.8388\n",
            "Epoch 149/300\n",
            "86/86 [==============================] - 0s 1ms/step - loss: 0.1130 - binary_accuracy: 0.8445\n",
            "Epoch 150/300\n",
            "86/86 [==============================] - 0s 1ms/step - loss: 0.1147 - binary_accuracy: 0.8446\n",
            "Epoch 151/300\n",
            "86/86 [==============================] - 0s 1ms/step - loss: 0.1235 - binary_accuracy: 0.8264\n",
            "Epoch 152/300\n",
            "86/86 [==============================] - 0s 1ms/step - loss: 0.1147 - binary_accuracy: 0.8447\n",
            "Epoch 153/300\n",
            "86/86 [==============================] - 0s 1ms/step - loss: 0.1229 - binary_accuracy: 0.8297\n",
            "Epoch 154/300\n",
            "86/86 [==============================] - 0s 1ms/step - loss: 0.1105 - binary_accuracy: 0.8502\n",
            "Epoch 155/300\n",
            "86/86 [==============================] - 0s 2ms/step - loss: 0.1095 - binary_accuracy: 0.8529\n",
            "Epoch 156/300\n",
            "86/86 [==============================] - 0s 1ms/step - loss: 0.1187 - binary_accuracy: 0.8388\n",
            "Epoch 157/300\n",
            "86/86 [==============================] - 0s 1ms/step - loss: 0.1256 - binary_accuracy: 0.8316\n",
            "Epoch 158/300\n",
            "86/86 [==============================] - 0s 1ms/step - loss: 0.1213 - binary_accuracy: 0.8333\n",
            "Epoch 159/300\n",
            "86/86 [==============================] - 0s 1ms/step - loss: 0.1184 - binary_accuracy: 0.8425\n",
            "Epoch 160/300\n",
            "86/86 [==============================] - 0s 1ms/step - loss: 0.1115 - binary_accuracy: 0.8442\n",
            "Epoch 161/300\n",
            "86/86 [==============================] - 0s 1ms/step - loss: 0.1200 - binary_accuracy: 0.8414\n",
            "Epoch 162/300\n",
            "86/86 [==============================] - 0s 1ms/step - loss: 0.1191 - binary_accuracy: 0.8469\n",
            "Epoch 163/300\n",
            "86/86 [==============================] - 0s 1ms/step - loss: 0.1147 - binary_accuracy: 0.8421\n",
            "Epoch 164/300\n",
            "86/86 [==============================] - 0s 1ms/step - loss: 0.1226 - binary_accuracy: 0.8360\n",
            "Epoch 165/300\n",
            "86/86 [==============================] - 0s 1ms/step - loss: 0.1178 - binary_accuracy: 0.8429\n",
            "Epoch 166/300\n",
            "86/86 [==============================] - 0s 1ms/step - loss: 0.1182 - binary_accuracy: 0.8406\n",
            "Epoch 167/300\n",
            "86/86 [==============================] - 0s 1ms/step - loss: 0.1297 - binary_accuracy: 0.8250\n",
            "Epoch 168/300\n",
            "86/86 [==============================] - 0s 1ms/step - loss: 0.1207 - binary_accuracy: 0.8420\n",
            "Epoch 169/300\n",
            "86/86 [==============================] - 0s 1ms/step - loss: 0.1227 - binary_accuracy: 0.8270\n",
            "Epoch 170/300\n",
            "86/86 [==============================] - 0s 1ms/step - loss: 0.1193 - binary_accuracy: 0.8410\n",
            "Epoch 171/300\n",
            "86/86 [==============================] - 0s 2ms/step - loss: 0.1151 - binary_accuracy: 0.8428\n",
            "Epoch 172/300\n",
            "86/86 [==============================] - 0s 1ms/step - loss: 0.1140 - binary_accuracy: 0.8422\n",
            "Epoch 173/300\n",
            "86/86 [==============================] - 0s 1ms/step - loss: 0.1152 - binary_accuracy: 0.8437\n",
            "Epoch 174/300\n",
            "86/86 [==============================] - 0s 1ms/step - loss: 0.1131 - binary_accuracy: 0.8451\n",
            "Epoch 175/300\n",
            "86/86 [==============================] - 0s 1ms/step - loss: 0.1201 - binary_accuracy: 0.8366\n",
            "Epoch 176/300\n",
            "86/86 [==============================] - 0s 1ms/step - loss: 0.1201 - binary_accuracy: 0.8343\n",
            "Epoch 177/300\n",
            "86/86 [==============================] - 0s 1ms/step - loss: 0.1088 - binary_accuracy: 0.8557\n",
            "Epoch 178/300\n",
            "86/86 [==============================] - 0s 1ms/step - loss: 0.1176 - binary_accuracy: 0.8389\n",
            "Epoch 179/300\n",
            "86/86 [==============================] - 0s 1ms/step - loss: 0.1201 - binary_accuracy: 0.8358\n",
            "Epoch 180/300\n",
            "86/86 [==============================] - 0s 2ms/step - loss: 0.1169 - binary_accuracy: 0.8386\n",
            "Epoch 181/300\n",
            "86/86 [==============================] - 0s 2ms/step - loss: 0.1213 - binary_accuracy: 0.8266\n",
            "Epoch 182/300\n",
            "86/86 [==============================] - 0s 1ms/step - loss: 0.1204 - binary_accuracy: 0.8262\n",
            "Epoch 183/300\n",
            "86/86 [==============================] - 0s 1ms/step - loss: 0.1187 - binary_accuracy: 0.8420\n",
            "Epoch 184/300\n",
            "86/86 [==============================] - 0s 1ms/step - loss: 0.1170 - binary_accuracy: 0.8418\n",
            "Epoch 185/300\n",
            "86/86 [==============================] - 0s 1ms/step - loss: 0.1178 - binary_accuracy: 0.8456\n",
            "Epoch 186/300\n",
            "86/86 [==============================] - 0s 2ms/step - loss: 0.1163 - binary_accuracy: 0.8460\n",
            "Epoch 187/300\n",
            "86/86 [==============================] - 0s 1ms/step - loss: 0.1150 - binary_accuracy: 0.8476\n",
            "Epoch 188/300\n",
            "86/86 [==============================] - 0s 1ms/step - loss: 0.1203 - binary_accuracy: 0.8308\n",
            "Epoch 189/300\n",
            "86/86 [==============================] - 0s 1ms/step - loss: 0.1163 - binary_accuracy: 0.8428\n",
            "Epoch 190/300\n",
            "86/86 [==============================] - 0s 1ms/step - loss: 0.1255 - binary_accuracy: 0.8257\n",
            "Epoch 191/300\n",
            "86/86 [==============================] - 0s 2ms/step - loss: 0.1306 - binary_accuracy: 0.8173\n",
            "Epoch 192/300\n",
            "86/86 [==============================] - 0s 1ms/step - loss: 0.1313 - binary_accuracy: 0.8182\n",
            "Epoch 193/300\n",
            "86/86 [==============================] - 0s 1ms/step - loss: 0.1201 - binary_accuracy: 0.8326\n",
            "Epoch 194/300\n",
            "86/86 [==============================] - 0s 2ms/step - loss: 0.1182 - binary_accuracy: 0.8375\n",
            "Epoch 195/300\n",
            "86/86 [==============================] - 0s 2ms/step - loss: 0.1174 - binary_accuracy: 0.8383\n",
            "Epoch 196/300\n",
            "86/86 [==============================] - 0s 1ms/step - loss: 0.1117 - binary_accuracy: 0.8464\n",
            "Epoch 197/300\n",
            "86/86 [==============================] - 0s 1ms/step - loss: 0.1210 - binary_accuracy: 0.8367\n",
            "Epoch 198/300\n",
            "86/86 [==============================] - 0s 1ms/step - loss: 0.1253 - binary_accuracy: 0.8273\n",
            "Epoch 199/300\n",
            "86/86 [==============================] - 0s 1ms/step - loss: 0.1170 - binary_accuracy: 0.8469\n",
            "Epoch 200/300\n",
            "86/86 [==============================] - 0s 1ms/step - loss: 0.1172 - binary_accuracy: 0.8419\n",
            "Epoch 201/300\n",
            "86/86 [==============================] - 0s 1ms/step - loss: 0.1141 - binary_accuracy: 0.8461\n",
            "Epoch 202/300\n",
            "86/86 [==============================] - 0s 1ms/step - loss: 0.1200 - binary_accuracy: 0.8337\n",
            "Epoch 203/300\n",
            "86/86 [==============================] - 0s 2ms/step - loss: 0.1210 - binary_accuracy: 0.8325\n",
            "Epoch 204/300\n",
            "86/86 [==============================] - 0s 2ms/step - loss: 0.1191 - binary_accuracy: 0.8310\n",
            "Epoch 205/300\n",
            "86/86 [==============================] - 0s 1ms/step - loss: 0.1130 - binary_accuracy: 0.8497\n",
            "Epoch 206/300\n",
            "86/86 [==============================] - 0s 1ms/step - loss: 0.1176 - binary_accuracy: 0.8399\n",
            "Epoch 207/300\n",
            "86/86 [==============================] - 0s 1ms/step - loss: 0.1184 - binary_accuracy: 0.8360\n",
            "Epoch 208/300\n",
            "86/86 [==============================] - 0s 2ms/step - loss: 0.1156 - binary_accuracy: 0.8429\n",
            "Epoch 209/300\n",
            "86/86 [==============================] - 0s 2ms/step - loss: 0.1240 - binary_accuracy: 0.8266\n",
            "Epoch 210/300\n",
            "86/86 [==============================] - 0s 2ms/step - loss: 0.1168 - binary_accuracy: 0.8366\n",
            "Epoch 211/300\n",
            "86/86 [==============================] - 0s 1ms/step - loss: 0.1182 - binary_accuracy: 0.8421\n",
            "Epoch 212/300\n",
            "86/86 [==============================] - 0s 1ms/step - loss: 0.1144 - binary_accuracy: 0.8412\n",
            "Epoch 213/300\n",
            "86/86 [==============================] - 0s 2ms/step - loss: 0.1175 - binary_accuracy: 0.8390\n",
            "Epoch 214/300\n",
            "86/86 [==============================] - 0s 1ms/step - loss: 0.1115 - binary_accuracy: 0.8456\n",
            "Epoch 215/300\n",
            "86/86 [==============================] - 0s 1ms/step - loss: 0.1174 - binary_accuracy: 0.8413\n",
            "Epoch 216/300\n",
            "86/86 [==============================] - 0s 1ms/step - loss: 0.1210 - binary_accuracy: 0.8326\n",
            "Epoch 217/300\n",
            "86/86 [==============================] - 0s 2ms/step - loss: 0.1221 - binary_accuracy: 0.8354\n",
            "Epoch 218/300\n",
            "86/86 [==============================] - 0s 1ms/step - loss: 0.1209 - binary_accuracy: 0.8306\n",
            "Epoch 219/300\n",
            "86/86 [==============================] - 0s 1ms/step - loss: 0.1171 - binary_accuracy: 0.8409\n",
            "Epoch 220/300\n",
            "86/86 [==============================] - 0s 1ms/step - loss: 0.1149 - binary_accuracy: 0.8468\n",
            "Epoch 221/300\n",
            "86/86 [==============================] - 0s 2ms/step - loss: 0.1218 - binary_accuracy: 0.8261\n",
            "Epoch 222/300\n",
            "86/86 [==============================] - 0s 2ms/step - loss: 0.1184 - binary_accuracy: 0.8407\n",
            "Epoch 223/300\n",
            "86/86 [==============================] - 0s 1ms/step - loss: 0.1120 - binary_accuracy: 0.8455\n",
            "Epoch 224/300\n",
            "86/86 [==============================] - 0s 2ms/step - loss: 0.1169 - binary_accuracy: 0.8396\n",
            "Epoch 225/300\n",
            "86/86 [==============================] - 0s 1ms/step - loss: 0.1199 - binary_accuracy: 0.8349\n",
            "Epoch 226/300\n",
            "86/86 [==============================] - 0s 2ms/step - loss: 0.1100 - binary_accuracy: 0.8498\n",
            "Epoch 227/300\n",
            "86/86 [==============================] - 0s 1ms/step - loss: 0.1228 - binary_accuracy: 0.8237\n",
            "Epoch 228/300\n",
            "86/86 [==============================] - 0s 1ms/step - loss: 0.1272 - binary_accuracy: 0.8252\n",
            "Epoch 229/300\n",
            "86/86 [==============================] - 0s 1ms/step - loss: 0.1210 - binary_accuracy: 0.8328\n",
            "Epoch 230/300\n",
            "86/86 [==============================] - 0s 1ms/step - loss: 0.1106 - binary_accuracy: 0.8490\n",
            "Epoch 231/300\n",
            "86/86 [==============================] - 0s 1ms/step - loss: 0.1232 - binary_accuracy: 0.8268\n",
            "Epoch 232/300\n",
            "86/86 [==============================] - 0s 1ms/step - loss: 0.1168 - binary_accuracy: 0.8403\n",
            "Epoch 233/300\n",
            "86/86 [==============================] - 0s 1ms/step - loss: 0.1221 - binary_accuracy: 0.8311\n",
            "Epoch 234/300\n",
            "86/86 [==============================] - 0s 2ms/step - loss: 0.1172 - binary_accuracy: 0.8447\n",
            "Epoch 235/300\n",
            "86/86 [==============================] - 0s 1ms/step - loss: 0.1188 - binary_accuracy: 0.8351\n",
            "Epoch 236/300\n",
            "86/86 [==============================] - 0s 2ms/step - loss: 0.1177 - binary_accuracy: 0.8467\n",
            "Epoch 237/300\n",
            "86/86 [==============================] - 0s 1ms/step - loss: 0.1171 - binary_accuracy: 0.8421\n",
            "Epoch 238/300\n",
            "86/86 [==============================] - 0s 1ms/step - loss: 0.1271 - binary_accuracy: 0.8249\n",
            "Epoch 239/300\n",
            "86/86 [==============================] - 0s 1ms/step - loss: 0.1275 - binary_accuracy: 0.8199\n",
            "Epoch 240/300\n",
            "86/86 [==============================] - 0s 1ms/step - loss: 0.1113 - binary_accuracy: 0.8526\n",
            "Epoch 241/300\n",
            "86/86 [==============================] - 0s 1ms/step - loss: 0.1172 - binary_accuracy: 0.8422\n",
            "Epoch 242/300\n",
            "86/86 [==============================] - 0s 1ms/step - loss: 0.1196 - binary_accuracy: 0.8389\n",
            "Epoch 243/300\n",
            "86/86 [==============================] - 0s 1ms/step - loss: 0.1216 - binary_accuracy: 0.8291\n",
            "Epoch 244/300\n",
            "86/86 [==============================] - 0s 1ms/step - loss: 0.1168 - binary_accuracy: 0.8451\n",
            "Epoch 245/300\n",
            "86/86 [==============================] - 0s 1ms/step - loss: 0.1199 - binary_accuracy: 0.8291\n",
            "Epoch 246/300\n",
            "86/86 [==============================] - 0s 2ms/step - loss: 0.1169 - binary_accuracy: 0.8477\n",
            "Epoch 247/300\n",
            "86/86 [==============================] - 0s 2ms/step - loss: 0.1180 - binary_accuracy: 0.8406\n",
            "Epoch 248/300\n",
            "86/86 [==============================] - 0s 1ms/step - loss: 0.1202 - binary_accuracy: 0.8393\n",
            "Epoch 249/300\n",
            "86/86 [==============================] - 0s 1ms/step - loss: 0.1226 - binary_accuracy: 0.8327\n",
            "Epoch 250/300\n",
            "86/86 [==============================] - 0s 2ms/step - loss: 0.1272 - binary_accuracy: 0.8298\n",
            "Epoch 251/300\n",
            "86/86 [==============================] - 0s 1ms/step - loss: 0.1218 - binary_accuracy: 0.8328\n",
            "Epoch 252/300\n",
            "86/86 [==============================] - 0s 1ms/step - loss: 0.1198 - binary_accuracy: 0.8367\n",
            "Epoch 253/300\n",
            "86/86 [==============================] - 0s 1ms/step - loss: 0.1145 - binary_accuracy: 0.8373\n",
            "Epoch 254/300\n",
            "86/86 [==============================] - 0s 2ms/step - loss: 0.1290 - binary_accuracy: 0.8163\n",
            "Epoch 255/300\n",
            "86/86 [==============================] - 0s 1ms/step - loss: 0.1169 - binary_accuracy: 0.8465\n",
            "Epoch 256/300\n",
            "86/86 [==============================] - 0s 1ms/step - loss: 0.1175 - binary_accuracy: 0.8395\n",
            "Epoch 257/300\n",
            "86/86 [==============================] - 0s 2ms/step - loss: 0.1187 - binary_accuracy: 0.8345\n",
            "Epoch 258/300\n",
            "86/86 [==============================] - 0s 1ms/step - loss: 0.1169 - binary_accuracy: 0.8359\n",
            "Epoch 259/300\n",
            "86/86 [==============================] - 0s 2ms/step - loss: 0.1177 - binary_accuracy: 0.8407\n",
            "Epoch 260/300\n",
            "86/86 [==============================] - 0s 1ms/step - loss: 0.1205 - binary_accuracy: 0.8385\n",
            "Epoch 261/300\n",
            "86/86 [==============================] - 0s 1ms/step - loss: 0.1206 - binary_accuracy: 0.8351\n",
            "Epoch 262/300\n",
            "86/86 [==============================] - 0s 2ms/step - loss: 0.1143 - binary_accuracy: 0.8429\n",
            "Epoch 263/300\n",
            "86/86 [==============================] - 0s 1ms/step - loss: 0.1216 - binary_accuracy: 0.8338\n",
            "Epoch 264/300\n",
            "86/86 [==============================] - 0s 1ms/step - loss: 0.1111 - binary_accuracy: 0.8474\n",
            "Epoch 265/300\n",
            "86/86 [==============================] - 0s 1ms/step - loss: 0.1140 - binary_accuracy: 0.8461\n",
            "Epoch 266/300\n",
            "86/86 [==============================] - 0s 1ms/step - loss: 0.1186 - binary_accuracy: 0.8374\n",
            "Epoch 267/300\n",
            "86/86 [==============================] - 0s 2ms/step - loss: 0.1168 - binary_accuracy: 0.8497\n",
            "Epoch 268/300\n",
            "86/86 [==============================] - 0s 2ms/step - loss: 0.1193 - binary_accuracy: 0.8402\n",
            "Epoch 269/300\n",
            "86/86 [==============================] - 0s 1ms/step - loss: 0.1262 - binary_accuracy: 0.8239\n",
            "Epoch 270/300\n",
            "86/86 [==============================] - 0s 1ms/step - loss: 0.1215 - binary_accuracy: 0.8342\n",
            "Epoch 271/300\n",
            "86/86 [==============================] - 0s 1ms/step - loss: 0.1163 - binary_accuracy: 0.8429\n",
            "Epoch 272/300\n",
            "86/86 [==============================] - 0s 1ms/step - loss: 0.1169 - binary_accuracy: 0.8433\n",
            "Epoch 273/300\n",
            "86/86 [==============================] - 0s 1ms/step - loss: 0.1189 - binary_accuracy: 0.8415\n",
            "Epoch 274/300\n",
            "86/86 [==============================] - 0s 1ms/step - loss: 0.1215 - binary_accuracy: 0.8389\n",
            "Epoch 275/300\n",
            "86/86 [==============================] - 0s 1ms/step - loss: 0.1191 - binary_accuracy: 0.8287\n",
            "Epoch 276/300\n",
            "86/86 [==============================] - 0s 1ms/step - loss: 0.1136 - binary_accuracy: 0.8464\n",
            "Epoch 277/300\n",
            "86/86 [==============================] - 0s 1ms/step - loss: 0.1220 - binary_accuracy: 0.8393\n",
            "Epoch 278/300\n",
            "86/86 [==============================] - 0s 2ms/step - loss: 0.1227 - binary_accuracy: 0.8355\n",
            "Epoch 279/300\n",
            "86/86 [==============================] - 0s 1ms/step - loss: 0.1156 - binary_accuracy: 0.8381\n",
            "Epoch 280/300\n",
            "86/86 [==============================] - 0s 1ms/step - loss: 0.1138 - binary_accuracy: 0.8420\n",
            "Epoch 281/300\n",
            "86/86 [==============================] - 0s 1ms/step - loss: 0.1160 - binary_accuracy: 0.8393\n",
            "Epoch 282/300\n",
            "86/86 [==============================] - 0s 1ms/step - loss: 0.1164 - binary_accuracy: 0.8437\n",
            "Epoch 283/300\n",
            "86/86 [==============================] - 0s 1ms/step - loss: 0.1112 - binary_accuracy: 0.8520\n",
            "Epoch 284/300\n",
            "86/86 [==============================] - 0s 1ms/step - loss: 0.1181 - binary_accuracy: 0.8365\n",
            "Epoch 285/300\n",
            "86/86 [==============================] - 0s 1ms/step - loss: 0.1233 - binary_accuracy: 0.8275\n",
            "Epoch 286/300\n",
            "86/86 [==============================] - 0s 1ms/step - loss: 0.1165 - binary_accuracy: 0.8491\n",
            "Epoch 287/300\n",
            "86/86 [==============================] - 0s 2ms/step - loss: 0.1208 - binary_accuracy: 0.8301\n",
            "Epoch 288/300\n",
            "86/86 [==============================] - 0s 1ms/step - loss: 0.1190 - binary_accuracy: 0.8399\n",
            "Epoch 289/300\n",
            "86/86 [==============================] - 0s 1ms/step - loss: 0.1124 - binary_accuracy: 0.8370\n",
            "Epoch 290/300\n",
            "86/86 [==============================] - 0s 1ms/step - loss: 0.1198 - binary_accuracy: 0.8401\n",
            "Epoch 291/300\n",
            "86/86 [==============================] - 0s 1ms/step - loss: 0.1174 - binary_accuracy: 0.8420\n",
            "Epoch 292/300\n",
            "86/86 [==============================] - 0s 1ms/step - loss: 0.1261 - binary_accuracy: 0.8217\n",
            "Epoch 293/300\n",
            "86/86 [==============================] - 0s 1ms/step - loss: 0.1234 - binary_accuracy: 0.8222\n",
            "Epoch 294/300\n",
            "86/86 [==============================] - 0s 1ms/step - loss: 0.1261 - binary_accuracy: 0.8231\n",
            "Epoch 295/300\n",
            "86/86 [==============================] - 0s 1ms/step - loss: 0.1124 - binary_accuracy: 0.8470\n",
            "Epoch 296/300\n",
            "86/86 [==============================] - 0s 2ms/step - loss: 0.1119 - binary_accuracy: 0.8511\n",
            "Epoch 297/300\n",
            "86/86 [==============================] - 0s 1ms/step - loss: 0.1172 - binary_accuracy: 0.8423\n",
            "Epoch 298/300\n",
            "86/86 [==============================] - 0s 1ms/step - loss: 0.1176 - binary_accuracy: 0.8344\n",
            "Epoch 299/300\n",
            "86/86 [==============================] - 0s 1ms/step - loss: 0.1256 - binary_accuracy: 0.8236\n",
            "Epoch 300/300\n",
            "86/86 [==============================] - 0s 1ms/step - loss: 0.1148 - binary_accuracy: 0.8464\n"
          ],
          "name": "stdout"
        },
        {
          "output_type": "execute_result",
          "data": {
            "text/plain": [
              "<tensorflow.python.keras.callbacks.History at 0x7f44939c8c50>"
            ]
          },
          "metadata": {
            "tags": []
          },
          "execution_count": 69
        }
      ]
    },
    {
      "cell_type": "code",
      "metadata": {
        "id": "ymp9aozr2Shq",
        "colab": {
          "base_uri": "https://localhost:8080/"
        },
        "outputId": "f4f5306e-3d52-4bc2-ad2d-319ea6a253ae"
      },
      "source": [
        "y_pred_RN = RN_clf.predict_proba(dfAL_test_validation2.drop(\"R\",axis=1))"
      ],
      "execution_count": 70,
      "outputs": [
        {
          "output_type": "stream",
          "text": [
            "/usr/local/lib/python3.7/dist-packages/tensorflow/python/keras/engine/sequential.py:425: UserWarning: `model.predict_proba()` is deprecated and will be removed after 2021-01-01. Please use `model.predict()` instead.\n",
            "  warnings.warn('`model.predict_proba()` is deprecated and '\n"
          ],
          "name": "stderr"
        }
      ]
    },
    {
      "cell_type": "code",
      "metadata": {
        "colab": {
          "base_uri": "https://localhost:8080/"
        },
        "id": "QngOCIYMUZmv",
        "outputId": "224ddf41-38ac-43b7-9977-94755ac85201"
      },
      "source": [
        "print(\"Matriz de Confusión Alfa 0.25\")\n",
        "print(confusion_matrix(y_true2,y_pred_RN[:,0]>0.25))"
      ],
      "execution_count": 71,
      "outputs": [
        {
          "output_type": "stream",
          "text": [
            "Matriz de Confusión Alfa 0.25\n",
            "[[484 159]\n",
            " [ 48 483]]\n"
          ],
          "name": "stdout"
        }
      ]
    },
    {
      "cell_type": "code",
      "metadata": {
        "colab": {
          "base_uri": "https://localhost:8080/"
        },
        "id": "uqvIVJyYUeQm",
        "outputId": "97c4100a-7f60-4727-ea9c-258a781a8c17"
      },
      "source": [
        "alfa = 0.02\n",
        "recalls = np.zeros(100)\n",
        "precisions= np.zeros(100)\n",
        "FPR = np.zeros(100)\n",
        "alfas = np.linspace(0,1,100)\n",
        "for idx,alfa in enumerate(alfas):\n",
        "    tn, fp, fn, tp = confusion_matrix(y_true2,y_pred_RN[:,0]>alfa).ravel()\n",
        "    recalls[idx] = (tp/(tp+fn))\n",
        "    precisions[idx] = (tp/(tp+fp))\n",
        "    FPR[idx]= (fp/(fp+tn))"
      ],
      "execution_count": 72,
      "outputs": [
        {
          "output_type": "stream",
          "text": [
            "/usr/local/lib/python3.7/dist-packages/ipykernel_launcher.py:9: RuntimeWarning: invalid value encountered in long_scalars\n",
            "  if __name__ == '__main__':\n"
          ],
          "name": "stderr"
        }
      ]
    },
    {
      "cell_type": "code",
      "metadata": {
        "colab": {
          "base_uri": "https://localhost:8080/"
        },
        "id": "bBgkGY4oUt3X",
        "outputId": "d3dd78fc-76f4-405e-dc16-04cf3afa85fd"
      },
      "source": [
        "print(\"Para un alfa 0.25 --> Valor de recall\", recalls[25], \"Valor de Precisions\", precisions[25], \"Valor de FPR\", FPR[25])\n",
        "print(\"Para un alfa 0.5 --> Valor de recall\", recalls[50], \"Valor de Precisions\", precisions[50], \"Valor de FPR\", FPR[50])\n",
        "print(\"Para un alfa 0.75 --> Valor de recall\", recalls[75], \"Valor de Precisions\", precisions[75], \"Valor de FPR\", FPR[75])"
      ],
      "execution_count": 73,
      "outputs": [
        {
          "output_type": "stream",
          "text": [
            "Para un alfa 0.25 --> Valor de recall 0.9096045197740112 Valor de Precisions 0.7523364485981309 Valor de FPR 0.24727838258164853\n",
            "Para un alfa 0.5 --> Valor de recall 0.783427495291902 Valor de Precisions 0.827037773359841 Valor de FPR 0.13530326594090203\n",
            "Para un alfa 0.75 --> Valor de recall 0.6516007532956686 Valor de Precisions 0.8737373737373737 Valor de FPR 0.07776049766718507\n"
          ],
          "name": "stdout"
        }
      ]
    },
    {
      "cell_type": "code",
      "metadata": {
        "colab": {
          "base_uri": "https://localhost:8080/",
          "height": 350
        },
        "id": "x0uVYCoPUyX_",
        "outputId": "6c71cbd8-5281-4f04-a072-3b18d0299705"
      },
      "source": [
        "plt.figure(figsize=[5,5])\n",
        "plt.plot(FPR,recalls)\n",
        "plt.title(\"Curva ROC RN RTO\")\n",
        "plt.xlabel(\"FPR\")\n",
        "plt.ylabel(\"TPR\")\n",
        "plt.show()"
      ],
      "execution_count": 74,
      "outputs": [
        {
          "output_type": "display_data",
          "data": {
            "image/png": "[encoded data removed]",
            "text/plain": [
              "<Figure size 360x360 with 1 Axes>"
            ]
          },
          "metadata": {
            "tags": [],
            "needs_background": "light"
          }
        }
      ]
    },
    {
      "cell_type": "code",
      "metadata": {
        "id": "JCTKKf-SVENe"
      },
      "source": [
        ""
      ],
      "execution_count": 74,
      "outputs": []
    }
  ]
}