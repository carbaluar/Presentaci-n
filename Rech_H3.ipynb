{
  "nbformat": 4,
  "nbformat_minor": 0,
  "metadata": {
    "colab": {
      "name": "Rech H3",
      "provenance": [],
      "collapsed_sections": [],
      "toc_visible": true,
      "include_colab_link": true
    },
    "kernelspec": {
      "display_name": "Python 3",
      "name": "python3"
    },
    "language_info": {
      "name": "python"
    }
  },
  "cells": [
    {
      "cell_type": "markdown",
      "metadata": {
        "id": "view-in-github",
        "colab_type": "text"
      },
      "source": [
        "<a href=\"https://colab.research.google.com/github/carbaluar/Presentaci-n/blob/main/Rech_H3.ipynb\" target=\"_parent\"><img src=\"https://colab.research.google.com/assets/colab-badge.svg\" alt=\"Open In Colab\"/></a>"
      ]
    },
    {
      "cell_type": "code",
      "metadata": {
        "id": "bgjyCmxdDFCW"
      },
      "source": [
        ""
      ],
      "execution_count": null,
      "outputs": []
    },
    {
      "cell_type": "code",
      "metadata": {
        "id": "64ZeWuTWmaB4"
      },
      "source": [
        "import pandas as pd\n",
        "from matplotlib import pyplot as plt\n",
        "import sqlite3\n",
        "import datetime"
      ],
      "execution_count": null,
      "outputs": []
    },
    {
      "cell_type": "code",
      "metadata": {
        "colab": {
          "base_uri": "https://localhost:8080/",
          "height": 204
        },
        "id": "Z7y-pSf8jnOI",
        "outputId": "37ca705d-e27e-448b-de75-93fd22219b6b"
      },
      "source": [
        "\n",
        "dfAL = pd.read_excel('/content/CocRech.xlsx',sheet_name='Hoja1')\n",
        "dfAL.head()"
      ],
      "execution_count": null,
      "outputs": [
        {
          "output_type": "execute_result",
          "data": {
            "text/html": [
              "<div>\n",
              "<style scoped>\n",
              "    .dataframe tbody tr th:only-of-type {\n",
              "        vertical-align: middle;\n",
              "    }\n",
              "\n",
              "    .dataframe tbody tr th {\n",
              "        vertical-align: top;\n",
              "    }\n",
              "\n",
              "    .dataframe thead th {\n",
              "        text-align: right;\n",
              "    }\n",
              "</style>\n",
              "<table border=\"1\" class=\"dataframe\">\n",
              "  <thead>\n",
              "    <tr style=\"text-align: right;\">\n",
              "      <th></th>\n",
              "      <th>Fecha</th>\n",
              "      <th>CamDesc</th>\n",
              "      <th>HrDescTeo</th>\n",
              "      <th>Fuego</th>\n",
              "      <th>HrProc</th>\n",
              "      <th>Nrech</th>\n",
              "      <th>HubRech</th>\n",
              "    </tr>\n",
              "  </thead>\n",
              "  <tbody>\n",
              "    <tr>\n",
              "      <th>0</th>\n",
              "      <td>2020-03-27</td>\n",
              "      <td>26</td>\n",
              "      <td>4.166667</td>\n",
              "      <td>4</td>\n",
              "      <td>317.750000</td>\n",
              "      <td>8</td>\n",
              "      <td>1</td>\n",
              "    </tr>\n",
              "    <tr>\n",
              "      <th>1</th>\n",
              "      <td>2020-03-29</td>\n",
              "      <td>11</td>\n",
              "      <td>9.333333</td>\n",
              "      <td>1</td>\n",
              "      <td>325.333333</td>\n",
              "      <td>1</td>\n",
              "      <td>0</td>\n",
              "    </tr>\n",
              "    <tr>\n",
              "      <th>2</th>\n",
              "      <td>2020-03-31</td>\n",
              "      <td>13</td>\n",
              "      <td>6.666667</td>\n",
              "      <td>1</td>\n",
              "      <td>322.416667</td>\n",
              "      <td>4</td>\n",
              "      <td>0</td>\n",
              "    </tr>\n",
              "    <tr>\n",
              "      <th>3</th>\n",
              "      <td>2020-04-01</td>\n",
              "      <td>14</td>\n",
              "      <td>3.500000</td>\n",
              "      <td>1</td>\n",
              "      <td>326.166667</td>\n",
              "      <td>4</td>\n",
              "      <td>0</td>\n",
              "    </tr>\n",
              "    <tr>\n",
              "      <th>4</th>\n",
              "      <td>2020-04-02</td>\n",
              "      <td>31</td>\n",
              "      <td>0.333333</td>\n",
              "      <td>4</td>\n",
              "      <td>345.000000</td>\n",
              "      <td>2</td>\n",
              "      <td>0</td>\n",
              "    </tr>\n",
              "  </tbody>\n",
              "</table>\n",
              "</div>"
            ],
            "text/plain": [
              "       Fecha  CamDesc  HrDescTeo  Fuego      HrProc  Nrech  HubRech\n",
              "0 2020-03-27       26   4.166667      4  317.750000      8        1\n",
              "1 2020-03-29       11   9.333333      1  325.333333      1        0\n",
              "2 2020-03-31       13   6.666667      1  322.416667      4        0\n",
              "3 2020-04-01       14   3.500000      1  326.166667      4        0\n",
              "4 2020-04-02       31   0.333333      4  345.000000      2        0"
            ]
          },
          "metadata": {
            "tags": []
          },
          "execution_count": 9
        }
      ]
    },
    {
      "cell_type": "code",
      "metadata": {
        "colab": {
          "base_uri": "https://localhost:8080/"
        },
        "id": "8-4S3bIuwrwN",
        "outputId": "7d18684f-1cfd-4592-fc67-147255f105a6"
      },
      "source": [
        "dfAL.info()"
      ],
      "execution_count": null,
      "outputs": [
        {
          "output_type": "stream",
          "text": [
            "<class 'pandas.core.frame.DataFrame'>\n",
            "RangeIndex: 985 entries, 0 to 984\n",
            "Data columns (total 7 columns):\n",
            " #   Column                     Non-Null Count  Dtype         \n",
            "---  ------                     --------------  -----         \n",
            " 0   FT_INFORME                 985 non-null    datetime64[ns]\n",
            " 1   Cam. Teo Desc              985 non-null    int64         \n",
            " 2   Horas desde Desc. Teórica  985 non-null    float64       \n",
            " 3   Fuego                      985 non-null    int64         \n",
            " 4   Horas proceso              985 non-null    float64       \n",
            " 5   Rech                       985 non-null    int64         \n",
            " 6   Hubo rech                  985 non-null    int64         \n",
            "dtypes: datetime64[ns](1), float64(2), int64(4)\n",
            "memory usage: 54.0 KB\n"
          ],
          "name": "stdout"
        }
      ]
    },
    {
      "cell_type": "code",
      "metadata": {
        "id": "aCXH9AwXmkIn"
      },
      "source": [
        "from sklearn.model_selection import train_test_split"
      ],
      "execution_count": null,
      "outputs": []
    },
    {
      "cell_type": "code",
      "metadata": {
        "id": "1hmkmQCTp47Z"
      },
      "source": [
        "# divido entre train y test/validación en 70%/30%\n",
        "dfAL_train, dfAL_test_validation = train_test_split(dfAL, train_size=0.7, stratify = dfAL[\"HubRech\"])"
      ],
      "execution_count": null,
      "outputs": []
    },
    {
      "cell_type": "code",
      "metadata": {
        "id": "bP4KTUXSq7F7"
      },
      "source": [
        "# divido entre train y test/validación en 15% y 15%\n",
        "dfAL_test, dfAL_validation = train_test_split(dfAL_test_validation, train_size=0.5, stratify = dfAL_test_validation[\"HubRech\"])"
      ],
      "execution_count": null,
      "outputs": []
    },
    {
      "cell_type": "code",
      "metadata": {
        "colab": {
          "base_uri": "https://localhost:8080/"
        },
        "id": "UUdZsA3ZtHZh",
        "outputId": "a60509ff-2021-41c9-bd9c-779f062866db"
      },
      "source": [
        "dfAL_train.shape"
      ],
      "execution_count": null,
      "outputs": [
        {
          "output_type": "execute_result",
          "data": {
            "text/plain": [
              "(475, 7)"
            ]
          },
          "metadata": {
            "tags": []
          },
          "execution_count": 13
        }
      ]
    },
    {
      "cell_type": "code",
      "metadata": {
        "colab": {
          "base_uri": "https://localhost:8080/"
        },
        "id": "S756st1stL4g",
        "outputId": "3ce3d350-9b32-4621-b842-bfff92fbb93d"
      },
      "source": [
        "dfAL_test.shape"
      ],
      "execution_count": null,
      "outputs": [
        {
          "output_type": "execute_result",
          "data": {
            "text/plain": [
              "(102, 7)"
            ]
          },
          "metadata": {
            "tags": []
          },
          "execution_count": 14
        }
      ]
    },
    {
      "cell_type": "code",
      "metadata": {
        "colab": {
          "base_uri": "https://localhost:8080/"
        },
        "id": "E7_CuF_6tTaN",
        "outputId": "bb27a81d-c9a6-4a04-e855-669764d9f2ca"
      },
      "source": [
        "dfAL_validation.shape"
      ],
      "execution_count": null,
      "outputs": [
        {
          "output_type": "execute_result",
          "data": {
            "text/plain": [
              "(103, 7)"
            ]
          },
          "metadata": {
            "tags": []
          },
          "execution_count": 15
        }
      ]
    },
    {
      "cell_type": "markdown",
      "metadata": {
        "id": "ycFpnHvC-u4L"
      },
      "source": [
        "### Modelo Gaussiano"
      ]
    },
    {
      "cell_type": "code",
      "metadata": {
        "id": "upJiH-MItXVo"
      },
      "source": [
        "from sklearn.naive_bayes import GaussianNB"
      ],
      "execution_count": null,
      "outputs": []
    },
    {
      "cell_type": "code",
      "metadata": {
        "id": "5wYXULIItkga"
      },
      "source": [
        "clf = GaussianNB(priors=None, var_smoothing= 0.001)"
      ],
      "execution_count": null,
      "outputs": []
    },
    {
      "cell_type": "code",
      "metadata": {
        "id": "d_F1k8rCt4X_"
      },
      "source": [
        "dfAL_train2 = dfAL_train[[\"HrDescTeo\",\"HrProc\",\"HubRech\"]].copy()"
      ],
      "execution_count": null,
      "outputs": []
    },
    {
      "cell_type": "code",
      "metadata": {
        "colab": {
          "base_uri": "https://localhost:8080/"
        },
        "id": "MOd820hbu3gh",
        "outputId": "6e0335b5-ef30-4148-bbd5-0f177501823e"
      },
      "source": [
        "clf.fit(dfAL_train2.drop(\"HubRech\",axis=1), dfAL_train2[\"HubRech\"])"
      ],
      "execution_count": null,
      "outputs": [
        {
          "output_type": "execute_result",
          "data": {
            "text/plain": [
              "GaussianNB(priors=None, var_smoothing=0.001)"
            ]
          },
          "metadata": {
            "tags": []
          },
          "execution_count": 21
        }
      ]
    },
    {
      "cell_type": "code",
      "metadata": {
        "colab": {
          "base_uri": "https://localhost:8080/"
        },
        "id": "Rbutu0yCvF_l",
        "outputId": "30687348-c28b-4b42-b657-cfe0506c4cea"
      },
      "source": [
        "clf.score(dfAL_train2.drop(\"HubRech\",axis=1), dfAL_train2[\"HubRech\"])"
      ],
      "execution_count": null,
      "outputs": [
        {
          "output_type": "execute_result",
          "data": {
            "text/plain": [
              "0.5578947368421052"
            ]
          },
          "metadata": {
            "tags": []
          },
          "execution_count": 22
        }
      ]
    },
    {
      "cell_type": "code",
      "metadata": {
        "id": "DbrC7RgZv9GW"
      },
      "source": [
        "dfAL_validation2 = dfAL_validation[[\"HrDescTeo\",\"HrProc\",\"HubRech\"]].copy()\n",
        "dfAL_test_validation2 = dfAL_test_validation[[\"HrDescTeo\",\"HrProc\",\"HubRech\"]].copy()"
      ],
      "execution_count": null,
      "outputs": []
    },
    {
      "cell_type": "code",
      "metadata": {
        "colab": {
          "base_uri": "https://localhost:8080/"
        },
        "id": "7EEvVjOHwDLZ",
        "outputId": "ea644d36-b470-4551-dc60-13a223363b18"
      },
      "source": [
        "clf.score(dfAL_validation2.drop(\"HubRech\",axis=1), dfAL_validation2[\"HubRech\"])\n"
      ],
      "execution_count": null,
      "outputs": [
        {
          "output_type": "execute_result",
          "data": {
            "text/plain": [
              "0.5728155339805825"
            ]
          },
          "metadata": {
            "tags": []
          },
          "execution_count": 25
        }
      ]
    },
    {
      "cell_type": "code",
      "metadata": {
        "colab": {
          "base_uri": "https://localhost:8080/"
        },
        "id": "whumwuztFYCy",
        "outputId": "80855304-eb17-4dfc-a3e3-d417c068ab79"
      },
      "source": [
        "clf.score(dfAL_test_validation2.drop(\"HubRech\",axis=1), dfAL_test_validation2[\"HubRech\"])"
      ],
      "execution_count": null,
      "outputs": [
        {
          "output_type": "execute_result",
          "data": {
            "text/plain": [
              "0.5609756097560976"
            ]
          },
          "metadata": {
            "tags": []
          },
          "execution_count": 26
        }
      ]
    },
    {
      "cell_type": "code",
      "metadata": {
        "id": "gHJiQhyiwNFd"
      },
      "source": [
        "BuscaSmoot = [0.1, 0.001, 0.0001, 0.00001, 0.000001, 0.000000000001]"
      ],
      "execution_count": null,
      "outputs": []
    },
    {
      "cell_type": "code",
      "metadata": {
        "colab": {
          "base_uri": "https://localhost:8080/"
        },
        "id": "J3MYNSY8yn3z",
        "outputId": "cb667a5c-8ebe-4927-d5b2-3e7040de3ef3"
      },
      "source": [
        "scores = list()\n",
        "for busca in BuscaSmoot:\n",
        "    clf = GaussianNB(var_smoothing = busca)\n",
        "    clf.fit(dfAL_train2.drop(\"HubRech\",axis=1), dfAL_train2[\"HubRech\"])\n",
        "    scores.append(clf.score(dfAL_validation2.drop(\"HubRech\",axis=1), dfAL_validation2[\"HubRech\"]))\n",
        "\n",
        "print(\"Máximo score con un smoothing de: \", BuscaSmoot[scores.index(max(scores))], \"--> valor de Score: \", max(scores))"
      ],
      "execution_count": null,
      "outputs": [
        {
          "output_type": "stream",
          "text": [
            "Máximo score con un smoothing de:  0.1 --> valor de Score:  0.5922330097087378\n"
          ],
          "name": "stdout"
        }
      ]
    },
    {
      "cell_type": "code",
      "metadata": {
        "colab": {
          "base_uri": "https://localhost:8080/"
        },
        "id": "X8nHpoYZFfCa",
        "outputId": "4842206f-dccb-4d95-a769-2484f84868bd"
      },
      "source": [
        "scores = list()\n",
        "for busca in BuscaSmoot:\n",
        "    clf = GaussianNB(var_smoothing = busca)\n",
        "    clf.fit(dfAL_train2.drop(\"HubRech\",axis=1), dfAL_train2[\"HubRech\"])\n",
        "    scores.append(clf.score(dfAL_test_validation2.drop(\"HubRech\",axis=1), dfAL_test_validation2[\"HubRech\"]))\n",
        "\n",
        "print(\"Máximo score con un smoothing de: \", BuscaSmoot[scores.index(max(scores))], \"--> valor de Score: \", max(scores))"
      ],
      "execution_count": null,
      "outputs": [
        {
          "output_type": "stream",
          "text": [
            "Máximo score con un smoothing de:  0.1 --> valor de Score:  0.5756097560975609\n"
          ],
          "name": "stdout"
        }
      ]
    },
    {
      "cell_type": "markdown",
      "metadata": {
        "id": "0ertKUX--zoj"
      },
      "source": [
        "Dato Obtenido"
      ]
    },
    {
      "cell_type": "code",
      "metadata": {
        "colab": {
          "base_uri": "https://localhost:8080/",
          "height": 204
        },
        "id": "IE5lH6kb-_PX",
        "outputId": "b0566154-294a-4cca-8d92-1b650216214b"
      },
      "source": [
        "from sklearn.metrics import confusion_matrix, roc_auc_score\n",
        "import numpy as np\n",
        "dfAL_train2.head()"
      ],
      "execution_count": null,
      "outputs": [
        {
          "output_type": "execute_result",
          "data": {
            "text/html": [
              "<div>\n",
              "<style scoped>\n",
              "    .dataframe tbody tr th:only-of-type {\n",
              "        vertical-align: middle;\n",
              "    }\n",
              "\n",
              "    .dataframe tbody tr th {\n",
              "        vertical-align: top;\n",
              "    }\n",
              "\n",
              "    .dataframe thead th {\n",
              "        text-align: right;\n",
              "    }\n",
              "</style>\n",
              "<table border=\"1\" class=\"dataframe\">\n",
              "  <thead>\n",
              "    <tr style=\"text-align: right;\">\n",
              "      <th></th>\n",
              "      <th>HrDescTeo</th>\n",
              "      <th>HrProc</th>\n",
              "      <th>HubRech</th>\n",
              "    </tr>\n",
              "  </thead>\n",
              "  <tbody>\n",
              "    <tr>\n",
              "      <th>218</th>\n",
              "      <td>55.583333</td>\n",
              "      <td>352.500000</td>\n",
              "      <td>0</td>\n",
              "    </tr>\n",
              "    <tr>\n",
              "      <th>596</th>\n",
              "      <td>45.500000</td>\n",
              "      <td>297.666667</td>\n",
              "      <td>0</td>\n",
              "    </tr>\n",
              "    <tr>\n",
              "      <th>451</th>\n",
              "      <td>16.666667</td>\n",
              "      <td>309.000000</td>\n",
              "      <td>0</td>\n",
              "    </tr>\n",
              "    <tr>\n",
              "      <th>5</th>\n",
              "      <td>7.750000</td>\n",
              "      <td>335.000000</td>\n",
              "      <td>1</td>\n",
              "    </tr>\n",
              "    <tr>\n",
              "      <th>58</th>\n",
              "      <td>30.500000</td>\n",
              "      <td>381.000000</td>\n",
              "      <td>0</td>\n",
              "    </tr>\n",
              "  </tbody>\n",
              "</table>\n",
              "</div>"
            ],
            "text/plain": [
              "     HrDescTeo      HrProc  HubRech\n",
              "218  55.583333  352.500000        0\n",
              "596  45.500000  297.666667        0\n",
              "451  16.666667  309.000000        0\n",
              "5     7.750000  335.000000        1\n",
              "58   30.500000  381.000000        0"
            ]
          },
          "metadata": {
            "tags": []
          },
          "execution_count": 32
        }
      ]
    },
    {
      "cell_type": "code",
      "metadata": {
        "colab": {
          "base_uri": "https://localhost:8080/"
        },
        "id": "juIxOtWr_Rnp",
        "outputId": "1a0101f9-a338-49c5-b38e-ea75fbed45ef"
      },
      "source": [
        "clf.predict(np.array([[55,325]]))"
      ],
      "execution_count": null,
      "outputs": [
        {
          "output_type": "execute_result",
          "data": {
            "text/plain": [
              "array([1])"
            ]
          },
          "metadata": {
            "tags": []
          },
          "execution_count": 37
        }
      ]
    },
    {
      "cell_type": "markdown",
      "metadata": {
        "id": "OrcyJwKEC38-"
      },
      "source": [
        "Matriz"
      ]
    },
    {
      "cell_type": "code",
      "metadata": {
        "id": "J8iyTRBIC5xk"
      },
      "source": [
        "y_true = 1*np.array(dfAL_validation2[\"HubRech\"])"
      ],
      "execution_count": null,
      "outputs": []
    },
    {
      "cell_type": "code",
      "metadata": {
        "id": "wVwZW5lmFvfT"
      },
      "source": [
        "y_true2 = 1*np.array(dfAL_test_validation2[\"HubRech\"])"
      ],
      "execution_count": null,
      "outputs": []
    },
    {
      "cell_type": "code",
      "metadata": {
        "id": "TkE3o2HsDgpi"
      },
      "source": [
        "y_pred = clf.predict_proba(dfAL_validation2.drop(\"HubRech\",axis=1))"
      ],
      "execution_count": null,
      "outputs": []
    },
    {
      "cell_type": "code",
      "metadata": {
        "id": "wQkbaVazF1Qz"
      },
      "source": [
        "y_pred2 = clf.predict_proba(dfAL_test_validation2.drop(\"HubRech\",axis=1))"
      ],
      "execution_count": null,
      "outputs": []
    },
    {
      "cell_type": "code",
      "metadata": {
        "colab": {
          "base_uri": "https://localhost:8080/"
        },
        "id": "Akt8DwPEDr4-",
        "outputId": "abdbc18d-8bbf-4f0a-f82d-e86e13930b5a"
      },
      "source": [
        "print(\"Matriz de Confusión Alfa 0.25\")\n",
        "print(confusion_matrix(y_true,y_pred[:,1]>0.25))"
      ],
      "execution_count": null,
      "outputs": [
        {
          "output_type": "stream",
          "text": [
            "Matriz de Confusión Alfa 0.25\n",
            "[[ 0 54]\n",
            " [ 0 49]]\n"
          ],
          "name": "stdout"
        }
      ]
    },
    {
      "cell_type": "code",
      "metadata": {
        "colab": {
          "base_uri": "https://localhost:8080/"
        },
        "id": "AMxjmqMNF81X",
        "outputId": "63e4d250-1503-4708-b5c2-0d52d1c65a0b"
      },
      "source": [
        "print(\"Matriz de Confusión Alfa 0.25\")\n",
        "print(confusion_matrix(y_true2,y_pred2[:,1]>0.25))"
      ],
      "execution_count": null,
      "outputs": [
        {
          "output_type": "stream",
          "text": [
            "Matriz de Confusión Alfa 0.25\n",
            "[[  0 107]\n",
            " [  0  98]]\n"
          ],
          "name": "stdout"
        }
      ]
    },
    {
      "cell_type": "code",
      "metadata": {
        "colab": {
          "base_uri": "https://localhost:8080/"
        },
        "id": "NAihpKoIEF7d",
        "outputId": "a23cd714-6866-460c-9a8a-9d89d2903793"
      },
      "source": [
        "alfa = 0.02\n",
        "recalls = np.zeros(100)\n",
        "precisions= np.zeros(100)\n",
        "FPR = np.zeros(100)\n",
        "alfas = np.linspace(0,1,100)\n",
        "for idx,alfa in enumerate(alfas):\n",
        "    tn, fp, fn, tp = confusion_matrix(y_true,y_pred[:,1]>alfa).ravel()\n",
        "    recalls[idx] = (tp/(tp+fn))\n",
        "    precisions[idx] = (tp/(tp+fp))\n",
        "    FPR[idx]= (fp/(fp+tn))"
      ],
      "execution_count": null,
      "outputs": [
        {
          "output_type": "stream",
          "text": [
            "/usr/local/lib/python3.7/dist-packages/ipykernel_launcher.py:9: RuntimeWarning: invalid value encountered in long_scalars\n",
            "  if __name__ == '__main__':\n"
          ],
          "name": "stderr"
        }
      ]
    },
    {
      "cell_type": "code",
      "metadata": {
        "colab": {
          "base_uri": "https://localhost:8080/"
        },
        "id": "sY1WmUCcGQiI",
        "outputId": "4a3dbc29-2db6-4312-dd13-9fd8c3b95b6e"
      },
      "source": [
        "alfa = 0.02\n",
        "recalls = np.zeros(100)\n",
        "precisions= np.zeros(100)\n",
        "FPR = np.zeros(100)\n",
        "alfas = np.linspace(0,1,100)\n",
        "for idx,alfa in enumerate(alfas):\n",
        "    tn, fp, fn, tp = confusion_matrix(y_true2,y_pred2[:,1]>alfa).ravel()\n",
        "    recalls[idx] = (tp/(tp+fn))\n",
        "    precisions[idx] = (tp/(tp+fp))\n",
        "    FPR[idx]= (fp/(fp+tn))"
      ],
      "execution_count": null,
      "outputs": [
        {
          "output_type": "stream",
          "text": [
            "/usr/local/lib/python3.7/dist-packages/ipykernel_launcher.py:9: RuntimeWarning: invalid value encountered in long_scalars\n",
            "  if __name__ == '__main__':\n"
          ],
          "name": "stderr"
        }
      ]
    },
    {
      "cell_type": "code",
      "metadata": {
        "colab": {
          "base_uri": "https://localhost:8080/"
        },
        "id": "kP_jb-1aETr7",
        "outputId": "6931c109-4824-406b-de44-8bba6ae2b77f"
      },
      "source": [
        "print(\"Para un alfa 0.25 --> Valor de recall\", recalls[25], \"Valor de Precisions\", precisions[25], \"Valor de FPR\", FPR[25])\n",
        "print(\"Para un alfa 0.5 --> Valor de recall\", recalls[50], \"Valor de Precisions\", precisions[50], \"Valor de FPR\", FPR[50])\n",
        "print(\"Para un alfa 0.75 --> Valor de recall\", recalls[75], \"Valor de Precisions\", precisions[75], \"Valor de FPR\", FPR[75])"
      ],
      "execution_count": null,
      "outputs": [
        {
          "output_type": "stream",
          "text": [
            "Para un alfa 0.25 --> Valor de recall 1.0 Valor de Precisions 0.47804878048780486 Valor de FPR 1.0\n",
            "Para un alfa 0.5 --> Valor de recall 0.5 Valor de Precisions 0.550561797752809 Valor de FPR 0.37383177570093457\n",
            "Para un alfa 0.75 --> Valor de recall 0.0 Valor de Precisions nan Valor de FPR 0.0\n"
          ],
          "name": "stdout"
        }
      ]
    },
    {
      "cell_type": "code",
      "metadata": {
        "id": "nIHsn2pkGacm"
      },
      "source": [
        ""
      ],
      "execution_count": null,
      "outputs": []
    },
    {
      "cell_type": "code",
      "metadata": {
        "colab": {
          "base_uri": "https://localhost:8080/",
          "height": 350
        },
        "id": "5b6st8OmEk0y",
        "outputId": "785b343a-9ca2-4e14-cecd-65638fcac34a"
      },
      "source": [
        "plt.figure(figsize=[5,5])\n",
        "plt.plot(FPR,recalls)\n",
        "plt.title(\"Curva ROC ejercicio Rechazos Cocidos y atraso descarga\")\n",
        "plt.xlabel(\"FPR\")\n",
        "plt.ylabel(\"TPR\")\n",
        "plt.show()"
      ],
      "execution_count": null,
      "outputs": [
        {
          "output_type": "display_data",
          "data": {
            "image/png": "[encoded data removed]",
            "text/plain": [
              "<Figure size 360x360 with 1 Axes>"
            ]
          },
          "metadata": {
            "tags": [],
            "needs_background": "light"
          }
        }
      ]
    },
    {
      "cell_type": "markdown",
      "metadata": {
        "id": "h1JcaxfLzLrr"
      },
      "source": [
        "Modelo LDA"
      ]
    },
    {
      "cell_type": "code",
      "metadata": {
        "id": "JfnIGwO1zPa6"
      },
      "source": [
        "from sklearn.discriminant_analysis import LinearDiscriminantAnalysis"
      ],
      "execution_count": null,
      "outputs": []
    },
    {
      "cell_type": "code",
      "metadata": {
        "id": "EDyJxoraQ0xw"
      },
      "source": [
        ""
      ],
      "execution_count": null,
      "outputs": []
    },
    {
      "cell_type": "code",
      "metadata": {
        "id": "5bNbY4E_zSfE"
      },
      "source": [
        "LDA_clf = LinearDiscriminantAnalysis()"
      ],
      "execution_count": null,
      "outputs": []
    },
    {
      "cell_type": "code",
      "metadata": {
        "colab": {
          "base_uri": "https://localhost:8080/"
        },
        "id": "3e11vd0fzVJy",
        "outputId": "f0cc50a9-588a-43c2-ec2f-8f5efdaf638e"
      },
      "source": [
        "LDA_clf.fit(dfAL_train2.drop(\"RdensB\",axis=1), dfAL_train2[\"RdensB\"])"
      ],
      "execution_count": null,
      "outputs": [
        {
          "output_type": "execute_result",
          "data": {
            "text/plain": [
              "LinearDiscriminantAnalysis(n_components=None, priors=None, shrinkage=None,\n",
              "                           solver='svd', store_covariance=False, tol=0.0001)"
            ]
          },
          "metadata": {
            "tags": []
          },
          "execution_count": 79
        }
      ]
    },
    {
      "cell_type": "code",
      "metadata": {
        "colab": {
          "base_uri": "https://localhost:8080/"
        },
        "id": "uHpahvdWzht5",
        "outputId": "4ab429f4-cd61-4c36-8e68-bb16ed2687e2"
      },
      "source": [
        "LDA_clf.score(dfAL_train2.drop(\"RdensB\",axis=1), dfAL_train2[\"RdensB\"])"
      ],
      "execution_count": null,
      "outputs": [
        {
          "output_type": "execute_result",
          "data": {
            "text/plain": [
              "0.8905660377358491"
            ]
          },
          "metadata": {
            "tags": []
          },
          "execution_count": 80
        }
      ]
    },
    {
      "cell_type": "code",
      "metadata": {
        "colab": {
          "base_uri": "https://localhost:8080/"
        },
        "id": "IcQV1Wj-zypM",
        "outputId": "7d56fbd9-206d-47b1-f736-1771fe11c53b"
      },
      "source": [
        "LDA_clf.score(dfAL_validation2.drop(\"RdensB\",axis=1), dfAL_validation2[\"RdensB\"])"
      ],
      "execution_count": null,
      "outputs": [
        {
          "output_type": "execute_result",
          "data": {
            "text/plain": [
              "0.8859649122807017"
            ]
          },
          "metadata": {
            "tags": []
          },
          "execution_count": 81
        }
      ]
    },
    {
      "cell_type": "code",
      "metadata": {
        "colab": {
          "base_uri": "https://localhost:8080/"
        },
        "id": "DTic4LU6Q-GB",
        "outputId": "dd5ee4c2-b556-41b5-9055-01845c62c978"
      },
      "source": [
        "LDA_clf.predict(np.array([[7,0.86,0.25]]))"
      ],
      "execution_count": null,
      "outputs": [
        {
          "output_type": "execute_result",
          "data": {
            "text/plain": [
              "array([1])"
            ]
          },
          "metadata": {
            "tags": []
          },
          "execution_count": 82
        }
      ]
    },
    {
      "cell_type": "code",
      "metadata": {
        "id": "7taMRq66HEA-"
      },
      "source": [
        "y_true2 = 1*np.array(dfAL_test_validation2[\"RdensB\"])"
      ],
      "execution_count": null,
      "outputs": []
    },
    {
      "cell_type": "code",
      "metadata": {
        "id": "xICYjYXvHIKq"
      },
      "source": [
        "y_pred_LDA = LDA_clf.predict_proba(dfAL_test_validation2.drop(\"RdensB\",axis=1))"
      ],
      "execution_count": null,
      "outputs": []
    },
    {
      "cell_type": "code",
      "metadata": {
        "colab": {
          "base_uri": "https://localhost:8080/"
        },
        "id": "KJWYG2d6G921",
        "outputId": "c508c2af-0f1f-422f-a6f6-95cc4089a39c"
      },
      "source": [
        "print(\"Matriz de Confusión Alfa 0.25\")\n",
        "print(confusion_matrix(y_true2,y_pred_LDA[:,1]>0.25))"
      ],
      "execution_count": null,
      "outputs": [
        {
          "output_type": "stream",
          "text": [
            "Matriz de Confusión Alfa 0.25\n",
            "[[  0  26]\n",
            " [  1 201]]\n"
          ],
          "name": "stdout"
        }
      ]
    },
    {
      "cell_type": "markdown",
      "metadata": {
        "id": "eYC7sjTNz7bI"
      },
      "source": [
        "Modelo QDA"
      ]
    },
    {
      "cell_type": "code",
      "metadata": {
        "id": "XQQd8QZFz6ot"
      },
      "source": [
        "from sklearn.discriminant_analysis import QuadraticDiscriminantAnalysis\n",
        "QDA_clf = QuadraticDiscriminantAnalysis()"
      ],
      "execution_count": null,
      "outputs": []
    },
    {
      "cell_type": "code",
      "metadata": {
        "id": "ot9T55nIR1Ij"
      },
      "source": [
        ""
      ],
      "execution_count": null,
      "outputs": []
    },
    {
      "cell_type": "code",
      "metadata": {
        "colab": {
          "base_uri": "https://localhost:8080/"
        },
        "id": "x1DS6E7oz6r3",
        "outputId": "a0148495-f046-42a5-ef42-ba3489a84efe"
      },
      "source": [
        "QDA_clf.fit(dfAL_train2.drop(\"RdensB\",axis=1), dfAL_train2[\"RdensB\"])"
      ],
      "execution_count": null,
      "outputs": [
        {
          "output_type": "execute_result",
          "data": {
            "text/plain": [
              "QuadraticDiscriminantAnalysis(priors=None, reg_param=0.0,\n",
              "                              store_covariance=False, tol=0.0001)"
            ]
          },
          "metadata": {
            "tags": []
          },
          "execution_count": 54
        }
      ]
    },
    {
      "cell_type": "code",
      "metadata": {
        "colab": {
          "base_uri": "https://localhost:8080/"
        },
        "id": "mEWszqu00Tac",
        "outputId": "76e489f1-1f9c-4045-c8c9-acb0883bd86a"
      },
      "source": [
        "QDA_clf.score(dfAL_train2.drop(\"RdensB\",axis=1), dfAL_train2[\"RdensB\"])"
      ],
      "execution_count": null,
      "outputs": [
        {
          "output_type": "execute_result",
          "data": {
            "text/plain": [
              "0.9808"
            ]
          },
          "metadata": {
            "tags": []
          },
          "execution_count": 55
        }
      ]
    },
    {
      "cell_type": "code",
      "metadata": {
        "colab": {
          "base_uri": "https://localhost:8080/"
        },
        "id": "JHfHK7Y40XLa",
        "outputId": "3ab1fdf6-165b-4194-feb2-29536f97d0ae"
      },
      "source": [
        "QDA_clf.score(dfAL_validation2.drop(\"RdensB\",axis=1), dfAL_validation2[\"RdensB\"])"
      ],
      "execution_count": null,
      "outputs": [
        {
          "output_type": "execute_result",
          "data": {
            "text/plain": [
              "0.9777777777777777"
            ]
          },
          "metadata": {
            "tags": []
          },
          "execution_count": 56
        }
      ]
    },
    {
      "cell_type": "code",
      "metadata": {
        "colab": {
          "base_uri": "https://localhost:8080/"
        },
        "id": "3mYK-grKSJDF",
        "outputId": "da13737c-4a35-4b47-93e6-fd4dde4aff67"
      },
      "source": [
        "QDA_clf.predict(np.array([[5,0.86,0.25]]))"
      ],
      "execution_count": null,
      "outputs": [
        {
          "output_type": "execute_result",
          "data": {
            "text/plain": [
              "array([1])"
            ]
          },
          "metadata": {
            "tags": []
          },
          "execution_count": 58
        }
      ]
    },
    {
      "cell_type": "markdown",
      "metadata": {
        "id": "Roicehdx0joA"
      },
      "source": [
        "Modelo de Regresión Log."
      ]
    },
    {
      "cell_type": "code",
      "metadata": {
        "id": "QmfG_vOT0owp"
      },
      "source": [
        "from sklearn.linear_model import LogisticRegression\n",
        "LR_clf=LogisticRegression(C=1e9, verbose=1)"
      ],
      "execution_count": null,
      "outputs": []
    },
    {
      "cell_type": "code",
      "metadata": {
        "colab": {
          "base_uri": "https://localhost:8080/"
        },
        "id": "kOmY92-e0p4Z",
        "outputId": "bf9da8ee-c707-4c05-cf22-dfdca60449eb"
      },
      "source": [
        "LR_clf.fit(dfAL_train2.drop(\"RdensA\",axis=1), dfAL_train2[\"RdensA\"])"
      ],
      "execution_count": null,
      "outputs": [
        {
          "output_type": "stream",
          "text": [
            "[Parallel(n_jobs=1)]: Using backend SequentialBackend with 1 concurrent workers.\n",
            "[Parallel(n_jobs=1)]: Done   1 out of   1 | elapsed:    0.0s finished\n"
          ],
          "name": "stderr"
        },
        {
          "output_type": "execute_result",
          "data": {
            "text/plain": [
              "LogisticRegression(C=1000000000.0, class_weight=None, dual=False,\n",
              "                   fit_intercept=True, intercept_scaling=1, l1_ratio=None,\n",
              "                   max_iter=100, multi_class='auto', n_jobs=None, penalty='l2',\n",
              "                   random_state=None, solver='lbfgs', tol=0.0001, verbose=1,\n",
              "                   warm_start=False)"
            ]
          },
          "metadata": {
            "tags": []
          },
          "execution_count": 32
        }
      ]
    },
    {
      "cell_type": "code",
      "metadata": {
        "colab": {
          "base_uri": "https://localhost:8080/"
        },
        "id": "wHCTrzUB0vtR",
        "outputId": "d5a86406-a676-4f13-9666-a9dab6530b1c"
      },
      "source": [
        "LR_clf.score(dfAL_train2.drop(\"RdensA\",axis=1), dfAL_train2[\"RdensA\"])"
      ],
      "execution_count": null,
      "outputs": [
        {
          "output_type": "execute_result",
          "data": {
            "text/plain": [
              "0.7161961367013373"
            ]
          },
          "metadata": {
            "tags": []
          },
          "execution_count": 33
        }
      ]
    },
    {
      "cell_type": "code",
      "metadata": {
        "colab": {
          "base_uri": "https://localhost:8080/"
        },
        "id": "XAQHtj4t05dC",
        "outputId": "db64cc47-2a31-42f8-b289-54a44b8c06a7"
      },
      "source": [
        "LR_clf.score(dfAL_validation2.drop(\"RdensA\",axis=1), dfAL_validation2[\"RdensA\"])"
      ],
      "execution_count": null,
      "outputs": [
        {
          "output_type": "execute_result",
          "data": {
            "text/plain": [
              "0.7172413793103448"
            ]
          },
          "metadata": {
            "tags": []
          },
          "execution_count": 34
        }
      ]
    },
    {
      "cell_type": "markdown",
      "metadata": {
        "id": "s4JAGTnp1MqB"
      },
      "source": [
        "Modelo de Redes Neuronales"
      ]
    },
    {
      "cell_type": "code",
      "metadata": {
        "colab": {
          "base_uri": "https://localhost:8080/"
        },
        "id": "33Yfhf7_23jA",
        "outputId": "2101cdc4-6d09-414a-a748-3f9c1ab794a4"
      },
      "source": [
        "dfAL_train2.shape"
      ],
      "execution_count": null,
      "outputs": [
        {
          "output_type": "execute_result",
          "data": {
            "text/plain": [
              "(673, 4)"
            ]
          },
          "metadata": {
            "tags": []
          },
          "execution_count": 35
        }
      ]
    },
    {
      "cell_type": "code",
      "metadata": {
        "id": "KixGihCZ1QIR"
      },
      "source": [
        "from tensorflow.keras.models import Sequential\n",
        "from tensorflow.keras.layers import Dense, BatchNormalization\n",
        "from tensorflow.keras.optimizers import Adam, SGD"
      ],
      "execution_count": null,
      "outputs": []
    },
    {
      "cell_type": "code",
      "metadata": {
        "id": "OGBuC5Wq1STp"
      },
      "source": [
        "RN_clf= Sequential()\n",
        "RN_clf.add(BatchNormalization(input_shape=(3,)))\n",
        "RN_clf.add(Dense(16, input_dim=5, activation='relu'))\n",
        "RN_clf.add(Dense(1, activation='sigmoid'))"
      ],
      "execution_count": null,
      "outputs": []
    },
    {
      "cell_type": "code",
      "metadata": {
        "id": "4ljWc0dI17mx"
      },
      "source": [
        "RN_clf.compile(loss='mean_squared_error',\n",
        "              optimizer='SGD',\n",
        "              metrics=['binary_accuracy'])"
      ],
      "execution_count": null,
      "outputs": []
    },
    {
      "cell_type": "code",
      "metadata": {
        "colab": {
          "base_uri": "https://localhost:8080/"
        },
        "id": "h5tLnAxG2E-Q",
        "outputId": "db4525b4-7b45-4d7b-dd46-7c196c2dd6a8"
      },
      "source": [
        "RN_clf.fit(dfAL_train2.drop(\"RdensA\",axis=1), dfAL_train2[\"RdensA\"], epochs=300)"
      ],
      "execution_count": null,
      "outputs": [
        {
          "output_type": "stream",
          "text": [
            "Epoch 1/300\n",
            "22/22 [==============================] - 0s 1ms/step - loss: 0.1938 - binary_accuracy: 0.7132\n",
            "Epoch 2/300\n",
            "22/22 [==============================] - 0s 1ms/step - loss: 0.1935 - binary_accuracy: 0.7088\n",
            "Epoch 3/300\n",
            "22/22 [==============================] - 0s 1ms/step - loss: 0.1938 - binary_accuracy: 0.7177\n",
            "Epoch 4/300\n",
            "22/22 [==============================] - 0s 1ms/step - loss: 0.1924 - binary_accuracy: 0.7132\n",
            "Epoch 5/300\n",
            "22/22 [==============================] - 0s 1ms/step - loss: 0.1938 - binary_accuracy: 0.7073\n",
            "Epoch 6/300\n",
            "22/22 [==============================] - 0s 1ms/step - loss: 0.1935 - binary_accuracy: 0.7088\n",
            "Epoch 7/300\n",
            "22/22 [==============================] - 0s 1ms/step - loss: 0.1941 - binary_accuracy: 0.7058\n",
            "Epoch 8/300\n",
            "22/22 [==============================] - 0s 2ms/step - loss: 0.1939 - binary_accuracy: 0.7117\n",
            "Epoch 9/300\n",
            "22/22 [==============================] - 0s 1ms/step - loss: 0.1931 - binary_accuracy: 0.7132\n",
            "Epoch 10/300\n",
            "22/22 [==============================] - 0s 2ms/step - loss: 0.1933 - binary_accuracy: 0.7088\n",
            "Epoch 11/300\n",
            "22/22 [==============================] - 0s 1ms/step - loss: 0.1952 - binary_accuracy: 0.7103\n",
            "Epoch 12/300\n",
            "22/22 [==============================] - 0s 1ms/step - loss: 0.1928 - binary_accuracy: 0.7147\n",
            "Epoch 13/300\n",
            "22/22 [==============================] - 0s 1ms/step - loss: 0.1938 - binary_accuracy: 0.7073\n",
            "Epoch 14/300\n",
            "22/22 [==============================] - 0s 1ms/step - loss: 0.1933 - binary_accuracy: 0.7088\n",
            "Epoch 15/300\n",
            "22/22 [==============================] - 0s 1ms/step - loss: 0.1933 - binary_accuracy: 0.7147\n",
            "Epoch 16/300\n",
            "22/22 [==============================] - 0s 1ms/step - loss: 0.1927 - binary_accuracy: 0.7117\n",
            "Epoch 17/300\n",
            "22/22 [==============================] - 0s 1ms/step - loss: 0.1922 - binary_accuracy: 0.7177\n",
            "Epoch 18/300\n",
            "22/22 [==============================] - 0s 1ms/step - loss: 0.1933 - binary_accuracy: 0.7103\n",
            "Epoch 19/300\n",
            "22/22 [==============================] - 0s 1ms/step - loss: 0.1936 - binary_accuracy: 0.7147\n",
            "Epoch 20/300\n",
            "22/22 [==============================] - 0s 1ms/step - loss: 0.1935 - binary_accuracy: 0.7132\n",
            "Epoch 21/300\n",
            "22/22 [==============================] - 0s 1ms/step - loss: 0.1948 - binary_accuracy: 0.7103\n",
            "Epoch 22/300\n",
            "22/22 [==============================] - 0s 1ms/step - loss: 0.1936 - binary_accuracy: 0.7088\n",
            "Epoch 23/300\n",
            "22/22 [==============================] - 0s 1ms/step - loss: 0.1928 - binary_accuracy: 0.7147\n",
            "Epoch 24/300\n",
            "22/22 [==============================] - 0s 1ms/step - loss: 0.1929 - binary_accuracy: 0.7162\n",
            "Epoch 25/300\n",
            "22/22 [==============================] - 0s 2ms/step - loss: 0.1920 - binary_accuracy: 0.7147\n",
            "Epoch 26/300\n",
            "22/22 [==============================] - 0s 1ms/step - loss: 0.1934 - binary_accuracy: 0.7043\n",
            "Epoch 27/300\n",
            "22/22 [==============================] - 0s 1ms/step - loss: 0.1918 - binary_accuracy: 0.7147\n",
            "Epoch 28/300\n",
            "22/22 [==============================] - 0s 1ms/step - loss: 0.1926 - binary_accuracy: 0.7147\n",
            "Epoch 29/300\n",
            "22/22 [==============================] - 0s 1ms/step - loss: 0.1924 - binary_accuracy: 0.7103\n",
            "Epoch 30/300\n",
            "22/22 [==============================] - 0s 1ms/step - loss: 0.1923 - binary_accuracy: 0.7177\n",
            "Epoch 31/300\n",
            "22/22 [==============================] - 0s 1ms/step - loss: 0.1920 - binary_accuracy: 0.7177\n",
            "Epoch 32/300\n",
            "22/22 [==============================] - 0s 1ms/step - loss: 0.1918 - binary_accuracy: 0.7073\n",
            "Epoch 33/300\n",
            "22/22 [==============================] - 0s 1ms/step - loss: 0.1922 - binary_accuracy: 0.7103\n",
            "Epoch 34/300\n",
            "22/22 [==============================] - 0s 1ms/step - loss: 0.1930 - binary_accuracy: 0.7117\n",
            "Epoch 35/300\n",
            "22/22 [==============================] - 0s 1ms/step - loss: 0.1924 - binary_accuracy: 0.7132\n",
            "Epoch 36/300\n",
            "22/22 [==============================] - 0s 1ms/step - loss: 0.1934 - binary_accuracy: 0.7058\n",
            "Epoch 37/300\n",
            "22/22 [==============================] - 0s 1ms/step - loss: 0.1924 - binary_accuracy: 0.7147\n",
            "Epoch 38/300\n",
            "22/22 [==============================] - 0s 1ms/step - loss: 0.1929 - binary_accuracy: 0.7088\n",
            "Epoch 39/300\n",
            "22/22 [==============================] - 0s 1ms/step - loss: 0.1918 - binary_accuracy: 0.7088\n",
            "Epoch 40/300\n",
            "22/22 [==============================] - 0s 1ms/step - loss: 0.1929 - binary_accuracy: 0.7117\n",
            "Epoch 41/300\n",
            "22/22 [==============================] - 0s 2ms/step - loss: 0.1913 - binary_accuracy: 0.7117\n",
            "Epoch 42/300\n",
            "22/22 [==============================] - 0s 2ms/step - loss: 0.1910 - binary_accuracy: 0.7192\n",
            "Epoch 43/300\n",
            "22/22 [==============================] - 0s 2ms/step - loss: 0.1941 - binary_accuracy: 0.7117\n",
            "Epoch 44/300\n",
            "22/22 [==============================] - 0s 1ms/step - loss: 0.1923 - binary_accuracy: 0.7132\n",
            "Epoch 45/300\n",
            "22/22 [==============================] - 0s 1ms/step - loss: 0.1926 - binary_accuracy: 0.7162\n",
            "Epoch 46/300\n",
            "22/22 [==============================] - 0s 1ms/step - loss: 0.1908 - binary_accuracy: 0.7103\n",
            "Epoch 47/300\n",
            "22/22 [==============================] - 0s 1ms/step - loss: 0.1914 - binary_accuracy: 0.7103\n",
            "Epoch 48/300\n",
            "22/22 [==============================] - 0s 1ms/step - loss: 0.1919 - binary_accuracy: 0.7103\n",
            "Epoch 49/300\n",
            "22/22 [==============================] - 0s 1ms/step - loss: 0.1930 - binary_accuracy: 0.7117\n",
            "Epoch 50/300\n",
            "22/22 [==============================] - 0s 1ms/step - loss: 0.1927 - binary_accuracy: 0.7147\n",
            "Epoch 51/300\n",
            "22/22 [==============================] - 0s 1ms/step - loss: 0.1915 - binary_accuracy: 0.7103\n",
            "Epoch 52/300\n",
            "22/22 [==============================] - 0s 1ms/step - loss: 0.1918 - binary_accuracy: 0.7147\n",
            "Epoch 53/300\n",
            "22/22 [==============================] - 0s 1ms/step - loss: 0.1920 - binary_accuracy: 0.7132\n",
            "Epoch 54/300\n",
            "22/22 [==============================] - 0s 1ms/step - loss: 0.1930 - binary_accuracy: 0.7117\n",
            "Epoch 55/300\n",
            "22/22 [==============================] - 0s 1ms/step - loss: 0.1911 - binary_accuracy: 0.7147\n",
            "Epoch 56/300\n",
            "22/22 [==============================] - 0s 1ms/step - loss: 0.1916 - binary_accuracy: 0.7147\n",
            "Epoch 57/300\n",
            "22/22 [==============================] - 0s 1ms/step - loss: 0.1928 - binary_accuracy: 0.7162\n",
            "Epoch 58/300\n",
            "22/22 [==============================] - 0s 1ms/step - loss: 0.1902 - binary_accuracy: 0.7117\n",
            "Epoch 59/300\n",
            "22/22 [==============================] - 0s 1ms/step - loss: 0.1907 - binary_accuracy: 0.7177\n",
            "Epoch 60/300\n",
            "22/22 [==============================] - 0s 1ms/step - loss: 0.1909 - binary_accuracy: 0.7207\n",
            "Epoch 61/300\n",
            "22/22 [==============================] - 0s 1ms/step - loss: 0.1915 - binary_accuracy: 0.7177\n",
            "Epoch 62/300\n",
            "22/22 [==============================] - 0s 1ms/step - loss: 0.1916 - binary_accuracy: 0.7177\n",
            "Epoch 63/300\n",
            "22/22 [==============================] - 0s 1ms/step - loss: 0.1918 - binary_accuracy: 0.7221\n",
            "Epoch 64/300\n",
            "22/22 [==============================] - 0s 1ms/step - loss: 0.1913 - binary_accuracy: 0.7162\n",
            "Epoch 65/300\n",
            "22/22 [==============================] - 0s 1ms/step - loss: 0.1918 - binary_accuracy: 0.7177\n",
            "Epoch 66/300\n",
            "22/22 [==============================] - 0s 1ms/step - loss: 0.1912 - binary_accuracy: 0.7177\n",
            "Epoch 67/300\n",
            "22/22 [==============================] - 0s 1ms/step - loss: 0.1920 - binary_accuracy: 0.7177\n",
            "Epoch 68/300\n",
            "22/22 [==============================] - 0s 1ms/step - loss: 0.1901 - binary_accuracy: 0.7266\n",
            "Epoch 69/300\n",
            "22/22 [==============================] - 0s 2ms/step - loss: 0.1919 - binary_accuracy: 0.7058\n",
            "Epoch 70/300\n",
            "22/22 [==============================] - 0s 1ms/step - loss: 0.1916 - binary_accuracy: 0.7088\n",
            "Epoch 71/300\n",
            "22/22 [==============================] - 0s 1ms/step - loss: 0.1912 - binary_accuracy: 0.7147\n",
            "Epoch 72/300\n",
            "22/22 [==============================] - 0s 1ms/step - loss: 0.1920 - binary_accuracy: 0.7117\n",
            "Epoch 73/300\n",
            "22/22 [==============================] - 0s 1ms/step - loss: 0.1904 - binary_accuracy: 0.7117\n",
            "Epoch 74/300\n",
            "22/22 [==============================] - 0s 1ms/step - loss: 0.1911 - binary_accuracy: 0.7117\n",
            "Epoch 75/300\n",
            "22/22 [==============================] - 0s 1ms/step - loss: 0.1917 - binary_accuracy: 0.7147\n",
            "Epoch 76/300\n",
            "22/22 [==============================] - 0s 1ms/step - loss: 0.1926 - binary_accuracy: 0.7147\n",
            "Epoch 77/300\n",
            "22/22 [==============================] - 0s 1ms/step - loss: 0.1915 - binary_accuracy: 0.7132\n",
            "Epoch 78/300\n",
            "22/22 [==============================] - 0s 1ms/step - loss: 0.1909 - binary_accuracy: 0.7162\n",
            "Epoch 79/300\n",
            "22/22 [==============================] - 0s 1ms/step - loss: 0.1917 - binary_accuracy: 0.7132\n",
            "Epoch 80/300\n",
            "22/22 [==============================] - 0s 2ms/step - loss: 0.1918 - binary_accuracy: 0.7162\n",
            "Epoch 81/300\n",
            "22/22 [==============================] - 0s 1ms/step - loss: 0.1923 - binary_accuracy: 0.7147\n",
            "Epoch 82/300\n",
            "22/22 [==============================] - 0s 1ms/step - loss: 0.1918 - binary_accuracy: 0.7147\n",
            "Epoch 83/300\n",
            "22/22 [==============================] - 0s 1ms/step - loss: 0.1906 - binary_accuracy: 0.7221\n",
            "Epoch 84/300\n",
            "22/22 [==============================] - 0s 1ms/step - loss: 0.1914 - binary_accuracy: 0.7132\n",
            "Epoch 85/300\n",
            "22/22 [==============================] - 0s 1ms/step - loss: 0.1904 - binary_accuracy: 0.7162\n",
            "Epoch 86/300\n",
            "22/22 [==============================] - 0s 1ms/step - loss: 0.1896 - binary_accuracy: 0.7147\n",
            "Epoch 87/300\n",
            "22/22 [==============================] - 0s 1ms/step - loss: 0.1896 - binary_accuracy: 0.7132\n",
            "Epoch 88/300\n",
            "22/22 [==============================] - 0s 1ms/step - loss: 0.1927 - binary_accuracy: 0.7103\n",
            "Epoch 89/300\n",
            "22/22 [==============================] - 0s 1ms/step - loss: 0.1915 - binary_accuracy: 0.7221\n",
            "Epoch 90/300\n",
            "22/22 [==============================] - 0s 2ms/step - loss: 0.1919 - binary_accuracy: 0.7058\n",
            "Epoch 91/300\n",
            "22/22 [==============================] - 0s 1ms/step - loss: 0.1913 - binary_accuracy: 0.7117\n",
            "Epoch 92/300\n",
            "22/22 [==============================] - 0s 1ms/step - loss: 0.1920 - binary_accuracy: 0.7058\n",
            "Epoch 93/300\n",
            "22/22 [==============================] - 0s 1ms/step - loss: 0.1923 - binary_accuracy: 0.7177\n",
            "Epoch 94/300\n",
            "22/22 [==============================] - 0s 1ms/step - loss: 0.1902 - binary_accuracy: 0.7207\n",
            "Epoch 95/300\n",
            "22/22 [==============================] - 0s 1ms/step - loss: 0.1916 - binary_accuracy: 0.7192\n",
            "Epoch 96/300\n",
            "22/22 [==============================] - 0s 2ms/step - loss: 0.1904 - binary_accuracy: 0.7207\n",
            "Epoch 97/300\n",
            "22/22 [==============================] - 0s 1ms/step - loss: 0.1907 - binary_accuracy: 0.7147\n",
            "Epoch 98/300\n",
            "22/22 [==============================] - 0s 1ms/step - loss: 0.1900 - binary_accuracy: 0.7147\n",
            "Epoch 99/300\n",
            "22/22 [==============================] - 0s 1ms/step - loss: 0.1905 - binary_accuracy: 0.7236\n",
            "Epoch 100/300\n",
            "22/22 [==============================] - 0s 1ms/step - loss: 0.1917 - binary_accuracy: 0.7192\n",
            "Epoch 101/300\n",
            "22/22 [==============================] - 0s 1ms/step - loss: 0.1905 - binary_accuracy: 0.7207\n",
            "Epoch 102/300\n",
            "22/22 [==============================] - 0s 1ms/step - loss: 0.1909 - binary_accuracy: 0.7162\n",
            "Epoch 103/300\n",
            "22/22 [==============================] - 0s 1ms/step - loss: 0.1901 - binary_accuracy: 0.7132\n",
            "Epoch 104/300\n",
            "22/22 [==============================] - 0s 2ms/step - loss: 0.1912 - binary_accuracy: 0.7147\n",
            "Epoch 105/300\n",
            "22/22 [==============================] - 0s 1ms/step - loss: 0.1916 - binary_accuracy: 0.7132\n",
            "Epoch 106/300\n",
            "22/22 [==============================] - 0s 1ms/step - loss: 0.1920 - binary_accuracy: 0.7177\n",
            "Epoch 107/300\n",
            "22/22 [==============================] - 0s 1ms/step - loss: 0.1916 - binary_accuracy: 0.7117\n",
            "Epoch 108/300\n",
            "22/22 [==============================] - 0s 2ms/step - loss: 0.1901 - binary_accuracy: 0.7236\n",
            "Epoch 109/300\n",
            "22/22 [==============================] - 0s 1ms/step - loss: 0.1917 - binary_accuracy: 0.7236\n",
            "Epoch 110/300\n",
            "22/22 [==============================] - 0s 1ms/step - loss: 0.1915 - binary_accuracy: 0.7192\n",
            "Epoch 111/300\n",
            "22/22 [==============================] - 0s 1ms/step - loss: 0.1909 - binary_accuracy: 0.7177\n",
            "Epoch 112/300\n",
            "22/22 [==============================] - 0s 2ms/step - loss: 0.1911 - binary_accuracy: 0.7162\n",
            "Epoch 113/300\n",
            "22/22 [==============================] - 0s 1ms/step - loss: 0.1914 - binary_accuracy: 0.7221\n",
            "Epoch 114/300\n",
            "22/22 [==============================] - 0s 1ms/step - loss: 0.1906 - binary_accuracy: 0.7103\n",
            "Epoch 115/300\n",
            "22/22 [==============================] - 0s 2ms/step - loss: 0.1914 - binary_accuracy: 0.7132\n",
            "Epoch 116/300\n",
            "22/22 [==============================] - 0s 2ms/step - loss: 0.1901 - binary_accuracy: 0.7088\n",
            "Epoch 117/300\n",
            "22/22 [==============================] - 0s 1ms/step - loss: 0.1907 - binary_accuracy: 0.7132\n",
            "Epoch 118/300\n",
            "22/22 [==============================] - 0s 1ms/step - loss: 0.1906 - binary_accuracy: 0.7221\n",
            "Epoch 119/300\n",
            "22/22 [==============================] - 0s 1ms/step - loss: 0.1911 - binary_accuracy: 0.7221\n",
            "Epoch 120/300\n",
            "22/22 [==============================] - 0s 1ms/step - loss: 0.1909 - binary_accuracy: 0.7221\n",
            "Epoch 121/300\n",
            "22/22 [==============================] - 0s 1ms/step - loss: 0.1896 - binary_accuracy: 0.7177\n",
            "Epoch 122/300\n",
            "22/22 [==============================] - 0s 1ms/step - loss: 0.1896 - binary_accuracy: 0.7177\n",
            "Epoch 123/300\n",
            "22/22 [==============================] - 0s 1ms/step - loss: 0.1898 - binary_accuracy: 0.7221\n",
            "Epoch 124/300\n",
            "22/22 [==============================] - 0s 1ms/step - loss: 0.1909 - binary_accuracy: 0.7162\n",
            "Epoch 125/300\n",
            "22/22 [==============================] - 0s 2ms/step - loss: 0.1905 - binary_accuracy: 0.7132\n",
            "Epoch 126/300\n",
            "22/22 [==============================] - 0s 1ms/step - loss: 0.1918 - binary_accuracy: 0.7162\n",
            "Epoch 127/300\n",
            "22/22 [==============================] - 0s 1ms/step - loss: 0.1922 - binary_accuracy: 0.7132\n",
            "Epoch 128/300\n",
            "22/22 [==============================] - 0s 1ms/step - loss: 0.1903 - binary_accuracy: 0.7177\n",
            "Epoch 129/300\n",
            "22/22 [==============================] - 0s 1ms/step - loss: 0.1905 - binary_accuracy: 0.7177\n",
            "Epoch 130/300\n",
            "22/22 [==============================] - 0s 1ms/step - loss: 0.1906 - binary_accuracy: 0.7177\n",
            "Epoch 131/300\n",
            "22/22 [==============================] - 0s 2ms/step - loss: 0.1901 - binary_accuracy: 0.7192\n",
            "Epoch 132/300\n",
            "22/22 [==============================] - 0s 1ms/step - loss: 0.1918 - binary_accuracy: 0.7207\n",
            "Epoch 133/300\n",
            "22/22 [==============================] - 0s 1ms/step - loss: 0.1903 - binary_accuracy: 0.7132\n",
            "Epoch 134/300\n",
            "22/22 [==============================] - 0s 1ms/step - loss: 0.1908 - binary_accuracy: 0.7162\n",
            "Epoch 135/300\n",
            "22/22 [==============================] - 0s 2ms/step - loss: 0.1907 - binary_accuracy: 0.7117\n",
            "Epoch 136/300\n",
            "22/22 [==============================] - 0s 1ms/step - loss: 0.1900 - binary_accuracy: 0.7162\n",
            "Epoch 137/300\n",
            "22/22 [==============================] - 0s 1ms/step - loss: 0.1900 - binary_accuracy: 0.7132\n",
            "Epoch 138/300\n",
            "22/22 [==============================] - 0s 2ms/step - loss: 0.1912 - binary_accuracy: 0.7207\n",
            "Epoch 139/300\n",
            "22/22 [==============================] - 0s 1ms/step - loss: 0.1897 - binary_accuracy: 0.7207\n",
            "Epoch 140/300\n",
            "22/22 [==============================] - 0s 1ms/step - loss: 0.1899 - binary_accuracy: 0.7192\n",
            "Epoch 141/300\n",
            "22/22 [==============================] - 0s 2ms/step - loss: 0.1918 - binary_accuracy: 0.7192\n",
            "Epoch 142/300\n",
            "22/22 [==============================] - 0s 1ms/step - loss: 0.1908 - binary_accuracy: 0.7192\n",
            "Epoch 143/300\n",
            "22/22 [==============================] - 0s 1ms/step - loss: 0.1923 - binary_accuracy: 0.7251\n",
            "Epoch 144/300\n",
            "22/22 [==============================] - 0s 1ms/step - loss: 0.1908 - binary_accuracy: 0.7147\n",
            "Epoch 145/300\n",
            "22/22 [==============================] - 0s 1ms/step - loss: 0.1901 - binary_accuracy: 0.7207\n",
            "Epoch 146/300\n",
            "22/22 [==============================] - 0s 2ms/step - loss: 0.1898 - binary_accuracy: 0.7192\n",
            "Epoch 147/300\n",
            "22/22 [==============================] - 0s 1ms/step - loss: 0.1900 - binary_accuracy: 0.7221\n",
            "Epoch 148/300\n",
            "22/22 [==============================] - 0s 1ms/step - loss: 0.1907 - binary_accuracy: 0.7207\n",
            "Epoch 149/300\n",
            "22/22 [==============================] - 0s 1ms/step - loss: 0.1887 - binary_accuracy: 0.7221\n",
            "Epoch 150/300\n",
            "22/22 [==============================] - 0s 1ms/step - loss: 0.1903 - binary_accuracy: 0.7192\n",
            "Epoch 151/300\n",
            "22/22 [==============================] - 0s 1ms/step - loss: 0.1905 - binary_accuracy: 0.7207\n",
            "Epoch 152/300\n",
            "22/22 [==============================] - 0s 1ms/step - loss: 0.1902 - binary_accuracy: 0.7162\n",
            "Epoch 153/300\n",
            "22/22 [==============================] - 0s 2ms/step - loss: 0.1904 - binary_accuracy: 0.7162\n",
            "Epoch 154/300\n",
            "22/22 [==============================] - 0s 1ms/step - loss: 0.1900 - binary_accuracy: 0.7177\n",
            "Epoch 155/300\n",
            "22/22 [==============================] - 0s 1ms/step - loss: 0.1909 - binary_accuracy: 0.7192\n",
            "Epoch 156/300\n",
            "22/22 [==============================] - 0s 1ms/step - loss: 0.1905 - binary_accuracy: 0.7117\n",
            "Epoch 157/300\n",
            "22/22 [==============================] - 0s 1ms/step - loss: 0.1911 - binary_accuracy: 0.7207\n",
            "Epoch 158/300\n",
            "22/22 [==============================] - 0s 1ms/step - loss: 0.1914 - binary_accuracy: 0.7207\n",
            "Epoch 159/300\n",
            "22/22 [==============================] - 0s 1ms/step - loss: 0.1899 - binary_accuracy: 0.7236\n",
            "Epoch 160/300\n",
            "22/22 [==============================] - 0s 1ms/step - loss: 0.1926 - binary_accuracy: 0.7236\n",
            "Epoch 161/300\n",
            "22/22 [==============================] - 0s 1ms/step - loss: 0.1906 - binary_accuracy: 0.7147\n",
            "Epoch 162/300\n",
            "22/22 [==============================] - 0s 1ms/step - loss: 0.1918 - binary_accuracy: 0.7177\n",
            "Epoch 163/300\n",
            "22/22 [==============================] - 0s 2ms/step - loss: 0.1922 - binary_accuracy: 0.7177\n",
            "Epoch 164/300\n",
            "22/22 [==============================] - 0s 2ms/step - loss: 0.1901 - binary_accuracy: 0.7221\n",
            "Epoch 165/300\n",
            "22/22 [==============================] - 0s 1ms/step - loss: 0.1908 - binary_accuracy: 0.7192\n",
            "Epoch 166/300\n",
            "22/22 [==============================] - 0s 2ms/step - loss: 0.1895 - binary_accuracy: 0.7177\n",
            "Epoch 167/300\n",
            "22/22 [==============================] - 0s 2ms/step - loss: 0.1904 - binary_accuracy: 0.7147\n",
            "Epoch 168/300\n",
            "22/22 [==============================] - 0s 1ms/step - loss: 0.1937 - binary_accuracy: 0.7147\n",
            "Epoch 169/300\n",
            "22/22 [==============================] - 0s 1ms/step - loss: 0.1917 - binary_accuracy: 0.7147\n",
            "Epoch 170/300\n",
            "22/22 [==============================] - 0s 1ms/step - loss: 0.1921 - binary_accuracy: 0.7177\n",
            "Epoch 171/300\n",
            "22/22 [==============================] - 0s 1ms/step - loss: 0.1894 - binary_accuracy: 0.7162\n",
            "Epoch 172/300\n",
            "22/22 [==============================] - 0s 1ms/step - loss: 0.1898 - binary_accuracy: 0.7177\n",
            "Epoch 173/300\n",
            "22/22 [==============================] - 0s 2ms/step - loss: 0.1893 - binary_accuracy: 0.7236\n",
            "Epoch 174/300\n",
            "22/22 [==============================] - 0s 1ms/step - loss: 0.1885 - binary_accuracy: 0.7117\n",
            "Epoch 175/300\n",
            "22/22 [==============================] - 0s 1ms/step - loss: 0.1909 - binary_accuracy: 0.7162\n",
            "Epoch 176/300\n",
            "22/22 [==============================] - 0s 1ms/step - loss: 0.1896 - binary_accuracy: 0.7132\n",
            "Epoch 177/300\n",
            "22/22 [==============================] - 0s 1ms/step - loss: 0.1898 - binary_accuracy: 0.7177\n",
            "Epoch 178/300\n",
            "22/22 [==============================] - 0s 2ms/step - loss: 0.1899 - binary_accuracy: 0.7177\n",
            "Epoch 179/300\n",
            "22/22 [==============================] - 0s 1ms/step - loss: 0.1896 - binary_accuracy: 0.7236\n",
            "Epoch 180/300\n",
            "22/22 [==============================] - 0s 1ms/step - loss: 0.1911 - binary_accuracy: 0.7192\n",
            "Epoch 181/300\n",
            "22/22 [==============================] - 0s 2ms/step - loss: 0.1916 - binary_accuracy: 0.7177\n",
            "Epoch 182/300\n",
            "22/22 [==============================] - 0s 1ms/step - loss: 0.1913 - binary_accuracy: 0.7147\n",
            "Epoch 183/300\n",
            "22/22 [==============================] - 0s 1ms/step - loss: 0.1901 - binary_accuracy: 0.7177\n",
            "Epoch 184/300\n",
            "22/22 [==============================] - 0s 1ms/step - loss: 0.1920 - binary_accuracy: 0.7073\n",
            "Epoch 185/300\n",
            "22/22 [==============================] - 0s 1ms/step - loss: 0.1909 - binary_accuracy: 0.7058\n",
            "Epoch 186/300\n",
            "22/22 [==============================] - 0s 1ms/step - loss: 0.1889 - binary_accuracy: 0.7221\n",
            "Epoch 187/300\n",
            "22/22 [==============================] - 0s 2ms/step - loss: 0.1908 - binary_accuracy: 0.7192\n",
            "Epoch 188/300\n",
            "22/22 [==============================] - 0s 1ms/step - loss: 0.1895 - binary_accuracy: 0.7147\n",
            "Epoch 189/300\n",
            "22/22 [==============================] - 0s 1ms/step - loss: 0.1910 - binary_accuracy: 0.7221\n",
            "Epoch 190/300\n",
            "22/22 [==============================] - 0s 2ms/step - loss: 0.1881 - binary_accuracy: 0.7162\n",
            "Epoch 191/300\n",
            "22/22 [==============================] - 0s 1ms/step - loss: 0.1899 - binary_accuracy: 0.7177\n",
            "Epoch 192/300\n",
            "22/22 [==============================] - 0s 1ms/step - loss: 0.1907 - binary_accuracy: 0.7147\n",
            "Epoch 193/300\n",
            "22/22 [==============================] - 0s 2ms/step - loss: 0.1882 - binary_accuracy: 0.7162\n",
            "Epoch 194/300\n",
            "22/22 [==============================] - 0s 1ms/step - loss: 0.1904 - binary_accuracy: 0.7221\n",
            "Epoch 195/300\n",
            "22/22 [==============================] - 0s 1ms/step - loss: 0.1898 - binary_accuracy: 0.7132\n",
            "Epoch 196/300\n",
            "22/22 [==============================] - 0s 2ms/step - loss: 0.1903 - binary_accuracy: 0.7221\n",
            "Epoch 197/300\n",
            "22/22 [==============================] - 0s 2ms/step - loss: 0.1913 - binary_accuracy: 0.7177\n",
            "Epoch 198/300\n",
            "22/22 [==============================] - 0s 1ms/step - loss: 0.1894 - binary_accuracy: 0.7221\n",
            "Epoch 199/300\n",
            "22/22 [==============================] - 0s 1ms/step - loss: 0.1905 - binary_accuracy: 0.7177\n",
            "Epoch 200/300\n",
            "22/22 [==============================] - 0s 1ms/step - loss: 0.1889 - binary_accuracy: 0.7236\n",
            "Epoch 201/300\n",
            "22/22 [==============================] - 0s 1ms/step - loss: 0.1906 - binary_accuracy: 0.7162\n",
            "Epoch 202/300\n",
            "22/22 [==============================] - 0s 2ms/step - loss: 0.1895 - binary_accuracy: 0.7236\n",
            "Epoch 203/300\n",
            "22/22 [==============================] - 0s 1ms/step - loss: 0.1898 - binary_accuracy: 0.7162\n",
            "Epoch 204/300\n",
            "22/22 [==============================] - 0s 2ms/step - loss: 0.1913 - binary_accuracy: 0.7132\n",
            "Epoch 205/300\n",
            "22/22 [==============================] - 0s 1ms/step - loss: 0.1892 - binary_accuracy: 0.7192\n",
            "Epoch 206/300\n",
            "22/22 [==============================] - 0s 1ms/step - loss: 0.1891 - binary_accuracy: 0.7192\n",
            "Epoch 207/300\n",
            "22/22 [==============================] - 0s 2ms/step - loss: 0.1899 - binary_accuracy: 0.7192\n",
            "Epoch 208/300\n",
            "22/22 [==============================] - 0s 1ms/step - loss: 0.1898 - binary_accuracy: 0.7192\n",
            "Epoch 209/300\n",
            "22/22 [==============================] - 0s 2ms/step - loss: 0.1890 - binary_accuracy: 0.7236\n",
            "Epoch 210/300\n",
            "22/22 [==============================] - 0s 1ms/step - loss: 0.1907 - binary_accuracy: 0.7221\n",
            "Epoch 211/300\n",
            "22/22 [==============================] - 0s 1ms/step - loss: 0.1886 - binary_accuracy: 0.7251\n",
            "Epoch 212/300\n",
            "22/22 [==============================] - 0s 1ms/step - loss: 0.1902 - binary_accuracy: 0.7177\n",
            "Epoch 213/300\n",
            "22/22 [==============================] - 0s 1ms/step - loss: 0.1910 - binary_accuracy: 0.7177\n",
            "Epoch 214/300\n",
            "22/22 [==============================] - 0s 2ms/step - loss: 0.1896 - binary_accuracy: 0.7147\n",
            "Epoch 215/300\n",
            "22/22 [==============================] - 0s 1ms/step - loss: 0.1893 - binary_accuracy: 0.7162\n",
            "Epoch 216/300\n",
            "22/22 [==============================] - 0s 1ms/step - loss: 0.1906 - binary_accuracy: 0.7251\n",
            "Epoch 217/300\n",
            "22/22 [==============================] - 0s 1ms/step - loss: 0.1898 - binary_accuracy: 0.7117\n",
            "Epoch 218/300\n",
            "22/22 [==============================] - 0s 2ms/step - loss: 0.1892 - binary_accuracy: 0.7132\n",
            "Epoch 219/300\n",
            "22/22 [==============================] - 0s 1ms/step - loss: 0.1900 - binary_accuracy: 0.7192\n",
            "Epoch 220/300\n",
            "22/22 [==============================] - 0s 2ms/step - loss: 0.1913 - binary_accuracy: 0.7132\n",
            "Epoch 221/300\n",
            "22/22 [==============================] - 0s 1ms/step - loss: 0.1894 - binary_accuracy: 0.7132\n",
            "Epoch 222/300\n",
            "22/22 [==============================] - 0s 2ms/step - loss: 0.1895 - binary_accuracy: 0.7192\n",
            "Epoch 223/300\n",
            "22/22 [==============================] - 0s 2ms/step - loss: 0.1919 - binary_accuracy: 0.7162\n",
            "Epoch 224/300\n",
            "22/22 [==============================] - 0s 2ms/step - loss: 0.1899 - binary_accuracy: 0.7132\n",
            "Epoch 225/300\n",
            "22/22 [==============================] - 0s 1ms/step - loss: 0.1907 - binary_accuracy: 0.7162\n",
            "Epoch 226/300\n",
            "22/22 [==============================] - 0s 2ms/step - loss: 0.1904 - binary_accuracy: 0.7221\n",
            "Epoch 227/300\n",
            "22/22 [==============================] - 0s 1ms/step - loss: 0.1901 - binary_accuracy: 0.7147\n",
            "Epoch 228/300\n",
            "22/22 [==============================] - 0s 2ms/step - loss: 0.1900 - binary_accuracy: 0.7236\n",
            "Epoch 229/300\n",
            "22/22 [==============================] - 0s 1ms/step - loss: 0.1888 - binary_accuracy: 0.7132\n",
            "Epoch 230/300\n",
            "22/22 [==============================] - 0s 1ms/step - loss: 0.1903 - binary_accuracy: 0.7207\n",
            "Epoch 231/300\n",
            "22/22 [==============================] - 0s 1ms/step - loss: 0.1892 - binary_accuracy: 0.7177\n",
            "Epoch 232/300\n",
            "22/22 [==============================] - 0s 1ms/step - loss: 0.1899 - binary_accuracy: 0.7192\n",
            "Epoch 233/300\n",
            "22/22 [==============================] - 0s 1ms/step - loss: 0.1898 - binary_accuracy: 0.7236\n",
            "Epoch 234/300\n",
            "22/22 [==============================] - 0s 2ms/step - loss: 0.1907 - binary_accuracy: 0.7177\n",
            "Epoch 235/300\n",
            "22/22 [==============================] - 0s 2ms/step - loss: 0.1899 - binary_accuracy: 0.7192\n",
            "Epoch 236/300\n",
            "22/22 [==============================] - 0s 1ms/step - loss: 0.1890 - binary_accuracy: 0.7162\n",
            "Epoch 237/300\n",
            "22/22 [==============================] - 0s 1ms/step - loss: 0.1913 - binary_accuracy: 0.7147\n",
            "Epoch 238/300\n",
            "22/22 [==============================] - 0s 1ms/step - loss: 0.1905 - binary_accuracy: 0.7147\n",
            "Epoch 239/300\n",
            "22/22 [==============================] - 0s 2ms/step - loss: 0.1899 - binary_accuracy: 0.7132\n",
            "Epoch 240/300\n",
            "22/22 [==============================] - 0s 2ms/step - loss: 0.1901 - binary_accuracy: 0.7177\n",
            "Epoch 241/300\n",
            "22/22 [==============================] - 0s 1ms/step - loss: 0.1888 - binary_accuracy: 0.7266\n",
            "Epoch 242/300\n",
            "22/22 [==============================] - 0s 2ms/step - loss: 0.1887 - binary_accuracy: 0.7221\n",
            "Epoch 243/300\n",
            "22/22 [==============================] - 0s 2ms/step - loss: 0.1902 - binary_accuracy: 0.7207\n",
            "Epoch 244/300\n",
            "22/22 [==============================] - 0s 1ms/step - loss: 0.1888 - binary_accuracy: 0.7177\n",
            "Epoch 245/300\n",
            "22/22 [==============================] - 0s 1ms/step - loss: 0.1897 - binary_accuracy: 0.7251\n",
            "Epoch 246/300\n",
            "22/22 [==============================] - 0s 1ms/step - loss: 0.1895 - binary_accuracy: 0.7177\n",
            "Epoch 247/300\n",
            "22/22 [==============================] - 0s 1ms/step - loss: 0.1890 - binary_accuracy: 0.7236\n",
            "Epoch 248/300\n",
            "22/22 [==============================] - 0s 1ms/step - loss: 0.1914 - binary_accuracy: 0.7147\n",
            "Epoch 249/300\n",
            "22/22 [==============================] - 0s 1ms/step - loss: 0.1899 - binary_accuracy: 0.7192\n",
            "Epoch 250/300\n",
            "22/22 [==============================] - 0s 2ms/step - loss: 0.1904 - binary_accuracy: 0.7132\n",
            "Epoch 251/300\n",
            "22/22 [==============================] - 0s 1ms/step - loss: 0.1899 - binary_accuracy: 0.7236\n",
            "Epoch 252/300\n",
            "22/22 [==============================] - 0s 2ms/step - loss: 0.1890 - binary_accuracy: 0.7177\n",
            "Epoch 253/300\n",
            "22/22 [==============================] - 0s 2ms/step - loss: 0.1894 - binary_accuracy: 0.7192\n",
            "Epoch 254/300\n",
            "22/22 [==============================] - 0s 1ms/step - loss: 0.1905 - binary_accuracy: 0.7207\n",
            "Epoch 255/300\n",
            "22/22 [==============================] - 0s 1ms/step - loss: 0.1901 - binary_accuracy: 0.7221\n",
            "Epoch 256/300\n",
            "22/22 [==============================] - 0s 1ms/step - loss: 0.1900 - binary_accuracy: 0.7221\n",
            "Epoch 257/300\n",
            "22/22 [==============================] - 0s 1ms/step - loss: 0.1894 - binary_accuracy: 0.7162\n",
            "Epoch 258/300\n",
            "22/22 [==============================] - 0s 1ms/step - loss: 0.1902 - binary_accuracy: 0.7132\n",
            "Epoch 259/300\n",
            "22/22 [==============================] - 0s 1ms/step - loss: 0.1875 - binary_accuracy: 0.7221\n",
            "Epoch 260/300\n",
            "22/22 [==============================] - 0s 1ms/step - loss: 0.1893 - binary_accuracy: 0.7132\n",
            "Epoch 261/300\n",
            "22/22 [==============================] - 0s 1ms/step - loss: 0.1900 - binary_accuracy: 0.7177\n",
            "Epoch 262/300\n",
            "22/22 [==============================] - 0s 2ms/step - loss: 0.1905 - binary_accuracy: 0.7132\n",
            "Epoch 263/300\n",
            "22/22 [==============================] - 0s 2ms/step - loss: 0.1893 - binary_accuracy: 0.7207\n",
            "Epoch 264/300\n",
            "22/22 [==============================] - 0s 2ms/step - loss: 0.1878 - binary_accuracy: 0.7281\n",
            "Epoch 265/300\n",
            "22/22 [==============================] - 0s 1ms/step - loss: 0.1899 - binary_accuracy: 0.7192\n",
            "Epoch 266/300\n",
            "22/22 [==============================] - 0s 1ms/step - loss: 0.1891 - binary_accuracy: 0.7177\n",
            "Epoch 267/300\n",
            "22/22 [==============================] - 0s 1ms/step - loss: 0.1895 - binary_accuracy: 0.7251\n",
            "Epoch 268/300\n",
            "22/22 [==============================] - 0s 2ms/step - loss: 0.1897 - binary_accuracy: 0.7192\n",
            "Epoch 269/300\n",
            "22/22 [==============================] - 0s 1ms/step - loss: 0.1899 - binary_accuracy: 0.7192\n",
            "Epoch 270/300\n",
            "22/22 [==============================] - 0s 1ms/step - loss: 0.1896 - binary_accuracy: 0.7162\n",
            "Epoch 271/300\n",
            "22/22 [==============================] - 0s 1ms/step - loss: 0.1890 - binary_accuracy: 0.7162\n",
            "Epoch 272/300\n",
            "22/22 [==============================] - 0s 1ms/step - loss: 0.1901 - binary_accuracy: 0.7251\n",
            "Epoch 273/300\n",
            "22/22 [==============================] - 0s 1ms/step - loss: 0.1905 - binary_accuracy: 0.7207\n",
            "Epoch 274/300\n",
            "22/22 [==============================] - 0s 1ms/step - loss: 0.1890 - binary_accuracy: 0.7177\n",
            "Epoch 275/300\n",
            "22/22 [==============================] - 0s 2ms/step - loss: 0.1895 - binary_accuracy: 0.7192\n",
            "Epoch 276/300\n",
            "22/22 [==============================] - 0s 2ms/step - loss: 0.1892 - binary_accuracy: 0.7132\n",
            "Epoch 277/300\n",
            "22/22 [==============================] - 0s 2ms/step - loss: 0.1887 - binary_accuracy: 0.7117\n",
            "Epoch 278/300\n",
            "22/22 [==============================] - 0s 2ms/step - loss: 0.1898 - binary_accuracy: 0.7207\n",
            "Epoch 279/300\n",
            "22/22 [==============================] - 0s 1ms/step - loss: 0.1898 - binary_accuracy: 0.7221\n",
            "Epoch 280/300\n",
            "22/22 [==============================] - 0s 1ms/step - loss: 0.1894 - binary_accuracy: 0.7132\n",
            "Epoch 281/300\n",
            "22/22 [==============================] - 0s 1ms/step - loss: 0.1900 - binary_accuracy: 0.7162\n",
            "Epoch 282/300\n",
            "22/22 [==============================] - 0s 1ms/step - loss: 0.1895 - binary_accuracy: 0.7162\n",
            "Epoch 283/300\n",
            "22/22 [==============================] - 0s 1ms/step - loss: 0.1900 - binary_accuracy: 0.7236\n",
            "Epoch 284/300\n",
            "22/22 [==============================] - 0s 2ms/step - loss: 0.1896 - binary_accuracy: 0.7236\n",
            "Epoch 285/300\n",
            "22/22 [==============================] - 0s 1ms/step - loss: 0.1916 - binary_accuracy: 0.7073\n",
            "Epoch 286/300\n",
            "22/22 [==============================] - 0s 1ms/step - loss: 0.1902 - binary_accuracy: 0.7236\n",
            "Epoch 287/300\n",
            "22/22 [==============================] - 0s 2ms/step - loss: 0.1891 - binary_accuracy: 0.7117\n",
            "Epoch 288/300\n",
            "22/22 [==============================] - 0s 1ms/step - loss: 0.1899 - binary_accuracy: 0.7207\n",
            "Epoch 289/300\n",
            "22/22 [==============================] - 0s 1ms/step - loss: 0.1886 - binary_accuracy: 0.7192\n",
            "Epoch 290/300\n",
            "22/22 [==============================] - 0s 1ms/step - loss: 0.1893 - binary_accuracy: 0.7207\n",
            "Epoch 291/300\n",
            "22/22 [==============================] - 0s 2ms/step - loss: 0.1886 - binary_accuracy: 0.7147\n",
            "Epoch 292/300\n",
            "22/22 [==============================] - 0s 2ms/step - loss: 0.1912 - binary_accuracy: 0.7177\n",
            "Epoch 293/300\n",
            "22/22 [==============================] - 0s 2ms/step - loss: 0.1894 - binary_accuracy: 0.7117\n",
            "Epoch 294/300\n",
            "22/22 [==============================] - 0s 1ms/step - loss: 0.1880 - binary_accuracy: 0.7192\n",
            "Epoch 295/300\n",
            "22/22 [==============================] - 0s 1ms/step - loss: 0.1896 - binary_accuracy: 0.7207\n",
            "Epoch 296/300\n",
            "22/22 [==============================] - 0s 2ms/step - loss: 0.1882 - binary_accuracy: 0.7177\n",
            "Epoch 297/300\n",
            "22/22 [==============================] - 0s 1ms/step - loss: 0.1909 - binary_accuracy: 0.7132\n",
            "Epoch 298/300\n",
            "22/22 [==============================] - 0s 2ms/step - loss: 0.1895 - binary_accuracy: 0.7192\n",
            "Epoch 299/300\n",
            "22/22 [==============================] - 0s 1ms/step - loss: 0.1897 - binary_accuracy: 0.7162\n",
            "Epoch 300/300\n",
            "22/22 [==============================] - 0s 1ms/step - loss: 0.1894 - binary_accuracy: 0.7147\n"
          ],
          "name": "stdout"
        },
        {
          "output_type": "execute_result",
          "data": {
            "text/plain": [
              "<tensorflow.python.keras.callbacks.History at 0x7fb7e9c95b90>"
            ]
          },
          "metadata": {
            "tags": []
          },
          "execution_count": 42
        }
      ]
    },
    {
      "cell_type": "code",
      "metadata": {
        "id": "ymp9aozr2Shq"
      },
      "source": [
        ""
      ],
      "execution_count": null,
      "outputs": []
    }
  ]
}