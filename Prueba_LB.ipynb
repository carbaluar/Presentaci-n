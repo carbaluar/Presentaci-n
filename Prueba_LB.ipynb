{
  "nbformat": 4,
  "nbformat_minor": 0,
  "metadata": {
    "colab": {
      "name": "Prueba LB",
      "provenance": [],
      "collapsed_sections": [],
      "toc_visible": true,
      "mount_file_id": "197raptSaIHCh4CJCDM929P0in5fOSOQK",
      "authorship_tag": "ABX9TyMonM4Ii6L0q3btcVH2mjOP",
      "include_colab_link": true
    },
    "kernelspec": {
      "display_name": "Python 3",
      "name": "python3"
    },
    "language_info": {
      "name": "python"
    }
  },
  "cells": [
    {
      "cell_type": "markdown",
      "metadata": {
        "id": "view-in-github",
        "colab_type": "text"
      },
      "source": [
        "<a href=\"https://colab.research.google.com/github/carbaluar/Presentaci-n/blob/main/Prueba_LB.ipynb\" target=\"_parent\"><img src=\"https://colab.research.google.com/assets/colab-badge.svg\" alt=\"Open In Colab\"/></a>"
      ]
    },
    {
      "cell_type": "markdown",
      "metadata": {
        "id": "Cemm7EHNji8f"
      },
      "source": [
        "## Generamos el Archivo de Excel para la lectura"
      ]
    },
    {
      "cell_type": "code",
      "metadata": {
        "id": "64ZeWuTWmaB4"
      },
      "source": [
        "import pandas as pd\n",
        "from matplotlib import pyplot as plt\n",
        "import sqlite3\n",
        "import datetime"
      ],
      "execution_count": 1,
      "outputs": []
    },
    {
      "cell_type": "code",
      "metadata": {
        "colab": {
          "base_uri": "https://localhost:8080/",
          "height": 198
        },
        "id": "Z7y-pSf8jnOI",
        "outputId": "5c793c34-48a6-494d-effc-ba49c51319c2"
      },
      "source": [
        "\n",
        "dfAL = pd.read_excel('/content/DBdiario_2.xlsx',sheet_name='diario B')\n",
        "dfAL.head()"
      ],
      "execution_count": 2,
      "outputs": [
        {
          "output_type": "execute_result",
          "data": {
            "text/html": [
              "<div>\n",
              "<style scoped>\n",
              "    .dataframe tbody tr th:only-of-type {\n",
              "        vertical-align: middle;\n",
              "    }\n",
              "\n",
              "    .dataframe tbody tr th {\n",
              "        vertical-align: top;\n",
              "    }\n",
              "\n",
              "    .dataframe thead th {\n",
              "        text-align: right;\n",
              "    }\n",
              "</style>\n",
              "<table border=\"1\" class=\"dataframe\">\n",
              "  <thead>\n",
              "    <tr style=\"text-align: right;\">\n",
              "      <th></th>\n",
              "      <th>dia</th>\n",
              "      <th>dens B</th>\n",
              "      <th>coque</th>\n",
              "      <th>restos</th>\n",
              "      <th>pot B</th>\n",
              "      <th>RdensB</th>\n",
              "    </tr>\n",
              "  </thead>\n",
              "  <tbody>\n",
              "    <tr>\n",
              "      <th>0</th>\n",
              "      <td>2018-01-01</td>\n",
              "      <td>1.430199</td>\n",
              "      <td>0.86</td>\n",
              "      <td>0.29</td>\n",
              "      <td>7.7</td>\n",
              "      <td>1</td>\n",
              "    </tr>\n",
              "    <tr>\n",
              "      <th>1</th>\n",
              "      <td>2018-01-02</td>\n",
              "      <td>1.428183</td>\n",
              "      <td>0.86</td>\n",
              "      <td>0.27</td>\n",
              "      <td>7.8</td>\n",
              "      <td>1</td>\n",
              "    </tr>\n",
              "    <tr>\n",
              "      <th>2</th>\n",
              "      <td>2018-01-05</td>\n",
              "      <td>1.432999</td>\n",
              "      <td>0.86</td>\n",
              "      <td>0.38</td>\n",
              "      <td>7.8</td>\n",
              "      <td>1</td>\n",
              "    </tr>\n",
              "    <tr>\n",
              "      <th>3</th>\n",
              "      <td>2018-01-06</td>\n",
              "      <td>1.431003</td>\n",
              "      <td>0.86</td>\n",
              "      <td>0.31</td>\n",
              "      <td>7.7</td>\n",
              "      <td>1</td>\n",
              "    </tr>\n",
              "    <tr>\n",
              "      <th>4</th>\n",
              "      <td>2018-01-07</td>\n",
              "      <td>1.436301</td>\n",
              "      <td>0.86</td>\n",
              "      <td>0.32</td>\n",
              "      <td>7.7</td>\n",
              "      <td>1</td>\n",
              "    </tr>\n",
              "  </tbody>\n",
              "</table>\n",
              "</div>"
            ],
            "text/plain": [
              "         dia    dens B  coque  restos  pot B  RdensB\n",
              "0 2018-01-01  1.430199   0.86    0.29    7.7       1\n",
              "1 2018-01-02  1.428183   0.86    0.27    7.8       1\n",
              "2 2018-01-05  1.432999   0.86    0.38    7.8       1\n",
              "3 2018-01-06  1.431003   0.86    0.31    7.7       1\n",
              "4 2018-01-07  1.436301   0.86    0.32    7.7       1"
            ]
          },
          "metadata": {
            "tags": []
          },
          "execution_count": 2
        }
      ]
    },
    {
      "cell_type": "code",
      "metadata": {
        "colab": {
          "base_uri": "https://localhost:8080/"
        },
        "id": "8-4S3bIuwrwN",
        "outputId": "d968ed73-44a8-4a76-d00f-c56bf9b1c755"
      },
      "source": [
        "dfAL.info()"
      ],
      "execution_count": 3,
      "outputs": [
        {
          "output_type": "stream",
          "text": [
            "<class 'pandas.core.frame.DataFrame'>\n",
            "RangeIndex: 758 entries, 0 to 757\n",
            "Data columns (total 6 columns):\n",
            " #   Column  Non-Null Count  Dtype         \n",
            "---  ------  --------------  -----         \n",
            " 0   dia     758 non-null    datetime64[ns]\n",
            " 1   dens B  758 non-null    float64       \n",
            " 2   coque   758 non-null    float64       \n",
            " 3   restos  758 non-null    float64       \n",
            " 4   pot B   758 non-null    float64       \n",
            " 5   RdensB  758 non-null    int64         \n",
            "dtypes: datetime64[ns](1), float64(4), int64(1)\n",
            "memory usage: 35.7 KB\n"
          ],
          "name": "stdout"
        }
      ]
    },
    {
      "cell_type": "code",
      "metadata": {
        "id": "aCXH9AwXmkIn"
      },
      "source": [
        "from sklearn.model_selection import train_test_split"
      ],
      "execution_count": 4,
      "outputs": []
    },
    {
      "cell_type": "code",
      "metadata": {
        "id": "1hmkmQCTp47Z"
      },
      "source": [
        "# divido entre train y test/validación en 70%/30%\n",
        "dfAL_train, dfAL_test_validation = train_test_split(dfAL, train_size=0.7, stratify = dfAL[\"RdensB\"])"
      ],
      "execution_count": 5,
      "outputs": []
    },
    {
      "cell_type": "code",
      "metadata": {
        "id": "bP4KTUXSq7F7"
      },
      "source": [
        "# divido entre train y test/validación en 15% y 15%\n",
        "dfAL_test, dfAL_validation = train_test_split(dfAL_test_validation, train_size=0.5, stratify = dfAL_test_validation[\"RdensB\"])"
      ],
      "execution_count": 6,
      "outputs": []
    },
    {
      "cell_type": "code",
      "metadata": {
        "colab": {
          "base_uri": "https://localhost:8080/"
        },
        "id": "UUdZsA3ZtHZh",
        "outputId": "e06752bd-ec62-41a1-90f7-8ee5f12c91a9"
      },
      "source": [
        "dfAL_train.shape"
      ],
      "execution_count": 7,
      "outputs": [
        {
          "output_type": "execute_result",
          "data": {
            "text/plain": [
              "(530, 6)"
            ]
          },
          "metadata": {
            "tags": []
          },
          "execution_count": 7
        }
      ]
    },
    {
      "cell_type": "code",
      "metadata": {
        "colab": {
          "base_uri": "https://localhost:8080/"
        },
        "id": "S756st1stL4g",
        "outputId": "18ba7b20-3cf4-450e-b096-e003d1d95ff0"
      },
      "source": [
        "dfAL_test.shape"
      ],
      "execution_count": 8,
      "outputs": [
        {
          "output_type": "execute_result",
          "data": {
            "text/plain": [
              "(114, 6)"
            ]
          },
          "metadata": {
            "tags": []
          },
          "execution_count": 8
        }
      ]
    },
    {
      "cell_type": "code",
      "metadata": {
        "colab": {
          "base_uri": "https://localhost:8080/"
        },
        "id": "E7_CuF_6tTaN",
        "outputId": "60d57e70-9efc-4b09-eca3-1d7c6bc4fa1b"
      },
      "source": [
        "dfAL_validation.shape"
      ],
      "execution_count": 9,
      "outputs": [
        {
          "output_type": "execute_result",
          "data": {
            "text/plain": [
              "(114, 6)"
            ]
          },
          "metadata": {
            "tags": []
          },
          "execution_count": 9
        }
      ]
    },
    {
      "cell_type": "markdown",
      "metadata": {
        "id": "ycFpnHvC-u4L"
      },
      "source": [
        "### Modelo Gaussiano"
      ]
    },
    {
      "cell_type": "code",
      "metadata": {
        "id": "upJiH-MItXVo"
      },
      "source": [
        "from sklearn.naive_bayes import GaussianNB"
      ],
      "execution_count": 10,
      "outputs": []
    },
    {
      "cell_type": "code",
      "metadata": {
        "id": "5wYXULIItkga"
      },
      "source": [
        "clf = GaussianNB(priors=None, var_smoothing= 0.001)"
      ],
      "execution_count": 11,
      "outputs": []
    },
    {
      "cell_type": "code",
      "metadata": {
        "id": "d_F1k8rCt4X_"
      },
      "source": [
        "dfAL_train2 = dfAL_train[[\"pot B\",\"coque\",\"restos\",\"RdensB\"]].copy()"
      ],
      "execution_count": 12,
      "outputs": []
    },
    {
      "cell_type": "code",
      "metadata": {
        "colab": {
          "base_uri": "https://localhost:8080/"
        },
        "id": "MOd820hbu3gh",
        "outputId": "ea0b0415-62f9-40f8-d91e-56b0b55fa194"
      },
      "source": [
        "clf.fit(dfAL_train2.drop(\"RdensB\",axis=1), dfAL_train2[\"RdensB\"])"
      ],
      "execution_count": 13,
      "outputs": [
        {
          "output_type": "execute_result",
          "data": {
            "text/plain": [
              "GaussianNB(priors=None, var_smoothing=0.001)"
            ]
          },
          "metadata": {
            "tags": []
          },
          "execution_count": 13
        }
      ]
    },
    {
      "cell_type": "code",
      "metadata": {
        "colab": {
          "base_uri": "https://localhost:8080/"
        },
        "id": "Rbutu0yCvF_l",
        "outputId": "2db5c3a7-f858-4d03-8f21-bcc1c8804c73"
      },
      "source": [
        "clf.score(dfAL_train2.drop(\"RdensB\",axis=1), dfAL_train2[\"RdensB\"])"
      ],
      "execution_count": 14,
      "outputs": [
        {
          "output_type": "execute_result",
          "data": {
            "text/plain": [
              "0.8867924528301887"
            ]
          },
          "metadata": {
            "tags": []
          },
          "execution_count": 14
        }
      ]
    },
    {
      "cell_type": "code",
      "metadata": {
        "id": "DbrC7RgZv9GW"
      },
      "source": [
        "dfAL_validation2 = dfAL_validation[[\"pot B\",\"coque\",\"restos\",\"RdensB\"]].copy()\n",
        "dfAL_test_validation2 = dfAL_test_validation[[\"pot B\",\"coque\",\"restos\",\"RdensB\"]].copy()"
      ],
      "execution_count": 15,
      "outputs": []
    },
    {
      "cell_type": "code",
      "metadata": {
        "colab": {
          "base_uri": "https://localhost:8080/"
        },
        "id": "7EEvVjOHwDLZ",
        "outputId": "5195ec7e-054b-410d-f70f-c3080319d33d"
      },
      "source": [
        "clf.score(dfAL_validation2.drop(\"RdensB\",axis=1), dfAL_validation2[\"RdensB\"])\n"
      ],
      "execution_count": 16,
      "outputs": [
        {
          "output_type": "execute_result",
          "data": {
            "text/plain": [
              "0.8947368421052632"
            ]
          },
          "metadata": {
            "tags": []
          },
          "execution_count": 16
        }
      ]
    },
    {
      "cell_type": "code",
      "metadata": {
        "colab": {
          "base_uri": "https://localhost:8080/"
        },
        "id": "whumwuztFYCy",
        "outputId": "6917a170-0e03-4ed8-b036-0c4b36677db3"
      },
      "source": [
        "clf.score(dfAL_test_validation2.drop(\"RdensB\",axis=1), dfAL_test_validation2[\"RdensB\"])"
      ],
      "execution_count": 17,
      "outputs": [
        {
          "output_type": "execute_result",
          "data": {
            "text/plain": [
              "0.8859649122807017"
            ]
          },
          "metadata": {
            "tags": []
          },
          "execution_count": 17
        }
      ]
    },
    {
      "cell_type": "code",
      "metadata": {
        "id": "gHJiQhyiwNFd"
      },
      "source": [
        "BuscaSmoot = [0.1, 0.001, 0.0001, 0.00001, 0.000001, 0.000000000001]"
      ],
      "execution_count": 18,
      "outputs": []
    },
    {
      "cell_type": "code",
      "metadata": {
        "colab": {
          "base_uri": "https://localhost:8080/"
        },
        "id": "J3MYNSY8yn3z",
        "outputId": "cf504cb3-008c-4f35-99ac-e5bade0e3594"
      },
      "source": [
        "scores = list()\n",
        "for busca in BuscaSmoot:\n",
        "    clf = GaussianNB(var_smoothing = busca)\n",
        "    clf.fit(dfAL_train2.drop(\"RdensB\",axis=1), dfAL_train2[\"RdensB\"])\n",
        "    scores.append(clf.score(dfAL_validation2.drop(\"RdensB\",axis=1), dfAL_validation2[\"RdensB\"]))\n",
        "\n",
        "print(\"Máximo score con un smoothing de: \", BuscaSmoot[scores.index(max(scores))], \"--> valor de Score: \", max(scores))"
      ],
      "execution_count": 19,
      "outputs": [
        {
          "output_type": "stream",
          "text": [
            "Máximo score con un smoothing de:  0.001 --> valor de Score:  0.8947368421052632\n"
          ],
          "name": "stdout"
        }
      ]
    },
    {
      "cell_type": "code",
      "metadata": {
        "colab": {
          "base_uri": "https://localhost:8080/"
        },
        "id": "X8nHpoYZFfCa",
        "outputId": "aa012a93-374d-4e7a-984a-2a010d24b02a"
      },
      "source": [
        "scores = list()\n",
        "for busca in BuscaSmoot:\n",
        "    clf = GaussianNB(var_smoothing = busca)\n",
        "    clf.fit(dfAL_train2.drop(\"RdensB\",axis=1), dfAL_train2[\"RdensB\"])\n",
        "    scores.append(clf.score(dfAL_test_validation2.drop(\"RdensB\",axis=1), dfAL_test_validation2[\"RdensB\"]))\n",
        "\n",
        "print(\"Máximo score con un smoothing de: \", BuscaSmoot[scores.index(max(scores))], \"--> valor de Score: \", max(scores))"
      ],
      "execution_count": 20,
      "outputs": [
        {
          "output_type": "stream",
          "text": [
            "Máximo score con un smoothing de:  0.0001 --> valor de Score:  0.8903508771929824\n"
          ],
          "name": "stdout"
        }
      ]
    },
    {
      "cell_type": "markdown",
      "metadata": {
        "id": "0ertKUX--zoj"
      },
      "source": [
        "Dato Obtenido"
      ]
    },
    {
      "cell_type": "code",
      "metadata": {
        "colab": {
          "base_uri": "https://localhost:8080/",
          "height": 198
        },
        "id": "IE5lH6kb-_PX",
        "outputId": "eb7b771f-c96e-412c-d482-1c8c9bbe728b"
      },
      "source": [
        "from sklearn.metrics import confusion_matrix, roc_auc_score\n",
        "import numpy as np\n",
        "dfAL_train2.head()"
      ],
      "execution_count": 21,
      "outputs": [
        {
          "output_type": "execute_result",
          "data": {
            "text/html": [
              "<div>\n",
              "<style scoped>\n",
              "    .dataframe tbody tr th:only-of-type {\n",
              "        vertical-align: middle;\n",
              "    }\n",
              "\n",
              "    .dataframe tbody tr th {\n",
              "        vertical-align: top;\n",
              "    }\n",
              "\n",
              "    .dataframe thead th {\n",
              "        text-align: right;\n",
              "    }\n",
              "</style>\n",
              "<table border=\"1\" class=\"dataframe\">\n",
              "  <thead>\n",
              "    <tr style=\"text-align: right;\">\n",
              "      <th></th>\n",
              "      <th>pot B</th>\n",
              "      <th>coque</th>\n",
              "      <th>restos</th>\n",
              "      <th>RdensB</th>\n",
              "    </tr>\n",
              "  </thead>\n",
              "  <tbody>\n",
              "    <tr>\n",
              "      <th>513</th>\n",
              "      <td>7.2</td>\n",
              "      <td>0.85</td>\n",
              "      <td>0.26</td>\n",
              "      <td>1</td>\n",
              "    </tr>\n",
              "    <tr>\n",
              "      <th>453</th>\n",
              "      <td>8.3</td>\n",
              "      <td>0.82</td>\n",
              "      <td>0.21</td>\n",
              "      <td>1</td>\n",
              "    </tr>\n",
              "    <tr>\n",
              "      <th>438</th>\n",
              "      <td>7.6</td>\n",
              "      <td>0.81</td>\n",
              "      <td>0.22</td>\n",
              "      <td>0</td>\n",
              "    </tr>\n",
              "    <tr>\n",
              "      <th>603</th>\n",
              "      <td>7.7</td>\n",
              "      <td>0.82</td>\n",
              "      <td>0.22</td>\n",
              "      <td>1</td>\n",
              "    </tr>\n",
              "    <tr>\n",
              "      <th>313</th>\n",
              "      <td>7.8</td>\n",
              "      <td>0.83</td>\n",
              "      <td>0.25</td>\n",
              "      <td>1</td>\n",
              "    </tr>\n",
              "  </tbody>\n",
              "</table>\n",
              "</div>"
            ],
            "text/plain": [
              "     pot B  coque  restos  RdensB\n",
              "513    7.2   0.85    0.26       1\n",
              "453    8.3   0.82    0.21       1\n",
              "438    7.6   0.81    0.22       0\n",
              "603    7.7   0.82    0.22       1\n",
              "313    7.8   0.83    0.25       1"
            ]
          },
          "metadata": {
            "tags": []
          },
          "execution_count": 21
        }
      ]
    },
    {
      "cell_type": "code",
      "metadata": {
        "colab": {
          "base_uri": "https://localhost:8080/"
        },
        "id": "juIxOtWr_Rnp",
        "outputId": "e5ee6e5e-4ad5-4e70-b329-12e22d428c24"
      },
      "source": [
        "clf.predict(np.array([[8,0.85,0.3]]))"
      ],
      "execution_count": 22,
      "outputs": [
        {
          "output_type": "execute_result",
          "data": {
            "text/plain": [
              "array([1])"
            ]
          },
          "metadata": {
            "tags": []
          },
          "execution_count": 22
        }
      ]
    },
    {
      "cell_type": "markdown",
      "metadata": {
        "id": "OrcyJwKEC38-"
      },
      "source": [
        "Matriz"
      ]
    },
    {
      "cell_type": "code",
      "metadata": {
        "id": "J8iyTRBIC5xk"
      },
      "source": [
        "y_true = 1*np.array(dfAL_validation2[\"RdensB\"])"
      ],
      "execution_count": 23,
      "outputs": []
    },
    {
      "cell_type": "code",
      "metadata": {
        "id": "wVwZW5lmFvfT"
      },
      "source": [
        "y_true2 = 1*np.array(dfAL_test_validation2[\"RdensB\"])"
      ],
      "execution_count": 24,
      "outputs": []
    },
    {
      "cell_type": "code",
      "metadata": {
        "id": "TkE3o2HsDgpi"
      },
      "source": [
        "y_pred = clf.predict_proba(dfAL_validation2.drop(\"RdensB\",axis=1))"
      ],
      "execution_count": 25,
      "outputs": []
    },
    {
      "cell_type": "code",
      "metadata": {
        "id": "wQkbaVazF1Qz"
      },
      "source": [
        "y_pred2 = clf.predict_proba(dfAL_test_validation2.drop(\"RdensB\",axis=1))"
      ],
      "execution_count": 26,
      "outputs": []
    },
    {
      "cell_type": "code",
      "metadata": {
        "colab": {
          "base_uri": "https://localhost:8080/"
        },
        "id": "Akt8DwPEDr4-",
        "outputId": "0a711fed-8633-46d6-b975-24603856c206"
      },
      "source": [
        "print(\"Matriz de Confusión Alfa 0.25\")\n",
        "print(confusion_matrix(y_true,y_pred[:,1]>0.25))"
      ],
      "execution_count": 27,
      "outputs": [
        {
          "output_type": "stream",
          "text": [
            "Matriz de Confusión Alfa 0.25\n",
            "[[  1  12]\n",
            " [  1 100]]\n"
          ],
          "name": "stdout"
        }
      ]
    },
    {
      "cell_type": "code",
      "metadata": {
        "colab": {
          "base_uri": "https://localhost:8080/"
        },
        "id": "AMxjmqMNF81X",
        "outputId": "2d8506da-016a-4698-d2e5-50cf4c11038e"
      },
      "source": [
        "print(\"Matriz de Confusión Alfa 0.25\")\n",
        "print(confusion_matrix(y_true2,y_pred2[:,1]>0.25))"
      ],
      "execution_count": 28,
      "outputs": [
        {
          "output_type": "stream",
          "text": [
            "Matriz de Confusión Alfa 0.25\n",
            "[[  3  23]\n",
            " [  2 200]]\n"
          ],
          "name": "stdout"
        }
      ]
    },
    {
      "cell_type": "code",
      "metadata": {
        "colab": {
          "base_uri": "https://localhost:8080/"
        },
        "id": "NAihpKoIEF7d",
        "outputId": "daae61b9-6a11-4b50-adc5-a6ac6390b107"
      },
      "source": [
        "alfa = 0.02\n",
        "recalls = np.zeros(100)\n",
        "precisions= np.zeros(100)\n",
        "FPR = np.zeros(100)\n",
        "alfas = np.linspace(0,1,100)\n",
        "for idx,alfa in enumerate(alfas):\n",
        "    tn, fp, fn, tp = confusion_matrix(y_true,y_pred[:,1]>alfa).ravel()\n",
        "    recalls[idx] = (tp/(tp+fn))\n",
        "    precisions[idx] = (tp/(tp+fp))\n",
        "    FPR[idx]= (fp/(fp+tn))"
      ],
      "execution_count": 29,
      "outputs": [
        {
          "output_type": "stream",
          "text": [
            "/usr/local/lib/python3.7/dist-packages/ipykernel_launcher.py:9: RuntimeWarning: invalid value encountered in long_scalars\n",
            "  if __name__ == '__main__':\n"
          ],
          "name": "stderr"
        }
      ]
    },
    {
      "cell_type": "code",
      "metadata": {
        "colab": {
          "base_uri": "https://localhost:8080/"
        },
        "id": "sY1WmUCcGQiI",
        "outputId": "2ba5960e-8235-4601-f4bd-716b8219662f"
      },
      "source": [
        "alfa = 0.02\n",
        "recalls = np.zeros(100)\n",
        "precisions= np.zeros(100)\n",
        "FPR = np.zeros(100)\n",
        "alfas = np.linspace(0,1,100)\n",
        "for idx,alfa in enumerate(alfas):\n",
        "    tn, fp, fn, tp = confusion_matrix(y_true2,y_pred2[:,1]>alfa).ravel()\n",
        "    recalls[idx] = (tp/(tp+fn))\n",
        "    precisions[idx] = (tp/(tp+fp))\n",
        "    FPR[idx]= (fp/(fp+tn))"
      ],
      "execution_count": 56,
      "outputs": [
        {
          "output_type": "stream",
          "text": [
            "/usr/local/lib/python3.7/dist-packages/ipykernel_launcher.py:9: RuntimeWarning: invalid value encountered in long_scalars\n",
            "  if __name__ == '__main__':\n"
          ],
          "name": "stderr"
        }
      ]
    },
    {
      "cell_type": "code",
      "metadata": {
        "colab": {
          "base_uri": "https://localhost:8080/"
        },
        "id": "kP_jb-1aETr7",
        "outputId": "ed11ead7-d9c4-4921-bd06-627bca37196a"
      },
      "source": [
        "print(\"Para un alfa 0.25 --> Valor de recall\", recalls[25], \"Valor de Precisions\", precisions[25], \"Valor de FPR\", FPR[25])\n",
        "print(\"Para un alfa 0.5 --> Valor de recall\", recalls[50], \"Valor de Precisions\", precisions[50], \"Valor de FPR\", FPR[50])\n",
        "print(\"Para un alfa 0.75 --> Valor de recall\", recalls[75], \"Valor de Precisions\", precisions[75], \"Valor de FPR\", FPR[75])"
      ],
      "execution_count": 57,
      "outputs": [
        {
          "output_type": "stream",
          "text": [
            "Para un alfa 0.25 --> Valor de recall 0.9900990099009901 Valor de Precisions 0.8968609865470852 Valor de FPR 0.8846153846153846\n",
            "Para un alfa 0.5 --> Valor de recall 0.9801980198019802 Valor de Precisions 0.9041095890410958 Valor de FPR 0.8076923076923077\n",
            "Para un alfa 0.75 --> Valor de recall 0.9356435643564357 Valor de Precisions 0.9310344827586207 Valor de FPR 0.5384615384615384\n"
          ],
          "name": "stdout"
        }
      ]
    },
    {
      "cell_type": "code",
      "metadata": {
        "id": "nIHsn2pkGacm"
      },
      "source": [
        ""
      ],
      "execution_count": 31,
      "outputs": []
    },
    {
      "cell_type": "code",
      "metadata": {
        "colab": {
          "base_uri": "https://localhost:8080/",
          "height": 350
        },
        "id": "5b6st8OmEk0y",
        "outputId": "c1480a1c-de6e-46dd-88dc-dad036d144d3"
      },
      "source": [
        "plt.figure(figsize=[5,5])\n",
        "plt.plot(FPR,recalls)\n",
        "plt.title(\"Curva ROC ejercicio densidad Línea B\")\n",
        "plt.xlabel(\"FPR\")\n",
        "plt.ylabel(\"TPR\")\n",
        "plt.show()"
      ],
      "execution_count": 32,
      "outputs": [
        {
          "output_type": "display_data",
          "data": {
            "image/png": "[encoded data removed]",
            "text/plain": [
              "<Figure size 360x360 with 1 Axes>"
            ]
          },
          "metadata": {
            "tags": [],
            "needs_background": "light"
          }
        }
      ]
    },
    {
      "cell_type": "markdown",
      "metadata": {
        "id": "h1JcaxfLzLrr"
      },
      "source": [
        "Modelo LDA"
      ]
    },
    {
      "cell_type": "code",
      "metadata": {
        "id": "JfnIGwO1zPa6"
      },
      "source": [
        "from sklearn.discriminant_analysis import LinearDiscriminantAnalysis"
      ],
      "execution_count": 33,
      "outputs": []
    },
    {
      "cell_type": "code",
      "metadata": {
        "id": "EDyJxoraQ0xw"
      },
      "source": [
        ""
      ],
      "execution_count": 33,
      "outputs": []
    },
    {
      "cell_type": "code",
      "metadata": {
        "id": "5bNbY4E_zSfE"
      },
      "source": [
        "LDA_clf = LinearDiscriminantAnalysis()"
      ],
      "execution_count": 34,
      "outputs": []
    },
    {
      "cell_type": "code",
      "metadata": {
        "colab": {
          "base_uri": "https://localhost:8080/"
        },
        "id": "3e11vd0fzVJy",
        "outputId": "22147ab0-d85c-4e76-eb5d-34513bb3af33"
      },
      "source": [
        "LDA_clf.fit(dfAL_train2.drop(\"RdensB\",axis=1), dfAL_train2[\"RdensB\"])"
      ],
      "execution_count": 35,
      "outputs": [
        {
          "output_type": "execute_result",
          "data": {
            "text/plain": [
              "LinearDiscriminantAnalysis(n_components=None, priors=None, shrinkage=None,\n",
              "                           solver='svd', store_covariance=False, tol=0.0001)"
            ]
          },
          "metadata": {
            "tags": []
          },
          "execution_count": 35
        }
      ]
    },
    {
      "cell_type": "code",
      "metadata": {
        "colab": {
          "base_uri": "https://localhost:8080/"
        },
        "id": "uHpahvdWzht5",
        "outputId": "495f5f04-462d-4645-d518-6dbc05c79ea1"
      },
      "source": [
        "LDA_clf.score(dfAL_train2.drop(\"RdensB\",axis=1), dfAL_train2[\"RdensB\"])"
      ],
      "execution_count": 36,
      "outputs": [
        {
          "output_type": "execute_result",
          "data": {
            "text/plain": [
              "0.8886792452830189"
            ]
          },
          "metadata": {
            "tags": []
          },
          "execution_count": 36
        }
      ]
    },
    {
      "cell_type": "code",
      "metadata": {
        "colab": {
          "base_uri": "https://localhost:8080/"
        },
        "id": "IcQV1Wj-zypM",
        "outputId": "b24e9f6c-3c61-4923-93d4-b2e0e358605b"
      },
      "source": [
        "LDA_clf.score(dfAL_validation2.drop(\"RdensB\",axis=1), dfAL_validation2[\"RdensB\"])"
      ],
      "execution_count": 37,
      "outputs": [
        {
          "output_type": "execute_result",
          "data": {
            "text/plain": [
              "0.8859649122807017"
            ]
          },
          "metadata": {
            "tags": []
          },
          "execution_count": 37
        }
      ]
    },
    {
      "cell_type": "code",
      "metadata": {
        "colab": {
          "base_uri": "https://localhost:8080/"
        },
        "id": "DTic4LU6Q-GB",
        "outputId": "0f42a3f0-64e4-4fea-dc33-d1cc3831ad5d"
      },
      "source": [
        "LDA_clf.predict(np.array([[7,0.86,0.25]]))"
      ],
      "execution_count": 38,
      "outputs": [
        {
          "output_type": "execute_result",
          "data": {
            "text/plain": [
              "array([1])"
            ]
          },
          "metadata": {
            "tags": []
          },
          "execution_count": 38
        }
      ]
    },
    {
      "cell_type": "code",
      "metadata": {
        "id": "7taMRq66HEA-"
      },
      "source": [
        "y_true2 = 1*np.array(dfAL_test_validation2[\"RdensB\"])"
      ],
      "execution_count": 39,
      "outputs": []
    },
    {
      "cell_type": "code",
      "metadata": {
        "id": "xICYjYXvHIKq"
      },
      "source": [
        "y_pred_LDA = LDA_clf.predict_proba(dfAL_test_validation2.drop(\"RdensB\",axis=1))"
      ],
      "execution_count": 40,
      "outputs": []
    },
    {
      "cell_type": "code",
      "metadata": {
        "colab": {
          "base_uri": "https://localhost:8080/"
        },
        "id": "KJWYG2d6G921",
        "outputId": "108796bb-cb53-4a3e-905a-7719dd08060f"
      },
      "source": [
        "print(\"Matriz de Confusión Alfa 0.25\")\n",
        "print(confusion_matrix(y_true2,y_pred_LDA[:,1]>0.25))"
      ],
      "execution_count": 41,
      "outputs": [
        {
          "output_type": "stream",
          "text": [
            "Matriz de Confusión Alfa 0.25\n",
            "[[  0  26]\n",
            " [  1 201]]\n"
          ],
          "name": "stdout"
        }
      ]
    },
    {
      "cell_type": "markdown",
      "metadata": {
        "id": "eYC7sjTNz7bI"
      },
      "source": [
        "Modelo QDA"
      ]
    },
    {
      "cell_type": "code",
      "metadata": {
        "id": "XQQd8QZFz6ot"
      },
      "source": [
        "from sklearn.discriminant_analysis import QuadraticDiscriminantAnalysis\n",
        "QDA_clf = QuadraticDiscriminantAnalysis()"
      ],
      "execution_count": 42,
      "outputs": []
    },
    {
      "cell_type": "code",
      "metadata": {
        "id": "ot9T55nIR1Ij"
      },
      "source": [
        ""
      ],
      "execution_count": 42,
      "outputs": []
    },
    {
      "cell_type": "code",
      "metadata": {
        "colab": {
          "base_uri": "https://localhost:8080/"
        },
        "id": "x1DS6E7oz6r3",
        "outputId": "383cad6f-20bf-4b4f-a9a2-43a2588d2ad4"
      },
      "source": [
        "QDA_clf.fit(dfAL_train2.drop(\"RdensB\",axis=1), dfAL_train2[\"RdensB\"])"
      ],
      "execution_count": 43,
      "outputs": [
        {
          "output_type": "execute_result",
          "data": {
            "text/plain": [
              "QuadraticDiscriminantAnalysis(priors=None, reg_param=0.0,\n",
              "                              store_covariance=False, tol=0.0001)"
            ]
          },
          "metadata": {
            "tags": []
          },
          "execution_count": 43
        }
      ]
    },
    {
      "cell_type": "code",
      "metadata": {
        "colab": {
          "base_uri": "https://localhost:8080/"
        },
        "id": "mEWszqu00Tac",
        "outputId": "c13be38b-fc78-4981-c1f2-6bbe1c85aad0"
      },
      "source": [
        "QDA_clf.score(dfAL_train2.drop(\"RdensB\",axis=1), dfAL_train2[\"RdensB\"])"
      ],
      "execution_count": 44,
      "outputs": [
        {
          "output_type": "execute_result",
          "data": {
            "text/plain": [
              "0.8830188679245283"
            ]
          },
          "metadata": {
            "tags": []
          },
          "execution_count": 44
        }
      ]
    },
    {
      "cell_type": "code",
      "metadata": {
        "colab": {
          "base_uri": "https://localhost:8080/"
        },
        "id": "JHfHK7Y40XLa",
        "outputId": "0cf3b54f-533b-40fd-ed40-49b63616f072"
      },
      "source": [
        "QDA_clf.score(dfAL_validation2.drop(\"RdensB\",axis=1), dfAL_validation2[\"RdensB\"])"
      ],
      "execution_count": 45,
      "outputs": [
        {
          "output_type": "execute_result",
          "data": {
            "text/plain": [
              "0.8859649122807017"
            ]
          },
          "metadata": {
            "tags": []
          },
          "execution_count": 45
        }
      ]
    },
    {
      "cell_type": "code",
      "metadata": {
        "colab": {
          "base_uri": "https://localhost:8080/"
        },
        "id": "3mYK-grKSJDF",
        "outputId": "6d2b65dc-87fb-4662-b556-f7b94f3016d0"
      },
      "source": [
        "QDA_clf.predict(np.array([[5,0.86,0.25]]))"
      ],
      "execution_count": 46,
      "outputs": [
        {
          "output_type": "execute_result",
          "data": {
            "text/plain": [
              "array([0])"
            ]
          },
          "metadata": {
            "tags": []
          },
          "execution_count": 46
        }
      ]
    },
    {
      "cell_type": "markdown",
      "metadata": {
        "id": "Roicehdx0joA"
      },
      "source": [
        "Modelo de Regresión Log."
      ]
    },
    {
      "cell_type": "code",
      "metadata": {
        "id": "QmfG_vOT0owp"
      },
      "source": [
        "from sklearn.linear_model import LogisticRegression\n",
        "LR_clf=LogisticRegression(C=1e9, verbose=1)"
      ],
      "execution_count": 47,
      "outputs": []
    },
    {
      "cell_type": "code",
      "metadata": {
        "colab": {
          "base_uri": "https://localhost:8080/"
        },
        "id": "kOmY92-e0p4Z",
        "outputId": "668efd32-93ae-4089-bc88-ba130a817a20"
      },
      "source": [
        "LR_clf.fit(dfAL_train2.drop(\"RdensB\",axis=1), dfAL_train2[\"RdensB\"])"
      ],
      "execution_count": 48,
      "outputs": [
        {
          "output_type": "stream",
          "text": [
            "[Parallel(n_jobs=1)]: Using backend SequentialBackend with 1 concurrent workers.\n",
            "[Parallel(n_jobs=1)]: Done   1 out of   1 | elapsed:    0.0s finished\n"
          ],
          "name": "stderr"
        },
        {
          "output_type": "execute_result",
          "data": {
            "text/plain": [
              "LogisticRegression(C=1000000000.0, class_weight=None, dual=False,\n",
              "                   fit_intercept=True, intercept_scaling=1, l1_ratio=None,\n",
              "                   max_iter=100, multi_class='auto', n_jobs=None, penalty='l2',\n",
              "                   random_state=None, solver='lbfgs', tol=0.0001, verbose=1,\n",
              "                   warm_start=False)"
            ]
          },
          "metadata": {
            "tags": []
          },
          "execution_count": 48
        }
      ]
    },
    {
      "cell_type": "code",
      "metadata": {
        "colab": {
          "base_uri": "https://localhost:8080/"
        },
        "id": "wHCTrzUB0vtR",
        "outputId": "c5db6980-e858-4e4f-a20b-d3288a04a470"
      },
      "source": [
        "LR_clf.score(dfAL_train2.drop(\"RdensB\",axis=1), dfAL_train2[\"RdensB\"])"
      ],
      "execution_count": 49,
      "outputs": [
        {
          "output_type": "execute_result",
          "data": {
            "text/plain": [
              "0.8886792452830189"
            ]
          },
          "metadata": {
            "tags": []
          },
          "execution_count": 49
        }
      ]
    },
    {
      "cell_type": "code",
      "metadata": {
        "colab": {
          "base_uri": "https://localhost:8080/"
        },
        "id": "XAQHtj4t05dC",
        "outputId": "77e21864-d2f6-4fb2-aeff-d2eabb23b980"
      },
      "source": [
        "LR_clf.score(dfAL_validation2.drop(\"RdensB\",axis=1), dfAL_validation2[\"RdensB\"])"
      ],
      "execution_count": 50,
      "outputs": [
        {
          "output_type": "execute_result",
          "data": {
            "text/plain": [
              "0.8859649122807017"
            ]
          },
          "metadata": {
            "tags": []
          },
          "execution_count": 50
        }
      ]
    },
    {
      "cell_type": "markdown",
      "metadata": {
        "id": "s4JAGTnp1MqB"
      },
      "source": [
        "Modelo de Redes Neuronales"
      ]
    },
    {
      "cell_type": "code",
      "metadata": {
        "colab": {
          "base_uri": "https://localhost:8080/"
        },
        "id": "33Yfhf7_23jA",
        "outputId": "3a508dcf-b8c7-40c6-93cb-b610e5ebc41d"
      },
      "source": [
        "dfAL_train2.shape"
      ],
      "execution_count": 51,
      "outputs": [
        {
          "output_type": "execute_result",
          "data": {
            "text/plain": [
              "(530, 4)"
            ]
          },
          "metadata": {
            "tags": []
          },
          "execution_count": 51
        }
      ]
    },
    {
      "cell_type": "code",
      "metadata": {
        "id": "KixGihCZ1QIR"
      },
      "source": [
        "from tensorflow.keras.models import Sequential\n",
        "from tensorflow.keras.layers import Dense, BatchNormalization\n",
        "from tensorflow.keras.optimizers import Adam, SGD"
      ],
      "execution_count": 52,
      "outputs": []
    },
    {
      "cell_type": "code",
      "metadata": {
        "id": "OGBuC5Wq1STp"
      },
      "source": [
        "RN_clf= Sequential()\n",
        "RN_clf.add(BatchNormalization(input_shape=(3,)))\n",
        "RN_clf.add(Dense(16, input_dim=5, activation='relu'))\n",
        "RN_clf.add(Dense(1, activation='sigmoid'))"
      ],
      "execution_count": 53,
      "outputs": []
    },
    {
      "cell_type": "code",
      "metadata": {
        "id": "4ljWc0dI17mx"
      },
      "source": [
        "RN_clf.compile(loss='mean_squared_error',\n",
        "              optimizer='SGD',\n",
        "              metrics=['binary_accuracy'])"
      ],
      "execution_count": 54,
      "outputs": []
    },
    {
      "cell_type": "code",
      "metadata": {
        "colab": {
          "base_uri": "https://localhost:8080/"
        },
        "id": "h5tLnAxG2E-Q",
        "outputId": "ef1306e2-b789-4583-d685-8871c72458c6"
      },
      "source": [
        "RN_clf.fit(dfAL_train2.drop(\"RdensB\",axis=1), dfAL_train2[\"RdensB\"], epochs=300)"
      ],
      "execution_count": 55,
      "outputs": [
        {
          "output_type": "stream",
          "text": [
            "Epoch 1/300\n",
            "17/17 [==============================] - 1s 2ms/step - loss: 0.2555 - binary_accuracy: 0.4733\n",
            "Epoch 2/300\n",
            "17/17 [==============================] - 0s 1ms/step - loss: 0.2445 - binary_accuracy: 0.5312\n",
            "Epoch 3/300\n",
            "17/17 [==============================] - 0s 1ms/step - loss: 0.2306 - binary_accuracy: 0.5933\n",
            "Epoch 4/300\n",
            "17/17 [==============================] - 0s 1ms/step - loss: 0.2175 - binary_accuracy: 0.6424\n",
            "Epoch 5/300\n",
            "17/17 [==============================] - 0s 1ms/step - loss: 0.2055 - binary_accuracy: 0.6606\n",
            "Epoch 6/300\n",
            "17/17 [==============================] - 0s 2ms/step - loss: 0.1988 - binary_accuracy: 0.7273\n",
            "Epoch 7/300\n",
            "17/17 [==============================] - 0s 1ms/step - loss: 0.1831 - binary_accuracy: 0.7746\n",
            "Epoch 8/300\n",
            "17/17 [==============================] - 0s 1ms/step - loss: 0.1787 - binary_accuracy: 0.8173\n",
            "Epoch 9/300\n",
            "17/17 [==============================] - 0s 1ms/step - loss: 0.1733 - binary_accuracy: 0.8304\n",
            "Epoch 10/300\n",
            "17/17 [==============================] - 0s 1ms/step - loss: 0.1723 - binary_accuracy: 0.8441\n",
            "Epoch 11/300\n",
            "17/17 [==============================] - 0s 1ms/step - loss: 0.1674 - binary_accuracy: 0.8487\n",
            "Epoch 12/300\n",
            "17/17 [==============================] - 0s 1ms/step - loss: 0.1565 - binary_accuracy: 0.8713\n",
            "Epoch 13/300\n",
            "17/17 [==============================] - 0s 1ms/step - loss: 0.1527 - binary_accuracy: 0.8679\n",
            "Epoch 14/300\n",
            "17/17 [==============================] - 0s 1ms/step - loss: 0.1548 - binary_accuracy: 0.8604\n",
            "Epoch 15/300\n",
            "17/17 [==============================] - 0s 2ms/step - loss: 0.1489 - binary_accuracy: 0.8744\n",
            "Epoch 16/300\n",
            "17/17 [==============================] - 0s 1ms/step - loss: 0.1375 - binary_accuracy: 0.9015\n",
            "Epoch 17/300\n",
            "17/17 [==============================] - 0s 1ms/step - loss: 0.1348 - binary_accuracy: 0.8928\n",
            "Epoch 18/300\n",
            "17/17 [==============================] - 0s 2ms/step - loss: 0.1399 - binary_accuracy: 0.8708\n",
            "Epoch 19/300\n",
            "17/17 [==============================] - 0s 1ms/step - loss: 0.1323 - binary_accuracy: 0.8864\n",
            "Epoch 20/300\n",
            "17/17 [==============================] - 0s 1ms/step - loss: 0.1343 - binary_accuracy: 0.8797\n",
            "Epoch 21/300\n",
            "17/17 [==============================] - 0s 2ms/step - loss: 0.1341 - binary_accuracy: 0.8784\n",
            "Epoch 22/300\n",
            "17/17 [==============================] - 0s 1ms/step - loss: 0.1370 - binary_accuracy: 0.8692\n",
            "Epoch 23/300\n",
            "17/17 [==============================] - 0s 2ms/step - loss: 0.1258 - binary_accuracy: 0.8850\n",
            "Epoch 24/300\n",
            "17/17 [==============================] - 0s 2ms/step - loss: 0.1302 - binary_accuracy: 0.8771\n",
            "Epoch 25/300\n",
            "17/17 [==============================] - 0s 2ms/step - loss: 0.1127 - binary_accuracy: 0.9007\n",
            "Epoch 26/300\n",
            "17/17 [==============================] - 0s 2ms/step - loss: 0.1229 - binary_accuracy: 0.8833\n",
            "Epoch 27/300\n",
            "17/17 [==============================] - 0s 2ms/step - loss: 0.1161 - binary_accuracy: 0.8923\n",
            "Epoch 28/300\n",
            "17/17 [==============================] - 0s 2ms/step - loss: 0.1180 - binary_accuracy: 0.8837\n",
            "Epoch 29/300\n",
            "17/17 [==============================] - 0s 1ms/step - loss: 0.1060 - binary_accuracy: 0.9052\n",
            "Epoch 30/300\n",
            "17/17 [==============================] - 0s 2ms/step - loss: 0.1117 - binary_accuracy: 0.8968\n",
            "Epoch 31/300\n",
            "17/17 [==============================] - 0s 2ms/step - loss: 0.1069 - binary_accuracy: 0.8989\n",
            "Epoch 32/300\n",
            "17/17 [==============================] - 0s 2ms/step - loss: 0.1025 - binary_accuracy: 0.9037\n",
            "Epoch 33/300\n",
            "17/17 [==============================] - 0s 2ms/step - loss: 0.1119 - binary_accuracy: 0.8906\n",
            "Epoch 34/300\n",
            "17/17 [==============================] - 0s 2ms/step - loss: 0.1166 - binary_accuracy: 0.8811\n",
            "Epoch 35/300\n",
            "17/17 [==============================] - 0s 1ms/step - loss: 0.1198 - binary_accuracy: 0.8703\n",
            "Epoch 36/300\n",
            "17/17 [==============================] - 0s 2ms/step - loss: 0.1008 - binary_accuracy: 0.9043\n",
            "Epoch 37/300\n",
            "17/17 [==============================] - 0s 2ms/step - loss: 0.1085 - binary_accuracy: 0.8884\n",
            "Epoch 38/300\n",
            "17/17 [==============================] - 0s 2ms/step - loss: 0.1124 - binary_accuracy: 0.8829\n",
            "Epoch 39/300\n",
            "17/17 [==============================] - 0s 2ms/step - loss: 0.1156 - binary_accuracy: 0.8821\n",
            "Epoch 40/300\n",
            "17/17 [==============================] - 0s 2ms/step - loss: 0.1030 - binary_accuracy: 0.8949\n",
            "Epoch 41/300\n",
            "17/17 [==============================] - 0s 2ms/step - loss: 0.1108 - binary_accuracy: 0.8806\n",
            "Epoch 42/300\n",
            "17/17 [==============================] - 0s 2ms/step - loss: 0.1059 - binary_accuracy: 0.8939\n",
            "Epoch 43/300\n",
            "17/17 [==============================] - 0s 2ms/step - loss: 0.1154 - binary_accuracy: 0.8687\n",
            "Epoch 44/300\n",
            "17/17 [==============================] - 0s 1ms/step - loss: 0.0973 - binary_accuracy: 0.9022\n",
            "Epoch 45/300\n",
            "17/17 [==============================] - 0s 2ms/step - loss: 0.1235 - binary_accuracy: 0.8585\n",
            "Epoch 46/300\n",
            "17/17 [==============================] - 0s 1ms/step - loss: 0.0977 - binary_accuracy: 0.9021\n",
            "Epoch 47/300\n",
            "17/17 [==============================] - 0s 1ms/step - loss: 0.1022 - binary_accuracy: 0.8940\n",
            "Epoch 48/300\n",
            "17/17 [==============================] - 0s 2ms/step - loss: 0.0953 - binary_accuracy: 0.9028\n",
            "Epoch 49/300\n",
            "17/17 [==============================] - 0s 2ms/step - loss: 0.1159 - binary_accuracy: 0.8680\n",
            "Epoch 50/300\n",
            "17/17 [==============================] - 0s 2ms/step - loss: 0.1174 - binary_accuracy: 0.8651\n",
            "Epoch 51/300\n",
            "17/17 [==============================] - 0s 2ms/step - loss: 0.1131 - binary_accuracy: 0.8724\n",
            "Epoch 52/300\n",
            "17/17 [==============================] - 0s 2ms/step - loss: 0.1070 - binary_accuracy: 0.8831\n",
            "Epoch 53/300\n",
            "17/17 [==============================] - 0s 2ms/step - loss: 0.1036 - binary_accuracy: 0.8857\n",
            "Epoch 54/300\n",
            "17/17 [==============================] - 0s 2ms/step - loss: 0.1147 - binary_accuracy: 0.8695\n",
            "Epoch 55/300\n",
            "17/17 [==============================] - 0s 1ms/step - loss: 0.1060 - binary_accuracy: 0.8846\n",
            "Epoch 56/300\n",
            "17/17 [==============================] - 0s 2ms/step - loss: 0.1100 - binary_accuracy: 0.8762\n",
            "Epoch 57/300\n",
            "17/17 [==============================] - 0s 1ms/step - loss: 0.0963 - binary_accuracy: 0.8993\n",
            "Epoch 58/300\n",
            "17/17 [==============================] - 0s 2ms/step - loss: 0.1039 - binary_accuracy: 0.8851\n",
            "Epoch 59/300\n",
            "17/17 [==============================] - 0s 2ms/step - loss: 0.0980 - binary_accuracy: 0.8947\n",
            "Epoch 60/300\n",
            "17/17 [==============================] - 0s 2ms/step - loss: 0.0967 - binary_accuracy: 0.8980\n",
            "Epoch 61/300\n",
            "17/17 [==============================] - 0s 2ms/step - loss: 0.1132 - binary_accuracy: 0.8680\n",
            "Epoch 62/300\n",
            "17/17 [==============================] - 0s 2ms/step - loss: 0.1007 - binary_accuracy: 0.8872\n",
            "Epoch 63/300\n",
            "17/17 [==============================] - 0s 2ms/step - loss: 0.1146 - binary_accuracy: 0.8678\n",
            "Epoch 64/300\n",
            "17/17 [==============================] - 0s 2ms/step - loss: 0.0884 - binary_accuracy: 0.9071\n",
            "Epoch 65/300\n",
            "17/17 [==============================] - 0s 2ms/step - loss: 0.0947 - binary_accuracy: 0.8986\n",
            "Epoch 66/300\n",
            "17/17 [==============================] - 0s 2ms/step - loss: 0.1104 - binary_accuracy: 0.8721\n",
            "Epoch 67/300\n",
            "17/17 [==============================] - 0s 2ms/step - loss: 0.1063 - binary_accuracy: 0.8745\n",
            "Epoch 68/300\n",
            "17/17 [==============================] - 0s 2ms/step - loss: 0.1026 - binary_accuracy: 0.8817\n",
            "Epoch 69/300\n",
            "17/17 [==============================] - 0s 2ms/step - loss: 0.0995 - binary_accuracy: 0.8853\n",
            "Epoch 70/300\n",
            "17/17 [==============================] - 0s 2ms/step - loss: 0.0996 - binary_accuracy: 0.8858\n",
            "Epoch 71/300\n",
            "17/17 [==============================] - 0s 2ms/step - loss: 0.0950 - binary_accuracy: 0.8961\n",
            "Epoch 72/300\n",
            "17/17 [==============================] - 0s 2ms/step - loss: 0.1103 - binary_accuracy: 0.8743\n",
            "Epoch 73/300\n",
            "17/17 [==============================] - 0s 1ms/step - loss: 0.0957 - binary_accuracy: 0.8932\n",
            "Epoch 74/300\n",
            "17/17 [==============================] - 0s 1ms/step - loss: 0.0856 - binary_accuracy: 0.9067\n",
            "Epoch 75/300\n",
            "17/17 [==============================] - 0s 2ms/step - loss: 0.1037 - binary_accuracy: 0.8830\n",
            "Epoch 76/300\n",
            "17/17 [==============================] - 0s 1ms/step - loss: 0.0914 - binary_accuracy: 0.9002\n",
            "Epoch 77/300\n",
            "17/17 [==============================] - 0s 2ms/step - loss: 0.1065 - binary_accuracy: 0.8791\n",
            "Epoch 78/300\n",
            "17/17 [==============================] - 0s 2ms/step - loss: 0.0915 - binary_accuracy: 0.9005\n",
            "Epoch 79/300\n",
            "17/17 [==============================] - 0s 1ms/step - loss: 0.0921 - binary_accuracy: 0.8979\n",
            "Epoch 80/300\n",
            "17/17 [==============================] - 0s 2ms/step - loss: 0.1087 - binary_accuracy: 0.8738\n",
            "Epoch 81/300\n",
            "17/17 [==============================] - 0s 1ms/step - loss: 0.0941 - binary_accuracy: 0.8952\n",
            "Epoch 82/300\n",
            "17/17 [==============================] - 0s 2ms/step - loss: 0.1023 - binary_accuracy: 0.8849\n",
            "Epoch 83/300\n",
            "17/17 [==============================] - 0s 2ms/step - loss: 0.1038 - binary_accuracy: 0.8823\n",
            "Epoch 84/300\n",
            "17/17 [==============================] - 0s 2ms/step - loss: 0.1001 - binary_accuracy: 0.8854\n",
            "Epoch 85/300\n",
            "17/17 [==============================] - 0s 2ms/step - loss: 0.0983 - binary_accuracy: 0.8880\n",
            "Epoch 86/300\n",
            "17/17 [==============================] - 0s 2ms/step - loss: 0.0989 - binary_accuracy: 0.8877\n",
            "Epoch 87/300\n",
            "17/17 [==============================] - 0s 2ms/step - loss: 0.0986 - binary_accuracy: 0.8848\n",
            "Epoch 88/300\n",
            "17/17 [==============================] - 0s 2ms/step - loss: 0.1000 - binary_accuracy: 0.8830\n",
            "Epoch 89/300\n",
            "17/17 [==============================] - 0s 2ms/step - loss: 0.1024 - binary_accuracy: 0.8809\n",
            "Epoch 90/300\n",
            "17/17 [==============================] - 0s 2ms/step - loss: 0.1147 - binary_accuracy: 0.8646\n",
            "Epoch 91/300\n",
            "17/17 [==============================] - 0s 2ms/step - loss: 0.1136 - binary_accuracy: 0.8628\n",
            "Epoch 92/300\n",
            "17/17 [==============================] - 0s 2ms/step - loss: 0.0970 - binary_accuracy: 0.8894\n",
            "Epoch 93/300\n",
            "17/17 [==============================] - 0s 2ms/step - loss: 0.0974 - binary_accuracy: 0.8855\n",
            "Epoch 94/300\n",
            "17/17 [==============================] - 0s 2ms/step - loss: 0.1124 - binary_accuracy: 0.8665\n",
            "Epoch 95/300\n",
            "17/17 [==============================] - 0s 2ms/step - loss: 0.1051 - binary_accuracy: 0.8801\n",
            "Epoch 96/300\n",
            "17/17 [==============================] - 0s 1ms/step - loss: 0.0970 - binary_accuracy: 0.8882\n",
            "Epoch 97/300\n",
            "17/17 [==============================] - 0s 1ms/step - loss: 0.0848 - binary_accuracy: 0.9037\n",
            "Epoch 98/300\n",
            "17/17 [==============================] - 0s 2ms/step - loss: 0.0993 - binary_accuracy: 0.8872\n",
            "Epoch 99/300\n",
            "17/17 [==============================] - 0s 1ms/step - loss: 0.0887 - binary_accuracy: 0.9021\n",
            "Epoch 100/300\n",
            "17/17 [==============================] - 0s 1ms/step - loss: 0.0745 - binary_accuracy: 0.9233\n",
            "Epoch 101/300\n",
            "17/17 [==============================] - 0s 1ms/step - loss: 0.1016 - binary_accuracy: 0.8815\n",
            "Epoch 102/300\n",
            "17/17 [==============================] - 0s 2ms/step - loss: 0.0976 - binary_accuracy: 0.8856\n",
            "Epoch 103/300\n",
            "17/17 [==============================] - 0s 2ms/step - loss: 0.0980 - binary_accuracy: 0.8852\n",
            "Epoch 104/300\n",
            "17/17 [==============================] - 0s 2ms/step - loss: 0.0986 - binary_accuracy: 0.8848\n",
            "Epoch 105/300\n",
            "17/17 [==============================] - 0s 2ms/step - loss: 0.0928 - binary_accuracy: 0.8927\n",
            "Epoch 106/300\n",
            "17/17 [==============================] - 0s 2ms/step - loss: 0.0823 - binary_accuracy: 0.9086\n",
            "Epoch 107/300\n",
            "17/17 [==============================] - 0s 2ms/step - loss: 0.1100 - binary_accuracy: 0.8700\n",
            "Epoch 108/300\n",
            "17/17 [==============================] - 0s 2ms/step - loss: 0.0978 - binary_accuracy: 0.8865\n",
            "Epoch 109/300\n",
            "17/17 [==============================] - 0s 2ms/step - loss: 0.0992 - binary_accuracy: 0.8800\n",
            "Epoch 110/300\n",
            "17/17 [==============================] - 0s 2ms/step - loss: 0.1180 - binary_accuracy: 0.8566\n",
            "Epoch 111/300\n",
            "17/17 [==============================] - 0s 2ms/step - loss: 0.1003 - binary_accuracy: 0.8807\n",
            "Epoch 112/300\n",
            "17/17 [==============================] - 0s 2ms/step - loss: 0.0873 - binary_accuracy: 0.9018\n",
            "Epoch 113/300\n",
            "17/17 [==============================] - 0s 2ms/step - loss: 0.0902 - binary_accuracy: 0.8986\n",
            "Epoch 114/300\n",
            "17/17 [==============================] - 0s 2ms/step - loss: 0.0886 - binary_accuracy: 0.8972\n",
            "Epoch 115/300\n",
            "17/17 [==============================] - 0s 2ms/step - loss: 0.0956 - binary_accuracy: 0.8899\n",
            "Epoch 116/300\n",
            "17/17 [==============================] - 0s 2ms/step - loss: 0.1070 - binary_accuracy: 0.8759\n",
            "Epoch 117/300\n",
            "17/17 [==============================] - 0s 2ms/step - loss: 0.0928 - binary_accuracy: 0.8921\n",
            "Epoch 118/300\n",
            "17/17 [==============================] - 0s 2ms/step - loss: 0.1066 - binary_accuracy: 0.8749\n",
            "Epoch 119/300\n",
            "17/17 [==============================] - 0s 2ms/step - loss: 0.0859 - binary_accuracy: 0.9029\n",
            "Epoch 120/300\n",
            "17/17 [==============================] - 0s 2ms/step - loss: 0.1016 - binary_accuracy: 0.8800\n",
            "Epoch 121/300\n",
            "17/17 [==============================] - 0s 1ms/step - loss: 0.1108 - binary_accuracy: 0.8669\n",
            "Epoch 122/300\n",
            "17/17 [==============================] - 0s 2ms/step - loss: 0.1000 - binary_accuracy: 0.8813\n",
            "Epoch 123/300\n",
            "17/17 [==============================] - 0s 2ms/step - loss: 0.0913 - binary_accuracy: 0.8949\n",
            "Epoch 124/300\n",
            "17/17 [==============================] - 0s 2ms/step - loss: 0.1040 - binary_accuracy: 0.8767\n",
            "Epoch 125/300\n",
            "17/17 [==============================] - 0s 2ms/step - loss: 0.0987 - binary_accuracy: 0.8832\n",
            "Epoch 126/300\n",
            "17/17 [==============================] - 0s 2ms/step - loss: 0.0867 - binary_accuracy: 0.8994\n",
            "Epoch 127/300\n",
            "17/17 [==============================] - 0s 2ms/step - loss: 0.0878 - binary_accuracy: 0.8996\n",
            "Epoch 128/300\n",
            "17/17 [==============================] - 0s 2ms/step - loss: 0.1054 - binary_accuracy: 0.8733\n",
            "Epoch 129/300\n",
            "17/17 [==============================] - 0s 2ms/step - loss: 0.0983 - binary_accuracy: 0.8851\n",
            "Epoch 130/300\n",
            "17/17 [==============================] - 0s 2ms/step - loss: 0.0909 - binary_accuracy: 0.8974\n",
            "Epoch 131/300\n",
            "17/17 [==============================] - 0s 2ms/step - loss: 0.0831 - binary_accuracy: 0.9077\n",
            "Epoch 132/300\n",
            "17/17 [==============================] - 0s 2ms/step - loss: 0.1034 - binary_accuracy: 0.8725\n",
            "Epoch 133/300\n",
            "17/17 [==============================] - 0s 2ms/step - loss: 0.1052 - binary_accuracy: 0.8744\n",
            "Epoch 134/300\n",
            "17/17 [==============================] - 0s 2ms/step - loss: 0.0980 - binary_accuracy: 0.8884\n",
            "Epoch 135/300\n",
            "17/17 [==============================] - 0s 2ms/step - loss: 0.0937 - binary_accuracy: 0.8918\n",
            "Epoch 136/300\n",
            "17/17 [==============================] - 0s 1ms/step - loss: 0.0945 - binary_accuracy: 0.8873\n",
            "Epoch 137/300\n",
            "17/17 [==============================] - 0s 2ms/step - loss: 0.1021 - binary_accuracy: 0.8751\n",
            "Epoch 138/300\n",
            "17/17 [==============================] - 0s 2ms/step - loss: 0.1010 - binary_accuracy: 0.8786\n",
            "Epoch 139/300\n",
            "17/17 [==============================] - 0s 2ms/step - loss: 0.0852 - binary_accuracy: 0.8989\n",
            "Epoch 140/300\n",
            "17/17 [==============================] - 0s 2ms/step - loss: 0.1001 - binary_accuracy: 0.8797\n",
            "Epoch 141/300\n",
            "17/17 [==============================] - 0s 2ms/step - loss: 0.1059 - binary_accuracy: 0.8745\n",
            "Epoch 142/300\n",
            "17/17 [==============================] - 0s 1ms/step - loss: 0.0908 - binary_accuracy: 0.8929\n",
            "Epoch 143/300\n",
            "17/17 [==============================] - 0s 2ms/step - loss: 0.1025 - binary_accuracy: 0.8761\n",
            "Epoch 144/300\n",
            "17/17 [==============================] - 0s 1ms/step - loss: 0.1034 - binary_accuracy: 0.8771\n",
            "Epoch 145/300\n",
            "17/17 [==============================] - 0s 2ms/step - loss: 0.1004 - binary_accuracy: 0.8799\n",
            "Epoch 146/300\n",
            "17/17 [==============================] - 0s 2ms/step - loss: 0.1019 - binary_accuracy: 0.8790\n",
            "Epoch 147/300\n",
            "17/17 [==============================] - 0s 1ms/step - loss: 0.1037 - binary_accuracy: 0.8740\n",
            "Epoch 148/300\n",
            "17/17 [==============================] - 0s 2ms/step - loss: 0.0850 - binary_accuracy: 0.9022\n",
            "Epoch 149/300\n",
            "17/17 [==============================] - 0s 2ms/step - loss: 0.0916 - binary_accuracy: 0.8910\n",
            "Epoch 150/300\n",
            "17/17 [==============================] - 0s 2ms/step - loss: 0.1108 - binary_accuracy: 0.8650\n",
            "Epoch 151/300\n",
            "17/17 [==============================] - 0s 2ms/step - loss: 0.1006 - binary_accuracy: 0.8803\n",
            "Epoch 152/300\n",
            "17/17 [==============================] - 0s 2ms/step - loss: 0.0996 - binary_accuracy: 0.8795\n",
            "Epoch 153/300\n",
            "17/17 [==============================] - 0s 2ms/step - loss: 0.1023 - binary_accuracy: 0.8766\n",
            "Epoch 154/300\n",
            "17/17 [==============================] - 0s 2ms/step - loss: 0.0904 - binary_accuracy: 0.8919\n",
            "Epoch 155/300\n",
            "17/17 [==============================] - 0s 2ms/step - loss: 0.1088 - binary_accuracy: 0.8700\n",
            "Epoch 156/300\n",
            "17/17 [==============================] - 0s 2ms/step - loss: 0.0901 - binary_accuracy: 0.8961\n",
            "Epoch 157/300\n",
            "17/17 [==============================] - 0s 2ms/step - loss: 0.1009 - binary_accuracy: 0.8769\n",
            "Epoch 158/300\n",
            "17/17 [==============================] - 0s 2ms/step - loss: 0.0833 - binary_accuracy: 0.9015\n",
            "Epoch 159/300\n",
            "17/17 [==============================] - 0s 3ms/step - loss: 0.1032 - binary_accuracy: 0.8715\n",
            "Epoch 160/300\n",
            "17/17 [==============================] - 0s 2ms/step - loss: 0.0842 - binary_accuracy: 0.9023\n",
            "Epoch 161/300\n",
            "17/17 [==============================] - 0s 2ms/step - loss: 0.0890 - binary_accuracy: 0.8926\n",
            "Epoch 162/300\n",
            "17/17 [==============================] - 0s 2ms/step - loss: 0.1000 - binary_accuracy: 0.8813\n",
            "Epoch 163/300\n",
            "17/17 [==============================] - 0s 2ms/step - loss: 0.0967 - binary_accuracy: 0.8841\n",
            "Epoch 164/300\n",
            "17/17 [==============================] - 0s 2ms/step - loss: 0.0939 - binary_accuracy: 0.8890\n",
            "Epoch 165/300\n",
            "17/17 [==============================] - 0s 2ms/step - loss: 0.1018 - binary_accuracy: 0.8733\n",
            "Epoch 166/300\n",
            "17/17 [==============================] - 0s 2ms/step - loss: 0.0976 - binary_accuracy: 0.8793\n",
            "Epoch 167/300\n",
            "17/17 [==============================] - 0s 2ms/step - loss: 0.0997 - binary_accuracy: 0.8758\n",
            "Epoch 168/300\n",
            "17/17 [==============================] - 0s 2ms/step - loss: 0.1021 - binary_accuracy: 0.8760\n",
            "Epoch 169/300\n",
            "17/17 [==============================] - 0s 2ms/step - loss: 0.1014 - binary_accuracy: 0.8765\n",
            "Epoch 170/300\n",
            "17/17 [==============================] - 0s 2ms/step - loss: 0.1167 - binary_accuracy: 0.8575\n",
            "Epoch 171/300\n",
            "17/17 [==============================] - 0s 2ms/step - loss: 0.0988 - binary_accuracy: 0.8815\n",
            "Epoch 172/300\n",
            "17/17 [==============================] - 0s 2ms/step - loss: 0.0970 - binary_accuracy: 0.8831\n",
            "Epoch 173/300\n",
            "17/17 [==============================] - 0s 2ms/step - loss: 0.1127 - binary_accuracy: 0.8573\n",
            "Epoch 174/300\n",
            "17/17 [==============================] - 0s 1ms/step - loss: 0.0886 - binary_accuracy: 0.8949\n",
            "Epoch 175/300\n",
            "17/17 [==============================] - 0s 2ms/step - loss: 0.0916 - binary_accuracy: 0.8897\n",
            "Epoch 176/300\n",
            "17/17 [==============================] - 0s 2ms/step - loss: 0.1015 - binary_accuracy: 0.8773\n",
            "Epoch 177/300\n",
            "17/17 [==============================] - 0s 2ms/step - loss: 0.1009 - binary_accuracy: 0.8787\n",
            "Epoch 178/300\n",
            "17/17 [==============================] - 0s 2ms/step - loss: 0.0971 - binary_accuracy: 0.8815\n",
            "Epoch 179/300\n",
            "17/17 [==============================] - 0s 2ms/step - loss: 0.0923 - binary_accuracy: 0.8877\n",
            "Epoch 180/300\n",
            "17/17 [==============================] - 0s 2ms/step - loss: 0.1069 - binary_accuracy: 0.8637\n",
            "Epoch 181/300\n",
            "17/17 [==============================] - 0s 2ms/step - loss: 0.0940 - binary_accuracy: 0.8877\n",
            "Epoch 182/300\n",
            "17/17 [==============================] - 0s 2ms/step - loss: 0.0821 - binary_accuracy: 0.9052\n",
            "Epoch 183/300\n",
            "17/17 [==============================] - 0s 2ms/step - loss: 0.0831 - binary_accuracy: 0.9029\n",
            "Epoch 184/300\n",
            "17/17 [==============================] - 0s 2ms/step - loss: 0.0975 - binary_accuracy: 0.8829\n",
            "Epoch 185/300\n",
            "17/17 [==============================] - 0s 2ms/step - loss: 0.0977 - binary_accuracy: 0.8800\n",
            "Epoch 186/300\n",
            "17/17 [==============================] - 0s 1ms/step - loss: 0.0895 - binary_accuracy: 0.8958\n",
            "Epoch 187/300\n",
            "17/17 [==============================] - 0s 1ms/step - loss: 0.0929 - binary_accuracy: 0.8855\n",
            "Epoch 188/300\n",
            "17/17 [==============================] - 0s 2ms/step - loss: 0.0983 - binary_accuracy: 0.8786\n",
            "Epoch 189/300\n",
            "17/17 [==============================] - 0s 2ms/step - loss: 0.0878 - binary_accuracy: 0.8961\n",
            "Epoch 190/300\n",
            "17/17 [==============================] - 0s 2ms/step - loss: 0.0944 - binary_accuracy: 0.8856\n",
            "Epoch 191/300\n",
            "17/17 [==============================] - 0s 2ms/step - loss: 0.0961 - binary_accuracy: 0.8840\n",
            "Epoch 192/300\n",
            "17/17 [==============================] - 0s 1ms/step - loss: 0.0959 - binary_accuracy: 0.8850\n",
            "Epoch 193/300\n",
            "17/17 [==============================] - 0s 2ms/step - loss: 0.0921 - binary_accuracy: 0.8874\n",
            "Epoch 194/300\n",
            "17/17 [==============================] - 0s 1ms/step - loss: 0.0887 - binary_accuracy: 0.8918\n",
            "Epoch 195/300\n",
            "17/17 [==============================] - 0s 2ms/step - loss: 0.0951 - binary_accuracy: 0.8834\n",
            "Epoch 196/300\n",
            "17/17 [==============================] - 0s 3ms/step - loss: 0.0863 - binary_accuracy: 0.8981\n",
            "Epoch 197/300\n",
            "17/17 [==============================] - 0s 2ms/step - loss: 0.0997 - binary_accuracy: 0.8740\n",
            "Epoch 198/300\n",
            "17/17 [==============================] - 0s 2ms/step - loss: 0.1099 - binary_accuracy: 0.8643\n",
            "Epoch 199/300\n",
            "17/17 [==============================] - 0s 3ms/step - loss: 0.0923 - binary_accuracy: 0.8879\n",
            "Epoch 200/300\n",
            "17/17 [==============================] - 0s 2ms/step - loss: 0.0874 - binary_accuracy: 0.8963\n",
            "Epoch 201/300\n",
            "17/17 [==============================] - 0s 2ms/step - loss: 0.0890 - binary_accuracy: 0.8871\n",
            "Epoch 202/300\n",
            "17/17 [==============================] - 0s 2ms/step - loss: 0.0919 - binary_accuracy: 0.8873\n",
            "Epoch 203/300\n",
            "17/17 [==============================] - 0s 2ms/step - loss: 0.0877 - binary_accuracy: 0.8918\n",
            "Epoch 204/300\n",
            "17/17 [==============================] - 0s 2ms/step - loss: 0.0820 - binary_accuracy: 0.9051\n",
            "Epoch 205/300\n",
            "17/17 [==============================] - 0s 2ms/step - loss: 0.0896 - binary_accuracy: 0.8918\n",
            "Epoch 206/300\n",
            "17/17 [==============================] - 0s 2ms/step - loss: 0.1120 - binary_accuracy: 0.8602\n",
            "Epoch 207/300\n",
            "17/17 [==============================] - 0s 2ms/step - loss: 0.0974 - binary_accuracy: 0.8814\n",
            "Epoch 208/300\n",
            "17/17 [==============================] - 0s 2ms/step - loss: 0.1145 - binary_accuracy: 0.8562\n",
            "Epoch 209/300\n",
            "17/17 [==============================] - 0s 2ms/step - loss: 0.0949 - binary_accuracy: 0.8844\n",
            "Epoch 210/300\n",
            "17/17 [==============================] - 0s 2ms/step - loss: 0.0839 - binary_accuracy: 0.9009\n",
            "Epoch 211/300\n",
            "17/17 [==============================] - 0s 2ms/step - loss: 0.1087 - binary_accuracy: 0.8654\n",
            "Epoch 212/300\n",
            "17/17 [==============================] - 0s 2ms/step - loss: 0.0977 - binary_accuracy: 0.8801\n",
            "Epoch 213/300\n",
            "17/17 [==============================] - 0s 2ms/step - loss: 0.1040 - binary_accuracy: 0.8742\n",
            "Epoch 214/300\n",
            "17/17 [==============================] - 0s 1ms/step - loss: 0.1076 - binary_accuracy: 0.8735\n",
            "Epoch 215/300\n",
            "17/17 [==============================] - 0s 2ms/step - loss: 0.0943 - binary_accuracy: 0.8816\n",
            "Epoch 216/300\n",
            "17/17 [==============================] - 0s 2ms/step - loss: 0.1072 - binary_accuracy: 0.8643\n",
            "Epoch 217/300\n",
            "17/17 [==============================] - 0s 2ms/step - loss: 0.0861 - binary_accuracy: 0.8969\n",
            "Epoch 218/300\n",
            "17/17 [==============================] - 0s 2ms/step - loss: 0.0923 - binary_accuracy: 0.8833\n",
            "Epoch 219/300\n",
            "17/17 [==============================] - 0s 1ms/step - loss: 0.0978 - binary_accuracy: 0.8801\n",
            "Epoch 220/300\n",
            "17/17 [==============================] - 0s 2ms/step - loss: 0.0940 - binary_accuracy: 0.8846\n",
            "Epoch 221/300\n",
            "17/17 [==============================] - 0s 2ms/step - loss: 0.0947 - binary_accuracy: 0.8865\n",
            "Epoch 222/300\n",
            "17/17 [==============================] - 0s 1ms/step - loss: 0.0958 - binary_accuracy: 0.8832\n",
            "Epoch 223/300\n",
            "17/17 [==============================] - 0s 1ms/step - loss: 0.0842 - binary_accuracy: 0.8980\n",
            "Epoch 224/300\n",
            "17/17 [==============================] - 0s 2ms/step - loss: 0.0913 - binary_accuracy: 0.8899\n",
            "Epoch 225/300\n",
            "17/17 [==============================] - 0s 2ms/step - loss: 0.1023 - binary_accuracy: 0.8723\n",
            "Epoch 226/300\n",
            "17/17 [==============================] - 0s 1ms/step - loss: 0.1030 - binary_accuracy: 0.8717\n",
            "Epoch 227/300\n",
            "17/17 [==============================] - 0s 2ms/step - loss: 0.0955 - binary_accuracy: 0.8827\n",
            "Epoch 228/300\n",
            "17/17 [==============================] - 0s 2ms/step - loss: 0.1003 - binary_accuracy: 0.8762\n",
            "Epoch 229/300\n",
            "17/17 [==============================] - 0s 2ms/step - loss: 0.0983 - binary_accuracy: 0.8786\n",
            "Epoch 230/300\n",
            "17/17 [==============================] - 0s 2ms/step - loss: 0.0979 - binary_accuracy: 0.8787\n",
            "Epoch 231/300\n",
            "17/17 [==============================] - 0s 2ms/step - loss: 0.0853 - binary_accuracy: 0.8983\n",
            "Epoch 232/300\n",
            "17/17 [==============================] - 0s 2ms/step - loss: 0.0744 - binary_accuracy: 0.9133\n",
            "Epoch 233/300\n",
            "17/17 [==============================] - 0s 2ms/step - loss: 0.0989 - binary_accuracy: 0.8733\n",
            "Epoch 234/300\n",
            "17/17 [==============================] - 0s 2ms/step - loss: 0.0933 - binary_accuracy: 0.8822\n",
            "Epoch 235/300\n",
            "17/17 [==============================] - 0s 2ms/step - loss: 0.0817 - binary_accuracy: 0.8987\n",
            "Epoch 236/300\n",
            "17/17 [==============================] - 0s 1ms/step - loss: 0.0821 - binary_accuracy: 0.9003\n",
            "Epoch 237/300\n",
            "17/17 [==============================] - 0s 2ms/step - loss: 0.0928 - binary_accuracy: 0.8892\n",
            "Epoch 238/300\n",
            "17/17 [==============================] - 0s 2ms/step - loss: 0.0927 - binary_accuracy: 0.8853\n",
            "Epoch 239/300\n",
            "17/17 [==============================] - 0s 2ms/step - loss: 0.0884 - binary_accuracy: 0.8940\n",
            "Epoch 240/300\n",
            "17/17 [==============================] - 0s 1ms/step - loss: 0.0855 - binary_accuracy: 0.8986\n",
            "Epoch 241/300\n",
            "17/17 [==============================] - 0s 1ms/step - loss: 0.0906 - binary_accuracy: 0.8840\n",
            "Epoch 242/300\n",
            "17/17 [==============================] - 0s 2ms/step - loss: 0.0771 - binary_accuracy: 0.9082\n",
            "Epoch 243/300\n",
            "17/17 [==============================] - 0s 2ms/step - loss: 0.0906 - binary_accuracy: 0.8885\n",
            "Epoch 244/300\n",
            "17/17 [==============================] - 0s 2ms/step - loss: 0.0948 - binary_accuracy: 0.8828\n",
            "Epoch 245/300\n",
            "17/17 [==============================] - 0s 2ms/step - loss: 0.0986 - binary_accuracy: 0.8737\n",
            "Epoch 246/300\n",
            "17/17 [==============================] - 0s 2ms/step - loss: 0.0952 - binary_accuracy: 0.8802\n",
            "Epoch 247/300\n",
            "17/17 [==============================] - 0s 1ms/step - loss: 0.0940 - binary_accuracy: 0.8873\n",
            "Epoch 248/300\n",
            "17/17 [==============================] - 0s 2ms/step - loss: 0.0980 - binary_accuracy: 0.8751\n",
            "Epoch 249/300\n",
            "17/17 [==============================] - 0s 2ms/step - loss: 0.0811 - binary_accuracy: 0.9034\n",
            "Epoch 250/300\n",
            "17/17 [==============================] - 0s 2ms/step - loss: 0.0779 - binary_accuracy: 0.9105\n",
            "Epoch 251/300\n",
            "17/17 [==============================] - 0s 1ms/step - loss: 0.0846 - binary_accuracy: 0.8939\n",
            "Epoch 252/300\n",
            "17/17 [==============================] - 0s 2ms/step - loss: 0.0917 - binary_accuracy: 0.8890\n",
            "Epoch 253/300\n",
            "17/17 [==============================] - 0s 2ms/step - loss: 0.0983 - binary_accuracy: 0.8718\n",
            "Epoch 254/300\n",
            "17/17 [==============================] - 0s 2ms/step - loss: 0.0869 - binary_accuracy: 0.8945\n",
            "Epoch 255/300\n",
            "17/17 [==============================] - 0s 2ms/step - loss: 0.0871 - binary_accuracy: 0.8917\n",
            "Epoch 256/300\n",
            "17/17 [==============================] - 0s 2ms/step - loss: 0.1017 - binary_accuracy: 0.8731\n",
            "Epoch 257/300\n",
            "17/17 [==============================] - 0s 2ms/step - loss: 0.0934 - binary_accuracy: 0.8874\n",
            "Epoch 258/300\n",
            "17/17 [==============================] - 0s 2ms/step - loss: 0.1009 - binary_accuracy: 0.8803\n",
            "Epoch 259/300\n",
            "17/17 [==============================] - 0s 2ms/step - loss: 0.0810 - binary_accuracy: 0.9020\n",
            "Epoch 260/300\n",
            "17/17 [==============================] - 0s 2ms/step - loss: 0.1019 - binary_accuracy: 0.8734\n",
            "Epoch 261/300\n",
            "17/17 [==============================] - 0s 2ms/step - loss: 0.0903 - binary_accuracy: 0.8926\n",
            "Epoch 262/300\n",
            "17/17 [==============================] - 0s 2ms/step - loss: 0.0966 - binary_accuracy: 0.8815\n",
            "Epoch 263/300\n",
            "17/17 [==============================] - 0s 2ms/step - loss: 0.0907 - binary_accuracy: 0.8904\n",
            "Epoch 264/300\n",
            "17/17 [==============================] - 0s 3ms/step - loss: 0.0964 - binary_accuracy: 0.8829\n",
            "Epoch 265/300\n",
            "17/17 [==============================] - 0s 2ms/step - loss: 0.0764 - binary_accuracy: 0.9106\n",
            "Epoch 266/300\n",
            "17/17 [==============================] - 0s 2ms/step - loss: 0.0923 - binary_accuracy: 0.8810\n",
            "Epoch 267/300\n",
            "17/17 [==============================] - 0s 2ms/step - loss: 0.0923 - binary_accuracy: 0.8862\n",
            "Epoch 268/300\n",
            "17/17 [==============================] - 0s 2ms/step - loss: 0.0871 - binary_accuracy: 0.8969\n",
            "Epoch 269/300\n",
            "17/17 [==============================] - 0s 2ms/step - loss: 0.0902 - binary_accuracy: 0.8922\n",
            "Epoch 270/300\n",
            "17/17 [==============================] - 0s 1ms/step - loss: 0.0920 - binary_accuracy: 0.8841\n",
            "Epoch 271/300\n",
            "17/17 [==============================] - 0s 2ms/step - loss: 0.0807 - binary_accuracy: 0.9037\n",
            "Epoch 272/300\n",
            "17/17 [==============================] - 0s 3ms/step - loss: 0.0810 - binary_accuracy: 0.8951\n",
            "Epoch 273/300\n",
            "17/17 [==============================] - 0s 2ms/step - loss: 0.0909 - binary_accuracy: 0.8867\n",
            "Epoch 274/300\n",
            "17/17 [==============================] - 0s 2ms/step - loss: 0.0944 - binary_accuracy: 0.8810\n",
            "Epoch 275/300\n",
            "17/17 [==============================] - 0s 2ms/step - loss: 0.0808 - binary_accuracy: 0.9025\n",
            "Epoch 276/300\n",
            "17/17 [==============================] - 0s 2ms/step - loss: 0.1065 - binary_accuracy: 0.8644\n",
            "Epoch 277/300\n",
            "17/17 [==============================] - 0s 3ms/step - loss: 0.0861 - binary_accuracy: 0.8933\n",
            "Epoch 278/300\n",
            "17/17 [==============================] - 0s 2ms/step - loss: 0.0936 - binary_accuracy: 0.8815\n",
            "Epoch 279/300\n",
            "17/17 [==============================] - 0s 2ms/step - loss: 0.0914 - binary_accuracy: 0.8865\n",
            "Epoch 280/300\n",
            "17/17 [==============================] - 0s 2ms/step - loss: 0.0897 - binary_accuracy: 0.8901\n",
            "Epoch 281/300\n",
            "17/17 [==============================] - 0s 2ms/step - loss: 0.0967 - binary_accuracy: 0.8784\n",
            "Epoch 282/300\n",
            "17/17 [==============================] - 0s 2ms/step - loss: 0.0997 - binary_accuracy: 0.8759\n",
            "Epoch 283/300\n",
            "17/17 [==============================] - 0s 2ms/step - loss: 0.0929 - binary_accuracy: 0.8854\n",
            "Epoch 284/300\n",
            "17/17 [==============================] - 0s 2ms/step - loss: 0.1012 - binary_accuracy: 0.8719\n",
            "Epoch 285/300\n",
            "17/17 [==============================] - 0s 2ms/step - loss: 0.1227 - binary_accuracy: 0.8475\n",
            "Epoch 286/300\n",
            "17/17 [==============================] - 0s 2ms/step - loss: 0.0834 - binary_accuracy: 0.8963\n",
            "Epoch 287/300\n",
            "17/17 [==============================] - 0s 2ms/step - loss: 0.0995 - binary_accuracy: 0.8776\n",
            "Epoch 288/300\n",
            "17/17 [==============================] - 0s 2ms/step - loss: 0.1037 - binary_accuracy: 0.8697\n",
            "Epoch 289/300\n",
            "17/17 [==============================] - 0s 3ms/step - loss: 0.1054 - binary_accuracy: 0.8646\n",
            "Epoch 290/300\n",
            "17/17 [==============================] - 0s 2ms/step - loss: 0.0909 - binary_accuracy: 0.8844\n",
            "Epoch 291/300\n",
            "17/17 [==============================] - 0s 2ms/step - loss: 0.0825 - binary_accuracy: 0.9032\n",
            "Epoch 292/300\n",
            "17/17 [==============================] - 0s 2ms/step - loss: 0.1042 - binary_accuracy: 0.8688\n",
            "Epoch 293/300\n",
            "17/17 [==============================] - 0s 2ms/step - loss: 0.0884 - binary_accuracy: 0.8932\n",
            "Epoch 294/300\n",
            "17/17 [==============================] - 0s 2ms/step - loss: 0.0929 - binary_accuracy: 0.8833\n",
            "Epoch 295/300\n",
            "17/17 [==============================] - 0s 2ms/step - loss: 0.0969 - binary_accuracy: 0.8791\n",
            "Epoch 296/300\n",
            "17/17 [==============================] - 0s 2ms/step - loss: 0.0872 - binary_accuracy: 0.8871\n",
            "Epoch 297/300\n",
            "17/17 [==============================] - 0s 2ms/step - loss: 0.0979 - binary_accuracy: 0.8779\n",
            "Epoch 298/300\n",
            "17/17 [==============================] - 0s 2ms/step - loss: 0.0922 - binary_accuracy: 0.8854\n",
            "Epoch 299/300\n",
            "17/17 [==============================] - 0s 2ms/step - loss: 0.0853 - binary_accuracy: 0.8968\n",
            "Epoch 300/300\n",
            "17/17 [==============================] - 0s 2ms/step - loss: 0.0806 - binary_accuracy: 0.8987\n"
          ],
          "name": "stdout"
        },
        {
          "output_type": "execute_result",
          "data": {
            "text/plain": [
              "<tensorflow.python.keras.callbacks.History at 0x7f4c07179b90>"
            ]
          },
          "metadata": {
            "tags": []
          },
          "execution_count": 55
        }
      ]
    },
    {
      "cell_type": "code",
      "metadata": {
        "id": "ymp9aozr2Shq"
      },
      "source": [
        ""
      ],
      "execution_count": 55,
      "outputs": []
    }
  ]
}