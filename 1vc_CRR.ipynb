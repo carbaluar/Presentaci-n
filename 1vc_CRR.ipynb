{
  "nbformat": 4,
  "nbformat_minor": 0,
  "metadata": {
    "colab": {
      "name": "1vc CRR.ipynb",
      "provenance": [],
      "collapsed_sections": [],
      "toc_visible": true,
      "authorship_tag": "ABX9TyMcbbxINiaGbUtjbeRittfu",
      "include_colab_link": true
    },
    "kernelspec": {
      "name": "python3",
      "display_name": "Python 3"
    },
    "language_info": {
      "name": "python"
    }
  },
  "cells": [
    {
      "cell_type": "markdown",
      "metadata": {
        "id": "view-in-github",
        "colab_type": "text"
      },
      "source": [
        "<a href=\"https://colab.research.google.com/github/carbaluar/Presentaci-n/blob/main/1vc_CRR.ipynb\" target=\"_parent\"><img src=\"https://colab.research.google.com/assets/colab-badge.svg\" alt=\"Open In Colab\"/></a>"
      ]
    },
    {
      "cell_type": "markdown",
      "metadata": {
        "id": "rrWUBgq36wL-"
      },
      "source": [
        "# Carga de datos"
      ]
    },
    {
      "cell_type": "markdown",
      "metadata": {
        "id": "LZDVgZDa_9AI"
      },
      "source": [
        "holaaaa fdsf"
      ]
    },
    {
      "cell_type": "code",
      "metadata": {
        "id": "g-x--9O2o65e"
      },
      "source": [
        "import pandas as pd\n",
        "from matplotlib import pyplot as plt\n",
        "import sqlite3\n",
        "import datetime"
      ],
      "execution_count": null,
      "outputs": []
    },
    {
      "cell_type": "code",
      "metadata": {
        "colab": {
          "base_uri": "https://localhost:8080/",
          "height": 204
        },
        "id": "8sofFZGTpccU",
        "outputId": "ad8c68e1-5ffb-4db3-de80-6cb09eea1302"
      },
      "source": [
        "df = pd.read_excel('/content/DBImpurezas.xlsx')\n",
        "df.head()"
      ],
      "execution_count": null,
      "outputs": [
        {
          "output_type": "execute_result",
          "data": {
            "text/html": [
              "<div>\n",
              "<style scoped>\n",
              "    .dataframe tbody tr th:only-of-type {\n",
              "        vertical-align: middle;\n",
              "    }\n",
              "\n",
              "    .dataframe tbody tr th {\n",
              "        vertical-align: top;\n",
              "    }\n",
              "\n",
              "    .dataframe thead th {\n",
              "        text-align: right;\n",
              "    }\n",
              "</style>\n",
              "<table border=\"1\" class=\"dataframe\">\n",
              "  <thead>\n",
              "    <tr style=\"text-align: right;\">\n",
              "      <th></th>\n",
              "      <th>SODIO</th>\n",
              "      <th>CALCIO</th>\n",
              "      <th>CRR</th>\n",
              "      <th>CRD</th>\n",
              "      <th>CRRbin</th>\n",
              "    </tr>\n",
              "  </thead>\n",
              "  <tbody>\n",
              "    <tr>\n",
              "      <th>0</th>\n",
              "      <td>600</td>\n",
              "      <td>260</td>\n",
              "      <td>85.6581</td>\n",
              "      <td>3.5554</td>\n",
              "      <td>1</td>\n",
              "    </tr>\n",
              "    <tr>\n",
              "      <th>1</th>\n",
              "      <td>380</td>\n",
              "      <td>250</td>\n",
              "      <td>85.6581</td>\n",
              "      <td>3.5554</td>\n",
              "      <td>1</td>\n",
              "    </tr>\n",
              "    <tr>\n",
              "      <th>2</th>\n",
              "      <td>350</td>\n",
              "      <td>240</td>\n",
              "      <td>85.6581</td>\n",
              "      <td>3.5554</td>\n",
              "      <td>1</td>\n",
              "    </tr>\n",
              "    <tr>\n",
              "      <th>3</th>\n",
              "      <td>410</td>\n",
              "      <td>270</td>\n",
              "      <td>85.6581</td>\n",
              "      <td>3.5554</td>\n",
              "      <td>1</td>\n",
              "    </tr>\n",
              "    <tr>\n",
              "      <th>4</th>\n",
              "      <td>460</td>\n",
              "      <td>280</td>\n",
              "      <td>85.6581</td>\n",
              "      <td>3.5554</td>\n",
              "      <td>1</td>\n",
              "    </tr>\n",
              "  </tbody>\n",
              "</table>\n",
              "</div>"
            ],
            "text/plain": [
              "   SODIO  CALCIO      CRR     CRD  CRRbin\n",
              "0    600     260  85.6581  3.5554       1\n",
              "1    380     250  85.6581  3.5554       1\n",
              "2    350     240  85.6581  3.5554       1\n",
              "3    410     270  85.6581  3.5554       1\n",
              "4    460     280  85.6581  3.5554       1"
            ]
          },
          "metadata": {
            "tags": []
          },
          "execution_count": 3
        }
      ]
    },
    {
      "cell_type": "code",
      "metadata": {
        "colab": {
          "base_uri": "https://localhost:8080/"
        },
        "id": "G57_nqd7psVt",
        "outputId": "d1c118e3-a2e6-40c2-95e2-f3fe97d98ed2"
      },
      "source": [
        "df.info()"
      ],
      "execution_count": null,
      "outputs": [
        {
          "output_type": "stream",
          "text": [
            "<class 'pandas.core.frame.DataFrame'>\n",
            "RangeIndex: 3080 entries, 0 to 3079\n",
            "Data columns (total 5 columns):\n",
            " #   Column  Non-Null Count  Dtype  \n",
            "---  ------  --------------  -----  \n",
            " 0   SODIO   3080 non-null   int64  \n",
            " 1   CALCIO  3080 non-null   int64  \n",
            " 2   CRR     3080 non-null   float64\n",
            " 3   CRD     3080 non-null   float64\n",
            " 4   CRRbin  3080 non-null   int64  \n",
            "dtypes: float64(2), int64(3)\n",
            "memory usage: 120.4 KB\n"
          ],
          "name": "stdout"
        }
      ]
    },
    {
      "cell_type": "code",
      "metadata": {
        "id": "aCXH9AwXmkIn"
      },
      "source": [
        "from sklearn.model_selection import train_test_split"
      ],
      "execution_count": null,
      "outputs": []
    },
    {
      "cell_type": "code",
      "metadata": {
        "id": "1hmkmQCTp47Z"
      },
      "source": [
        "# divido entre train y test/validación en 70%/30%\n",
        "df_train, df_test_validation = train_test_split(df, train_size=0.7, stratify = df[\"CRRbin\"])"
      ],
      "execution_count": null,
      "outputs": []
    },
    {
      "cell_type": "code",
      "metadata": {
        "id": "bP4KTUXSq7F7"
      },
      "source": [
        "\n",
        "# divido entre train y test/validación en 15% y 15%\n",
        "df_test, df_validation = train_test_split(df_test_validation, train_size=0.5, stratify = df_test_validation[\"CRRbin\"])"
      ],
      "execution_count": null,
      "outputs": []
    },
    {
      "cell_type": "code",
      "metadata": {
        "colab": {
          "base_uri": "https://localhost:8080/"
        },
        "id": "UUdZsA3ZtHZh",
        "outputId": "7eed163a-006f-475e-fbe4-4abd7ae729d1"
      },
      "source": [
        "df_train.shape"
      ],
      "execution_count": null,
      "outputs": [
        {
          "output_type": "execute_result",
          "data": {
            "text/plain": [
              "(2156, 5)"
            ]
          },
          "metadata": {
            "tags": []
          },
          "execution_count": 8
        }
      ]
    },
    {
      "cell_type": "code",
      "metadata": {
        "colab": {
          "base_uri": "https://localhost:8080/"
        },
        "id": "S756st1stL4g",
        "outputId": "b7a60d92-2662-45f8-b435-c9146ebe9271"
      },
      "source": [
        "df_test.shape"
      ],
      "execution_count": null,
      "outputs": [
        {
          "output_type": "execute_result",
          "data": {
            "text/plain": [
              "(462, 5)"
            ]
          },
          "metadata": {
            "tags": []
          },
          "execution_count": 9
        }
      ]
    },
    {
      "cell_type": "code",
      "metadata": {
        "colab": {
          "base_uri": "https://localhost:8080/"
        },
        "id": "E7_CuF_6tTaN",
        "outputId": "9f1ee2a6-6b1a-46f9-c234-853e80cef3f3"
      },
      "source": [
        "df_validation.shape"
      ],
      "execution_count": null,
      "outputs": [
        {
          "output_type": "execute_result",
          "data": {
            "text/plain": [
              "(462, 5)"
            ]
          },
          "metadata": {
            "tags": []
          },
          "execution_count": 10
        }
      ]
    },
    {
      "cell_type": "markdown",
      "metadata": {
        "id": "ycFpnHvC-u4L"
      },
      "source": [
        "### Modelo Gaussiano"
      ]
    },
    {
      "cell_type": "code",
      "metadata": {
        "id": "upJiH-MItXVo"
      },
      "source": [
        "from sklearn.naive_bayes import GaussianNB"
      ],
      "execution_count": null,
      "outputs": []
    },
    {
      "cell_type": "code",
      "metadata": {
        "id": "5wYXULIItkga"
      },
      "source": [
        "clf = GaussianNB(priors=None, var_smoothing= 0.1)"
      ],
      "execution_count": null,
      "outputs": []
    },
    {
      "cell_type": "code",
      "metadata": {
        "id": "d_F1k8rCt4X_"
      },
      "source": [
        "df_train2 = df_train[[\"SODIO\",\"CALCIO\",\"CRRbin\"]].copy()"
      ],
      "execution_count": null,
      "outputs": []
    },
    {
      "cell_type": "code",
      "metadata": {
        "colab": {
          "base_uri": "https://localhost:8080/"
        },
        "id": "MOd820hbu3gh",
        "outputId": "3ecc0427-96fb-446d-a1aa-aa6bec328aed"
      },
      "source": [
        "clf.fit(df_train2.drop(\"CRRbin\",axis=1), df_train2[\"CRRbin\"])"
      ],
      "execution_count": null,
      "outputs": [
        {
          "output_type": "execute_result",
          "data": {
            "text/plain": [
              "GaussianNB(priors=None, var_smoothing=0.1)"
            ]
          },
          "metadata": {
            "tags": []
          },
          "execution_count": 14
        }
      ]
    },
    {
      "cell_type": "code",
      "metadata": {
        "colab": {
          "base_uri": "https://localhost:8080/"
        },
        "id": "Rbutu0yCvF_l",
        "outputId": "92bd9b0f-a285-4488-e00f-55c1e4249f0c"
      },
      "source": [
        "clf.score(df_train2.drop(\"CRRbin\",axis=1), df_train2[\"CRRbin\"])"
      ],
      "execution_count": null,
      "outputs": [
        {
          "output_type": "execute_result",
          "data": {
            "text/plain": [
              "0.564935064935065"
            ]
          },
          "metadata": {
            "tags": []
          },
          "execution_count": 15
        }
      ]
    },
    {
      "cell_type": "code",
      "metadata": {
        "id": "DbrC7RgZv9GW"
      },
      "source": [
        "df_validation2 = df_validation[[\"SODIO\",\"CALCIO\",\"CRRbin\"]].copy()\n",
        "df_test_validation2 = df_test_validation[[\"SODIO\",\"CALCIO\",\"CRRbin\"]].copy()"
      ],
      "execution_count": null,
      "outputs": []
    },
    {
      "cell_type": "code",
      "metadata": {
        "colab": {
          "base_uri": "https://localhost:8080/"
        },
        "id": "7EEvVjOHwDLZ",
        "outputId": "85193871-e3d3-4ebf-d43b-a2b825b9edb5"
      },
      "source": [
        "clf.score(df_validation2.drop(\"CRRbin\",axis=1), df_validation2[\"CRRbin\"])\n"
      ],
      "execution_count": null,
      "outputs": [
        {
          "output_type": "execute_result",
          "data": {
            "text/plain": [
              "0.564935064935065"
            ]
          },
          "metadata": {
            "tags": []
          },
          "execution_count": 17
        }
      ]
    },
    {
      "cell_type": "code",
      "metadata": {
        "id": "gHJiQhyiwNFd"
      },
      "source": [
        "BuscaSmoot = [0.1, 0.001, 0.0001, 0.00001, 0.000001, 0.000000000001]"
      ],
      "execution_count": null,
      "outputs": []
    },
    {
      "cell_type": "code",
      "metadata": {
        "colab": {
          "base_uri": "https://localhost:8080/"
        },
        "id": "J3MYNSY8yn3z",
        "outputId": "187f8d78-378c-4f36-d198-9f944e656dfc"
      },
      "source": [
        "scores = list()\n",
        "for busca in BuscaSmoot:\n",
        "    clf = GaussianNB(var_smoothing = busca)\n",
        "    clf.fit(df_train2.drop(\"CRRbin\",axis=1), df_train2[\"CRRbin\"])\n",
        "    scores.append(clf.score(df_validation2.drop(\"CRRbin\",axis=1), df_validation2[\"CRRbin\"]))\n",
        "\n",
        "print(\"Máximo score con un smoothing de: \", BuscaSmoot[scores.index(max(scores))], \"--> valor de Score: \", max(scores))"
      ],
      "execution_count": null,
      "outputs": [
        {
          "output_type": "stream",
          "text": [
            "Máximo score con un smoothing de:  0.001 --> valor de Score:  0.5735930735930735\n"
          ],
          "name": "stdout"
        }
      ]
    },
    {
      "cell_type": "markdown",
      "metadata": {
        "id": "0ertKUX--zoj"
      },
      "source": [
        "Dato Obtenido"
      ]
    },
    {
      "cell_type": "code",
      "metadata": {
        "colab": {
          "base_uri": "https://localhost:8080/",
          "height": 204
        },
        "id": "IE5lH6kb-_PX",
        "outputId": "36cab06f-4ab8-4e2c-8a11-ac677b0e8c68"
      },
      "source": [
        "from sklearn.metrics import confusion_matrix, roc_auc_score\n",
        "import numpy as np\n",
        "df_train2.head()"
      ],
      "execution_count": null,
      "outputs": [
        {
          "output_type": "execute_result",
          "data": {
            "text/html": [
              "<div>\n",
              "<style scoped>\n",
              "    .dataframe tbody tr th:only-of-type {\n",
              "        vertical-align: middle;\n",
              "    }\n",
              "\n",
              "    .dataframe tbody tr th {\n",
              "        vertical-align: top;\n",
              "    }\n",
              "\n",
              "    .dataframe thead th {\n",
              "        text-align: right;\n",
              "    }\n",
              "</style>\n",
              "<table border=\"1\" class=\"dataframe\">\n",
              "  <thead>\n",
              "    <tr style=\"text-align: right;\">\n",
              "      <th></th>\n",
              "      <th>SODIO</th>\n",
              "      <th>CALCIO</th>\n",
              "      <th>CRRbin</th>\n",
              "    </tr>\n",
              "  </thead>\n",
              "  <tbody>\n",
              "    <tr>\n",
              "      <th>1309</th>\n",
              "      <td>401</td>\n",
              "      <td>200</td>\n",
              "      <td>1</td>\n",
              "    </tr>\n",
              "    <tr>\n",
              "      <th>64</th>\n",
              "      <td>510</td>\n",
              "      <td>210</td>\n",
              "      <td>1</td>\n",
              "    </tr>\n",
              "    <tr>\n",
              "      <th>1098</th>\n",
              "      <td>336</td>\n",
              "      <td>172</td>\n",
              "      <td>1</td>\n",
              "    </tr>\n",
              "    <tr>\n",
              "      <th>2832</th>\n",
              "      <td>320</td>\n",
              "      <td>160</td>\n",
              "      <td>0</td>\n",
              "    </tr>\n",
              "    <tr>\n",
              "      <th>2932</th>\n",
              "      <td>318</td>\n",
              "      <td>130</td>\n",
              "      <td>0</td>\n",
              "    </tr>\n",
              "  </tbody>\n",
              "</table>\n",
              "</div>"
            ],
            "text/plain": [
              "      SODIO  CALCIO  CRRbin\n",
              "1309    401     200       1\n",
              "64      510     210       1\n",
              "1098    336     172       1\n",
              "2832    320     160       0\n",
              "2932    318     130       0"
            ]
          },
          "metadata": {
            "tags": []
          },
          "execution_count": 20
        }
      ]
    },
    {
      "cell_type": "code",
      "metadata": {
        "colab": {
          "base_uri": "https://localhost:8080/"
        },
        "id": "juIxOtWr_Rnp",
        "outputId": "8342f773-00a5-42c6-c8e6-083c39728d62"
      },
      "source": [
        "clf.predict(np.array([[400,300]]))"
      ],
      "execution_count": null,
      "outputs": [
        {
          "output_type": "execute_result",
          "data": {
            "text/plain": [
              "array([0])"
            ]
          },
          "metadata": {
            "tags": []
          },
          "execution_count": 21
        }
      ]
    },
    {
      "cell_type": "markdown",
      "metadata": {
        "id": "OrcyJwKEC38-"
      },
      "source": [
        "Matriz"
      ]
    },
    {
      "cell_type": "code",
      "metadata": {
        "id": "J8iyTRBIC5xk"
      },
      "source": [
        "y_true = 1*np.array(df_validation2[\"CRRbin\"])"
      ],
      "execution_count": null,
      "outputs": []
    },
    {
      "cell_type": "code",
      "metadata": {
        "id": "TkE3o2HsDgpi"
      },
      "source": [
        "y_pred = clf.predict_proba(df_validation2.drop(\"CRRbin\",axis=1))"
      ],
      "execution_count": null,
      "outputs": []
    },
    {
      "cell_type": "code",
      "metadata": {
        "colab": {
          "base_uri": "https://localhost:8080/"
        },
        "id": "Akt8DwPEDr4-",
        "outputId": "9e5795a4-9b27-42a9-af15-ac626763af6a"
      },
      "source": [
        "print(\"Matriz de Confusión Alfa 0.25\")\n",
        "print(confusion_matrix(y_true,y_pred[:,1]>0.25))"
      ],
      "execution_count": null,
      "outputs": [
        {
          "output_type": "stream",
          "text": [
            "Matriz de Confusión Alfa 0.25\n",
            "[[258   3]\n",
            " [196   5]]\n"
          ],
          "name": "stdout"
        }
      ]
    },
    {
      "cell_type": "code",
      "metadata": {
        "id": "kIc_W0Da9O_K"
      },
      "source": [
        "from sklearn.metrics import fbeta_score"
      ],
      "execution_count": null,
      "outputs": []
    },
    {
      "cell_type": "code",
      "metadata": {
        "colab": {
          "base_uri": "https://localhost:8080/"
        },
        "id": "WeSuNZlv9aO9",
        "outputId": "bf767cd3-98fd-42f9-9b28-1f5e432f924b"
      },
      "source": [
        "print(\"Valor de F1 para un alfa= 0.25 -->\", fbeta_score(y_true, y_pred[:,1]>0.25, beta=1))"
      ],
      "execution_count": null,
      "outputs": [
        {
          "output_type": "stream",
          "text": [
            "Valor de F1 para un alfa= 0.25 --> 0.04784688995215311\n"
          ],
          "name": "stdout"
        }
      ]
    },
    {
      "cell_type": "code",
      "metadata": {
        "colab": {
          "base_uri": "https://localhost:8080/"
        },
        "id": "kgJj6Znf9noj",
        "outputId": "b396c719-ffc1-44b8-84d8-d1bd7eb25fbd"
      },
      "source": [
        "print(\"Valor de Fbetascore para un alfa= 0.25 -->\", fbeta_score(y_true, y_pred[:,1]>0.25, beta=2))"
      ],
      "execution_count": null,
      "outputs": [
        {
          "output_type": "stream",
          "text": [
            "Valor de Fbetascore para un alfa= 0.25 --> 0.030788177339901482\n"
          ],
          "name": "stdout"
        }
      ]
    },
    {
      "cell_type": "code",
      "metadata": {
        "colab": {
          "base_uri": "https://localhost:8080/"
        },
        "id": "NAihpKoIEF7d",
        "outputId": "de04f348-cf3a-4252-bfb2-e05727983827"
      },
      "source": [
        "alfa = 0.02\n",
        "recalls = np.zeros(100)\n",
        "precisions= np.zeros(100)\n",
        "FPR = np.zeros(100)\n",
        "alfas = np.linspace(0,1,100)\n",
        "for idx,alfa in enumerate(alfas):\n",
        "    tn, fp, fn, tp = confusion_matrix(y_true,y_pred[:,1]>alfa).ravel()\n",
        "    recalls[idx] = (tp/(tp+fn))\n",
        "    precisions[idx] = (tp/(tp+fp))\n",
        "    FPR[idx]= (fp/(fp+tn))"
      ],
      "execution_count": null,
      "outputs": [
        {
          "output_type": "stream",
          "text": [
            "/usr/local/lib/python3.7/dist-packages/ipykernel_launcher.py:9: RuntimeWarning: invalid value encountered in long_scalars\n",
            "  if __name__ == '__main__':\n"
          ],
          "name": "stderr"
        }
      ]
    },
    {
      "cell_type": "code",
      "metadata": {
        "colab": {
          "base_uri": "https://localhost:8080/"
        },
        "id": "kP_jb-1aETr7",
        "outputId": "e00185eb-4a52-44c9-d3a6-3d97ad0b3148"
      },
      "source": [
        "print(\"Para un alfa 0.25 --> Valor de recall\", recalls[25], \"Valor de Precisions\", precisions[25], \"Valor de FPR\", FPR[25])\n",
        "print(\"Para un alfa 0.5 --> Valor de recall\", recalls[50], \"Valor de Precisions\", precisions[50], \"Valor de FPR\", FPR[50])\n",
        "print(\"Para un alfa 0.75 --> Valor de recall\", recalls[75], \"Valor de Precisions\", precisions[75], \"Valor de FPR\", FPR[75])"
      ],
      "execution_count": null,
      "outputs": [
        {
          "output_type": "stream",
          "text": [
            "Para un alfa 0.25 --> Valor de recall 0.024875621890547265 Valor de Precisions 0.625 Valor de FPR 0.011494252873563218\n",
            "Para un alfa 0.5 --> Valor de recall 0.01990049751243781 Valor de Precisions 1.0 Valor de FPR 0.0\n",
            "Para un alfa 0.75 --> Valor de recall 0.014925373134328358 Valor de Precisions 1.0 Valor de FPR 0.0\n"
          ],
          "name": "stdout"
        }
      ]
    },
    {
      "cell_type": "code",
      "metadata": {
        "colab": {
          "base_uri": "https://localhost:8080/",
          "height": 350
        },
        "id": "5b6st8OmEk0y",
        "outputId": "83da7ff4-31f2-4d38-e7f2-72c1de6465be"
      },
      "source": [
        "plt.figure(figsize=[5,5])\n",
        "plt.plot(FPR,recalls)\n",
        "plt.title(\"Curva ROC CRR vs. impurezas\")\n",
        "plt.xlabel(\"FPR\")\n",
        "plt.ylabel(\"TPR\")\n",
        "plt.show()"
      ],
      "execution_count": null,
      "outputs": [
        {
          "output_type": "display_data",
          "data": {
            "image/png": "[encoded data removed]",
            "text/plain": [
              "<Figure size 360x360 with 1 Axes>"
            ]
          },
          "metadata": {
            "tags": [],
            "needs_background": "light"
          }
        }
      ]
    },
    {
      "cell_type": "code",
      "metadata": {
        "id": "Rdp4OG0F9jsb"
      },
      "source": [
        ""
      ],
      "execution_count": null,
      "outputs": []
    }
  ]
}