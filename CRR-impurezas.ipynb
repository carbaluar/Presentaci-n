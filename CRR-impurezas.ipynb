{
  "nbformat": 4,
  "nbformat_minor": 0,
  "metadata": {
    "colab": {
      "name": "RTO",
      "provenance": [],
      "collapsed_sections": [],
      "include_colab_link": true
    },
    "kernelspec": {
      "display_name": "Python 3",
      "name": "python3"
    },
    "language_info": {
      "name": "python"
    }
  },
  "cells": [
    {
      "cell_type": "markdown",
      "metadata": {
        "id": "view-in-github",
        "colab_type": "text"
      },
      "source": [
        "<a href=\"https://colab.research.google.com/github/carbaluar/Presentaci-n/blob/main/CRR-impurezas.ipynb\" target=\"_parent\"><img src=\"https://colab.research.google.com/assets/colab-badge.svg\" alt=\"Open In Colab\"/></a>"
      ]
    },
    {
      "cell_type": "markdown",
      "metadata": {
        "id": "Cemm7EHNji8f"
      },
      "source": [
        "## Generamos el Archivo de Excel para la lectura"
      ]
    },
    {
      "cell_type": "code",
      "metadata": {
        "id": "64ZeWuTWmaB4"
      },
      "source": [
        "import pandas as pd\n",
        "from matplotlib import pyplot as plt\n",
        "import sqlite3\n",
        "import datetime"
      ],
      "execution_count": null,
      "outputs": []
    },
    {
      "cell_type": "code",
      "metadata": {
        "colab": {
          "base_uri": "https://localhost:8080/",
          "height": 198
        },
        "id": "Z7y-pSf8jnOI",
        "outputId": "8e23515b-a1fc-4367-bddd-ce18a3cf13c1"
      },
      "source": [
        "\n",
        "dfAL = pd.read_excel('/content/DBRTO.xlsx')\n",
        "dfAL.head()"
      ],
      "execution_count": null,
      "outputs": [
        {
          "output_type": "execute_result",
          "data": {
            "text/html": [
              "<div>\n",
              "<style scoped>\n",
              "    .dataframe tbody tr th:only-of-type {\n",
              "        vertical-align: middle;\n",
              "    }\n",
              "\n",
              "    .dataframe tbody tr th {\n",
              "        vertical-align: top;\n",
              "    }\n",
              "\n",
              "    .dataframe thead th {\n",
              "        text-align: right;\n",
              "    }\n",
              "</style>\n",
              "<table border=\"1\" class=\"dataframe\">\n",
              "  <thead>\n",
              "    <tr style=\"text-align: right;\">\n",
              "      <th></th>\n",
              "      <th>Timestamp</th>\n",
              "      <th>in CADC</th>\n",
              "      <th>out CADC</th>\n",
              "      <th>T FUB</th>\n",
              "      <th>T406</th>\n",
              "      <th>Velocidad M140</th>\n",
              "      <th>HAG</th>\n",
              "      <th>R</th>\n",
              "    </tr>\n",
              "  </thead>\n",
              "  <tbody>\n",
              "    <tr>\n",
              "      <th>0</th>\n",
              "      <td>2020-11-03 09:00:00</td>\n",
              "      <td>206.673612</td>\n",
              "      <td>224.758101</td>\n",
              "      <td>195.818280</td>\n",
              "      <td>138.064697</td>\n",
              "      <td>8.898748</td>\n",
              "      <td>73.980766</td>\n",
              "      <td>0</td>\n",
              "    </tr>\n",
              "    <tr>\n",
              "      <th>1</th>\n",
              "      <td>2020-11-03 09:30:00</td>\n",
              "      <td>209.951967</td>\n",
              "      <td>225.060193</td>\n",
              "      <td>200.993333</td>\n",
              "      <td>144.010928</td>\n",
              "      <td>27.986787</td>\n",
              "      <td>156.013889</td>\n",
              "      <td>0</td>\n",
              "    </tr>\n",
              "    <tr>\n",
              "      <th>2</th>\n",
              "      <td>2020-11-03 10:00:00</td>\n",
              "      <td>212.247973</td>\n",
              "      <td>224.728009</td>\n",
              "      <td>207.600000</td>\n",
              "      <td>157.628570</td>\n",
              "      <td>28.104202</td>\n",
              "      <td>173.410031</td>\n",
              "      <td>1</td>\n",
              "    </tr>\n",
              "    <tr>\n",
              "      <th>3</th>\n",
              "      <td>2020-11-03 10:30:00</td>\n",
              "      <td>209.301215</td>\n",
              "      <td>224.422448</td>\n",
              "      <td>202.366667</td>\n",
              "      <td>162.052813</td>\n",
              "      <td>31.679949</td>\n",
              "      <td>187.017857</td>\n",
              "      <td>1</td>\n",
              "    </tr>\n",
              "    <tr>\n",
              "      <th>4</th>\n",
              "      <td>2020-11-03 11:00:00</td>\n",
              "      <td>207.480325</td>\n",
              "      <td>224.586800</td>\n",
              "      <td>197.988889</td>\n",
              "      <td>164.027985</td>\n",
              "      <td>32.133517</td>\n",
              "      <td>202.090097</td>\n",
              "      <td>1</td>\n",
              "    </tr>\n",
              "  </tbody>\n",
              "</table>\n",
              "</div>"
            ],
            "text/plain": [
              "            Timestamp     in CADC    out CADC  ...  Velocidad M140         HAG  R\n",
              "0 2020-11-03 09:00:00  206.673612  224.758101  ...        8.898748   73.980766  0\n",
              "1 2020-11-03 09:30:00  209.951967  225.060193  ...       27.986787  156.013889  0\n",
              "2 2020-11-03 10:00:00  212.247973  224.728009  ...       28.104202  173.410031  1\n",
              "3 2020-11-03 10:30:00  209.301215  224.422448  ...       31.679949  187.017857  1\n",
              "4 2020-11-03 11:00:00  207.480325  224.586800  ...       32.133517  202.090097  1\n",
              "\n",
              "[5 rows x 8 columns]"
            ]
          },
          "metadata": {
            "tags": []
          },
          "execution_count": 4
        }
      ]
    },
    {
      "cell_type": "code",
      "metadata": {
        "colab": {
          "base_uri": "https://localhost:8080/"
        },
        "id": "8-4S3bIuwrwN",
        "outputId": "a917508e-fe65-4a31-8719-7dfba69cf138"
      },
      "source": [
        "dfAL.info()"
      ],
      "execution_count": null,
      "outputs": [
        {
          "output_type": "stream",
          "text": [
            "<class 'pandas.core.frame.DataFrame'>\n",
            "RangeIndex: 3911 entries, 0 to 3910\n",
            "Data columns (total 8 columns):\n",
            " #   Column          Non-Null Count  Dtype         \n",
            "---  ------          --------------  -----         \n",
            " 0   Timestamp       3911 non-null   datetime64[ns]\n",
            " 1   in CADC         3911 non-null   float64       \n",
            " 2   out CADC        3911 non-null   float64       \n",
            " 3   T FUB           3911 non-null   float64       \n",
            " 4   T406            3911 non-null   float64       \n",
            " 5   Velocidad M140  3911 non-null   float64       \n",
            " 6   HAG             3911 non-null   float64       \n",
            " 7   R               3911 non-null   int64         \n",
            "dtypes: datetime64[ns](1), float64(6), int64(1)\n",
            "memory usage: 244.6 KB\n"
          ],
          "name": "stdout"
        }
      ]
    },
    {
      "cell_type": "code",
      "metadata": {
        "id": "aCXH9AwXmkIn"
      },
      "source": [
        "from sklearn.model_selection import train_test_split"
      ],
      "execution_count": null,
      "outputs": []
    },
    {
      "cell_type": "code",
      "metadata": {
        "id": "1hmkmQCTp47Z"
      },
      "source": [
        "# divido entre train y test/validación en 70%/30%\n",
        "dfAL_train, dfAL_test_validation = train_test_split(dfAL, train_size=0.7, stratify = dfAL[\"R\"])"
      ],
      "execution_count": null,
      "outputs": []
    },
    {
      "cell_type": "code",
      "metadata": {
        "id": "bP4KTUXSq7F7"
      },
      "source": [
        "\n",
        "# divido entre train y test/validación en 15% y 15%\n",
        "dfAL_test, dfAL_validation = train_test_split(dfAL_test_validation, train_size=0.5, stratify = dfAL_test_validation[\"R\"])"
      ],
      "execution_count": null,
      "outputs": []
    },
    {
      "cell_type": "code",
      "metadata": {
        "colab": {
          "base_uri": "https://localhost:8080/"
        },
        "id": "UUdZsA3ZtHZh",
        "outputId": "74204b54-5a0a-46df-b0d8-9be5128fc7c0"
      },
      "source": [
        "dfAL_train.shape"
      ],
      "execution_count": null,
      "outputs": [
        {
          "output_type": "execute_result",
          "data": {
            "text/plain": [
              "(2737, 8)"
            ]
          },
          "metadata": {
            "tags": []
          },
          "execution_count": 10
        }
      ]
    },
    {
      "cell_type": "code",
      "metadata": {
        "colab": {
          "base_uri": "https://localhost:8080/"
        },
        "id": "S756st1stL4g",
        "outputId": "43d3cd3b-2acb-4c7d-d506-3f4b343c1f84"
      },
      "source": [
        "dfAL_test.shape"
      ],
      "execution_count": null,
      "outputs": [
        {
          "output_type": "execute_result",
          "data": {
            "text/plain": [
              "(587, 8)"
            ]
          },
          "metadata": {
            "tags": []
          },
          "execution_count": 11
        }
      ]
    },
    {
      "cell_type": "code",
      "metadata": {
        "colab": {
          "base_uri": "https://localhost:8080/"
        },
        "id": "E7_CuF_6tTaN",
        "outputId": "3a6ae1a1-163e-4847-ccb3-6aeebef327fe"
      },
      "source": [
        "dfAL_validation.shape"
      ],
      "execution_count": null,
      "outputs": [
        {
          "output_type": "execute_result",
          "data": {
            "text/plain": [
              "(587, 8)"
            ]
          },
          "metadata": {
            "tags": []
          },
          "execution_count": 12
        }
      ]
    },
    {
      "cell_type": "markdown",
      "metadata": {
        "id": "ycFpnHvC-u4L"
      },
      "source": [
        "### Modelo Gaussiano"
      ]
    },
    {
      "cell_type": "code",
      "metadata": {
        "id": "upJiH-MItXVo"
      },
      "source": [
        "from sklearn.naive_bayes import GaussianNB"
      ],
      "execution_count": null,
      "outputs": []
    },
    {
      "cell_type": "code",
      "metadata": {
        "id": "5wYXULIItkga"
      },
      "source": [
        "clf = GaussianNB(priors=None, var_smoothing= 0.1)"
      ],
      "execution_count": null,
      "outputs": []
    },
    {
      "cell_type": "code",
      "metadata": {
        "id": "d_F1k8rCt4X_"
      },
      "source": [
        "dfAL_train2 = dfAL_train[[\"out CADC\",\"T FUB\",\"HAG\",\"R\"]].copy()"
      ],
      "execution_count": null,
      "outputs": []
    },
    {
      "cell_type": "code",
      "metadata": {
        "colab": {
          "base_uri": "https://localhost:8080/"
        },
        "id": "MOd820hbu3gh",
        "outputId": "3d09e81f-5e3a-41a1-bc8f-d2bd099292d8"
      },
      "source": [
        "clf.fit(dfAL_train2.drop(\"R\",axis=1), dfAL_train2[\"R\"])"
      ],
      "execution_count": null,
      "outputs": [
        {
          "output_type": "execute_result",
          "data": {
            "text/plain": [
              "GaussianNB(priors=None, var_smoothing=0.1)"
            ]
          },
          "metadata": {
            "tags": []
          },
          "execution_count": 17
        }
      ]
    },
    {
      "cell_type": "code",
      "metadata": {
        "colab": {
          "base_uri": "https://localhost:8080/"
        },
        "id": "Rbutu0yCvF_l",
        "outputId": "8178b6dc-1e69-43f9-8985-c6af50ffd303"
      },
      "source": [
        "clf.score(dfAL_train2.drop(\"R\",axis=1), dfAL_train2[\"R\"])"
      ],
      "execution_count": null,
      "outputs": [
        {
          "output_type": "execute_result",
          "data": {
            "text/plain": [
              "0.8257215929850201"
            ]
          },
          "metadata": {
            "tags": []
          },
          "execution_count": 18
        }
      ]
    },
    {
      "cell_type": "code",
      "metadata": {
        "id": "DbrC7RgZv9GW"
      },
      "source": [
        "dfAL_validation2 = dfAL_validation[[\"out CADC\",\"T FUB\",\"HAG\",\"R\"]].copy()\n",
        "dfAL_test_validation2 = dfAL_test_validation[[\"out CADC\",\"T FUB\",\"HAG\",\"R\"]].copy()"
      ],
      "execution_count": null,
      "outputs": []
    },
    {
      "cell_type": "code",
      "metadata": {
        "colab": {
          "base_uri": "https://localhost:8080/"
        },
        "id": "7EEvVjOHwDLZ",
        "outputId": "6ec40365-382f-4779-9366-7ffe131566bc"
      },
      "source": [
        "clf.score(dfAL_validation2.drop(\"R\",axis=1), dfAL_validation2[\"R\"])\n"
      ],
      "execution_count": null,
      "outputs": [
        {
          "output_type": "execute_result",
          "data": {
            "text/plain": [
              "0.8057921635434412"
            ]
          },
          "metadata": {
            "tags": []
          },
          "execution_count": 20
        }
      ]
    },
    {
      "cell_type": "code",
      "metadata": {
        "colab": {
          "base_uri": "https://localhost:8080/"
        },
        "id": "whumwuztFYCy",
        "outputId": "d742ecc7-9ae9-499e-d4e4-ab4885ab5480"
      },
      "source": [
        "clf.score(dfAL_test_validation2.drop(\"R\",axis=1), dfAL_test_validation2[\"R\"])"
      ],
      "execution_count": null,
      "outputs": [
        {
          "output_type": "execute_result",
          "data": {
            "text/plain": [
              "0.8117546848381602"
            ]
          },
          "metadata": {
            "tags": []
          },
          "execution_count": 21
        }
      ]
    },
    {
      "cell_type": "code",
      "metadata": {
        "id": "gHJiQhyiwNFd"
      },
      "source": [
        "BuscaSmoot = [0.1, 0.001, 0.0001, 0.00001, 0.000001, 0.000000000001]"
      ],
      "execution_count": null,
      "outputs": []
    },
    {
      "cell_type": "code",
      "metadata": {
        "colab": {
          "base_uri": "https://localhost:8080/"
        },
        "id": "J3MYNSY8yn3z",
        "outputId": "14a20c3b-977c-4193-d5a9-4ed5d297e09a"
      },
      "source": [
        "scores = list()\n",
        "for busca in BuscaSmoot:\n",
        "    clf = GaussianNB(var_smoothing = busca)\n",
        "    clf.fit(dfAL_train2.drop(\"R\",axis=1), dfAL_train2[\"R\"])\n",
        "    scores.append(clf.score(dfAL_validation2.drop(\"R\",axis=1), dfAL_validation2[\"R\"]))\n",
        "\n",
        "print(\"Máximo score con un smoothing de: \", BuscaSmoot[scores.index(max(scores))], \"--> valor de Score: \", max(scores))"
      ],
      "execution_count": null,
      "outputs": [
        {
          "output_type": "stream",
          "text": [
            "Máximo score con un smoothing de:  0.1 --> valor de Score:  0.8057921635434412\n"
          ],
          "name": "stdout"
        }
      ]
    },
    {
      "cell_type": "markdown",
      "metadata": {
        "id": "0ertKUX--zoj"
      },
      "source": [
        "Dato Obtenido"
      ]
    },
    {
      "cell_type": "code",
      "metadata": {
        "colab": {
          "base_uri": "https://localhost:8080/",
          "height": 198
        },
        "id": "IE5lH6kb-_PX",
        "outputId": "5b9958a0-2f06-4f8c-9858-6ffda56cc878"
      },
      "source": [
        "from sklearn.metrics import confusion_matrix, roc_auc_score\n",
        "import numpy as np\n",
        "dfAL_train2.head()"
      ],
      "execution_count": null,
      "outputs": [
        {
          "output_type": "execute_result",
          "data": {
            "text/html": [
              "<div>\n",
              "<style scoped>\n",
              "    .dataframe tbody tr th:only-of-type {\n",
              "        vertical-align: middle;\n",
              "    }\n",
              "\n",
              "    .dataframe tbody tr th {\n",
              "        vertical-align: top;\n",
              "    }\n",
              "\n",
              "    .dataframe thead th {\n",
              "        text-align: right;\n",
              "    }\n",
              "</style>\n",
              "<table border=\"1\" class=\"dataframe\">\n",
              "  <thead>\n",
              "    <tr style=\"text-align: right;\">\n",
              "      <th></th>\n",
              "      <th>out CADC</th>\n",
              "      <th>T FUB</th>\n",
              "      <th>HAG</th>\n",
              "      <th>R</th>\n",
              "    </tr>\n",
              "  </thead>\n",
              "  <tbody>\n",
              "    <tr>\n",
              "      <th>457</th>\n",
              "      <td>220.892365</td>\n",
              "      <td>191.681644</td>\n",
              "      <td>200.322650</td>\n",
              "      <td>1</td>\n",
              "    </tr>\n",
              "    <tr>\n",
              "      <th>3861</th>\n",
              "      <td>210.665521</td>\n",
              "      <td>192.166667</td>\n",
              "      <td>230.505754</td>\n",
              "      <td>1</td>\n",
              "    </tr>\n",
              "    <tr>\n",
              "      <th>3449</th>\n",
              "      <td>213.087968</td>\n",
              "      <td>176.061798</td>\n",
              "      <td>214.664046</td>\n",
              "      <td>0</td>\n",
              "    </tr>\n",
              "    <tr>\n",
              "      <th>2974</th>\n",
              "      <td>205.642350</td>\n",
              "      <td>192.759259</td>\n",
              "      <td>214.645139</td>\n",
              "      <td>0</td>\n",
              "    </tr>\n",
              "    <tr>\n",
              "      <th>3532</th>\n",
              "      <td>221.430550</td>\n",
              "      <td>185.980000</td>\n",
              "      <td>215.235499</td>\n",
              "      <td>1</td>\n",
              "    </tr>\n",
              "  </tbody>\n",
              "</table>\n",
              "</div>"
            ],
            "text/plain": [
              "        out CADC       T FUB         HAG  R\n",
              "457   220.892365  191.681644  200.322650  1\n",
              "3861  210.665521  192.166667  230.505754  1\n",
              "3449  213.087968  176.061798  214.664046  0\n",
              "2974  205.642350  192.759259  214.645139  0\n",
              "3532  221.430550  185.980000  215.235499  1"
            ]
          },
          "metadata": {
            "tags": []
          },
          "execution_count": 24
        }
      ]
    },
    {
      "cell_type": "code",
      "metadata": {
        "colab": {
          "base_uri": "https://localhost:8080/"
        },
        "id": "juIxOtWr_Rnp",
        "outputId": "f08214fd-b2d0-47d8-9593-e283c99753d3"
      },
      "source": [
        "clf.predict(np.array([[195,195,235]]))"
      ],
      "execution_count": null,
      "outputs": [
        {
          "output_type": "execute_result",
          "data": {
            "text/plain": [
              "array([0])"
            ]
          },
          "metadata": {
            "tags": []
          },
          "execution_count": 26
        }
      ]
    },
    {
      "cell_type": "markdown",
      "metadata": {
        "id": "OrcyJwKEC38-"
      },
      "source": [
        "Matriz"
      ]
    },
    {
      "cell_type": "code",
      "metadata": {
        "id": "J8iyTRBIC5xk"
      },
      "source": [
        "y_true = 1*np.array(dfAL_validation2[\"R\"])"
      ],
      "execution_count": null,
      "outputs": []
    },
    {
      "cell_type": "code",
      "metadata": {
        "id": "wVwZW5lmFvfT"
      },
      "source": [
        "y_true2 = 1*np.array(dfAL_test_validation2[\"R\"])"
      ],
      "execution_count": null,
      "outputs": []
    },
    {
      "cell_type": "code",
      "metadata": {
        "id": "TkE3o2HsDgpi"
      },
      "source": [
        "y_pred = clf.predict_proba(dfAL_validation2.drop(\"R\",axis=1))"
      ],
      "execution_count": null,
      "outputs": []
    },
    {
      "cell_type": "code",
      "metadata": {
        "id": "wQkbaVazF1Qz"
      },
      "source": [
        "y_pred2 = clf.predict_proba(dfAL_test_validation2.drop(\"R\",axis=1))"
      ],
      "execution_count": null,
      "outputs": []
    },
    {
      "cell_type": "code",
      "metadata": {
        "colab": {
          "base_uri": "https://localhost:8080/"
        },
        "id": "Akt8DwPEDr4-",
        "outputId": "ac31dbee-18bb-4b8b-9bea-5f1cdfb19e2d"
      },
      "source": [
        "print(\"Matriz de Confusión Alfa 0.25\")\n",
        "print(confusion_matrix(y_true,y_pred[:,1]>0.25))"
      ],
      "execution_count": null,
      "outputs": [
        {
          "output_type": "stream",
          "text": [
            "Matriz de Confusión Alfa 0.25\n",
            "[[234  88]\n",
            " [ 26 239]]\n"
          ],
          "name": "stdout"
        }
      ]
    },
    {
      "cell_type": "code",
      "metadata": {
        "id": "kIc_W0Da9O_K"
      },
      "source": [
        "from sklearn.metrics import fbeta_score"
      ],
      "execution_count": null,
      "outputs": []
    },
    {
      "cell_type": "code",
      "metadata": {
        "colab": {
          "base_uri": "https://localhost:8080/"
        },
        "id": "WeSuNZlv9aO9",
        "outputId": "600906fc-f81b-4154-ff6a-c8ec342d7fbf"
      },
      "source": [
        "print(\"Valor de F1 para un alfa= 0.25 -->\", fbeta_score(y_true, y_pred[:,1]>0.25, beta=1))"
      ],
      "execution_count": null,
      "outputs": [
        {
          "output_type": "stream",
          "text": [
            "Valor de F1 para un alfa= 0.25 --> 0.8074324324324323\n"
          ],
          "name": "stdout"
        }
      ]
    },
    {
      "cell_type": "code",
      "metadata": {
        "colab": {
          "base_uri": "https://localhost:8080/"
        },
        "id": "kgJj6Znf9noj",
        "outputId": "de7e2bd9-9eef-45cf-db08-7ff4343cb9c3"
      },
      "source": [
        "print(\"Valor de Fbetascore para un alfa= 0.25 -->\", fbeta_score(y_true, y_pred[:,1]>0.25, beta=2))"
      ],
      "execution_count": null,
      "outputs": [
        {
          "output_type": "stream",
          "text": [
            "Valor de Fbetascore para un alfa= 0.25 --> 0.8615717375630858\n"
          ],
          "name": "stdout"
        }
      ]
    },
    {
      "cell_type": "code",
      "metadata": {
        "colab": {
          "base_uri": "https://localhost:8080/"
        },
        "id": "AMxjmqMNF81X",
        "outputId": "04413ce1-6c3d-4a60-ff9c-ee9bdf766a0c"
      },
      "source": [
        "print(\"Matriz de Confusión Alfa 0.25\")\n",
        "print(confusion_matrix(y_true2,y_pred2[:,1]>0.25))"
      ],
      "execution_count": null,
      "outputs": [
        {
          "output_type": "stream",
          "text": [
            "Matriz de Confusión Alfa 0.25\n",
            "[[469 174]\n",
            " [ 53 478]]\n"
          ],
          "name": "stdout"
        }
      ]
    },
    {
      "cell_type": "code",
      "metadata": {
        "colab": {
          "base_uri": "https://localhost:8080/"
        },
        "id": "NAihpKoIEF7d",
        "outputId": "950e4aa8-a067-459a-a1e0-8eb82fa9128b"
      },
      "source": [
        "alfa = 0.02\n",
        "recalls = np.zeros(100)\n",
        "precisions= np.zeros(100)\n",
        "FPR = np.zeros(100)\n",
        "alfas = np.linspace(0,1,100)\n",
        "for idx,alfa in enumerate(alfas):\n",
        "    tn, fp, fn, tp = confusion_matrix(y_true,y_pred[:,1]>alfa).ravel()\n",
        "    recalls[idx] = (tp/(tp+fn))\n",
        "    precisions[idx] = (tp/(tp+fp))\n",
        "    FPR[idx]= (fp/(fp+tn))"
      ],
      "execution_count": null,
      "outputs": [
        {
          "output_type": "stream",
          "text": [
            "/usr/local/lib/python3.7/dist-packages/ipykernel_launcher.py:9: RuntimeWarning: invalid value encountered in long_scalars\n",
            "  if __name__ == '__main__':\n"
          ],
          "name": "stderr"
        }
      ]
    },
    {
      "cell_type": "code",
      "metadata": {
        "colab": {
          "base_uri": "https://localhost:8080/"
        },
        "id": "sY1WmUCcGQiI",
        "outputId": "f97cbc04-6155-430e-e3f8-26f4a66b5949"
      },
      "source": [
        "alfa = 0.02\n",
        "recalls = np.zeros(100)\n",
        "precisions= np.zeros(100)\n",
        "FPR = np.zeros(100)\n",
        "alfas = np.linspace(0,1,100)\n",
        "for idx,alfa in enumerate(alfas):\n",
        "    tn, fp, fn, tp = confusion_matrix(y_true2,y_pred2[:,1]>alfa).ravel()\n",
        "    recalls[idx] = (tp/(tp+fn))\n",
        "    precisions[idx] = (tp/(tp+fp))\n",
        "    FPR[idx]= (fp/(fp+tn))"
      ],
      "execution_count": null,
      "outputs": [
        {
          "output_type": "stream",
          "text": [
            "/usr/local/lib/python3.7/dist-packages/ipykernel_launcher.py:9: RuntimeWarning: invalid value encountered in long_scalars\n",
            "  if __name__ == '__main__':\n"
          ],
          "name": "stderr"
        }
      ]
    },
    {
      "cell_type": "code",
      "metadata": {
        "colab": {
          "base_uri": "https://localhost:8080/"
        },
        "id": "kP_jb-1aETr7",
        "outputId": "f9fe4e11-2e2b-4594-9d61-8fff7109f729"
      },
      "source": [
        "print(\"Para un alfa 0.25 --> Valor de recall\", recalls[25], \"Valor de Precisions\", precisions[25], \"Valor de FPR\", FPR[25])\n",
        "print(\"Para un alfa 0.5 --> Valor de recall\", recalls[50], \"Valor de Precisions\", precisions[50], \"Valor de FPR\", FPR[50])\n",
        "print(\"Para un alfa 0.75 --> Valor de recall\", recalls[75], \"Valor de Precisions\", precisions[75], \"Valor de FPR\", FPR[75])"
      ],
      "execution_count": null,
      "outputs": [
        {
          "output_type": "stream",
          "text": [
            "Para un alfa 0.25 --> Valor de recall 0.896421845574388 Valor de Precisions 0.7357032457496137 Valor de FPR 0.26594090202177295\n",
            "Para un alfa 0.5 --> Valor de recall 0.7890772128060264 Valor de Precisions 0.7980952380952381 Valor de FPR 0.16485225505443235\n",
            "Para un alfa 0.75 --> Valor de recall 0.7212806026365348 Valor de Precisions 0.8417582417582418 Valor de FPR 0.1119751166407465\n"
          ],
          "name": "stdout"
        }
      ]
    },
    {
      "cell_type": "code",
      "metadata": {
        "id": "nIHsn2pkGacm"
      },
      "source": [
        ""
      ],
      "execution_count": null,
      "outputs": []
    },
    {
      "cell_type": "code",
      "metadata": {
        "colab": {
          "base_uri": "https://localhost:8080/",
          "height": 350
        },
        "id": "5b6st8OmEk0y",
        "outputId": "c58c692a-14f1-4723-bc09-c9d09fd73994"
      },
      "source": [
        "plt.figure(figsize=[5,5])\n",
        "plt.plot(FPR,recalls)\n",
        "plt.title(\"Curva ROC ejercicio densidad Línea B\")\n",
        "plt.xlabel(\"FPR\")\n",
        "plt.ylabel(\"TPR\")\n",
        "plt.show()"
      ],
      "execution_count": null,
      "outputs": [
        {
          "output_type": "display_data",
          "data": {
            "image/png": "[encoded data removed]",
            "text/plain": [
              "<Figure size 360x360 with 1 Axes>"
            ]
          },
          "metadata": {
            "tags": [],
            "needs_background": "light"
          }
        }
      ]
    },
    {
      "cell_type": "markdown",
      "metadata": {
        "id": "h1JcaxfLzLrr"
      },
      "source": [
        "Modelo LDA"
      ]
    },
    {
      "cell_type": "code",
      "metadata": {
        "id": "JfnIGwO1zPa6"
      },
      "source": [
        "from sklearn.discriminant_analysis import LinearDiscriminantAnalysis"
      ],
      "execution_count": null,
      "outputs": []
    },
    {
      "cell_type": "code",
      "metadata": {
        "id": "5bNbY4E_zSfE"
      },
      "source": [
        "LDA_clf = LinearDiscriminantAnalysis()"
      ],
      "execution_count": null,
      "outputs": []
    },
    {
      "cell_type": "code",
      "metadata": {
        "colab": {
          "base_uri": "https://localhost:8080/"
        },
        "id": "3e11vd0fzVJy",
        "outputId": "c05d6ef9-d183-479e-ed22-30f5ed3bb7de"
      },
      "source": [
        "LDA_clf.fit(dfAL_train2.drop(\"R\",axis=1), dfAL_train2[\"R\"])"
      ],
      "execution_count": null,
      "outputs": [
        {
          "output_type": "execute_result",
          "data": {
            "text/plain": [
              "LinearDiscriminantAnalysis(n_components=None, priors=None, shrinkage=None,\n",
              "                           solver='svd', store_covariance=False, tol=0.0001)"
            ]
          },
          "metadata": {
            "tags": []
          },
          "execution_count": 58
        }
      ]
    },
    {
      "cell_type": "code",
      "metadata": {
        "colab": {
          "base_uri": "https://localhost:8080/"
        },
        "id": "uHpahvdWzht5",
        "outputId": "66393140-a66e-4629-cb3c-6ca91d76305f"
      },
      "source": [
        "LDA_clf.score(dfAL_train2.drop(\"R\",axis=1), dfAL_train2[\"R\"])"
      ],
      "execution_count": null,
      "outputs": [
        {
          "output_type": "execute_result",
          "data": {
            "text/plain": [
              "0.8206065034709537"
            ]
          },
          "metadata": {
            "tags": []
          },
          "execution_count": 59
        }
      ]
    },
    {
      "cell_type": "code",
      "metadata": {
        "colab": {
          "base_uri": "https://localhost:8080/"
        },
        "id": "IcQV1Wj-zypM",
        "outputId": "f07e37e1-bf61-46c7-a3e7-48192416557e"
      },
      "source": [
        "LDA_clf.score(dfAL_validation2.drop(\"R\",axis=1), dfAL_validation2[\"R\"])"
      ],
      "execution_count": null,
      "outputs": [
        {
          "output_type": "execute_result",
          "data": {
            "text/plain": [
              "0.8705281090289608"
            ]
          },
          "metadata": {
            "tags": []
          },
          "execution_count": 61
        }
      ]
    },
    {
      "cell_type": "code",
      "metadata": {
        "colab": {
          "base_uri": "https://localhost:8080/"
        },
        "id": "DTic4LU6Q-GB",
        "outputId": "45a348e8-4078-4ee7-8e15-f1a529347f47"
      },
      "source": [
        "LDA_clf.predict(np.array([[220,195,235]]))"
      ],
      "execution_count": null,
      "outputs": [
        {
          "output_type": "execute_result",
          "data": {
            "text/plain": [
              "array([1])"
            ]
          },
          "metadata": {
            "tags": []
          },
          "execution_count": 65
        }
      ]
    },
    {
      "cell_type": "code",
      "metadata": {
        "id": "7taMRq66HEA-"
      },
      "source": [
        "y_true2 = 1*np.array(dfAL_test_validation2[\"R\"])"
      ],
      "execution_count": null,
      "outputs": []
    },
    {
      "cell_type": "code",
      "metadata": {
        "id": "xICYjYXvHIKq"
      },
      "source": [
        "y_pred_LDA = LDA_clf.predict_proba(dfAL_test_validation2.drop(\"R\",axis=1))"
      ],
      "execution_count": null,
      "outputs": []
    },
    {
      "cell_type": "code",
      "metadata": {
        "colab": {
          "base_uri": "https://localhost:8080/"
        },
        "id": "KJWYG2d6G921",
        "outputId": "447590ab-4d40-4c9e-fc67-c2d102426696"
      },
      "source": [
        "print(\"Matriz de Confusión Alfa 0.25\")\n",
        "print(confusion_matrix(y_true2,y_pred_LDA[:,1]>0.25))"
      ],
      "execution_count": null,
      "outputs": [
        {
          "output_type": "stream",
          "text": [
            "Matriz de Confusión Alfa 0.25\n",
            "[[481 162]\n",
            " [ 37 494]]\n"
          ],
          "name": "stdout"
        }
      ]
    },
    {
      "cell_type": "code",
      "metadata": {
        "colab": {
          "base_uri": "https://localhost:8080/"
        },
        "id": "uTMVhMU9R_18",
        "outputId": "487716a5-62c5-403a-ceee-0f38e1ade3ff"
      },
      "source": [
        "alfa = 0.02\n",
        "recalls = np.zeros(100)\n",
        "precisions= np.zeros(100)\n",
        "FPR = np.zeros(100)\n",
        "alfas = np.linspace(0,1,100)\n",
        "for idx,alfa in enumerate(alfas):\n",
        "    tn, fp, fn, tp = confusion_matrix(y_true2,y_pred_LDA[:,1]>alfa).ravel()\n",
        "    recalls[idx] = (tp/(tp+fn))\n",
        "    precisions[idx] = (tp/(tp+fp))\n",
        "    FPR[idx]= (fp/(fp+tn))"
      ],
      "execution_count": null,
      "outputs": [
        {
          "output_type": "stream",
          "text": [
            "/usr/local/lib/python3.7/dist-packages/ipykernel_launcher.py:9: RuntimeWarning: invalid value encountered in long_scalars\n",
            "  if __name__ == '__main__':\n"
          ],
          "name": "stderr"
        }
      ]
    },
    {
      "cell_type": "code",
      "metadata": {
        "colab": {
          "base_uri": "https://localhost:8080/"
        },
        "id": "sm8plTlHSIuA",
        "outputId": "83669b39-e4bf-41a0-829b-cf7d47aa1e3b"
      },
      "source": [
        "print(\"Para un alfa 0.25 --> Valor de recall\", recalls[25], \"Valor de Precisions\", precisions[25], \"Valor de FPR\", FPR[25])\n",
        "print(\"Para un alfa 0.5 --> Valor de recall\", recalls[50], \"Valor de Precisions\", precisions[50], \"Valor de FPR\", FPR[50])\n",
        "print(\"Para un alfa 0.75 --> Valor de recall\", recalls[75], \"Valor de Precisions\", precisions[75], \"Valor de FPR\", FPR[75])"
      ],
      "execution_count": null,
      "outputs": [
        {
          "output_type": "stream",
          "text": [
            "Para un alfa 0.25 --> Valor de recall 0.9265536723163842 Valor de Precisions 0.7557603686635944 Valor de FPR 0.24727838258164853\n",
            "Para un alfa 0.5 --> Valor de recall 0.8267419962335216 Valor de Precisions 0.857421875 Valor de FPR 0.11353032659409021\n",
            "Para un alfa 0.75 --> Valor de recall 0.7137476459510358 Valor de Precisions 0.8752886836027713 Valor de FPR 0.08398133748055987\n"
          ],
          "name": "stdout"
        }
      ]
    },
    {
      "cell_type": "code",
      "metadata": {
        "colab": {
          "base_uri": "https://localhost:8080/",
          "height": 350
        },
        "id": "ZY67VyB-SM22",
        "outputId": "11b2f4c8-4008-44ee-9d4e-c08bd64edf0c"
      },
      "source": [
        "plt.figure(figsize=[5,5])\n",
        "plt.plot(FPR,recalls)\n",
        "plt.title(\"Curva ROC LDA RTO\")\n",
        "plt.xlabel(\"FPR\")\n",
        "plt.ylabel(\"TPR\")\n",
        "plt.show()"
      ],
      "execution_count": null,
      "outputs": [
        {
          "output_type": "display_data",
          "data": {
            "image/png": "[encoded data removed]",
            "text/plain": [
              "<Figure size 360x360 with 1 Axes>"
            ]
          },
          "metadata": {
            "tags": [],
            "needs_background": "light"
          }
        }
      ]
    },
    {
      "cell_type": "markdown",
      "metadata": {
        "id": "eYC7sjTNz7bI"
      },
      "source": [
        "Modelo QDA"
      ]
    },
    {
      "cell_type": "code",
      "metadata": {
        "id": "XQQd8QZFz6ot"
      },
      "source": [
        "from sklearn.discriminant_analysis import QuadraticDiscriminantAnalysis\n",
        "QDA_clf = QuadraticDiscriminantAnalysis()"
      ],
      "execution_count": null,
      "outputs": []
    },
    {
      "cell_type": "code",
      "metadata": {
        "id": "ot9T55nIR1Ij"
      },
      "source": [
        ""
      ],
      "execution_count": null,
      "outputs": []
    },
    {
      "cell_type": "code",
      "metadata": {
        "colab": {
          "base_uri": "https://localhost:8080/"
        },
        "id": "x1DS6E7oz6r3",
        "outputId": "7866b720-49e1-4142-bfc2-d83693e4a9d6"
      },
      "source": [
        "QDA_clf.fit(dfAL_train2.drop(\"R\",axis=1), dfAL_train2[\"R\"])"
      ],
      "execution_count": null,
      "outputs": [
        {
          "output_type": "execute_result",
          "data": {
            "text/plain": [
              "QuadraticDiscriminantAnalysis(priors=None, reg_param=0.0,\n",
              "                              store_covariance=False, tol=0.0001)"
            ]
          },
          "metadata": {
            "tags": []
          },
          "execution_count": 74
        }
      ]
    },
    {
      "cell_type": "code",
      "metadata": {
        "colab": {
          "base_uri": "https://localhost:8080/"
        },
        "id": "mEWszqu00Tac",
        "outputId": "17b00571-014c-43f8-9f58-dfe41ea83f8f"
      },
      "source": [
        "QDA_clf.score(dfAL_train2.drop(\"R\",axis=1), dfAL_train2[\"R\"])"
      ],
      "execution_count": null,
      "outputs": [
        {
          "output_type": "execute_result",
          "data": {
            "text/plain": [
              "0.8260869565217391"
            ]
          },
          "metadata": {
            "tags": []
          },
          "execution_count": 75
        }
      ]
    },
    {
      "cell_type": "code",
      "metadata": {
        "colab": {
          "base_uri": "https://localhost:8080/"
        },
        "id": "JHfHK7Y40XLa",
        "outputId": "1a36ccae-3b95-4c38-f3e4-bdfd584e6090"
      },
      "source": [
        "QDA_clf.score(dfAL_validation2.drop(\"R\",axis=1), dfAL_validation2[\"R\"])"
      ],
      "execution_count": null,
      "outputs": [
        {
          "output_type": "execute_result",
          "data": {
            "text/plain": [
              "0.8654173764906303"
            ]
          },
          "metadata": {
            "tags": []
          },
          "execution_count": 76
        }
      ]
    },
    {
      "cell_type": "code",
      "metadata": {
        "colab": {
          "base_uri": "https://localhost:8080/"
        },
        "id": "3mYK-grKSJDF",
        "outputId": "594a125a-ba74-41e2-fd44-1e8da8ab3c60"
      },
      "source": [
        "QDA_clf.predict(np.array([[220,195,230]]))"
      ],
      "execution_count": null,
      "outputs": [
        {
          "output_type": "execute_result",
          "data": {
            "text/plain": [
              "array([1])"
            ]
          },
          "metadata": {
            "tags": []
          },
          "execution_count": 77
        }
      ]
    },
    {
      "cell_type": "code",
      "metadata": {
        "id": "QVG79ypiS6v7"
      },
      "source": [
        "y_true2 = 1*np.array(dfAL_test_validation2[\"R\"])"
      ],
      "execution_count": null,
      "outputs": []
    },
    {
      "cell_type": "code",
      "metadata": {
        "id": "s4ofEQrBS9VO"
      },
      "source": [
        "y_pred_QDA = QDA_clf.predict_proba(dfAL_test_validation2.drop(\"R\",axis=1))"
      ],
      "execution_count": null,
      "outputs": []
    },
    {
      "cell_type": "code",
      "metadata": {
        "id": "ZTvlJLOfS9YB"
      },
      "source": [
        ""
      ],
      "execution_count": null,
      "outputs": []
    },
    {
      "cell_type": "markdown",
      "metadata": {
        "id": "Roicehdx0joA"
      },
      "source": [
        "Modelo de Regresión Log."
      ]
    },
    {
      "cell_type": "code",
      "metadata": {
        "id": "QmfG_vOT0owp"
      },
      "source": [
        "from sklearn.linear_model import LogisticRegression\n",
        "LR_clf=LogisticRegression(C=1e9, verbose=1)"
      ],
      "execution_count": null,
      "outputs": []
    },
    {
      "cell_type": "code",
      "metadata": {
        "colab": {
          "base_uri": "https://localhost:8080/"
        },
        "id": "kOmY92-e0p4Z",
        "outputId": "7ea96b1a-3078-4edd-8dea-7e61f257857d"
      },
      "source": [
        "LR_clf.fit(dfAL_train2.drop(\"R\",axis=1), dfAL_train2[\"R\"])"
      ],
      "execution_count": null,
      "outputs": [
        {
          "output_type": "stream",
          "text": [
            "[Parallel(n_jobs=1)]: Using backend SequentialBackend with 1 concurrent workers.\n",
            "[Parallel(n_jobs=1)]: Done   1 out of   1 | elapsed:    0.0s finished\n"
          ],
          "name": "stderr"
        },
        {
          "output_type": "execute_result",
          "data": {
            "text/plain": [
              "LogisticRegression(C=1000000000.0, class_weight=None, dual=False,\n",
              "                   fit_intercept=True, intercept_scaling=1, l1_ratio=None,\n",
              "                   max_iter=100, multi_class='auto', n_jobs=None, penalty='l2',\n",
              "                   random_state=None, solver='lbfgs', tol=0.0001, verbose=1,\n",
              "                   warm_start=False)"
            ]
          },
          "metadata": {
            "tags": []
          },
          "execution_count": 90
        }
      ]
    },
    {
      "cell_type": "code",
      "metadata": {
        "colab": {
          "base_uri": "https://localhost:8080/"
        },
        "id": "wHCTrzUB0vtR",
        "outputId": "ce4365e7-dc4f-4385-c10d-d3816f53e1a9"
      },
      "source": [
        "LR_clf.score(dfAL_train2.drop(\"R\",axis=1), dfAL_train2[\"R\"])"
      ],
      "execution_count": null,
      "outputs": [
        {
          "output_type": "execute_result",
          "data": {
            "text/plain": [
              "0.8217025940811107"
            ]
          },
          "metadata": {
            "tags": []
          },
          "execution_count": 91
        }
      ]
    },
    {
      "cell_type": "code",
      "metadata": {
        "colab": {
          "base_uri": "https://localhost:8080/"
        },
        "id": "XAQHtj4t05dC",
        "outputId": "9b6c6113-1c06-4692-a5ec-1ba2435d55a9"
      },
      "source": [
        "LR_clf.score(dfAL_validation2.drop(\"R\",axis=1), dfAL_validation2[\"R\"])"
      ],
      "execution_count": null,
      "outputs": [
        {
          "output_type": "execute_result",
          "data": {
            "text/plain": [
              "0.8671209540034072"
            ]
          },
          "metadata": {
            "tags": []
          },
          "execution_count": 92
        }
      ]
    },
    {
      "cell_type": "code",
      "metadata": {
        "id": "hNi7UzHVT8Lc"
      },
      "source": [
        "y_pred_LR = LR_clf.predict_proba(dfAL_test_validation2.drop(\"R\",axis=1))"
      ],
      "execution_count": null,
      "outputs": []
    },
    {
      "cell_type": "code",
      "metadata": {
        "id": "34r156nLT8Vn"
      },
      "source": [
        ""
      ],
      "execution_count": null,
      "outputs": []
    },
    {
      "cell_type": "code",
      "metadata": {
        "colab": {
          "base_uri": "https://localhost:8080/"
        },
        "id": "OakEttjFTNOQ",
        "outputId": "cabe0c0d-232e-452f-88ba-ca71931da775"
      },
      "source": [
        "print(\"Matriz de Confusión Alfa 0.25\")\n",
        "print(confusion_matrix(y_true2,y_pred_LR[:,1]>0.25))"
      ],
      "execution_count": null,
      "outputs": [
        {
          "output_type": "stream",
          "text": [
            "Matriz de Confusión Alfa 0.25\n",
            "[[434 209]\n",
            " [ 34 497]]\n"
          ],
          "name": "stdout"
        }
      ]
    },
    {
      "cell_type": "code",
      "metadata": {
        "colab": {
          "base_uri": "https://localhost:8080/"
        },
        "id": "I0vXwkwjTNXJ",
        "outputId": "0d860adb-04c3-41a5-bb14-21de0bcdfc4a"
      },
      "source": [
        "alfa = 0.02\n",
        "recalls = np.zeros(100)\n",
        "precisions= np.zeros(100)\n",
        "FPR = np.zeros(100)\n",
        "alfas = np.linspace(0,1,100)\n",
        "for idx,alfa in enumerate(alfas):\n",
        "    tn, fp, fn, tp = confusion_matrix(y_true2,y_pred_LR[:,1]>alfa).ravel()\n",
        "    recalls[idx] = (tp/(tp+fn))\n",
        "    precisions[idx] = (tp/(tp+fp))\n",
        "    FPR[idx]= (fp/(fp+tn))"
      ],
      "execution_count": null,
      "outputs": [
        {
          "output_type": "stream",
          "text": [
            "/usr/local/lib/python3.7/dist-packages/ipykernel_launcher.py:9: RuntimeWarning: invalid value encountered in long_scalars\n",
            "  if __name__ == '__main__':\n"
          ],
          "name": "stderr"
        }
      ]
    },
    {
      "cell_type": "code",
      "metadata": {
        "colab": {
          "base_uri": "https://localhost:8080/"
        },
        "id": "g8MHAlFZTNgx",
        "outputId": "aae6c705-03b3-4d9c-c2d7-f70a3253eb10"
      },
      "source": [
        "print(\"Para un alfa 0.25 --> Valor de recall\", recalls[25], \"Valor de Precisions\", precisions[25], \"Valor de FPR\", FPR[25])\n",
        "print(\"Para un alfa 0.5 --> Valor de recall\", recalls[50], \"Valor de Precisions\", precisions[50], \"Valor de FPR\", FPR[50])\n",
        "print(\"Para un alfa 0.75 --> Valor de recall\", recalls[75], \"Valor de Precisions\", precisions[75], \"Valor de FPR\", FPR[75])"
      ],
      "execution_count": null,
      "outputs": [
        {
          "output_type": "stream",
          "text": [
            "Para un alfa 0.25 --> Valor de recall 0.935969868173258 Valor de Precisions 0.7039660056657224 Valor de FPR 0.3250388802488336\n",
            "Para un alfa 0.5 --> Valor de recall 0.8097928436911488 Valor de Precisions 0.8582834331337326 Valor de FPR 0.1104199066874028\n",
            "Para un alfa 0.75 --> Valor de recall 0.6120527306967984 Valor de Precisions 0.8904109589041096 Valor de FPR 0.06220839813374806\n"
          ],
          "name": "stdout"
        }
      ]
    },
    {
      "cell_type": "code",
      "metadata": {
        "colab": {
          "base_uri": "https://localhost:8080/",
          "height": 350
        },
        "id": "dKW5oExETWoL",
        "outputId": "e85a6480-9649-4d0b-9e49-2921eea5ed54"
      },
      "source": [
        "plt.figure(figsize=[5,5])\n",
        "plt.plot(FPR,recalls)\n",
        "plt.title(\"Curva ROC LR RTO\")\n",
        "plt.xlabel(\"FPR\")\n",
        "plt.ylabel(\"TPR\")\n",
        "plt.show()"
      ],
      "execution_count": null,
      "outputs": [
        {
          "output_type": "display_data",
          "data": {
            "image/png": "[encoded data removed]",
            "text/plain": [
              "<Figure size 360x360 with 1 Axes>"
            ]
          },
          "metadata": {
            "tags": [],
            "needs_background": "light"
          }
        }
      ]
    },
    {
      "cell_type": "markdown",
      "metadata": {
        "id": "s4JAGTnp1MqB"
      },
      "source": [
        "Modelo de Redes Neuronales"
      ]
    },
    {
      "cell_type": "code",
      "metadata": {
        "id": "8MZl7MMUTV1q"
      },
      "source": [
        ""
      ],
      "execution_count": null,
      "outputs": []
    },
    {
      "cell_type": "code",
      "metadata": {
        "colab": {
          "base_uri": "https://localhost:8080/"
        },
        "id": "33Yfhf7_23jA",
        "outputId": "b0d36532-81f4-49cc-9f1d-8d7f66f5da3d"
      },
      "source": [
        "dfAL_train2.shape"
      ],
      "execution_count": null,
      "outputs": [
        {
          "output_type": "execute_result",
          "data": {
            "text/plain": [
              "(2737, 4)"
            ]
          },
          "metadata": {
            "tags": []
          },
          "execution_count": 84
        }
      ]
    },
    {
      "cell_type": "code",
      "metadata": {
        "id": "KixGihCZ1QIR"
      },
      "source": [
        "from tensorflow.keras.models import Sequential\n",
        "from tensorflow.keras.layers import Dense, BatchNormalization\n",
        "from tensorflow.keras.optimizers import Adam, SGD"
      ],
      "execution_count": null,
      "outputs": []
    },
    {
      "cell_type": "code",
      "metadata": {
        "id": "OGBuC5Wq1STp"
      },
      "source": [
        "RN_clf= Sequential()\n",
        "RN_clf.add(BatchNormalization(input_shape=(3,)))\n",
        "RN_clf.add(Dense(16, input_dim=5, activation='relu'))\n",
        "RN_clf.add(Dense(1, activation='sigmoid'))"
      ],
      "execution_count": null,
      "outputs": []
    },
    {
      "cell_type": "code",
      "metadata": {
        "id": "4ljWc0dI17mx"
      },
      "source": [
        "RN_clf.compile(loss='mean_squared_error',\n",
        "              optimizer='SGD',\n",
        "              metrics=['binary_accuracy'])"
      ],
      "execution_count": null,
      "outputs": []
    },
    {
      "cell_type": "code",
      "metadata": {
        "colab": {
          "base_uri": "https://localhost:8080/"
        },
        "id": "h5tLnAxG2E-Q",
        "outputId": "62e6e636-1b31-4986-e548-b81f355153f7"
      },
      "source": [
        "RN_clf.fit(dfAL_train2.drop(\"R\",axis=1), dfAL_train2[\"R\"], epochs=300)"
      ],
      "execution_count": null,
      "outputs": [
        {
          "output_type": "stream",
          "text": [
            "Epoch 1/300\n",
            "86/86 [==============================] - 1s 1ms/step - loss: 0.2522 - binary_accuracy: 0.5525\n",
            "Epoch 2/300\n",
            "86/86 [==============================] - 0s 1ms/step - loss: 0.2309 - binary_accuracy: 0.5938\n",
            "Epoch 3/300\n",
            "86/86 [==============================] - 0s 1ms/step - loss: 0.2147 - binary_accuracy: 0.6771\n",
            "Epoch 4/300\n",
            "86/86 [==============================] - 0s 1ms/step - loss: 0.1977 - binary_accuracy: 0.7464\n",
            "Epoch 5/300\n",
            "86/86 [==============================] - 0s 1ms/step - loss: 0.1823 - binary_accuracy: 0.7809\n",
            "Epoch 6/300\n",
            "86/86 [==============================] - 0s 1ms/step - loss: 0.1697 - binary_accuracy: 0.7890\n",
            "Epoch 7/300\n",
            "86/86 [==============================] - 0s 1ms/step - loss: 0.1613 - binary_accuracy: 0.8173\n",
            "Epoch 8/300\n",
            "86/86 [==============================] - 0s 1ms/step - loss: 0.1555 - binary_accuracy: 0.8077\n",
            "Epoch 9/300\n",
            "86/86 [==============================] - 0s 1ms/step - loss: 0.1487 - binary_accuracy: 0.8149\n",
            "Epoch 10/300\n",
            "86/86 [==============================] - 0s 1ms/step - loss: 0.1440 - binary_accuracy: 0.8193\n",
            "Epoch 11/300\n",
            "86/86 [==============================] - 0s 1ms/step - loss: 0.1395 - binary_accuracy: 0.8200\n",
            "Epoch 12/300\n",
            "86/86 [==============================] - 0s 1ms/step - loss: 0.1359 - binary_accuracy: 0.8259\n",
            "Epoch 13/300\n",
            "86/86 [==============================] - 0s 1ms/step - loss: 0.1387 - binary_accuracy: 0.8202\n",
            "Epoch 14/300\n",
            "86/86 [==============================] - 0s 1ms/step - loss: 0.1413 - binary_accuracy: 0.8065\n",
            "Epoch 15/300\n",
            "86/86 [==============================] - 0s 1ms/step - loss: 0.1330 - binary_accuracy: 0.8200\n",
            "Epoch 16/300\n",
            "86/86 [==============================] - 0s 1ms/step - loss: 0.1379 - binary_accuracy: 0.8149\n",
            "Epoch 17/300\n",
            "86/86 [==============================] - 0s 1ms/step - loss: 0.1298 - binary_accuracy: 0.8188\n",
            "Epoch 18/300\n",
            "86/86 [==============================] - 0s 1ms/step - loss: 0.1393 - binary_accuracy: 0.8083\n",
            "Epoch 19/300\n",
            "86/86 [==============================] - 0s 1ms/step - loss: 0.1312 - binary_accuracy: 0.8271\n",
            "Epoch 20/300\n",
            "86/86 [==============================] - 0s 1ms/step - loss: 0.1341 - binary_accuracy: 0.8208\n",
            "Epoch 21/300\n",
            "86/86 [==============================] - 0s 1ms/step - loss: 0.1333 - binary_accuracy: 0.8180\n",
            "Epoch 22/300\n",
            "86/86 [==============================] - 0s 1ms/step - loss: 0.1340 - binary_accuracy: 0.8190\n",
            "Epoch 23/300\n",
            "86/86 [==============================] - 0s 1ms/step - loss: 0.1320 - binary_accuracy: 0.8235\n",
            "Epoch 24/300\n",
            "86/86 [==============================] - 0s 1ms/step - loss: 0.1444 - binary_accuracy: 0.8057\n",
            "Epoch 25/300\n",
            "86/86 [==============================] - 0s 1ms/step - loss: 0.1293 - binary_accuracy: 0.8224\n",
            "Epoch 26/300\n",
            "86/86 [==============================] - 0s 1ms/step - loss: 0.1265 - binary_accuracy: 0.8288\n",
            "Epoch 27/300\n",
            "86/86 [==============================] - 0s 1ms/step - loss: 0.1303 - binary_accuracy: 0.8237\n",
            "Epoch 28/300\n",
            "86/86 [==============================] - 0s 1ms/step - loss: 0.1351 - binary_accuracy: 0.8089\n",
            "Epoch 29/300\n",
            "86/86 [==============================] - 0s 1ms/step - loss: 0.1335 - binary_accuracy: 0.8112\n",
            "Epoch 30/300\n",
            "86/86 [==============================] - 0s 1ms/step - loss: 0.1255 - binary_accuracy: 0.8248\n",
            "Epoch 31/300\n",
            "86/86 [==============================] - 0s 1ms/step - loss: 0.1290 - binary_accuracy: 0.8313\n",
            "Epoch 32/300\n",
            "86/86 [==============================] - 0s 1ms/step - loss: 0.1209 - binary_accuracy: 0.8385\n",
            "Epoch 33/300\n",
            "86/86 [==============================] - 0s 1ms/step - loss: 0.1220 - binary_accuracy: 0.8352\n",
            "Epoch 34/300\n",
            "86/86 [==============================] - 0s 1ms/step - loss: 0.1272 - binary_accuracy: 0.8207\n",
            "Epoch 35/300\n",
            "86/86 [==============================] - 0s 1ms/step - loss: 0.1290 - binary_accuracy: 0.8158\n",
            "Epoch 36/300\n",
            "86/86 [==============================] - 0s 1ms/step - loss: 0.1311 - binary_accuracy: 0.8241\n",
            "Epoch 37/300\n",
            "86/86 [==============================] - 0s 1ms/step - loss: 0.1282 - binary_accuracy: 0.8208\n",
            "Epoch 38/300\n",
            "86/86 [==============================] - 0s 1ms/step - loss: 0.1349 - binary_accuracy: 0.8128\n",
            "Epoch 39/300\n",
            "86/86 [==============================] - 0s 1ms/step - loss: 0.1305 - binary_accuracy: 0.8204\n",
            "Epoch 40/300\n",
            "86/86 [==============================] - 0s 1ms/step - loss: 0.1281 - binary_accuracy: 0.8265\n",
            "Epoch 41/300\n",
            "86/86 [==============================] - 0s 1ms/step - loss: 0.1269 - binary_accuracy: 0.8306\n",
            "Epoch 42/300\n",
            "86/86 [==============================] - 0s 1ms/step - loss: 0.1340 - binary_accuracy: 0.8013\n",
            "Epoch 43/300\n",
            "86/86 [==============================] - 0s 1ms/step - loss: 0.1289 - binary_accuracy: 0.8266\n",
            "Epoch 44/300\n",
            "86/86 [==============================] - 0s 1ms/step - loss: 0.1311 - binary_accuracy: 0.8249\n",
            "Epoch 45/300\n",
            "86/86 [==============================] - 0s 1ms/step - loss: 0.1318 - binary_accuracy: 0.8173\n",
            "Epoch 46/300\n",
            "86/86 [==============================] - 0s 1ms/step - loss: 0.1311 - binary_accuracy: 0.8274\n",
            "Epoch 47/300\n",
            "86/86 [==============================] - 0s 1ms/step - loss: 0.1310 - binary_accuracy: 0.8190\n",
            "Epoch 48/300\n",
            "86/86 [==============================] - 0s 1ms/step - loss: 0.1306 - binary_accuracy: 0.8157\n",
            "Epoch 49/300\n",
            "86/86 [==============================] - 0s 1ms/step - loss: 0.1247 - binary_accuracy: 0.8285\n",
            "Epoch 50/300\n",
            "86/86 [==============================] - 0s 1ms/step - loss: 0.1268 - binary_accuracy: 0.8203\n",
            "Epoch 51/300\n",
            "86/86 [==============================] - 0s 2ms/step - loss: 0.1276 - binary_accuracy: 0.8262\n",
            "Epoch 52/300\n",
            "86/86 [==============================] - 0s 2ms/step - loss: 0.1267 - binary_accuracy: 0.8266\n",
            "Epoch 53/300\n",
            "86/86 [==============================] - 0s 1ms/step - loss: 0.1275 - binary_accuracy: 0.8241\n",
            "Epoch 54/300\n",
            "86/86 [==============================] - 0s 1ms/step - loss: 0.1287 - binary_accuracy: 0.8200\n",
            "Epoch 55/300\n",
            "86/86 [==============================] - 0s 1ms/step - loss: 0.1354 - binary_accuracy: 0.8213\n",
            "Epoch 56/300\n",
            "86/86 [==============================] - 0s 1ms/step - loss: 0.1314 - binary_accuracy: 0.8132\n",
            "Epoch 57/300\n",
            "86/86 [==============================] - 0s 1ms/step - loss: 0.1345 - binary_accuracy: 0.8198\n",
            "Epoch 58/300\n",
            "86/86 [==============================] - 0s 1ms/step - loss: 0.1291 - binary_accuracy: 0.8100\n",
            "Epoch 59/300\n",
            "86/86 [==============================] - 0s 1ms/step - loss: 0.1283 - binary_accuracy: 0.8269\n",
            "Epoch 60/300\n",
            "86/86 [==============================] - 0s 1ms/step - loss: 0.1320 - binary_accuracy: 0.8190\n",
            "Epoch 61/300\n",
            "86/86 [==============================] - 0s 1ms/step - loss: 0.1375 - binary_accuracy: 0.8044\n",
            "Epoch 62/300\n",
            "86/86 [==============================] - 0s 1ms/step - loss: 0.1257 - binary_accuracy: 0.8230\n",
            "Epoch 63/300\n",
            "86/86 [==============================] - 0s 1ms/step - loss: 0.1247 - binary_accuracy: 0.8257\n",
            "Epoch 64/300\n",
            "86/86 [==============================] - 0s 1ms/step - loss: 0.1298 - binary_accuracy: 0.8199\n",
            "Epoch 65/300\n",
            "86/86 [==============================] - 0s 1ms/step - loss: 0.1294 - binary_accuracy: 0.8173\n",
            "Epoch 66/300\n",
            "86/86 [==============================] - 0s 1ms/step - loss: 0.1335 - binary_accuracy: 0.8167\n",
            "Epoch 67/300\n",
            "86/86 [==============================] - 0s 1ms/step - loss: 0.1276 - binary_accuracy: 0.8186\n",
            "Epoch 68/300\n",
            "86/86 [==============================] - 0s 1ms/step - loss: 0.1288 - binary_accuracy: 0.8255\n",
            "Epoch 69/300\n",
            "86/86 [==============================] - 0s 1ms/step - loss: 0.1326 - binary_accuracy: 0.8222\n",
            "Epoch 70/300\n",
            "86/86 [==============================] - 0s 1ms/step - loss: 0.1241 - binary_accuracy: 0.8210\n",
            "Epoch 71/300\n",
            "86/86 [==============================] - 0s 1ms/step - loss: 0.1289 - binary_accuracy: 0.8142\n",
            "Epoch 72/300\n",
            "86/86 [==============================] - 0s 1ms/step - loss: 0.1351 - binary_accuracy: 0.8069\n",
            "Epoch 73/300\n",
            "86/86 [==============================] - 0s 1ms/step - loss: 0.1257 - binary_accuracy: 0.8303\n",
            "Epoch 74/300\n",
            "86/86 [==============================] - 0s 1ms/step - loss: 0.1266 - binary_accuracy: 0.8213\n",
            "Epoch 75/300\n",
            "86/86 [==============================] - 0s 1ms/step - loss: 0.1362 - binary_accuracy: 0.8056\n",
            "Epoch 76/300\n",
            "86/86 [==============================] - 0s 1ms/step - loss: 0.1263 - binary_accuracy: 0.8319\n",
            "Epoch 77/300\n",
            "86/86 [==============================] - 0s 1ms/step - loss: 0.1273 - binary_accuracy: 0.8247\n",
            "Epoch 78/300\n",
            "86/86 [==============================] - 0s 1ms/step - loss: 0.1321 - binary_accuracy: 0.8106\n",
            "Epoch 79/300\n",
            "86/86 [==============================] - 0s 1ms/step - loss: 0.1232 - binary_accuracy: 0.8303\n",
            "Epoch 80/300\n",
            "86/86 [==============================] - 0s 1ms/step - loss: 0.1255 - binary_accuracy: 0.8268\n",
            "Epoch 81/300\n",
            "86/86 [==============================] - 0s 1ms/step - loss: 0.1335 - binary_accuracy: 0.8194\n",
            "Epoch 82/300\n",
            "86/86 [==============================] - 0s 1ms/step - loss: 0.1226 - binary_accuracy: 0.8260\n",
            "Epoch 83/300\n",
            "86/86 [==============================] - 0s 1ms/step - loss: 0.1324 - binary_accuracy: 0.8144\n",
            "Epoch 84/300\n",
            "86/86 [==============================] - 0s 1ms/step - loss: 0.1239 - binary_accuracy: 0.8273\n",
            "Epoch 85/300\n",
            "86/86 [==============================] - 0s 1ms/step - loss: 0.1243 - binary_accuracy: 0.8292\n",
            "Epoch 86/300\n",
            "86/86 [==============================] - 0s 1ms/step - loss: 0.1380 - binary_accuracy: 0.8086\n",
            "Epoch 87/300\n",
            "86/86 [==============================] - 0s 1ms/step - loss: 0.1229 - binary_accuracy: 0.8347\n",
            "Epoch 88/300\n",
            "86/86 [==============================] - 0s 1ms/step - loss: 0.1276 - binary_accuracy: 0.8253\n",
            "Epoch 89/300\n",
            "86/86 [==============================] - 0s 1ms/step - loss: 0.1240 - binary_accuracy: 0.8270\n",
            "Epoch 90/300\n",
            "86/86 [==============================] - 0s 1ms/step - loss: 0.1324 - binary_accuracy: 0.8178\n",
            "Epoch 91/300\n",
            "86/86 [==============================] - 0s 1ms/step - loss: 0.1310 - binary_accuracy: 0.8150\n",
            "Epoch 92/300\n",
            "86/86 [==============================] - 0s 1ms/step - loss: 0.1297 - binary_accuracy: 0.8180\n",
            "Epoch 93/300\n",
            "86/86 [==============================] - 0s 1ms/step - loss: 0.1254 - binary_accuracy: 0.8215\n",
            "Epoch 94/300\n",
            "86/86 [==============================] - 0s 1ms/step - loss: 0.1292 - binary_accuracy: 0.8156\n",
            "Epoch 95/300\n",
            "86/86 [==============================] - 0s 1ms/step - loss: 0.1278 - binary_accuracy: 0.8225\n",
            "Epoch 96/300\n",
            "86/86 [==============================] - 0s 1ms/step - loss: 0.1267 - binary_accuracy: 0.8193\n",
            "Epoch 97/300\n",
            "86/86 [==============================] - 0s 1ms/step - loss: 0.1279 - binary_accuracy: 0.8174\n",
            "Epoch 98/300\n",
            "86/86 [==============================] - 0s 1ms/step - loss: 0.1306 - binary_accuracy: 0.8207\n",
            "Epoch 99/300\n",
            "86/86 [==============================] - 0s 1ms/step - loss: 0.1302 - binary_accuracy: 0.8163\n",
            "Epoch 100/300\n",
            "86/86 [==============================] - 0s 1ms/step - loss: 0.1239 - binary_accuracy: 0.8348\n",
            "Epoch 101/300\n",
            "86/86 [==============================] - 0s 1ms/step - loss: 0.1323 - binary_accuracy: 0.8146\n",
            "Epoch 102/300\n",
            "86/86 [==============================] - 0s 1ms/step - loss: 0.1266 - binary_accuracy: 0.8178\n",
            "Epoch 103/300\n",
            "86/86 [==============================] - 0s 1ms/step - loss: 0.1312 - binary_accuracy: 0.8115\n",
            "Epoch 104/300\n",
            "86/86 [==============================] - 0s 1ms/step - loss: 0.1296 - binary_accuracy: 0.8217\n",
            "Epoch 105/300\n",
            "86/86 [==============================] - 0s 1ms/step - loss: 0.1246 - binary_accuracy: 0.8260\n",
            "Epoch 106/300\n",
            "86/86 [==============================] - 0s 1ms/step - loss: 0.1313 - binary_accuracy: 0.8188\n",
            "Epoch 107/300\n",
            "86/86 [==============================] - 0s 1ms/step - loss: 0.1237 - binary_accuracy: 0.8265\n",
            "Epoch 108/300\n",
            "86/86 [==============================] - 0s 1ms/step - loss: 0.1336 - binary_accuracy: 0.8177\n",
            "Epoch 109/300\n",
            "86/86 [==============================] - 0s 1ms/step - loss: 0.1292 - binary_accuracy: 0.8227\n",
            "Epoch 110/300\n",
            "86/86 [==============================] - 0s 1ms/step - loss: 0.1278 - binary_accuracy: 0.8241\n",
            "Epoch 111/300\n",
            "86/86 [==============================] - 0s 1ms/step - loss: 0.1236 - binary_accuracy: 0.8321\n",
            "Epoch 112/300\n",
            "86/86 [==============================] - 0s 2ms/step - loss: 0.1240 - binary_accuracy: 0.8261\n",
            "Epoch 113/300\n",
            "86/86 [==============================] - 0s 1ms/step - loss: 0.1324 - binary_accuracy: 0.8198\n",
            "Epoch 114/300\n",
            "86/86 [==============================] - 0s 1ms/step - loss: 0.1269 - binary_accuracy: 0.8235\n",
            "Epoch 115/300\n",
            "86/86 [==============================] - 0s 1ms/step - loss: 0.1245 - binary_accuracy: 0.8321\n",
            "Epoch 116/300\n",
            "86/86 [==============================] - 0s 1ms/step - loss: 0.1356 - binary_accuracy: 0.8149\n",
            "Epoch 117/300\n",
            "86/86 [==============================] - 0s 1ms/step - loss: 0.1260 - binary_accuracy: 0.8240\n",
            "Epoch 118/300\n",
            "86/86 [==============================] - 0s 1ms/step - loss: 0.1246 - binary_accuracy: 0.8316\n",
            "Epoch 119/300\n",
            "86/86 [==============================] - 0s 2ms/step - loss: 0.1329 - binary_accuracy: 0.8206\n",
            "Epoch 120/300\n",
            "86/86 [==============================] - 0s 1ms/step - loss: 0.1252 - binary_accuracy: 0.8359\n",
            "Epoch 121/300\n",
            "86/86 [==============================] - 0s 1ms/step - loss: 0.1244 - binary_accuracy: 0.8298\n",
            "Epoch 122/300\n",
            "86/86 [==============================] - 0s 1ms/step - loss: 0.1290 - binary_accuracy: 0.8173\n",
            "Epoch 123/300\n",
            "86/86 [==============================] - 0s 1ms/step - loss: 0.1322 - binary_accuracy: 0.8161\n",
            "Epoch 124/300\n",
            "86/86 [==============================] - 0s 1ms/step - loss: 0.1221 - binary_accuracy: 0.8324\n",
            "Epoch 125/300\n",
            "86/86 [==============================] - 0s 1ms/step - loss: 0.1240 - binary_accuracy: 0.8294\n",
            "Epoch 126/300\n",
            "86/86 [==============================] - 0s 1ms/step - loss: 0.1246 - binary_accuracy: 0.8249\n",
            "Epoch 127/300\n",
            "86/86 [==============================] - 0s 1ms/step - loss: 0.1290 - binary_accuracy: 0.8235\n",
            "Epoch 128/300\n",
            "86/86 [==============================] - 0s 1ms/step - loss: 0.1282 - binary_accuracy: 0.8252\n",
            "Epoch 129/300\n",
            "86/86 [==============================] - 0s 1ms/step - loss: 0.1259 - binary_accuracy: 0.8309\n",
            "Epoch 130/300\n",
            "86/86 [==============================] - 0s 1ms/step - loss: 0.1305 - binary_accuracy: 0.8237\n",
            "Epoch 131/300\n",
            "86/86 [==============================] - 0s 1ms/step - loss: 0.1252 - binary_accuracy: 0.8255\n",
            "Epoch 132/300\n",
            "86/86 [==============================] - 0s 1ms/step - loss: 0.1301 - binary_accuracy: 0.8167\n",
            "Epoch 133/300\n",
            "86/86 [==============================] - 0s 1ms/step - loss: 0.1336 - binary_accuracy: 0.8231\n",
            "Epoch 134/300\n",
            "86/86 [==============================] - 0s 1ms/step - loss: 0.1303 - binary_accuracy: 0.8258\n",
            "Epoch 135/300\n",
            "86/86 [==============================] - 0s 1ms/step - loss: 0.1222 - binary_accuracy: 0.8302\n",
            "Epoch 136/300\n",
            "86/86 [==============================] - 0s 1ms/step - loss: 0.1267 - binary_accuracy: 0.8281\n",
            "Epoch 137/300\n",
            "86/86 [==============================] - 0s 1ms/step - loss: 0.1261 - binary_accuracy: 0.8290\n",
            "Epoch 138/300\n",
            "86/86 [==============================] - 0s 1ms/step - loss: 0.1314 - binary_accuracy: 0.8151\n",
            "Epoch 139/300\n",
            "86/86 [==============================] - 0s 1ms/step - loss: 0.1317 - binary_accuracy: 0.8131\n",
            "Epoch 140/300\n",
            "86/86 [==============================] - 0s 1ms/step - loss: 0.1311 - binary_accuracy: 0.8209\n",
            "Epoch 141/300\n",
            "86/86 [==============================] - 0s 1ms/step - loss: 0.1246 - binary_accuracy: 0.8276\n",
            "Epoch 142/300\n",
            "86/86 [==============================] - 0s 1ms/step - loss: 0.1254 - binary_accuracy: 0.8285\n",
            "Epoch 143/300\n",
            "86/86 [==============================] - 0s 1ms/step - loss: 0.1339 - binary_accuracy: 0.8156\n",
            "Epoch 144/300\n",
            "86/86 [==============================] - 0s 1ms/step - loss: 0.1338 - binary_accuracy: 0.8117\n",
            "Epoch 145/300\n",
            "86/86 [==============================] - 0s 1ms/step - loss: 0.1296 - binary_accuracy: 0.8275\n",
            "Epoch 146/300\n",
            "86/86 [==============================] - 0s 1ms/step - loss: 0.1238 - binary_accuracy: 0.8341\n",
            "Epoch 147/300\n",
            "86/86 [==============================] - 0s 1ms/step - loss: 0.1249 - binary_accuracy: 0.8271\n",
            "Epoch 148/300\n",
            "86/86 [==============================] - 0s 1ms/step - loss: 0.1234 - binary_accuracy: 0.8364\n",
            "Epoch 149/300\n",
            "86/86 [==============================] - 0s 1ms/step - loss: 0.1303 - binary_accuracy: 0.8099\n",
            "Epoch 150/300\n",
            "86/86 [==============================] - 0s 1ms/step - loss: 0.1304 - binary_accuracy: 0.8261\n",
            "Epoch 151/300\n",
            "86/86 [==============================] - 0s 1ms/step - loss: 0.1169 - binary_accuracy: 0.8360\n",
            "Epoch 152/300\n",
            "86/86 [==============================] - 0s 1ms/step - loss: 0.1338 - binary_accuracy: 0.8166\n",
            "Epoch 153/300\n",
            "86/86 [==============================] - 0s 1ms/step - loss: 0.1259 - binary_accuracy: 0.8260\n",
            "Epoch 154/300\n",
            "86/86 [==============================] - 0s 1ms/step - loss: 0.1211 - binary_accuracy: 0.8293\n",
            "Epoch 155/300\n",
            "86/86 [==============================] - 0s 1ms/step - loss: 0.1223 - binary_accuracy: 0.8260\n",
            "Epoch 156/300\n",
            "86/86 [==============================] - 0s 1ms/step - loss: 0.1302 - binary_accuracy: 0.8175\n",
            "Epoch 157/300\n",
            "86/86 [==============================] - 0s 1ms/step - loss: 0.1306 - binary_accuracy: 0.8171\n",
            "Epoch 158/300\n",
            "86/86 [==============================] - 0s 1ms/step - loss: 0.1254 - binary_accuracy: 0.8270\n",
            "Epoch 159/300\n",
            "86/86 [==============================] - 0s 1ms/step - loss: 0.1242 - binary_accuracy: 0.8343\n",
            "Epoch 160/300\n",
            "86/86 [==============================] - 0s 1ms/step - loss: 0.1120 - binary_accuracy: 0.8491\n",
            "Epoch 161/300\n",
            "86/86 [==============================] - 0s 1ms/step - loss: 0.1216 - binary_accuracy: 0.8341\n",
            "Epoch 162/300\n",
            "86/86 [==============================] - 0s 1ms/step - loss: 0.1264 - binary_accuracy: 0.8241\n",
            "Epoch 163/300\n",
            "86/86 [==============================] - 0s 1ms/step - loss: 0.1302 - binary_accuracy: 0.8211\n",
            "Epoch 164/300\n",
            "86/86 [==============================] - 0s 1ms/step - loss: 0.1220 - binary_accuracy: 0.8426\n",
            "Epoch 165/300\n",
            "86/86 [==============================] - 0s 1ms/step - loss: 0.1291 - binary_accuracy: 0.8250\n",
            "Epoch 166/300\n",
            "86/86 [==============================] - 0s 1ms/step - loss: 0.1281 - binary_accuracy: 0.8231\n",
            "Epoch 167/300\n",
            "86/86 [==============================] - 0s 1ms/step - loss: 0.1238 - binary_accuracy: 0.8344\n",
            "Epoch 168/300\n",
            "86/86 [==============================] - 0s 1ms/step - loss: 0.1299 - binary_accuracy: 0.8167\n",
            "Epoch 169/300\n",
            "86/86 [==============================] - 0s 1ms/step - loss: 0.1245 - binary_accuracy: 0.8203\n",
            "Epoch 170/300\n",
            "86/86 [==============================] - 0s 1ms/step - loss: 0.1223 - binary_accuracy: 0.8379\n",
            "Epoch 171/300\n",
            "86/86 [==============================] - 0s 2ms/step - loss: 0.1282 - binary_accuracy: 0.8178\n",
            "Epoch 172/300\n",
            "86/86 [==============================] - 0s 1ms/step - loss: 0.1260 - binary_accuracy: 0.8235\n",
            "Epoch 173/300\n",
            "86/86 [==============================] - 0s 1ms/step - loss: 0.1294 - binary_accuracy: 0.8235\n",
            "Epoch 174/300\n",
            "86/86 [==============================] - 0s 1ms/step - loss: 0.1252 - binary_accuracy: 0.8273\n",
            "Epoch 175/300\n",
            "86/86 [==============================] - 0s 1ms/step - loss: 0.1256 - binary_accuracy: 0.8241\n",
            "Epoch 176/300\n",
            "86/86 [==============================] - 0s 1ms/step - loss: 0.1246 - binary_accuracy: 0.8230\n",
            "Epoch 177/300\n",
            "86/86 [==============================] - 0s 1ms/step - loss: 0.1227 - binary_accuracy: 0.8277\n",
            "Epoch 178/300\n",
            "86/86 [==============================] - 0s 1ms/step - loss: 0.1283 - binary_accuracy: 0.8243\n",
            "Epoch 179/300\n",
            "86/86 [==============================] - 0s 1ms/step - loss: 0.1250 - binary_accuracy: 0.8260\n",
            "Epoch 180/300\n",
            "86/86 [==============================] - 0s 1ms/step - loss: 0.1250 - binary_accuracy: 0.8320\n",
            "Epoch 181/300\n",
            "86/86 [==============================] - 0s 2ms/step - loss: 0.1285 - binary_accuracy: 0.8259\n",
            "Epoch 182/300\n",
            "86/86 [==============================] - 0s 1ms/step - loss: 0.1288 - binary_accuracy: 0.8269\n",
            "Epoch 183/300\n",
            "86/86 [==============================] - 0s 1ms/step - loss: 0.1308 - binary_accuracy: 0.8185\n",
            "Epoch 184/300\n",
            "86/86 [==============================] - 0s 1ms/step - loss: 0.1243 - binary_accuracy: 0.8234\n",
            "Epoch 185/300\n",
            "86/86 [==============================] - 0s 1ms/step - loss: 0.1215 - binary_accuracy: 0.8346\n",
            "Epoch 186/300\n",
            "86/86 [==============================] - 0s 1ms/step - loss: 0.1300 - binary_accuracy: 0.8185\n",
            "Epoch 187/300\n",
            "86/86 [==============================] - 0s 1ms/step - loss: 0.1283 - binary_accuracy: 0.8253\n",
            "Epoch 188/300\n",
            "86/86 [==============================] - 0s 1ms/step - loss: 0.1305 - binary_accuracy: 0.8263\n",
            "Epoch 189/300\n",
            "86/86 [==============================] - 0s 1ms/step - loss: 0.1280 - binary_accuracy: 0.8314\n",
            "Epoch 190/300\n",
            "86/86 [==============================] - 0s 1ms/step - loss: 0.1275 - binary_accuracy: 0.8236\n",
            "Epoch 191/300\n",
            "86/86 [==============================] - 0s 1ms/step - loss: 0.1180 - binary_accuracy: 0.8475\n",
            "Epoch 192/300\n",
            "86/86 [==============================] - 0s 1ms/step - loss: 0.1291 - binary_accuracy: 0.8234\n",
            "Epoch 193/300\n",
            "86/86 [==============================] - 0s 1ms/step - loss: 0.1257 - binary_accuracy: 0.8294\n",
            "Epoch 194/300\n",
            "86/86 [==============================] - 0s 1ms/step - loss: 0.1297 - binary_accuracy: 0.8172\n",
            "Epoch 195/300\n",
            "86/86 [==============================] - 0s 1ms/step - loss: 0.1251 - binary_accuracy: 0.8269\n",
            "Epoch 196/300\n",
            "86/86 [==============================] - 0s 1ms/step - loss: 0.1249 - binary_accuracy: 0.8239\n",
            "Epoch 197/300\n",
            "86/86 [==============================] - 0s 1ms/step - loss: 0.1263 - binary_accuracy: 0.8262\n",
            "Epoch 198/300\n",
            "86/86 [==============================] - 0s 1ms/step - loss: 0.1264 - binary_accuracy: 0.8287\n",
            "Epoch 199/300\n",
            "86/86 [==============================] - 0s 1ms/step - loss: 0.1245 - binary_accuracy: 0.8295\n",
            "Epoch 200/300\n",
            "86/86 [==============================] - 0s 1ms/step - loss: 0.1336 - binary_accuracy: 0.8180\n",
            "Epoch 201/300\n",
            "86/86 [==============================] - 0s 1ms/step - loss: 0.1233 - binary_accuracy: 0.8255\n",
            "Epoch 202/300\n",
            "86/86 [==============================] - 0s 1ms/step - loss: 0.1220 - binary_accuracy: 0.8302\n",
            "Epoch 203/300\n",
            "86/86 [==============================] - 0s 1ms/step - loss: 0.1273 - binary_accuracy: 0.8170\n",
            "Epoch 204/300\n",
            "86/86 [==============================] - 0s 1ms/step - loss: 0.1254 - binary_accuracy: 0.8277\n",
            "Epoch 205/300\n",
            "86/86 [==============================] - 0s 1ms/step - loss: 0.1306 - binary_accuracy: 0.8298\n",
            "Epoch 206/300\n",
            "86/86 [==============================] - 0s 1ms/step - loss: 0.1288 - binary_accuracy: 0.8222\n",
            "Epoch 207/300\n",
            "86/86 [==============================] - 0s 1ms/step - loss: 0.1266 - binary_accuracy: 0.8291\n",
            "Epoch 208/300\n",
            "86/86 [==============================] - 0s 1ms/step - loss: 0.1224 - binary_accuracy: 0.8309\n",
            "Epoch 209/300\n",
            "86/86 [==============================] - 0s 1ms/step - loss: 0.1304 - binary_accuracy: 0.8131\n",
            "Epoch 210/300\n",
            "86/86 [==============================] - 0s 1ms/step - loss: 0.1254 - binary_accuracy: 0.8292\n",
            "Epoch 211/300\n",
            "86/86 [==============================] - 0s 1ms/step - loss: 0.1259 - binary_accuracy: 0.8274\n",
            "Epoch 212/300\n",
            "86/86 [==============================] - 0s 1ms/step - loss: 0.1337 - binary_accuracy: 0.8118\n",
            "Epoch 213/300\n",
            "86/86 [==============================] - 0s 1ms/step - loss: 0.1352 - binary_accuracy: 0.8094\n",
            "Epoch 214/300\n",
            "86/86 [==============================] - 0s 1ms/step - loss: 0.1257 - binary_accuracy: 0.8143\n",
            "Epoch 215/300\n",
            "86/86 [==============================] - 0s 1ms/step - loss: 0.1231 - binary_accuracy: 0.8307\n",
            "Epoch 216/300\n",
            "86/86 [==============================] - 0s 1ms/step - loss: 0.1274 - binary_accuracy: 0.8306\n",
            "Epoch 217/300\n",
            "86/86 [==============================] - 0s 1ms/step - loss: 0.1307 - binary_accuracy: 0.8118\n",
            "Epoch 218/300\n",
            "86/86 [==============================] - 0s 1ms/step - loss: 0.1300 - binary_accuracy: 0.8251\n",
            "Epoch 219/300\n",
            "86/86 [==============================] - 0s 1ms/step - loss: 0.1232 - binary_accuracy: 0.8374\n",
            "Epoch 220/300\n",
            "86/86 [==============================] - 0s 1ms/step - loss: 0.1204 - binary_accuracy: 0.8405\n",
            "Epoch 221/300\n",
            "86/86 [==============================] - 0s 1ms/step - loss: 0.1260 - binary_accuracy: 0.8230\n",
            "Epoch 222/300\n",
            "86/86 [==============================] - 0s 1ms/step - loss: 0.1245 - binary_accuracy: 0.8324\n",
            "Epoch 223/300\n",
            "86/86 [==============================] - 0s 1ms/step - loss: 0.1211 - binary_accuracy: 0.8419\n",
            "Epoch 224/300\n",
            "86/86 [==============================] - 0s 1ms/step - loss: 0.1283 - binary_accuracy: 0.8203\n",
            "Epoch 225/300\n",
            "86/86 [==============================] - 0s 1ms/step - loss: 0.1240 - binary_accuracy: 0.8270\n",
            "Epoch 226/300\n",
            "86/86 [==============================] - 0s 1ms/step - loss: 0.1270 - binary_accuracy: 0.8260\n",
            "Epoch 227/300\n",
            "86/86 [==============================] - 0s 1ms/step - loss: 0.1325 - binary_accuracy: 0.8240\n",
            "Epoch 228/300\n",
            "86/86 [==============================] - 0s 1ms/step - loss: 0.1313 - binary_accuracy: 0.8174\n",
            "Epoch 229/300\n",
            "86/86 [==============================] - 0s 1ms/step - loss: 0.1308 - binary_accuracy: 0.8213\n",
            "Epoch 230/300\n",
            "86/86 [==============================] - 0s 1ms/step - loss: 0.1242 - binary_accuracy: 0.8287\n",
            "Epoch 231/300\n",
            "86/86 [==============================] - 0s 1ms/step - loss: 0.1282 - binary_accuracy: 0.8163\n",
            "Epoch 232/300\n",
            "86/86 [==============================] - 0s 1ms/step - loss: 0.1225 - binary_accuracy: 0.8235\n",
            "Epoch 233/300\n",
            "86/86 [==============================] - 0s 1ms/step - loss: 0.1270 - binary_accuracy: 0.8282\n",
            "Epoch 234/300\n",
            "86/86 [==============================] - 0s 1ms/step - loss: 0.1318 - binary_accuracy: 0.8081\n",
            "Epoch 235/300\n",
            "86/86 [==============================] - 0s 1ms/step - loss: 0.1302 - binary_accuracy: 0.8220\n",
            "Epoch 236/300\n",
            "86/86 [==============================] - 0s 1ms/step - loss: 0.1213 - binary_accuracy: 0.8350\n",
            "Epoch 237/300\n",
            "86/86 [==============================] - 0s 1ms/step - loss: 0.1252 - binary_accuracy: 0.8283\n",
            "Epoch 238/300\n",
            "86/86 [==============================] - 0s 1ms/step - loss: 0.1312 - binary_accuracy: 0.8115\n",
            "Epoch 239/300\n",
            "86/86 [==============================] - 0s 1ms/step - loss: 0.1213 - binary_accuracy: 0.8339\n",
            "Epoch 240/300\n",
            "86/86 [==============================] - 0s 1ms/step - loss: 0.1221 - binary_accuracy: 0.8283\n",
            "Epoch 241/300\n",
            "86/86 [==============================] - 0s 1ms/step - loss: 0.1227 - binary_accuracy: 0.8242\n",
            "Epoch 242/300\n",
            "86/86 [==============================] - 0s 1ms/step - loss: 0.1189 - binary_accuracy: 0.8389\n",
            "Epoch 243/300\n",
            "86/86 [==============================] - 0s 1ms/step - loss: 0.1266 - binary_accuracy: 0.8230\n",
            "Epoch 244/300\n",
            "86/86 [==============================] - 0s 1ms/step - loss: 0.1200 - binary_accuracy: 0.8428\n",
            "Epoch 245/300\n",
            "86/86 [==============================] - 0s 1ms/step - loss: 0.1286 - binary_accuracy: 0.8205\n",
            "Epoch 246/300\n",
            "86/86 [==============================] - 0s 1ms/step - loss: 0.1303 - binary_accuracy: 0.8173\n",
            "Epoch 247/300\n",
            "86/86 [==============================] - 0s 1ms/step - loss: 0.1211 - binary_accuracy: 0.8320\n",
            "Epoch 248/300\n",
            "86/86 [==============================] - 0s 1ms/step - loss: 0.1286 - binary_accuracy: 0.8172\n",
            "Epoch 249/300\n",
            "86/86 [==============================] - 0s 1ms/step - loss: 0.1248 - binary_accuracy: 0.8206\n",
            "Epoch 250/300\n",
            "86/86 [==============================] - 0s 1ms/step - loss: 0.1230 - binary_accuracy: 0.8385\n",
            "Epoch 251/300\n",
            "86/86 [==============================] - 0s 1ms/step - loss: 0.1320 - binary_accuracy: 0.8162\n",
            "Epoch 252/300\n",
            "86/86 [==============================] - 0s 1ms/step - loss: 0.1332 - binary_accuracy: 0.8159\n",
            "Epoch 253/300\n",
            "86/86 [==============================] - 0s 1ms/step - loss: 0.1281 - binary_accuracy: 0.8180\n",
            "Epoch 254/300\n",
            "86/86 [==============================] - 0s 1ms/step - loss: 0.1357 - binary_accuracy: 0.8145\n",
            "Epoch 255/300\n",
            "86/86 [==============================] - 0s 1ms/step - loss: 0.1309 - binary_accuracy: 0.8158\n",
            "Epoch 256/300\n",
            "86/86 [==============================] - 0s 1ms/step - loss: 0.1220 - binary_accuracy: 0.8291\n",
            "Epoch 257/300\n",
            "86/86 [==============================] - 0s 1ms/step - loss: 0.1254 - binary_accuracy: 0.8248\n",
            "Epoch 258/300\n",
            "86/86 [==============================] - 0s 2ms/step - loss: 0.1320 - binary_accuracy: 0.8260\n",
            "Epoch 259/300\n",
            "86/86 [==============================] - 0s 1ms/step - loss: 0.1277 - binary_accuracy: 0.8267\n",
            "Epoch 260/300\n",
            "86/86 [==============================] - 0s 1ms/step - loss: 0.1301 - binary_accuracy: 0.8169\n",
            "Epoch 261/300\n",
            "86/86 [==============================] - 0s 1ms/step - loss: 0.1280 - binary_accuracy: 0.8232\n",
            "Epoch 262/300\n",
            "86/86 [==============================] - 0s 1ms/step - loss: 0.1225 - binary_accuracy: 0.8282\n",
            "Epoch 263/300\n",
            "86/86 [==============================] - 0s 1ms/step - loss: 0.1261 - binary_accuracy: 0.8278\n",
            "Epoch 264/300\n",
            "86/86 [==============================] - 0s 1ms/step - loss: 0.1264 - binary_accuracy: 0.8233\n",
            "Epoch 265/300\n",
            "86/86 [==============================] - 0s 2ms/step - loss: 0.1235 - binary_accuracy: 0.8359\n",
            "Epoch 266/300\n",
            "86/86 [==============================] - 0s 1ms/step - loss: 0.1274 - binary_accuracy: 0.8289\n",
            "Epoch 267/300\n",
            "86/86 [==============================] - 0s 1ms/step - loss: 0.1317 - binary_accuracy: 0.8220\n",
            "Epoch 268/300\n",
            "86/86 [==============================] - 0s 1ms/step - loss: 0.1304 - binary_accuracy: 0.8167\n",
            "Epoch 269/300\n",
            "86/86 [==============================] - 0s 1ms/step - loss: 0.1185 - binary_accuracy: 0.8429\n",
            "Epoch 270/300\n",
            "86/86 [==============================] - 0s 1ms/step - loss: 0.1208 - binary_accuracy: 0.8325\n",
            "Epoch 271/300\n",
            "86/86 [==============================] - 0s 1ms/step - loss: 0.1228 - binary_accuracy: 0.8387\n",
            "Epoch 272/300\n",
            "86/86 [==============================] - 0s 1ms/step - loss: 0.1275 - binary_accuracy: 0.8242\n",
            "Epoch 273/300\n",
            "86/86 [==============================] - 0s 1ms/step - loss: 0.1316 - binary_accuracy: 0.8160\n",
            "Epoch 274/300\n",
            "86/86 [==============================] - 0s 1ms/step - loss: 0.1294 - binary_accuracy: 0.8232\n",
            "Epoch 275/300\n",
            "86/86 [==============================] - 0s 1ms/step - loss: 0.1231 - binary_accuracy: 0.8362\n",
            "Epoch 276/300\n",
            "86/86 [==============================] - 0s 2ms/step - loss: 0.1264 - binary_accuracy: 0.8287\n",
            "Epoch 277/300\n",
            "86/86 [==============================] - 0s 1ms/step - loss: 0.1189 - binary_accuracy: 0.8373\n",
            "Epoch 278/300\n",
            "86/86 [==============================] - 0s 1ms/step - loss: 0.1216 - binary_accuracy: 0.8318\n",
            "Epoch 279/300\n",
            "86/86 [==============================] - 0s 1ms/step - loss: 0.1258 - binary_accuracy: 0.8259\n",
            "Epoch 280/300\n",
            "86/86 [==============================] - 0s 1ms/step - loss: 0.1307 - binary_accuracy: 0.8177\n",
            "Epoch 281/300\n",
            "86/86 [==============================] - 0s 1ms/step - loss: 0.1290 - binary_accuracy: 0.8185\n",
            "Epoch 282/300\n",
            "86/86 [==============================] - 0s 1ms/step - loss: 0.1205 - binary_accuracy: 0.8354\n",
            "Epoch 283/300\n",
            "86/86 [==============================] - 0s 2ms/step - loss: 0.1234 - binary_accuracy: 0.8321\n",
            "Epoch 284/300\n",
            "86/86 [==============================] - 0s 1ms/step - loss: 0.1333 - binary_accuracy: 0.8221\n",
            "Epoch 285/300\n",
            "86/86 [==============================] - 0s 1ms/step - loss: 0.1240 - binary_accuracy: 0.8339\n",
            "Epoch 286/300\n",
            "86/86 [==============================] - 0s 1ms/step - loss: 0.1258 - binary_accuracy: 0.8223\n",
            "Epoch 287/300\n",
            "86/86 [==============================] - 0s 1ms/step - loss: 0.1183 - binary_accuracy: 0.8419\n",
            "Epoch 288/300\n",
            "86/86 [==============================] - 0s 1ms/step - loss: 0.1307 - binary_accuracy: 0.8222\n",
            "Epoch 289/300\n",
            "86/86 [==============================] - 0s 1ms/step - loss: 0.1245 - binary_accuracy: 0.8180\n",
            "Epoch 290/300\n",
            "86/86 [==============================] - 0s 1ms/step - loss: 0.1273 - binary_accuracy: 0.8253\n",
            "Epoch 291/300\n",
            "86/86 [==============================] - 0s 1ms/step - loss: 0.1238 - binary_accuracy: 0.8276\n",
            "Epoch 292/300\n",
            "86/86 [==============================] - 0s 1ms/step - loss: 0.1250 - binary_accuracy: 0.8268\n",
            "Epoch 293/300\n",
            "86/86 [==============================] - 0s 1ms/step - loss: 0.1261 - binary_accuracy: 0.8268\n",
            "Epoch 294/300\n",
            "86/86 [==============================] - 0s 1ms/step - loss: 0.1249 - binary_accuracy: 0.8315\n",
            "Epoch 295/300\n",
            "86/86 [==============================] - 0s 1ms/step - loss: 0.1237 - binary_accuracy: 0.8274\n",
            "Epoch 296/300\n",
            "86/86 [==============================] - 0s 1ms/step - loss: 0.1312 - binary_accuracy: 0.8206\n",
            "Epoch 297/300\n",
            "86/86 [==============================] - 0s 1ms/step - loss: 0.1301 - binary_accuracy: 0.8148\n",
            "Epoch 298/300\n",
            "86/86 [==============================] - 0s 1ms/step - loss: 0.1244 - binary_accuracy: 0.8263\n",
            "Epoch 299/300\n",
            "86/86 [==============================] - 0s 1ms/step - loss: 0.1268 - binary_accuracy: 0.8231\n",
            "Epoch 300/300\n",
            "86/86 [==============================] - 0s 1ms/step - loss: 0.1262 - binary_accuracy: 0.8237\n"
          ],
          "name": "stdout"
        },
        {
          "output_type": "execute_result",
          "data": {
            "text/plain": [
              "<tensorflow.python.keras.callbacks.History at 0x7fc0be7a3f50>"
            ]
          },
          "metadata": {
            "tags": []
          },
          "execution_count": 88
        }
      ]
    },
    {
      "cell_type": "code",
      "metadata": {
        "id": "ymp9aozr2Shq",
        "colab": {
          "base_uri": "https://localhost:8080/"
        },
        "outputId": "97039ba8-166a-4146-cebc-e456ef7f5a3e"
      },
      "source": [
        "y_pred_RN = RN_clf.predict_proba(dfAL_test_validation2.drop(\"R\",axis=1))"
      ],
      "execution_count": null,
      "outputs": [
        {
          "output_type": "stream",
          "text": [
            "/usr/local/lib/python3.7/dist-packages/tensorflow/python/keras/engine/sequential.py:425: UserWarning: `model.predict_proba()` is deprecated and will be removed after 2021-01-01. Please use `model.predict()` instead.\n",
            "  warnings.warn('`model.predict_proba()` is deprecated and '\n"
          ],
          "name": "stderr"
        }
      ]
    },
    {
      "cell_type": "code",
      "metadata": {
        "colab": {
          "base_uri": "https://localhost:8080/"
        },
        "id": "QngOCIYMUZmv",
        "outputId": "b9f2a673-eec0-4a43-f7de-5bdda433234c"
      },
      "source": [
        "print(\"Matriz de Confusión Alfa 0.25\")\n",
        "print(confusion_matrix(y_true2,y_pred_RN[:,0]>0.25))"
      ],
      "execution_count": null,
      "outputs": [
        {
          "output_type": "stream",
          "text": [
            "Matriz de Confusión Alfa 0.25\n",
            "[[469 174]\n",
            " [ 34 497]]\n"
          ],
          "name": "stdout"
        }
      ]
    },
    {
      "cell_type": "code",
      "metadata": {
        "colab": {
          "base_uri": "https://localhost:8080/"
        },
        "id": "uqvIVJyYUeQm",
        "outputId": "251d6bb1-3443-4dbb-9a07-e5dbaf685568"
      },
      "source": [
        "alfa = 0.02\n",
        "recalls = np.zeros(100)\n",
        "precisions= np.zeros(100)\n",
        "FPR = np.zeros(100)\n",
        "alfas = np.linspace(0,1,100)\n",
        "for idx,alfa in enumerate(alfas):\n",
        "    tn, fp, fn, tp = confusion_matrix(y_true2,y_pred_RN[:,0]>alfa).ravel()\n",
        "    recalls[idx] = (tp/(tp+fn))\n",
        "    precisions[idx] = (tp/(tp+fp))\n",
        "    FPR[idx]= (fp/(fp+tn))"
      ],
      "execution_count": null,
      "outputs": [
        {
          "output_type": "stream",
          "text": [
            "/usr/local/lib/python3.7/dist-packages/ipykernel_launcher.py:9: RuntimeWarning: invalid value encountered in long_scalars\n",
            "  if __name__ == '__main__':\n"
          ],
          "name": "stderr"
        }
      ]
    },
    {
      "cell_type": "code",
      "metadata": {
        "colab": {
          "base_uri": "https://localhost:8080/"
        },
        "id": "bBgkGY4oUt3X",
        "outputId": "eec892f2-494a-4f4c-cca3-5f7158152c37"
      },
      "source": [
        "print(\"Para un alfa 0.25 --> Valor de recall\", recalls[25], \"Valor de Precisions\", precisions[25], \"Valor de FPR\", FPR[25])\n",
        "print(\"Para un alfa 0.5 --> Valor de recall\", recalls[50], \"Valor de Precisions\", precisions[50], \"Valor de FPR\", FPR[50])\n",
        "print(\"Para un alfa 0.75 --> Valor de recall\", recalls[75], \"Valor de Precisions\", precisions[75], \"Valor de FPR\", FPR[75])"
      ],
      "execution_count": null,
      "outputs": [
        {
          "output_type": "stream",
          "text": [
            "Para un alfa 0.25 --> Valor de recall 0.935969868173258 Valor de Precisions 0.7406855439642325 Valor de FPR 0.27060653188180406\n",
            "Para un alfa 0.5 --> Valor de recall 0.8267419962335216 Valor de Precisions 0.857421875 Valor de FPR 0.11353032659409021\n",
            "Para un alfa 0.75 --> Valor de recall 0.6534839924670434 Valor de Precisions 0.9060052219321149 Valor de FPR 0.05598755832037325\n"
          ],
          "name": "stdout"
        }
      ]
    },
    {
      "cell_type": "code",
      "metadata": {
        "colab": {
          "base_uri": "https://localhost:8080/",
          "height": 350
        },
        "id": "x0uVYCoPUyX_",
        "outputId": "80b80443-e047-4433-cec3-9d680d80ee6b"
      },
      "source": [
        "plt.figure(figsize=[5,5])\n",
        "plt.plot(FPR,recalls)\n",
        "plt.title(\"Curva ROC RN RTO\")\n",
        "plt.xlabel(\"FPR\")\n",
        "plt.ylabel(\"TPR\")\n",
        "plt.show()"
      ],
      "execution_count": null,
      "outputs": [
        {
          "output_type": "display_data",
          "data": {
            "image/png": "[encoded data removed]",
            "text/plain": [
              "<Figure size 360x360 with 1 Axes>"
            ]
          },
          "metadata": {
            "tags": [],
            "needs_background": "light"
          }
        }
      ]
    },
    {
      "cell_type": "code",
      "metadata": {
        "id": "JCTKKf-SVENe"
      },
      "source": [
        ""
      ],
      "execution_count": null,
      "outputs": []
    }
  ]
}